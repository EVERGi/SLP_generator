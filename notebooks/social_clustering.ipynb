{
 "cells": [
  {
   "cell_type": "code",
   "execution_count": 1,
   "id": "b78399a1",
   "metadata": {},
   "outputs": [],
   "source": [
    "import os\n",
    "# Change native directory to root\n",
    "os.chdir(os.path.dirname(os.getcwd()))"
   ]
  },
  {
   "cell_type": "code",
   "execution_count": 2,
   "id": "ff1ee95b",
   "metadata": {},
   "outputs": [],
   "source": [
    "import glob\n",
    "import pandas as pd\n",
    "import numpy as np\n",
    "import random\n",
    "import pickle\n",
    "import matplotlib.pyplot as plt\n",
    "import plotly.express as px\n",
    "\n",
    "# K-mean clustering libraries\n",
    "from sklearn.preprocessing import MinMaxScaler\n",
    "from sklearn.cluster import KMeans\n",
    "from sklearn.metrics import silhouette_score\n",
    "from sklearn.preprocessing import StandardScaler\n",
    "\n",
    "from tqdm import tqdm\n",
    "\n",
    "random.seed(123)\n",
    "model_dir = 'models/'"
   ]
  },
  {
   "cell_type": "code",
   "execution_count": 3,
   "metadata": {},
   "outputs": [
    {
     "data": {
      "text/html": [
       "<div>\n",
       "<style scoped>\n",
       "    .dataframe tbody tr th:only-of-type {\n",
       "        vertical-align: middle;\n",
       "    }\n",
       "\n",
       "    .dataframe tbody tr th {\n",
       "        vertical-align: top;\n",
       "    }\n",
       "\n",
       "    .dataframe thead th {\n",
       "        text-align: right;\n",
       "    }\n",
       "</style>\n",
       "<table border=\"1\" class=\"dataframe\">\n",
       "  <thead>\n",
       "    <tr style=\"text-align: right;\">\n",
       "      <th></th>\n",
       "      <th>yearly</th>\n",
       "      <th>weekend</th>\n",
       "      <th>evening</th>\n",
       "    </tr>\n",
       "  </thead>\n",
       "  <tbody>\n",
       "    <tr>\n",
       "      <th>1208</th>\n",
       "      <td>0.043184</td>\n",
       "      <td>0.237764</td>\n",
       "      <td>0.426774</td>\n",
       "    </tr>\n",
       "    <tr>\n",
       "      <th>588</th>\n",
       "      <td>0.023923</td>\n",
       "      <td>0.263603</td>\n",
       "      <td>0.548167</td>\n",
       "    </tr>\n",
       "    <tr>\n",
       "      <th>1116</th>\n",
       "      <td>0.004459</td>\n",
       "      <td>0.446731</td>\n",
       "      <td>0.566519</td>\n",
       "    </tr>\n",
       "    <tr>\n",
       "      <th>144</th>\n",
       "      <td>0.021442</td>\n",
       "      <td>0.105142</td>\n",
       "      <td>0.272579</td>\n",
       "    </tr>\n",
       "    <tr>\n",
       "      <th>510</th>\n",
       "      <td>0.004152</td>\n",
       "      <td>0.238654</td>\n",
       "      <td>0.457893</td>\n",
       "    </tr>\n",
       "    <tr>\n",
       "      <th>...</th>\n",
       "      <td>...</td>\n",
       "      <td>...</td>\n",
       "      <td>...</td>\n",
       "    </tr>\n",
       "    <tr>\n",
       "      <th>56</th>\n",
       "      <td>0.017418</td>\n",
       "      <td>0.276985</td>\n",
       "      <td>0.438050</td>\n",
       "    </tr>\n",
       "    <tr>\n",
       "      <th>13</th>\n",
       "      <td>0.047746</td>\n",
       "      <td>0.203067</td>\n",
       "      <td>0.417403</td>\n",
       "    </tr>\n",
       "    <tr>\n",
       "      <th>1660</th>\n",
       "      <td>0.039817</td>\n",
       "      <td>0.270733</td>\n",
       "      <td>0.470136</td>\n",
       "    </tr>\n",
       "    <tr>\n",
       "      <th>235</th>\n",
       "      <td>0.024982</td>\n",
       "      <td>0.161183</td>\n",
       "      <td>0.355166</td>\n",
       "    </tr>\n",
       "    <tr>\n",
       "      <th>427</th>\n",
       "      <td>0.026410</td>\n",
       "      <td>0.168679</td>\n",
       "      <td>0.340770</td>\n",
       "    </tr>\n",
       "  </tbody>\n",
       "</table>\n",
       "<p>848 rows × 3 columns</p>\n",
       "</div>"
      ],
      "text/plain": [
       "        yearly   weekend   evening\n",
       "1208  0.043184  0.237764  0.426774\n",
       "588   0.023923  0.263603  0.548167\n",
       "1116  0.004459  0.446731  0.566519\n",
       "144   0.021442  0.105142  0.272579\n",
       "510   0.004152  0.238654  0.457893\n",
       "...        ...       ...       ...\n",
       "56    0.017418  0.276985  0.438050\n",
       "13    0.047746  0.203067  0.417403\n",
       "1660  0.039817  0.270733  0.470136\n",
       "235   0.024982  0.161183  0.355166\n",
       "427   0.026410  0.168679  0.340770\n",
       "\n",
       "[848 rows x 3 columns]"
      ]
     },
     "execution_count": 3,
     "metadata": {},
     "output_type": "execute_result"
    }
   ],
   "source": [
    "# Read the features from the csv file\n",
    "features = pd.read_csv('data/social_features.csv', index_col=0)\n",
    "# read metadata csv\n",
    "metadata = pd.read_csv('data/EANLIJST_METADATA.csv', index_col=0, sep   = ';')\n",
    "# ADD the functietype column to the features\n",
    "features['function'] = metadata['Patrimonium Functietype']\n",
    "# read more metrics from csv\n",
    "features.isnull().sum()\n",
    "features.dropna(inplace=True)\n",
    "features['ID'] = features.index\n",
    "# drop rows with kast as function\n",
    "features = features[features['function'] != 'Kast']\n",
    "features['morning'] = features.iloc[:,4:16].sum(axis=1)\n",
    "features['evening'] = features.iloc[:,np.r_[:4,16:24]].sum(axis=1)\n",
    "features['weekday'] = features.iloc[:,24:29].sum(axis=1)\n",
    "features['weekend'] = features.iloc[:,29:31].sum(axis=1)\n",
    "# scale yearly column to 0-1 with minmax scaler\n",
    "ds = features[['yearly', 'weekend',  'evening']].copy()\n",
    "ds['yearly'] = MinMaxScaler().fit_transform(ds['yearly'].values.reshape(-1,1))\n",
    "ds"
   ]
  },
  {
   "cell_type": "code",
   "execution_count": 23,
   "metadata": {},
   "outputs": [],
   "source": [
    "clust_num = 10\n",
    "# K-mean clustering on the features dataset\n",
    "kmeans = KMeans(n_clusters=clust_num, random_state=2).fit(ds)\n",
    "# kmeans save model\n",
    "pickle.dump(kmeans, open(model_dir+\"kmeans{}.pkl\".format(clust_num), \"wb\"))\n",
    "clusters = kmeans.labels_\n",
    "features['cluster'] = clusters"
   ]
  },
  {
   "cell_type": "code",
   "execution_count": 13,
   "metadata": {},
   "outputs": [
    {
     "data": {
      "image/png": "[encoded data removed]",
      "text/plain": [
       "<Figure size 432x288 with 1 Axes>"
      ]
     },
     "metadata": {
      "needs_background": "light"
     },
     "output_type": "display_data"
    }
   ],
   "source": [
    "Sum_of_squared_distances = []\n",
    "K = range(3, 20)\n",
    "for clust_num in K:\n",
    "    kmeans = KMeans(n_clusters=clust_num, random_state=2).fit(ds)\n",
    "    Sum_of_squared_distances.append(kmeans.inertia_)\n",
    "plt.plot(K,Sum_of_squared_distances,'bx-')\n",
    "plt.xlabel('Values of K') \n",
    "plt.ylabel('Sum of squared distances/Inertia') \n",
    "plt.title('Elbow Method For Optimal k')\n",
    "plt.show()"
   ]
  },
  {
   "cell_type": "code",
   "execution_count": 14,
   "metadata": {},
   "outputs": [
    {
     "data": {
      "image/png": "[encoded data removed]",
      "text/plain": [
       "<Figure size 432x288 with 1 Axes>"
      ]
     },
     "metadata": {
      "needs_background": "light"
     },
     "output_type": "display_data"
    }
   ],
   "source": [
    "range_n_clusters = [2, 3, 4, 5, 6, 7, 8]\n",
    "silhouette_avg = []\n",
    "for num_clusters in range_n_clusters:\n",
    "    # initialise kmeans\n",
    "    kmeans = KMeans(n_clusters=num_clusters)\n",
    "    kmeans.fit(ds)\n",
    "    cluster_labels = kmeans.labels_\n",
    "    # silhouette score\n",
    "    silhouette_avg.append(silhouette_score(ds, cluster_labels))\n",
    "plt.plot(range_n_clusters,silhouette_avg,'bx-')\n",
    "plt.xlabel('Values of K') \n",
    "plt.ylabel('Silhouette score') \n",
    "plt.title('Silhouette analysis For Optimal k')\n",
    "plt.show()"
   ]
  },
  {
   "cell_type": "code",
   "execution_count": 24,
   "metadata": {},
   "outputs": [
    {
     "data": {
      "application/vnd.plotly.v1+json": {
       "config": {
        "plotlyServerURL": "https://plot.ly"
       },
       "data": [
        {
         "customdata": [
          [
           1208
          ],
          [
           588
          ],
          [
           1116
          ],
          [
           144
          ],
          [
           510
          ],
          [
           220
          ],
          [
           621
          ],
          [
           786
          ],
          [
           428
          ],
          [
           59
          ],
          [
           999
          ],
          [
           1185
          ],
          [
           828
          ],
          [
           1477
          ],
          [
           1000
          ],
          [
           1248
          ],
          [
           1011
          ],
          [
           336
          ],
          [
           697
          ],
          [
           556
          ],
          [
           526
          ],
          [
           989
          ],
          [
           1419
          ],
          [
           1408
          ],
          [
           520
          ],
          [
           178
          ],
          [
           1696
          ],
          [
           149
          ],
          [
           1126
          ],
          [
           775
          ],
          [
           469
          ],
          [
           396
          ],
          [
           1439
          ],
          [
           816
          ],
          [
           973
          ],
          [
           1398
          ],
          [
           1193
          ],
          [
           1216
          ],
          [
           500
          ],
          [
           962
          ],
          [
           445
          ],
          [
           1552
          ],
          [
           1713
          ],
          [
           183
          ],
          [
           74
          ],
          [
           1030
          ],
          [
           727
          ],
          [
           85
          ],
          [
           1053
          ],
          [
           659
          ],
          [
           1642
          ],
          [
           410
          ],
          [
           145
          ],
          [
           325
          ],
          [
           633
          ],
          [
           458
          ],
          [
           935
          ],
          [
           1461
          ],
          [
           1546
          ],
          [
           722
          ],
          [
           617
          ],
          [
           692
          ],
          [
           1273
          ],
          [
           1002
          ],
          [
           694
          ],
          [
           1409
          ],
          [
           868
          ],
          [
           407
          ],
          [
           988
          ],
          [
           284
          ],
          [
           1221
          ],
          [
           818
          ],
          [
           893
          ],
          [
           861
          ],
          [
           1139
          ],
          [
           38
          ],
          [
           1668
          ],
          [
           605
          ],
          [
           423
          ],
          [
           207
          ],
          [
           408
          ],
          [
           1441
          ],
          [
           476
          ],
          [
           377
          ],
          [
           534
          ],
          [
           780
          ],
          [
           339
          ],
          [
           528
          ],
          [
           972
          ],
          [
           822
          ],
          [
           501
          ],
          [
           119
          ],
          [
           163
          ],
          [
           1555
          ],
          [
           947
          ],
          [
           574
          ],
          [
           797
          ],
          [
           1079
          ],
          [
           1054
          ],
          [
           557
          ],
          [
           1067
          ],
          [
           807
          ],
          [
           629
          ],
          [
           1039
          ],
          [
           1648
          ],
          [
           711
          ],
          [
           1334
          ],
          [
           1739
          ],
          [
           1647
          ],
          [
           129
          ],
          [
           440
          ],
          [
           670
          ],
          [
           1405
          ],
          [
           1503
          ],
          [
           1498
          ],
          [
           707
          ],
          [
           397
          ],
          [
           150
          ],
          [
           1508
          ],
          [
           136
          ],
          [
           1724
          ],
          [
           1580
          ],
          [
           87
          ],
          [
           310
          ],
          [
           1109
          ],
          [
           364
          ],
          [
           273
          ],
          [
           1464
          ],
          [
           1300
          ],
          [
           114
          ],
          [
           1179
          ],
          [
           1680
          ],
          [
           374
          ],
          [
           1249
          ],
          [
           1522
          ],
          [
           376
          ],
          [
           1343
          ],
          [
           527
          ],
          [
           1493
          ],
          [
           874
          ],
          [
           1093
          ],
          [
           1075
          ],
          [
           123
          ],
          [
           850
          ],
          [
           383
          ],
          [
           880
          ],
          [
           1399
          ],
          [
           679
          ],
          [
           733
          ],
          [
           1519
          ],
          [
           1199
          ],
          [
           356
          ],
          [
           952
          ],
          [
           20
          ],
          [
           701
          ],
          [
           661
          ],
          [
           467
          ],
          [
           8
          ],
          [
           1119
          ],
          [
           958
          ],
          [
           625
          ],
          [
           471
          ],
          [
           425
          ],
          [
           555
          ],
          [
           837
          ],
          [
           841
          ],
          [
           1238
          ],
          [
           1518
          ],
          [
           81
          ],
          [
           693
          ],
          [
           934
          ],
          [
           1360
          ],
          [
           658
          ],
          [
           9
          ],
          [
           1315
          ],
          [
           1621
          ],
          [
           152
          ],
          [
           452
          ],
          [
           955
          ],
          [
           663
          ],
          [
           1674
          ],
          [
           941
          ],
          [
           643
          ],
          [
           1553
          ],
          [
           280
          ],
          [
           1143
          ],
          [
           1254
          ],
          [
           366
          ],
          [
           1607
          ],
          [
           485
          ],
          [
           827
          ],
          [
           1382
          ],
          [
           449
          ],
          [
           514
          ],
          [
           771
          ],
          [
           391
          ],
          [
           966
          ],
          [
           509
          ],
          [
           1257
          ],
          [
           401
          ],
          [
           461
          ],
          [
           1705
          ],
          [
           883
          ],
          [
           993
          ],
          [
           23
          ],
          [
           1486
          ],
          [
           1550
          ],
          [
           1033
          ],
          [
           1658
          ],
          [
           532
          ],
          [
           1089
          ],
          [
           1123
          ],
          [
           1323
          ],
          [
           323
          ],
          [
           1233
          ],
          [
           1041
          ],
          [
           1626
          ],
          [
           243
          ],
          [
           1095
          ],
          [
           647
          ],
          [
           1501
          ],
          [
           1164
          ],
          [
           86
          ],
          [
           108
          ],
          [
           1017
          ],
          [
           769
          ],
          [
           1244
          ],
          [
           964
          ],
          [
           860
          ],
          [
           763
          ],
          [
           862
          ],
          [
           695
          ],
          [
           1309
          ],
          [
           1732
          ],
          [
           1447
          ],
          [
           1681
          ],
          [
           1665
          ],
          [
           1105
          ],
          [
           1155
          ],
          [
           39
          ],
          [
           1012
          ],
          [
           379
          ],
          [
           464
          ],
          [
           1150
          ],
          [
           744
          ],
          [
           227
          ],
          [
           217
          ],
          [
           133
          ],
          [
           1057
          ],
          [
           906
          ],
          [
           288
          ],
          [
           1137
          ],
          [
           245
          ],
          [
           103
          ],
          [
           1712
          ],
          [
           1068
          ],
          [
           1200
          ],
          [
           1583
          ],
          [
           187
          ],
          [
           1664
          ],
          [
           1115
          ],
          [
           380
          ],
          [
           1151
          ],
          [
           304
          ],
          [
           1488
          ],
          [
           1418
          ],
          [
           1470
          ],
          [
           1347
          ],
          [
           648
          ],
          [
           1120
          ],
          [
           392
          ],
          [
           1592
          ],
          [
           99
          ],
          [
           1154
          ],
          [
           1390
          ],
          [
           623
          ],
          [
           1599
          ],
          [
           864
          ],
          [
           1585
          ],
          [
           439
          ],
          [
           470
          ],
          [
           499
          ],
          [
           1569
          ],
          [
           559
          ],
          [
           96
          ],
          [
           118
          ],
          [
           412
          ],
          [
           329
          ],
          [
           1412
          ],
          [
           474
          ],
          [
           561
          ],
          [
           1086
          ],
          [
           488
          ],
          [
           774
          ],
          [
           490
          ],
          [
           1654
          ],
          [
           1530
          ],
          [
           1131
          ],
          [
           942
          ],
          [
           1720
          ],
          [
           1605
          ],
          [
           316
          ],
          [
           1448
          ],
          [
           1677
          ],
          [
           649
          ],
          [
           1214
          ],
          [
           1708
          ],
          [
           1491
          ],
          [
           669
          ],
          [
           1051
          ],
          [
           1425
          ],
          [
           1462
          ],
          [
           1500
          ],
          [
           431
          ],
          [
           777
          ],
          [
           1329
          ],
          [
           317
          ],
          [
           1718
          ],
          [
           1149
          ],
          [
           591
          ],
          [
           1692
          ],
          [
           739
          ],
          [
           1406
          ],
          [
           443
          ],
          [
           188
          ],
          [
           447
          ],
          [
           714
          ],
          [
           903
          ],
          [
           333
          ],
          [
           77
          ],
          [
           913
          ],
          [
           1683
          ],
          [
           473
          ],
          [
           1472
          ],
          [
           715
          ],
          [
           21
          ],
          [
           1691
          ],
          [
           702
          ],
          [
           250
          ],
          [
           1363
          ],
          [
           819
          ],
          [
           1128
          ],
          [
           563
          ],
          [
           221
          ],
          [
           533
          ],
          [
           306
          ],
          [
           1688
          ],
          [
           199
          ],
          [
           1678
          ],
          [
           1387
          ],
          [
           1196
          ],
          [
           1710
          ],
          [
           716
          ],
          [
           1088
          ],
          [
           1281
          ],
          [
           1350
          ],
          [
           475
          ],
          [
           709
          ],
          [
           127
          ],
          [
           1638
          ],
          [
           41
          ],
          [
           840
          ],
          [
           1376
          ],
          [
           1377
          ],
          [
           542
          ],
          [
           1288
          ],
          [
           192
          ],
          [
           1295
          ],
          [
           272
          ],
          [
           708
          ],
          [
           270
          ],
          [
           1485
          ],
          [
           937
          ],
          [
           182
          ],
          [
           287
          ],
          [
           1383
          ],
          [
           237
          ],
          [
           1662
          ],
          [
           981
          ],
          [
           311
          ],
          [
           755
          ],
          [
           1511
          ],
          [
           1197
          ],
          [
           956
          ],
          [
           689
          ],
          [
           855
          ],
          [
           405
          ],
          [
           1097
          ],
          [
           1457
          ],
          [
           655
          ],
          [
           502
          ],
          [
           184
          ],
          [
           889
          ],
          [
           531
          ],
          [
           982
          ],
          [
           171
          ],
          [
           609
          ],
          [
           718
          ],
          [
           1572
          ],
          [
           1468
          ],
          [
           875
          ],
          [
           1312
          ],
          [
           340
          ],
          [
           1269
          ],
          [
           939
          ],
          [
           113
          ],
          [
           1209
          ],
          [
           911
          ],
          [
           231
          ],
          [
           1636
          ],
          [
           409
          ],
          [
           630
          ],
          [
           535
          ],
          [
           1064
          ],
          [
           1069
          ],
          [
           1340
          ],
          [
           326
          ],
          [
           770
          ],
          [
           1176
          ],
          [
           830
          ],
          [
           570
          ],
          [
           1426
          ],
          [
           704
          ],
          [
           1411
          ],
          [
           871
          ],
          [
           640
          ],
          [
           52
          ],
          [
           1215
          ],
          [
           1574
          ],
          [
           1682
          ],
          [
           1346
          ],
          [
           810
          ],
          [
           1689
          ],
          [
           1106
          ],
          [
           1702
          ],
          [
           25
          ],
          [
           1459
          ],
          [
           782
          ],
          [
           1284
          ],
          [
           1428
          ],
          [
           820
          ],
          [
           917
          ],
          [
           1313
          ],
          [
           836
          ],
          [
           314
          ],
          [
           1568
          ],
          [
           141
          ],
          [
           684
          ],
          [
           1594
          ],
          [
           1092
          ],
          [
           159
          ],
          [
           848
          ],
          [
           17
          ],
          [
           1049
          ],
          [
           960
          ],
          [
           312
          ],
          [
           315
          ],
          [
           1191
          ],
          [
           1564
          ],
          [
           1617
          ],
          [
           1081
          ],
          [
           801
          ],
          [
           1436
          ],
          [
           496
          ],
          [
           1496
          ],
          [
           544
          ],
          [
           1627
          ],
          [
           156
          ],
          [
           831
          ],
          [
           788
          ],
          [
           46
          ],
          [
           135
          ],
          [
           201
          ],
          [
           480
          ],
          [
           83
          ],
          [
           415
          ],
          [
           1666
          ],
          [
           98
          ],
          [
           1730
          ],
          [
           262
          ],
          [
           857
          ],
          [
           54
          ],
          [
           1616
          ],
          [
           463
          ],
          [
           244
          ],
          [
           269
          ],
          [
           268
          ],
          [
           1251
          ],
          [
           1446
          ],
          [
           1237
          ],
          [
           1576
          ],
          [
           1728
          ],
          [
           1455
          ],
          [
           1557
          ],
          [
           945
          ],
          [
           1141
          ],
          [
           1482
          ],
          [
           1671
          ],
          [
           802
          ],
          [
           1375
          ],
          [
           289
          ],
          [
           1203
          ],
          [
           84
          ],
          [
           897
          ],
          [
           983
          ],
          [
           18
          ],
          [
           1029
          ],
          [
           1596
          ],
          [
           1697
          ],
          [
           936
          ],
          [
           1147
          ],
          [
           539
          ],
          [
           1512
          ],
          [
           1085
          ],
          [
           375
          ],
          [
           963
          ],
          [
           758
          ],
          [
           721
          ],
          [
           518
          ],
          [
           815
          ],
          [
           949
          ],
          [
           40
          ],
          [
           185
          ],
          [
           462
          ],
          [
           31
          ],
          [
           33
          ],
          [
           1319
          ],
          [
           599
          ],
          [
           907
          ],
          [
           854
          ],
          [
           595
          ],
          [
           1299
          ],
          [
           1335
          ],
          [
           1741
          ],
          [
           1449
          ],
          [
           1255
          ],
          [
           1065
          ],
          [
           248
          ],
          [
           1379
          ],
          [
           765
          ],
          [
           1480
          ],
          [
           971
          ],
          [
           1431
          ],
          [
           1163
          ],
          [
           653
          ],
          [
           785
          ],
          [
           167
          ],
          [
           1157
          ],
          [
           1144
          ],
          [
           450
          ],
          [
           672
          ],
          [
           1709
          ],
          [
           781
          ],
          [
           424
          ],
          [
           348
          ],
          [
           404
          ],
          [
           1526
          ],
          [
           1311
          ],
          [
           1061
          ],
          [
           870
          ],
          [
           1101
          ],
          [
           717
          ],
          [
           459
          ],
          [
           1094
          ],
          [
           1129
          ],
          [
           260
          ],
          [
           1445
          ],
          [
           1043
          ],
          [
           1239
          ],
          [
           1317
          ],
          [
           1324
          ],
          [
           1161
          ],
          [
           1245
          ],
          [
           627
          ],
          [
           1628
          ],
          [
           1077
          ],
          [
           764
          ],
          [
           1415
          ],
          [
           1633
          ],
          [
           1414
          ],
          [
           161
          ],
          [
           212
          ],
          [
           685
          ],
          [
           1122
          ],
          [
           1326
          ],
          [
           154
          ],
          [
           732
          ],
          [
           302
          ],
          [
           1265
          ],
          [
           1005
          ],
          [
           987
          ],
          [
           516
          ],
          [
           1463
          ],
          [
           1055
          ],
          [
           1397
          ],
          [
           1167
          ],
          [
           362
          ],
          [
           10
          ],
          [
           660
          ],
          [
           417
          ],
          [
           487
          ],
          [
           296
          ],
          [
           265
          ],
          [
           1656
          ],
          [
           639
          ],
          [
           1046
          ],
          [
           1586
          ],
          [
           751
          ],
          [
           607
          ],
          [
           991
          ],
          [
           1351
          ],
          [
           664
          ],
          [
           1717
          ],
          [
           264
          ],
          [
           1356
          ],
          [
           1473
          ],
          [
           372
          ],
          [
           867
          ],
          [
           726
          ],
          [
           611
          ],
          [
           155
          ],
          [
           1060
          ],
          [
           1623
          ],
          [
           637
          ],
          [
           1653
          ],
          [
           1384
          ],
          [
           337
          ],
          [
           278
          ],
          [
           1279
          ],
          [
           1201
          ],
          [
           545
          ],
          [
           768
          ],
          [
           524
          ],
          [
           257
          ],
          [
           30
          ],
          [
           1134
          ],
          [
           493
          ],
          [
           560
          ],
          [
           292
          ],
          [
           324
          ],
          [
           27
          ],
          [
           1327
          ],
          [
           1646
          ],
          [
           1602
          ],
          [
           957
          ],
          [
           749
          ],
          [
           92
          ],
          [
           116
          ],
          [
           1218
          ],
          [
           1381
          ],
          [
           979
          ],
          [
           1483
          ],
          [
           334
          ],
          [
           1502
          ],
          [
           687
          ],
          [
           1451
          ],
          [
           1253
          ],
          [
           179
          ],
          [
           1034
          ],
          [
           70
          ],
          [
           1649
          ],
          [
           1113
          ],
          [
           442
          ],
          [
           1047
          ],
          [
           328
          ],
          [
           12
          ],
          [
           1052
          ],
          [
           1606
          ],
          [
           169
          ],
          [
           1644
          ],
          [
           773
          ],
          [
           1050
          ],
          [
           434
          ],
          [
           153
          ],
          [
           1117
          ],
          [
           724
          ],
          [
           1614
          ],
          [
           1542
          ],
          [
           1429
          ],
          [
           277
          ],
          [
           923
          ],
          [
           386
          ],
          [
           460
          ],
          [
           530
          ],
          [
           44
          ],
          [
           1341
          ],
          [
           667
          ],
          [
           678
          ],
          [
           151
          ],
          [
           1235
          ],
          [
           254
          ],
          [
           713
          ],
          [
           381
          ],
          [
           71
          ],
          [
           196
          ],
          [
           246
          ],
          [
           251
          ],
          [
           1566
          ],
          [
           1178
          ],
          [
           881
          ],
          [
           195
          ],
          [
           858
          ],
          [
           82
          ],
          [
           1573
          ],
          [
           741
          ],
          [
           204
          ],
          [
           1598
          ],
          [
           134
          ],
          [
           1359
          ],
          [
           322
          ],
          [
           180
          ],
          [
           852
          ],
          [
           995
          ],
          [
           1275
          ],
          [
           746
          ],
          [
           791
          ],
          [
           1025
          ],
          [
           1231
          ],
          [
           76
          ],
          [
           1481
          ],
          [
           394
          ],
          [
           676
          ],
          [
           1634
          ],
          [
           799
          ],
          [
           486
          ],
          [
           229
          ],
          [
           565
          ],
          [
           959
          ],
          [
           115
          ],
          [
           1567
          ],
          [
           1393
          ],
          [
           165
          ],
          [
           505
          ],
          [
           537
          ],
          [
           1673
          ],
          [
           933
          ],
          [
           921
          ],
          [
           223
          ],
          [
           36
          ],
          [
           398
          ],
          [
           369
          ],
          [
           1478
          ],
          [
           953
          ],
          [
           568
          ],
          [
           34
          ],
          [
           757
          ],
          [
           1650
          ],
          [
           683
          ],
          [
           1615
          ],
          [
           1078
          ],
          [
           230
          ],
          [
           300
          ],
          [
           240
          ],
          [
           1532
          ],
          [
           1437
          ],
          [
           345
          ],
          [
           686
          ],
          [
           1247
          ],
          [
           1102
          ],
          [
           1104
          ],
          [
           759
          ],
          [
           1388
          ],
          [
           349
          ],
          [
           1734
          ],
          [
           762
          ],
          [
           1545
          ],
          [
           1194
          ],
          [
           927
          ],
          [
           645
          ],
          [
           1294
          ],
          [
           970
          ],
          [
           355
          ],
          [
           569
          ],
          [
           794
          ],
          [
           635
          ],
          [
           370
          ],
          [
           1171
          ],
          [
           969
          ],
          [
           1667
          ],
          [
           1074
          ],
          [
           360
          ],
          [
           1400
          ],
          [
           1073
          ],
          [
           274
          ],
          [
           1622
          ],
          [
           567
          ],
          [
           513
          ],
          [
           378
          ],
          [
           1466
          ],
          [
           1080
          ],
          [
           1183
          ],
          [
           421
          ],
          [
           1716
          ],
          [
           1723
          ],
          [
           1282
          ],
          [
           1182
          ],
          [
           1187
          ],
          [
           1386
          ],
          [
           436
          ],
          [
           1076
          ],
          [
           45
          ],
          [
           258
          ],
          [
           1731
          ],
          [
           335
          ],
          [
           1637
          ],
          [
           1166
          ],
          [
           1679
          ],
          [
           1291
          ],
          [
           416
          ],
          [
           895
          ],
          [
           909
          ],
          [
           147
          ],
          [
           1494
          ],
          [
           1618
          ],
          [
           1738
          ],
          [
           1006
          ],
          [
           1735
          ],
          [
           1121
          ],
          [
           1138
          ],
          [
           753
          ],
          [
           1331
          ],
          [
           1339
          ],
          [
           1133
          ],
          [
           1391
          ],
          [
           419
          ],
          [
           1010
          ],
          [
           1362
          ],
          [
           938
          ],
          [
           1651
          ],
          [
           1401
          ],
          [
           1278
          ],
          [
           1422
          ],
          [
           1032
          ],
          [
           35
          ],
          [
           688
          ],
          [
           876
          ],
          [
           100
          ],
          [
           1003
          ],
          [
           318
          ],
          [
           856
          ],
          [
           1474
          ],
          [
           519
          ],
          [
           1589
          ],
          [
           56
          ],
          [
           13
          ],
          [
           1660
          ],
          [
           235
          ],
          [
           427
          ]
         ],
         "hovertemplate": "<b>%{hovertext}</b><br><br>evening=%{x}<br>weekend=%{y}<br>ID=%{customdata[0]}<br>cluster=%{marker.color}<extra></extra>",
         "hovertext": [
          "Stadhuis/Gemeentehuis",
          "Academie",
          "Cultureel centrum",
          "Lagere school",
          "Andere gebouwen",
          "Ontmoetingscentrum",
          "Werkplaats",
          "Academie",
          "RVT/WZC/revalidatiecentrum",
          "Kerk",
          "Cultureel centrum",
          "Kerk",
          "Bibliotheek",
          "Museum",
          "Administratief centrum",
          "Ontmoetingscentrum",
          "Jeugdhuis",
          "Lagere school",
          "Administratief centrum",
          "Academie",
          "Fontein",
          "Sporthal",
          "Administratief centrum",
          "Ontmoetingscentrum",
          "Stadion",
          "OCMW Administratief centrum",
          "Bibliotheek",
          "Administratief centrum",
          "Containerpark",
          "Zwembad",
          "Administratief centrum",
          "Lagere school",
          "Andere gebouwen",
          "Museum",
          "Werkplaats",
          "Ontmoetingscentrum",
          "Sporthal",
          "Lagere school",
          "Werkplaats",
          "Cultureel centrum",
          "Sporthal",
          "Andere gebouwen",
          "Brandweerkazerne",
          "Museum",
          "Sporthal",
          "Ontmoetingscentrum",
          "Andere gebouwen",
          "Sporthal",
          "Cultureel centrum",
          "Lagere school",
          "Sporthal",
          "Stadhuis/Gemeentehuis",
          "Stadhuis/Gemeentehuis",
          "Ontmoetingscentrum",
          "Administratief centrum",
          "Andere gebouwen",
          "Stadhuis/Gemeentehuis",
          "RVT/WZC/revalidatiecentrum",
          "Bibliotheek",
          "Cultureel centrum",
          "Buitengewoon middelbaar onderwijs (BUSO)",
          "Administratief centrum",
          "Algemene middelbare school",
          "Stadhuis/Gemeentehuis",
          "Administratief centrum",
          "RVT/WZC/revalidatiecentrum",
          "Kinderdagverblijf/BKO/IBO",
          "Sporthal",
          "Administratief centrum",
          "RVT/WZC/revalidatiecentrum",
          "Andere gebouwen",
          "Sporthal",
          "Dienstencentrum/CAW/dagverblijf",
          "Museum",
          "Stadhuis/Gemeentehuis",
          "RVT/WZC/revalidatiecentrum",
          "Cultureel centrum",
          "Andere gebouwen",
          "Ontmoetingscentrum",
          "Stadion",
          "Bibliotheek",
          "Ontmoetingscentrum",
          "Sporthal",
          "Stadhuis/Gemeentehuis",
          "Lagere school",
          "Ontmoetingscentrum",
          "Andere gebouwen",
          "Andere gebouwen",
          "Ontmoetingscentrum",
          "Sporthal",
          "Sportcomplex",
          "Lagere school",
          "Cultureel centrum",
          "Administratief centrum",
          "Sporthal",
          "RVT/WZC/revalidatiecentrum",
          "Cultureel centrum",
          "Sportcomplex",
          "Voetbalveld",
          "Administratief centrum",
          "Ontmoetingscentrum",
          "Politiegebouw",
          "Sportcomplex",
          "Andere gebouwen",
          "Administratief centrum",
          "Cultureel centrum",
          "RVT/WZC/revalidatiecentrum",
          "RVT/WZC/revalidatiecentrum",
          "Zwembad",
          "Werkplaats",
          "Stadhuis/Gemeentehuis",
          "Sportcomplex",
          "Werkplaats",
          "Lagere school",
          "Jeugdhuis",
          "Andere gebouwen",
          "Ontmoetingscentrum",
          "Ontmoetingscentrum",
          "Sporthal",
          "Jeugdhuis",
          "Ontmoetingscentrum",
          "Werkplaats",
          "Looppiste",
          "OCMW Administratief centrum",
          "Lagere school",
          "Sportcomplex",
          "Werkplaats",
          "Sporthal",
          "Algemene middelbare school",
          "Stadhuis/Gemeentehuis",
          "Bibliotheek",
          "Werkplaats",
          "Administratief centrum",
          "Brandweerkazerne",
          "Dienstencentrum/CAW/dagverblijf",
          "Zwembad",
          "Academie",
          "Academie",
          "Administratief centrum",
          "Zwembad",
          "OCMW Administratief centrum",
          "RVT/WZC/revalidatiecentrum",
          "Stadion",
          "Sporthal",
          "Andere gebouwen",
          "Sporthal",
          "Stadhuis/Gemeentehuis",
          "Bibliotheek",
          "Sporthal",
          "Straatverlichting",
          "Andere gebouwen",
          "Sporthal",
          "Pomp",
          "Sportcomplex",
          "Cultureel centrum",
          "Jeugdhuis",
          "Cultureel centrum",
          "Brandweerkazerne",
          "RVT/WZC/revalidatiecentrum",
          "Andere gebouwen",
          "Stadion",
          "Administratief centrum",
          "Administratief centrum",
          "Andere gebouwen",
          "Academie",
          "Jeugdhuis",
          "Lagere school",
          "Ontmoetingscentrum",
          "Stadhuis/Gemeentehuis",
          "Kleuterschool",
          "School",
          "Stadion",
          "Ontmoetingscentrum",
          "Sporthal",
          "Dienstencentrum/CAW/dagverblijf",
          "Andere gebouwen",
          "Sporthal",
          "Zwembad",
          "Brandweerkazerne",
          "Ontmoetingscentrum",
          "Sporthal",
          "Ontmoetingscentrum",
          "Administratief centrum",
          "Cultureel centrum",
          "Stadion",
          "Bibliotheek",
          "Administratief centrum",
          "Stadhuis/Gemeentehuis",
          "Jeugdhuis",
          "Administratief centrum",
          "Sportcomplex",
          "Administratief centrum",
          "Ontmoetingscentrum",
          "Administratief centrum",
          "Cultureel centrum",
          "Sporthal",
          "Cultureel centrum",
          "Bibliotheek",
          "Sporthal",
          "Administratief centrum",
          "Sporthal",
          "Lagere school",
          "RVT/WZC/revalidatiecentrum",
          "Buitengewoon lager onderwijs (MPI)",
          "Academie",
          "Andere gebouwen",
          "Lagere school",
          "Lagere school",
          "Sporthal",
          "Andere gebouwen",
          "Ontmoetingscentrum",
          "Sportcomplex",
          "Sporthal",
          "Algemene middelbare school",
          "Sporthal",
          "RVT/WZC/revalidatiecentrum",
          "Cultureel centrum",
          "Museum",
          "Werkplaats",
          "Administratief centrum",
          "Administratief centrum",
          "Ontmoetingscentrum",
          "Sporthal",
          "Lagere school",
          "Brandweerkazerne",
          "Politiegebouw",
          "Kinderdagverblijf/BKO/IBO",
          "Academie",
          "Bibliotheek",
          "Werkplaats",
          "Administratief centrum",
          "Academie",
          "Stadion",
          "RVT/WZC/revalidatiecentrum",
          "Andere gebouwen",
          "Museum",
          "RVT/WZC/revalidatiecentrum",
          "Administratief centrum",
          "Academie",
          "RVT/WZC/revalidatiecentrum",
          "Cultureel centrum",
          "Dienstencentrum/CAW/dagverblijf",
          "RVT/WZC/revalidatiecentrum",
          "Dienstencentrum/CAW/dagverblijf",
          "School",
          "OCMW Administratief centrum",
          "Sporthal",
          "Ontmoetingscentrum",
          "Cultureel centrum",
          "Andere gebouwen",
          "Administratief centrum",
          "Sportcomplex",
          "Andere gebouwen",
          "Andere gebouwen",
          "Cultureel centrum",
          "Sporthal",
          "Stadion",
          "Sporthal",
          "Museum",
          "Cultureel centrum",
          "Museum",
          "OCMW Woningen",
          "Zwembad",
          "Cultureel centrum",
          "Cultureel centrum",
          "School",
          "Dienstencentrum/CAW/dagverblijf",
          "Andere gebouwen",
          "Administratief centrum",
          "Andere gebouwen",
          "Stadhuis/Gemeentehuis",
          "Cultureel centrum",
          "Sportcomplex",
          "Lagere school",
          "Cultureel centrum",
          "Lagere school",
          "RVT/WZC/revalidatiecentrum",
          "Lagere school",
          "Andere terreinen",
          "Cultureel centrum",
          "Andere gebouwen",
          "Museum",
          "Brandweerkazerne",
          "Stadhuis/Gemeentehuis",
          "OCMW Woningen",
          "Andere gebouwen",
          "Sportcomplex",
          "Sporthal",
          "Museum",
          "Werkplaats",
          "Academie",
          "Administratief centrum",
          "Stadhuis/Gemeentehuis",
          "Andere gebouwen",
          "Dienstencentrum/CAW/dagverblijf",
          "Sportcomplex",
          "Lagere school",
          "Ziekenhuis",
          "RVT/WZC/revalidatiecentrum",
          "Zwembad",
          "Zwembad",
          "Sporthal",
          "Ontmoetingscentrum",
          "OCMW Administratief centrum",
          "Algemene middelbare school",
          "Administratief centrum",
          "Administratief centrum",
          "Administratief centrum",
          "Cultureel centrum",
          "Lagere school",
          "Bibliotheek",
          "Sporthal",
          "Cultureel centrum",
          "Lagere school",
          "Sporthal",
          "Sporthal",
          "Andere gebouwen",
          "Sporthal",
          "Lagere school",
          "Stadhuis/Gemeentehuis",
          "Andere gebouwen",
          "Stadhuis/Gemeentehuis",
          "Zwembad",
          "Cultureel centrum",
          "Sporthal",
          "Sporthal",
          "Cultureel centrum",
          "Sporthal",
          "Cultureel centrum",
          "Andere gebouwen",
          "Lagere school",
          "Algemene middelbare school",
          "Werkplaats",
          "Andere gebouwen",
          "Andere gebouwen",
          "Cultureel centrum",
          "Politiegebouw",
          "Andere gebouwen",
          "Kinderdagverblijf/BKO/IBO",
          "Administratief centrum",
          "Museum",
          "Administratief centrum",
          "Cultureel centrum",
          "Straatverlichting",
          "Stadhuis/Gemeentehuis",
          "Stadion",
          "Cultureel centrum",
          "Lagere school",
          "Ontmoetingscentrum",
          "OCMW Woningen",
          "Politiegebouw",
          "Cultureel centrum",
          "Straatverlichting",
          "Sporthal",
          "Parking",
          "Cultureel centrum",
          "Dienstencentrum/CAW/dagverblijf",
          "Andere gebouwen",
          "Lagere school",
          "Bibliotheek",
          "Werkplaats",
          "School",
          "Andere gebouwen",
          "Administratief centrum",
          "Tennisveld",
          "Administratief centrum",
          "Cultureel centrum",
          "Andere gebouwen",
          "Sporthal",
          "Cultureel centrum",
          "Sporthal",
          "School",
          "Sporthal",
          "Sporthal",
          "Andere gebouwen",
          "Zwembad",
          "Andere gebouwen",
          "Sporthal",
          "RVT/WZC/revalidatiecentrum",
          "Sporthal",
          "Stadhuis/Gemeentehuis",
          "Administratief centrum",
          "Bibliotheek",
          "Academie",
          "Zwembad",
          "OCMW Administratief centrum",
          "Cultureel centrum",
          "Lagere school",
          "Cultureel centrum",
          "Stadion",
          "Werkplaats",
          "Administratief centrum",
          "Andere gebouwen",
          "Andere gebouwen",
          "Stadhuis/Gemeentehuis",
          "Bibliotheek",
          "Andere gebouwen",
          "Andere gebouwen",
          "Stadhuis/Gemeentehuis",
          "Sporthal",
          "Lagere school",
          "Museum",
          "Sporthal",
          "Sportcomplex",
          "School",
          "Cultureel centrum",
          "Andere gebouwen",
          "Administratief centrum",
          "Lagere school",
          "RVT/WZC/revalidatiecentrum",
          "Administratief centrum",
          "Ontmoetingscentrum",
          "Technische middelbare school",
          "Lagere school",
          "Sporthal",
          "Administratief centrum",
          "Werkplaats",
          "Sporthal",
          "Brandweerkazerne",
          "School",
          "Ontmoetingscentrum",
          "Bibliotheek",
          "Administratief centrum",
          "Administratief centrum",
          "Sporthal",
          "Algemene middelbare school",
          "Lagere school",
          "Cultureel centrum",
          "Academie",
          "Administratief centrum",
          "Administratief centrum",
          "Museum",
          "Museum",
          "Cultureel centrum",
          "Sportcomplex",
          "RVT/WZC/revalidatiecentrum",
          "Administratief centrum",
          "Ontmoetingscentrum",
          "Sportcomplex",
          "Cultureel centrum",
          "Administratief centrum",
          "Andere gebouwen",
          "Sporthal",
          "Cultureel centrum",
          "Administratief centrum",
          "Sporthal",
          "OCMW Administratief centrum",
          "Voetbalveld",
          "Sporthal",
          "Lagere school",
          "Andere gebouwen",
          "Administratief centrum",
          "Sporthal",
          "Andere gebouwen",
          "Ontmoetingscentrum",
          "Kinderdagverblijf/BKO/IBO",
          "Museum",
          "Sporthal",
          "Administratief centrum",
          "Academie",
          "Ontmoetingscentrum",
          "Politiegebouw",
          "Ontmoetingscentrum",
          "Werkplaats",
          "Zwembad",
          "Ontmoetingscentrum",
          "Administratief centrum",
          "Stadhuis/Gemeentehuis",
          "Museum",
          "Cultureel centrum",
          "OCMW Administratief centrum",
          "OCMW Woningen",
          "OCMW Administratief centrum",
          "Museum",
          "Administratief centrum",
          "Andere gebouwen",
          "Sporthal",
          "Cultureel centrum",
          "Ontmoetingscentrum",
          "RVT/WZC/revalidatiecentrum",
          "Stadhuis/Gemeentehuis",
          "Sporthal",
          "Sporthal",
          "Zwembad",
          "Ontmoetingscentrum",
          "Stadhuis/Gemeentehuis",
          "Andere gebouwen",
          "OCMW Administratief centrum",
          "Lagere school",
          "RVT/WZC/revalidatiecentrum",
          "Stadhuis/Gemeentehuis",
          "Sporthal",
          "Ontmoetingscentrum",
          "Stadhuis/Gemeentehuis",
          "Andere gebouwen",
          "Bibliotheek",
          "Administratief centrum",
          "Cultureel centrum",
          "Administratief centrum",
          "Sporthal",
          "Stadhuis/Gemeentehuis",
          "Sporthal",
          "Sporthal",
          "Werkplaats",
          "Ontmoetingscentrum",
          "Bibliotheek",
          "Ontmoetingscentrum",
          "RVT/WZC/revalidatiecentrum",
          "Lagere school",
          "Cultureel centrum",
          "Werkplaats",
          "Zwembad",
          "Sporthal",
          "Museum",
          "Lagere school",
          "Sportcomplex",
          "Lagere school",
          "RVT/WZC/revalidatiecentrum",
          "Sporthal",
          "Museum",
          "Sporthal",
          "Straatverlichting",
          "Sporthal",
          "Werkplaats",
          "Academie",
          "Lagere school",
          "Sporthal",
          "Museum",
          "Cultureel centrum",
          "Sporthal",
          "Sporthal",
          "Museum",
          "Buitengewoon lager onderwijs (MPI)",
          "OCMW Woningen",
          "Sporthal",
          "RVT/WZC/revalidatiecentrum",
          "Stadhuis/Gemeentehuis",
          "Algemene middelbare school",
          "Sportcomplex",
          "Stadion",
          "Administratief centrum",
          "Academie",
          "Sporthal",
          "RVT/WZC/revalidatiecentrum",
          "Andere gebouwen",
          "Cultureel centrum",
          "Kleuterschool",
          "Stadion",
          "Werkplaats",
          "Sportcomplex",
          "Cultureel centrum",
          "Stadhuis/Gemeentehuis",
          "Bibliotheek",
          "Brandweerkazerne",
          "Andere gebouwen",
          "Ontmoetingscentrum",
          "Cultureel centrum",
          "Administratief centrum",
          "Andere gebouwen",
          "Stadhuis/Gemeentehuis",
          "Lagere school",
          "Sportcomplex",
          "Sporthal",
          "Andere gebouwen",
          "Sportcomplex",
          "RVT/WZC/revalidatiecentrum",
          "Cultureel centrum",
          "Werkplaats",
          "Pomp",
          "Cultureel centrum",
          "Kleuterschool",
          "Kinderdagverblijf/BKO/IBO",
          "Lagere school",
          "Administratief centrum",
          "RVT/WZC/revalidatiecentrum",
          "Administratief centrum",
          "Administratief centrum",
          "Administratief centrum",
          "Cultureel centrum",
          "Andere gebouwen",
          "Sporthal",
          "Bibliotheek",
          "Stadhuis/Gemeentehuis",
          "RVT/WZC/revalidatiecentrum",
          "Lagere school",
          "Lagere school",
          "Sporthal",
          "Andere gebouwen",
          "Lagere school",
          "Sporthal",
          "Bibliotheek",
          "Andere gebouwen",
          "Ontmoetingscentrum",
          "Andere gebouwen",
          "Werkplaats",
          "Ontmoetingscentrum",
          "Cultureel centrum",
          "Ontmoetingscentrum",
          "RVT/WZC/revalidatiecentrum",
          "Cultureel centrum",
          "Ontmoetingscentrum",
          "Lagere school",
          "Andere gebouwen",
          "Administratief centrum",
          "Museum",
          "Zwembad",
          "Sporthal",
          "Kleuterschool",
          "Andere gebouwen",
          "Laadeiland",
          "Sporthal",
          "Stadion",
          "OCMW Administratief centrum",
          "Administratief centrum",
          "Kleuterschool",
          "Ontmoetingscentrum",
          "Administratief centrum",
          "RVT/WZC/revalidatiecentrum",
          "Administratief centrum",
          "Lagere school",
          "Administratief centrum",
          "Lagere school",
          "Park",
          "Algemene middelbare school",
          "Stadhuis/Gemeentehuis",
          "Stadhuis/Gemeentehuis",
          "Ontmoetingscentrum",
          "Cultureel centrum",
          "Academie",
          "Lagere school",
          "Administratief centrum",
          "OCMW Administratief centrum",
          "Andere gebouwen",
          "Andere gebouwen",
          "Administratief centrum",
          "Ontmoetingscentrum",
          "Zwembad",
          "RVT/WZC/revalidatiecentrum",
          "Sporthal",
          "Administratief centrum",
          "Sporthal",
          "Andere gebouwen",
          "School",
          "Ontmoetingscentrum",
          "Cultureel centrum",
          "Kinderdagverblijf/BKO/IBO",
          "Lagere school",
          "Andere gebouwen",
          "Ontmoetingscentrum",
          "Sporthal",
          "Zwembad",
          "Sporthal",
          "Academie",
          "Ontmoetingscentrum",
          "Buitengewoon middelbaar onderwijs (BUSO)",
          "Sporthal",
          "Brandweerkazerne",
          "Andere gebouwen",
          "Academie",
          "Andere gebouwen",
          "Stadion",
          "Stadion",
          "Sporthal",
          "Andere gebouwen",
          "Andere gebouwen",
          "Sporthal",
          "Sportcomplex",
          "Sporthal",
          "Academie",
          "Sporthal",
          "Administratief centrum",
          "Cultureel centrum",
          "Brandweerkazerne",
          "Bibliotheek",
          "Werkplaats",
          "Andere gebouwen",
          "Ontmoetingscentrum",
          "Cultureel centrum",
          "Stadhuis/Gemeentehuis",
          "Museum",
          "Academie",
          "Stadhuis/Gemeentehuis",
          "Sporthal",
          "Ontmoetingscentrum",
          "Sporthal",
          "Museum",
          "Technische middelbare school",
          "Andere gebouwen",
          "Cultureel centrum",
          "Ontmoetingscentrum",
          "Sporthal",
          "Werkplaats",
          "Sporthal",
          "Stadhuis/Gemeentehuis",
          "Sporthal",
          "Museum",
          "Andere gebouwen",
          "RVT/WZC/revalidatiecentrum",
          "Werkplaats",
          "Ontmoetingscentrum",
          "Administratief centrum",
          "Andere gebouwen",
          "Sportcomplex",
          "Andere gebouwen",
          "Stadion",
          "Andere gebouwen",
          "Sporthal",
          "Lagere school",
          "Lagere school",
          "Straatverlichting",
          "Dienstencentrum/CAW/dagverblijf",
          "Sporthal",
          "Cultureel centrum",
          "Werkplaats",
          "Andere gebouwen",
          "Werkplaats",
          "Ontmoetingscentrum",
          "Sportcomplex",
          "Museum",
          "Sporthal",
          "Pomp",
          "Lagere school",
          "RVT/WZC/revalidatiecentrum",
          "Academie",
          "Cultureel centrum",
          "Andere gebouwen",
          "Kinderdagverblijf/BKO/IBO",
          "Cultureel centrum",
          "Lagere school",
          "Sporthal",
          "Ontmoetingscentrum",
          "Brandweerkazerne",
          "Sportcomplex",
          "Algemene middelbare school",
          "Lagere school",
          "Andere gebouwen",
          "Cultureel centrum",
          "Administratief centrum",
          "Administratief centrum",
          "Andere gebouwen",
          "Administratief centrum",
          "Academie",
          "Administratief centrum",
          "Andere gebouwen",
          "Cultureel centrum",
          "Stadion",
          "Sporthal",
          "Bibliotheek",
          "Cultureel centrum",
          "Brandweerkazerne",
          "Ontmoetingscentrum",
          "Sporthal",
          "Andere gebouwen",
          "Zwembad",
          "Ontmoetingscentrum",
          "Andere gebouwen",
          "Politiegebouw",
          "Bibliotheek",
          "Tennisveld",
          "Werkplaats",
          "Sporthal",
          "RVT/WZC/revalidatiecentrum",
          "Ontmoetingscentrum",
          "Andere gebouwen",
          "Administratief centrum",
          "Andere gebouwen",
          "Cultureel centrum",
          "Buitengewoon middelbaar onderwijs (BUSO)",
          "Administratief centrum",
          "Andere",
          "Cultureel centrum",
          "Bibliotheek",
          "Academie",
          "Ontmoetingscentrum",
          "Administratief centrum",
          "Ontmoetingscentrum",
          "Sportcomplex",
          "Ontmoetingscentrum",
          "Lagere school",
          "Laadeiland",
          "Cultureel centrum",
          "Cultureel centrum",
          "Sporthal",
          "Werkplaats",
          "School",
          "Sportcomplex",
          "Jeugdhuis",
          "Cultureel centrum",
          "Administratief centrum",
          "Andere gebouwen",
          "Cultureel centrum",
          "Andere gebouwen",
          "Ontmoetingscentrum",
          "RVT/WZC/revalidatiecentrum",
          "Bibliotheek",
          "Andere gebouwen",
          "Administratief centrum",
          "OCMW Administratief centrum",
          "Academie",
          "Andere gebouwen",
          "Zwembad",
          "Ontmoetingscentrum",
          "Sportcomplex",
          "Zwembad",
          "Sporthal",
          "Lagere school",
          "Andere gebouwen",
          "Cultureel centrum",
          "Sportcomplex",
          "Sporthal",
          "RVT/WZC/revalidatiecentrum",
          "Stadhuis/Gemeentehuis",
          "Cultureel centrum",
          "Sporthal",
          "RVT/WZC/revalidatiecentrum",
          "OCMW Administratief centrum",
          "Andere gebouwen",
          "Sportcomplex",
          "OCMW Administratief centrum",
          "Andere gebouwen",
          "Cultureel centrum",
          "Cultureel centrum",
          "Stadhuis/Gemeentehuis",
          "Ontmoetingscentrum",
          "Ontmoetingscentrum",
          "Bibliotheek",
          "Kinderdagverblijf/BKO/IBO",
          "Administratief centrum",
          "Andere gebouwen",
          "Andere gebouwen",
          "Lagere school",
          "Andere gebouwen",
          "Zwembad",
          "Ontmoetingscentrum",
          "School",
          "Cultureel centrum",
          "Bibliotheek",
          "Andere gebouwen",
          "Bibliotheek",
          "Sporthal",
          "Lagere school",
          "Sporthal",
          "Lagere school",
          "Ontmoetingscentrum",
          "Administratief centrum",
          "Cultureel centrum",
          "Werkplaats",
          "Administratief centrum"
         ],
         "legendgroup": "",
         "marker": {
          "color": [
           8,
           2,
           5,
           4,
           8,
           5,
           4,
           1,
           0,
           8,
           1,
           5,
           4,
           1,
           1,
           8,
           8,
           4,
           5,
           2,
           8,
           8,
           6,
           5,
           2,
           4,
           4,
           1,
           1,
           6,
           1,
           1,
           8,
           1,
           8,
           8,
           8,
           4,
           1,
           8,
           8,
           8,
           8,
           1,
           8,
           8,
           8,
           2,
           0,
           4,
           1,
           4,
           0,
           6,
           1,
           2,
           1,
           6,
           4,
           8,
           1,
           0,
           1,
           1,
           1,
           6,
           1,
           5,
           4,
           0,
           4,
           8,
           1,
           1,
           1,
           8,
           1,
           5,
           8,
           2,
           4,
           8,
           2,
           4,
           4,
           5,
           8,
           5,
           5,
           8,
           8,
           4,
           8,
           1,
           2,
           8,
           8,
           2,
           2,
           1,
           8,
           8,
           1,
           2,
           8,
           2,
           0,
           6,
           8,
           4,
           0,
           7,
           1,
           4,
           8,
           4,
           8,
           5,
           8,
           1,
           8,
           1,
           7,
           6,
           4,
           8,
           4,
           2,
           4,
           1,
           0,
           4,
           1,
           0,
           8,
           0,
           1,
           0,
           1,
           0,
           4,
           0,
           7,
           8,
           8,
           8,
           1,
           1,
           8,
           7,
           1,
           0,
           5,
           2,
           8,
           8,
           8,
           8,
           0,
           5,
           2,
           1,
           1,
           2,
           8,
           8,
           4,
           8,
           1,
           2,
           1,
           2,
           2,
           8,
           8,
           5,
           8,
           6,
           8,
           8,
           8,
           8,
           4,
           4,
           3,
           8,
           1,
           1,
           8,
           4,
           0,
           2,
           1,
           6,
           0,
           1,
           8,
           6,
           8,
           8,
           8,
           1,
           6,
           4,
           8,
           5,
           4,
           8,
           0,
           2,
           8,
           8,
           8,
           4,
           6,
           6,
           1,
           6,
           4,
           0,
           1,
           1,
           8,
           4,
           6,
           8,
           4,
           1,
           4,
           5,
           1,
           8,
           2,
           6,
           8,
           0,
           0,
           4,
           1,
           0,
           8,
           8,
           8,
           1,
           4,
           4,
           2,
           5,
           1,
           4,
           2,
           8,
           5,
           2,
           8,
           8,
           2,
           8,
           1,
           5,
           8,
           0,
           0,
           8,
           8,
           4,
           1,
           1,
           1,
           2,
           1,
           0,
           0,
           4,
           5,
           1,
           6,
           4,
           8,
           8,
           5,
           8,
           8,
           1,
           8,
           1,
           0,
           1,
           8,
           1,
           8,
           1,
           1,
           8,
           1,
           8,
           1,
           3,
           6,
           8,
           6,
           0,
           8,
           1,
           1,
           4,
           8,
           8,
           1,
           1,
           4,
           8,
           8,
           4,
           8,
           8,
           5,
           1,
           1,
           6,
           5,
           1,
           8,
           4,
           1,
           0,
           1,
           7,
           8,
           7,
           1,
           1,
           1,
           4,
           9,
           8,
           8,
           8,
           1,
           1,
           0,
           6,
           8,
           7,
           8,
           2,
           8,
           4,
           8,
           1,
           8,
           8,
           9,
           0,
           2,
           8,
           1,
           8,
           4,
           6,
           8,
           1,
           8,
           1,
           8,
           1,
           5,
           4,
           8,
           8,
           2,
           6,
           8,
           8,
           7,
           3,
           5,
           8,
           6,
           0,
           1,
           1,
           1,
           8,
           8,
           1,
           8,
           1,
           8,
           2,
           8,
           1,
           1,
           5,
           0,
           1,
           7,
           8,
           0,
           1,
           1,
           8,
           8,
           3,
           4,
           8,
           2,
           1,
           4,
           2,
           1,
           5,
           4,
           4,
           2,
           8,
           4,
           8,
           8,
           4,
           1,
           1,
           8,
           1,
           8,
           1,
           8,
           1,
           1,
           4,
           0,
           6,
           1,
           8,
           6,
           0,
           1,
           1,
           2,
           6,
           1,
           9,
           8,
           8,
           4,
           8,
           1,
           2,
           1,
           1,
           8,
           1,
           8,
           5,
           5,
           1,
           0,
           8,
           1,
           1,
           5,
           6,
           1,
           1,
           0,
           8,
           0,
           1,
           1,
           8,
           4,
           0,
           1,
           3,
           0,
           0,
           8,
           0,
           5,
           0,
           0,
           2,
           1,
           0,
           8,
           1,
           2,
           0,
           4,
           0,
           1,
           8,
           8,
           8,
           8,
           4,
           0,
           8,
           1,
           8,
           8,
           2,
           8,
           4,
           5,
           8,
           8,
           0,
           4,
           4,
           4,
           0,
           7,
           8,
           4,
           0,
           4,
           6,
           8,
           4,
           8,
           7,
           8,
           4,
           8,
           4,
           2,
           6,
           3,
           1,
           4,
           6,
           4,
           2,
           8,
           0,
           1,
           4,
           0,
           2,
           6,
           2,
           8,
           1,
           8,
           8,
           4,
           7,
           8,
           2,
           8,
           1,
           8,
           8,
           5,
           5,
           8,
           1,
           4,
           8,
           4,
           8,
           8,
           1,
           8,
           0,
           1,
           4,
           8,
           8,
           4,
           8,
           4,
           1,
           0,
           0,
           6,
           5,
           8,
           8,
           8,
           1,
           1,
           0,
           1,
           1,
           2,
           5,
           4,
           8,
           4,
           8,
           1,
           2,
           4,
           8,
           1,
           8,
           0,
           8,
           8,
           4,
           8,
           1,
           0,
           0,
           2,
           4,
           0,
           5,
           1,
           2,
           1,
           0,
           4,
           1,
           4,
           0,
           3,
           1,
           1,
           4,
           8,
           4,
           1,
           1,
           5,
           8,
           8,
           4,
           1,
           4,
           1,
           5,
           1,
           2,
           6,
           6,
           8,
           1,
           0,
           5,
           4,
           5,
           8,
           4,
           1,
           5,
           1,
           8,
           0,
           8,
           8,
           1,
           1,
           0,
           0,
           7,
           1,
           8,
           7,
           2,
           0,
           2,
           8,
           1,
           2,
           8,
           8,
           8,
           1,
           1,
           8,
           0,
           5,
           8,
           1,
           8,
           4,
           0,
           8,
           0,
           2,
           0,
           7,
           8,
           1,
           1,
           5,
           8,
           1,
           4,
           2,
           1,
           8,
           1,
           8,
           6,
           4,
           1,
           0,
           7,
           0,
           0,
           7,
           1,
           2,
           4,
           4,
           7,
           4,
           4,
           1,
           1,
           8,
           1,
           4,
           2,
           5,
           1,
           5,
           4,
           0,
           8,
           8,
           1,
           4,
           8,
           4,
           8,
           8,
           0,
           7,
           4,
           4,
           5,
           0,
           1,
           1,
           2,
           1,
           2,
           1,
           2,
           1,
           7,
           1,
           1,
           0,
           8,
           5,
           8,
           5,
           8,
           1,
           5,
           8,
           1,
           8,
           8,
           1,
           6,
           8,
           8,
           1,
           5,
           1,
           1,
           0,
           8,
           0,
           4,
           8,
           1,
           1,
           5,
           1,
           5,
           4,
           5,
           8,
           5,
           4,
           4,
           1,
           8,
           0,
           8,
           1,
           5,
           5,
           5,
           5,
           0,
           1,
           2,
           0,
           1,
           0,
           8,
           6,
           8,
           2,
           0,
           8,
           1,
           0,
           1,
           8,
           8,
           1,
           1,
           8,
           4,
           0,
           8,
           8,
           7,
           0,
           8,
           2,
           1,
           1,
           1,
           5,
           4,
           4,
           8,
           4,
           8,
           1,
           8,
           6,
           6,
           8,
           8,
           4,
           5,
           3,
           8,
           4,
           8,
           1,
           8,
           1,
           8,
           1,
           4
          ],
          "coloraxis": "coloraxis",
          "symbol": "circle"
         },
         "mode": "markers",
         "name": "",
         "orientation": "v",
         "showlegend": false,
         "type": "scatter",
         "x": [
          0.4267735172607467,
          0.548166879564242,
          0.5665192848237993,
          0.27257915408487693,
          0.4578933823666529,
          0.493251597016422,
          0.21784037057645872,
          0.4517443000854577,
          0.35463739150905443,
          0.47966114487505945,
          0.4250699031855858,
          0.5283896695546207,
          0.3037872110121308,
          0.39937143089802524,
          0.40350302662362575,
          0.4778295461747917,
          0.4370069430292709,
          0.29186186151948834,
          0.5227391963063573,
          0.545722938585236,
          0.5169318380584974,
          0.4586704894465835,
          0.44240170598996237,
          0.5024962089307206,
          0.6033888979181873,
          0.321734393707403,
          0.3152549768101251,
          0.3755930564548524,
          0.36439385358626547,
          0.4309273127208911,
          0.3884404708078234,
          0.3642948813822057,
          0.5116374184831046,
          0.3413001705839078,
          0.4416465646840099,
          0.4885615990390074,
          0.5298480313000625,
          0.30813691143204225,
          0.3660658622892667,
          0.45337990481734636,
          0.48320029801087,
          0.4751056650463706,
          0.465354479397113,
          0.2982430317836344,
          0.5059207075246323,
          0.44154130856006063,
          0.4635525398593657,
          0.6133870150722152,
          0.3605516846896151,
          0.3347919481175672,
          0.4328124307832141,
          0.32667460381664315,
          0.346515020115449,
          0.48459124834355055,
          0.4077312047122806,
          0.7109011649532079,
          0.3954402111020176,
          0.3141575607047599,
          0.33378577410838695,
          0.5194084634522348,
          0.3642468078648578,
          0.35465311775804254,
          0.36645225248012175,
          0.3579642887454437,
          0.3436637532186204,
          0.4121632575131807,
          0.3983969204899243,
          0.5127287249272866,
          0.25369249815119654,
          0.4401631229132837,
          0.30177056289055354,
          0.4565862695400498,
          0.3722130671350449,
          0.28894885803793285,
          0.4199748662659017,
          0.44980505273135984,
          0.40076431407735225,
          0.4893973510732987,
          0.48386940409932067,
          0.5993764446328984,
          0.2601993464251566,
          0.47687876553542796,
          0.6503888931867813,
          0.3361020798640316,
          0.33046927031448636,
          0.4778167406932087,
          0.48587237091552393,
          0.6192440181461843,
          0.5154829026371858,
          0.4598442678202625,
          0.5073662625578343,
          0.3191605132320016,
          0.4171505664550785,
          0.3564565298450797,
          0.5389012082826833,
          0.4243156351648071,
          0.4525523506601281,
          0.6178255721764878,
          0.5549993053723075,
          0.4176080870979133,
          0.45384776448894754,
          0.45981549192860754,
          0.4261416331220944,
          0.5597558623010833,
          0.483604765864703,
          0.5634863286098035,
          0.4352578906129912,
          0.3268900898846137,
          0.4723490303983849,
          0.25789542368675034,
          0.4176686359478263,
          0.8525669300465043,
          0.3751742177469276,
          0.2557214281821969,
          0.49820450399662297,
          0.3330855069554835,
          0.43089810198705814,
          0.49204999829978535,
          0.4850057038370992,
          0.3089612460779668,
          0.4298246473752568,
          0.3744013648304558,
          0.729387800356915,
          0.3948446718810256,
          0.3598443474016419,
          0.5209721013578463,
          0.2848684391618057,
          0.5454715388604816,
          0.34124074329697623,
          0.40264374840493095,
          0.33293159890054386,
          0.29803777960781885,
          0.37374945699439627,
          0.4582005625787388,
          0.4334494949935832,
          0.4946416082646907,
          0.35076519874213724,
          0.4843337461447773,
          0.3957386071231703,
          0.4650584906595242,
          0.33062403092895837,
          0.35725815439935343,
          0.7316656263051474,
          0.49266883595763766,
          0.49398187446899294,
          0.4914857948061676,
          0.4007453791079897,
          0.3875653479608438,
          0.5130328381897222,
          0.782989915492767,
          0.4228187009917515,
          0.4435665509657304,
          0.51504464582343,
          0.5508664978844734,
          0.4806888145369356,
          0.4379234422605492,
          0.5182844519992168,
          0.49169420658586466,
          0.4144584316930852,
          0.5764401023965154,
          0.6828724063024884,
          0.36016807278763663,
          0.36088164371535936,
          0.5541456718005766,
          0.479833966691054,
          0.4465313935296801,
          0.2541193886999879,
          0.48529399701728987,
          0.41760856361286514,
          0.6157703190785668,
          0.3850890222521629,
          0.6365546597974604,
          0.5698669747162666,
          0.48799451353963114,
          0.4606081041958297,
          0.6293937847515568,
          0.5075450558217826,
          0.4780098231367167,
          0.5106020036351684,
          0.40703443414016016,
          0.47221201635155063,
          0.481036849547867,
          0.32747252497348445,
          0.14864046311902623,
          0.5285345286137938,
          0.4177864119050973,
          0.4158686594293866,
          0.3441050310728525,
          0.47759011100656934,
          0.1590912001698963,
          0.48081145776216905,
          0.6264245630013385,
          0.42509569256097024,
          0.43209613508932854,
          0.4486947478089784,
          0.42787393714828525,
          0.4263128780703483,
          0.40281879714589425,
          0.44602715550814814,
          0.48576857316844607,
          0.5241216126282676,
          0.35924581465297667,
          0.37338675680955496,
          0.2942869321030266,
          0.5001155763431494,
          0.5599853984917931,
          0.3059210103774803,
          0.44778242453872646,
          0.4850878842787368,
          0.6466469764029741,
          0.4465874393462895,
          0.4970064043419807,
          0.4318200613205402,
          0.3399803955686323,
          0.45095586378085917,
          0.37761823232091024,
          0.405044855460942,
          0.458582325968588,
          0.3010962054778397,
          0.3282052603348078,
          0.39520850412036507,
          0.3973215442426186,
          0.4387438718389182,
          0.32727715513348865,
          0.4700218762460792,
          0.4586515573720151,
          0.3309392251753512,
          0.4033136841716567,
          0.2520785561379376,
          0.5169423700261623,
          0.3546642417258401,
          0.47755061053227166,
          0.687502569678973,
          0.3981686441409396,
          0.45105726706470906,
          0.3358950297598824,
          0.4368578124688123,
          0.3473298388898827,
          0.4500568582815431,
          0.4020332058076626,
          0.430473554527937,
          0.44692790534463966,
          0.4398180412828337,
          0.35024775275034237,
          0.2520270387961242,
          0.251024561599152,
          0.591420423916946,
          0.5333147715138261,
          0.40309524997485513,
          0.2388375260849099,
          0.550720819361915,
          0.5321623448865438,
          0.43370968410687266,
          0.6799660389475122,
          0.49843045270003183,
          0.5199770404982709,
          0.614623047851529,
          0.4496955068551584,
          0.27139112044561087,
          0.5092576942904642,
          0.4723725246960138,
          0.4680647915394829,
          0.47124265790837033,
          0.48267112998255374,
          0.5069884749823353,
          0.2661544403624205,
          0.36030321537611587,
          0.39865775213141286,
          0.3546841619845833,
          0.7307193202153452,
          0.39093140263768883,
          0.43432029364747726,
          0.44978418221609834,
          0.2667383596787017,
          0.4961110537456755,
          0.3490533189956864,
          0.31268931852869486,
          0.32131860492454156,
          0.5230543857184413,
          0.4614761929736145,
          0.4803914743118911,
          0.4324126902612901,
          0.4780765353216267,
          0.39076902887671583,
          0.479509984149614,
          0.37507512429656314,
          0.47453856330011557,
          0.42765493063637733,
          0.4607310421620051,
          0.3446152671143923,
          0.5313729713464663,
          0.38454727307921316,
          0.3450480480669851,
          0.49560093580271747,
          0.3514790235977636,
          0.443698610568745,
          0.3731638112352483,
          0.39355097743942113,
          0.38877274021619934,
          0.4825460925460572,
          0.44103200099115286,
          0.42714046606649114,
          0.47692366170315076,
          0.36625120813907586,
          0.35734161894231425,
          0.34635087742834514,
          0.43198990386303177,
          0.5059683522353216,
          0.3954336049420077,
          0.4407631603708611,
          0.33926771535526146,
          0.48268577722000366,
          0.41145841743284634,
          0.3134925352582651,
          0.46385692374575205,
          0.4441965862265665,
          0.5390057837145643,
          0.42131114104702994,
          0.37020138718668205,
          0.3841503851155418,
          0.5107923667534197,
          0.38760500627479577,
          0.49547054420360204,
          0.29214098818197887,
          0.39503445775664703,
          0.48473048722989054,
          0.42184764642179523,
          0.8981684107726066,
          0.440116068921254,
          0.7839581907331177,
          0.3509550893786207,
          0.378227480822472,
          0.3593220079672481,
          0.2668103565221796,
          0.1624218056756687,
          0.481820605252445,
          0.43678952394277715,
          0.4611236852616159,
          0.40110898672280876,
          0.3694114119998399,
          0.4592947529881265,
          0.4258550699185205,
          0.4656557346483025,
          0.7839551351280024,
          0.45049317530240757,
          0.6860831529690157,
          0.49040315644472976,
          0.27999737945270886,
          0.4780831454749141,
          0.3695306592280154,
          0.4430584292125611,
          0.42836647010742046,
          0.3086110495362897,
          0.5188126348225341,
          0.6305593573064644,
          0.4990768321303408,
          0.39691472111310583,
          0.46611960614313364,
          0.2934899094863829,
          0.31291431182846474,
          0.46417403819822517,
          0.43857710359451485,
          0.4092793989462768,
          0.4027361432208699,
          0.43704005117661915,
          0.4253400408701673,
          0.480278408029014,
          0.26684147731890073,
          0.485199066768272,
          0.449819422148496,
          0.5715289990881125,
          0.47615780242855904,
          0.4455592615089647,
          0.45711926561224914,
          0.7250506576568635,
          0.46151328810397174,
          0.5257270617626713,
          0.4886424441642374,
          0.35588267475566293,
          0.4037480299152791,
          0.36187984662492445,
          0.39103653722757953,
          0.38646056161938525,
          0.47617305048627245,
          0.4694861693799139,
          0.334057223381444,
          0.47218977013277214,
          0.3804671851752426,
          0.5203427625604355,
          0.6142739671449918,
          0.4864879966246264,
          0.36807491594609215,
          0.3874783940195309,
          0.5163004288888017,
          0.4290791257467903,
          0.3701245686300092,
          0.809663548367981,
          0.512667424812227,
          0.403497541744564,
          0.40340743443262506,
          0.35269058754524035,
          0.4621726575937677,
          0.4414030719775621,
          0.4515920005546018,
          0.318934729768813,
          0.43230436403395833,
          0.5721296819981385,
          0.37425398872826016,
          0.32007177218081867,
          0.6255116421670511,
          0.41418416969165484,
          0.4328185055210617,
          0.32345281045910995,
          0.23052010646562843,
          0.628646667840777,
          0.518138473651775,
          0.2791994610285,
          0.45327348074257,
          0.4719571910085994,
          0.2608692840276833,
          0.39478407744259136,
          0.36741801731810353,
          0.4643640301010485,
          0.38229376036913787,
          0.45649463809959395,
          0.38062749343734226,
          0.5108110254470957,
          0.3865736102296881,
          0.37854813132327314,
          0.3089376997024028,
          0.44848080327345485,
          0.3195298013245029,
          0.34208587299573007,
          0.4972852911347828,
          0.4500808581742918,
          0.4094983892434154,
          0.38594934628907973,
          0.43966060840914123,
          0.6321697020840357,
          0.4331410417132691,
          0.38306666007262996,
          0.1918164230111049,
          0.44545334340622045,
          0.45404955886036413,
          0.3293856015513694,
          0.43186603570634086,
          0.4220263210804239,
          0.5851791932874489,
          0.42968902207581633,
          0.4536580763201869,
          0.43008306772790017,
          0.3432073171421188,
          0.4772856425481639,
          0.564301076641287,
          0.565475275410036,
          0.400494429628963,
          0.44081254964998595,
          0.44615978721069915,
          0.38888432343865903,
          0.5175529402443517,
          0.5203478707154177,
          0.46941749337889493,
          0.4110353213924528,
          0.41395273147795436,
          0.48667004633939825,
          0.4842318804942515,
          0.47303040579400857,
          0.3959411549682845,
          0.35694707794387404,
          0.514009696485931,
          0.159462900800497,
          0.4103088239873707,
          0.3400951754434267,
          0.4349270050555215,
          0.45027300188551533,
          0.39350771639812715,
          0.4614713837566954,
          0.44326691967652687,
          0.49495547098079534,
          0.3303915014590151,
          0.4189208911007897,
          0.5816838335787906,
          0.443110801525747,
          0.4325421122743624,
          0.47527055729746076,
          0.3420833486954993,
          0.591658222868674,
          0.4370117120490077,
          0.2840696158408655,
          0.3040513704917242,
          0.34701561075774484,
          0.4667943550388898,
          0.4903568837448192,
          0.46341897657463493,
          0.4717902873080742,
          0.30711434002640114,
          0.4307701004500213,
          0.4801421843911148,
          0.4260523588570696,
          0.42922667433281336,
          0.4457416974492794,
          0.5687949008481821,
          0.46441784738319214,
          0.21512341854618072,
          0.48766865665986214,
          0.47122778518162134,
          0.4516172226737328,
          0.43430062453257956,
          0.2409767662430883,
          0.3316230917714913,
          0.27244185171284907,
          0.4694158865337879,
          0.9496824934078599,
          0.3744684591995247,
          0.27896533704177123,
          0.4815529005168617,
          0.29470805171623854,
          0.3445104779955367,
          0.44228447591223724,
          0.2752432406273103,
          0.49113752859941656,
          0.7837768738086484,
          0.4502156857939303,
          0.3381095048453982,
          0.4794257581734023,
          0.31224178394944313,
          0.583971935830952,
          0.33403434109127705,
          0.5085851056187672,
          0.4473309554118256,
          0.3070473156304848,
          0.347329291753915,
          0.31756011588654137,
          0.5708960954267354,
          0.505181585101817,
          0.41664356680742565,
          0.41046566631815556,
          0.3341323137289849,
          0.4236074595029636,
          0.5839510973820027,
          0.4040465843977374,
          0.6766161686424106,
          0.48219129679454337,
          0.3829141129926446,
          0.51857822934222,
          0.49256958844179155,
          0.300787955814336,
          0.985001467224416,
          0.5030832028287842,
          0.5469930909150358,
          0.4612308703249027,
          0.4015913860983714,
          0.43547933141755174,
          0.45359686306196484,
          0.4256102848076177,
          0.4828172780681922,
          0.46783045692688674,
          0.40297069114014167,
          0.33230417044312893,
          0.43229516094016185,
          0.2440874027807654,
          0.45412181079704317,
          0.4351099481361299,
          0.3287671232876712,
          0.49593752010291137,
          0.355400541219869,
          0.3889638277955339,
          0.29423247946506814,
          0.48902664070226176,
          0.42909931230896997,
          0.3076455407720324,
          0.4818708199725142,
          0.27651890261709594,
          0.40585344019392994,
          0.40721830934126596,
          0.4083629201647034,
          0.42835760857512256,
          0.4487876545755572,
          0.4985856091241031,
          0.5023765290612103,
          0.48097460211084797,
          0.3917457950095715,
          0.40975494203343216,
          0.41976820112374047,
          0.3912107593079316,
          0.39773620378447694,
          0.5852052981131731,
          0.4958206548455595,
          0.28594934063767363,
          0.471569150635636,
          0.2865948099215249,
          0.5006210084248203,
          0.4247761016847791,
          0.6691424698041798,
          0.30429192623509876,
          0.4649984444774306,
          0.3895015937512556,
          0.3942473451440998,
          0.412549884400509,
          0.4375494058600704,
          0.49262112995032104,
          0.28338613819767544,
          0.4147505778412709,
          0.40746768061341154,
          0.33689172809485224,
          0.480028578865468,
          0.6014835536365875,
          0.35489421794248177,
          0.4317562630923686,
          0.49310213310039114,
          0.38464162634276133,
          0.6075178492349337,
          0.42176853597913533,
          0.3435955554859601,
          0.2601608502082428,
          0.4157611000631456,
          0.34660561745877155,
          0.38125717927970326,
          0.4296042643692535,
          0.37465061624618734,
          0.3739202013279539,
          0.2742908779264806,
          0.5298428104638343,
          0.25515068606723823,
          0.41843462731597714,
          0.4090601102182135,
          0.5337400281776654,
          0.4298340027004753,
          0.5183724311298268,
          0.3094752499912135,
          0.4077282518305971,
          0.3064325361223366,
          0.345983348138858,
          0.3651410454434592,
          0.4109426138970545,
          0.6690813751653265,
          0.4542409621341256,
          0.39285906851514546,
          0.48823634879609906,
          0.38757469635852787,
          0.43270828114968063,
          0.6226127682034249,
          0.30757720167545255,
          0.5051112764076544,
          0.5418746703191971,
          0.24034651064087742,
          0.37214427516720794,
          0.44239735654632406,
          0.40429056575735095,
          0.4560854433290596,
          0.4764581958860785,
          0.4240958672112523,
          0.49188958255273124,
          0.41436211021752706,
          0.3740771495617831,
          0.44252701171497366,
          0.5097090277221163,
          0.7872355341981597,
          0.43143979986736736,
          0.4270088591502522,
          0.6947324542426416,
          0.6109491346618553,
          0.45654693998565393,
          0.6289997738056742,
          0.49802860358764806,
          0.41997788580824025,
          0.5639287334808996,
          0.4459754818649462,
          0.5250954105236761,
          0.517242725349054,
          0.3559459205957441,
          0.4057585182765627,
          0.5006223273831839,
          0.32797819541868123,
          0.5432162337273754,
          0.47745189051288056,
          0.4257138335203393,
          0.48322982705473405,
          0.3381322099010587,
          0.400571185205878,
          0.47244990483829635,
          0.4353893464196969,
          0.5979039486532458,
          0.4647604162784967,
          0.865288944950533,
          0.4130801524274895,
          0.4068089487237102,
          0.3694652630149018,
          0.4920394952338487,
          0.487518854429337,
          0.44238054345224825,
          0.3217129081220996,
          0.5367876683044098,
          0.3799477985190265,
          0.47871375725691334,
          0.3992772331906003,
          0.4284676062778653,
          0.3596291242426344,
          0.2642463987445176,
          0.379216882249353,
          0.3798035466992923,
          0.7254829953082313,
          0.4551222890693986,
          0.42660485532509834,
          0.7144741065139744,
          0.35868503768154014,
          0.5457594091342429,
          0.31694387180960376,
          0.2853175245399847,
          0.7815630965305917,
          0.3284294193797217,
          0.33142123954793123,
          0.38529943805945444,
          0.446512294102846,
          0.4294824391721934,
          0.3744146930086106,
          0.21057275690398541,
          0.6677697219598039,
          0.5069442392538912,
          0.4141574909704266,
          0.5307017543859647,
          0.3478317848972277,
          0.41028208621591933,
          0.4793695090361144,
          0.48880033665309414,
          0.3959621475881208,
          0.31588912631144683,
          0.44024418947887584,
          0.31010851932608285,
          0.43243462470698013,
          0.4678602566202708,
          0.4246285972602877,
          0.7143127657738121,
          0.3251151441689723,
          0.3068957238277999,
          0.7044988242127314,
          0.45604002434950364,
          0.36620603203866936,
          0.36522121603731045,
          0.5965247669510687,
          0.38076417056966266,
          0.5375523638539791,
          0.36455455342687737,
          0.6561586410580957,
          0.39555324470660125,
          0.9888447423219776,
          0.347569304848089,
          0.35833309474659836,
          0.4625629697796868,
          0.44215441697354124,
          0.4676493698792963,
          0.4908840699113264,
          0.5328548588267407,
          0.5030840670731345,
          0.3759984639443505,
          0.47339507963876587,
          0.46041823332920095,
          0.3507594358932538,
          0.4659769980207701,
          0.5096416945988695,
          0.4172936236837013,
          0.3188566872953792,
          0.5062038035056649,
          0.45082003740884746,
          0.39756444150270986,
          0.5796197965412954,
          0.37243496923103075,
          0.37714699730996015,
          0.4420780979903947,
          0.532088189686908,
          0.42102489533072995,
          0.33889045704475534,
          0.46142092766566944,
          0.41537715720691315,
          0.39497860894945686,
          0.5196674403743724,
          0.406215353728439,
          0.5118037155355301,
          0.27715429659989,
          0.5193521775611956,
          0.45943152205360027,
          0.47287664431597415,
          0.2558497830971349,
          0.2172765095345812,
          0.3497416036649392,
          0.500498496904756,
          0.4685700716891054,
          0.43175382414483393,
          0.39371593459442084,
          0.5545092101496483,
          0.503793517249519,
          0.5470848426663744,
          0.4756019912435253,
          0.343849948445136,
          0.3638601190931797,
          0.6297655621849205,
          0.3667295410553496,
          0.34655675376824246,
          0.4453289015304345,
          0.5143800094295139,
          0.4849225037277701,
          0.4376301566202726,
          0.5637018291647913,
          0.48529125716097854,
          0.5275874023046968,
          0.3247581295946506,
          0.4295929796517775,
          0.37464613281088655,
          0.4669950086536604,
          0.46324748862325615,
          0.384977063237086,
          0.3787155393269263,
          0.4459352701556584,
          0.34252343392997187,
          0.37847779372775275,
          0.44884704809771964,
          0.4234925646493164,
          0.8067251092905539,
          0.4355682846418796,
          0.5050933505049064,
          0.559875150334577,
          0.3894357668405082,
          0.3580266758025103,
          0.3539410110731851,
          0.48693526203849335,
          0.28420028079142073,
          0.27650915650341945,
          0.4421002230476578,
          0.31919890140249435,
          0.5175232068168442,
          0.3831656576353879,
          0.5018045411918493,
          0.48136671619327454,
          0.4048328702699567,
          0.4914239446227503,
          0.4330670385561662,
          0.34097295839356734,
          0.5906699137200665,
          0.43830780681891923,
          0.46183150321449523,
          0.321205338030408,
          0.4946104223334673,
          0.3676293214529193,
          0.43804974657755097,
          0.4174034909813963,
          0.47013616552771453,
          0.35516636092147785,
          0.3407699319081907
         ],
         "xaxis": "x",
         "y": [
          0.23776383652627042,
          0.26360293561618287,
          0.4467309494207159,
          0.1051421796640567,
          0.2386544044032598,
          0.32089465048478283,
          0.11327116906322679,
          0.1582539120269042,
          0.2648221262997489,
          0.2607251177141429,
          0.2308938452719227,
          0.5737627619894801,
          0.1509819714154942,
          0.2512978846185848,
          0.1884340243274218,
          0.2722183933176721,
          0.29491765028845807,
          0.1241206873002995,
          0.3615345723724695,
          0.2194036194289176,
          0.2807726188537502,
          0.2540032186635674,
          0.2414147764002217,
          0.3282886930853397,
          0.250525900834569,
          0.1485283861936815,
          0.1431985728014656,
          0.2176448224210619,
          0.19673800553275111,
          0.2596547715679548,
          0.1881038731729218,
          0.17705788575725612,
          0.2890700069125846,
          0.29921177682627753,
          0.2335001327002993,
          0.2954057182166008,
          0.2758519607047316,
          0.1576534954881278,
          0.1967781163380231,
          0.24467458328080238,
          0.22139471666885968,
          0.2882847342468601,
          0.2436090145512213,
          0.24471191540973608,
          0.2821763928581099,
          0.26014407911630333,
          0.2963739171004166,
          0.2906730243384993,
          0.2480853576679161,
          0.1568182393103793,
          0.2165893145969256,
          0.1548431547882902,
          0.1770825056094117,
          0.2658226088534141,
          0.2377319814305247,
          0.408696653679167,
          0.2169936528233957,
          0.236397008056597,
          0.15639426593713002,
          0.3096659922727277,
          0.16478277716187623,
          0.1895919601479905,
          0.19702427387321841,
          0.17795033317899578,
          0.1829624472100036,
          0.27262799369578394,
          0.1366303805052392,
          0.30910889958924603,
          0.0944810152526897,
          0.2741437004985059,
          0.1823744489317612,
          0.2311783874001591,
          0.14731839369789862,
          0.3159411526289691,
          0.24288406534334123,
          0.2630276279852158,
          0.22642431553161518,
          0.37506958733104256,
          0.2615563606441259,
          0.2923561489359938,
          0.1550120601784927,
          0.2526080329565007,
          0.180000743057256,
          0.1669466483038802,
          0.1610923037066619,
          0.3663586977388536,
          0.28508946462695917,
          0.4159757082868777,
          0.3188088347839506,
          0.21945202948138198,
          0.198205139498662,
          0.1128190351979563,
          0.25642696558783623,
          0.1693477741481633,
          0.2678818587169537,
          0.2681584126005012,
          0.2440803709227807,
          0.25977021249021087,
          0.2819473771303229,
          0.2033239849642039,
          0.25519643912987067,
          0.2583678584592026,
          0.1990407968138275,
          0.25988423555681317,
          0.2936150432452137,
          0.2883715034134235,
          0.27651754333223466,
          0.2695166498904715,
          0.2861177269991833,
          0.1503604683515279,
          0.2066504016190115,
          0.054854365453712195,
          0.17580138397274492,
          0.1421401344547278,
          0.28702279633043537,
          0.1690209056622587,
          0.2898143426894527,
          0.3324261852529463,
          0.23971207537174322,
          0.35763970273492574,
          0.24634605924603262,
          0.169081142550239,
          0.1164733680446639,
          0.2793749699880445,
          0.1169660327945599,
          0.2728161969562664,
          0.1447493035727503,
          0.1587151044184038,
          0.1530359737400017,
          0.23995329707546492,
          0.19011777260806167,
          0.1604202995450532,
          0.19801604822037128,
          0.23793877818017528,
          0.2773604707992281,
          0.2533622652645351,
          0.17024870976669482,
          0.2363888380240703,
          0.1918526449615432,
          0.2739571532943067,
          0.1473815651978903,
          0.27175734858703826,
          0.1935334695337658,
          0.2209842801854932,
          0.240758939459371,
          0.2662240904915706,
          0.2113639034182973,
          0.22423661844387682,
          0.23041780415749352,
          0.2853330116099568,
          0.2209749562163941,
          0.25136240597094,
          0.3591118564636065,
          0.22037810595132362,
          0.2415349314778513,
          0.2895925560034574,
          0.28222333677075,
          0.2779646387054726,
          0.2496402409425854,
          0.3324389505392233,
          0.2327575419814793,
          0.22348541977280278,
          0.2075558435969598,
          0.2709239022411823,
          0.2244445566237021,
          0.24712423385417,
          0.15453592710729552,
          0.2745390441696639,
          0.21930138231063329,
          0.2672649789119812,
          0.2773956312047198,
          0.2433934058950451,
          0.2594845560679837,
          0.252514468100089,
          0.23866299743970482,
          0.3952613443129438,
          0.2777087459469859,
          0.2829738691020858,
          0.29476731036151527,
          0.27381032932940297,
          0.2734847109715522,
          0.2190084744105419,
          0.175852287795162,
          0.0913282399884887,
          0.26240016279391254,
          0.2664983315706463,
          0.2075382141305545,
          0.1718160454426021,
          0.2986215211282165,
          0.13032638224939389,
          0.2687836860311754,
          0.2823445851268911,
          0.195480819185375,
          0.2542722471546405,
          0.27434295027934463,
          0.164404908675013,
          0.2864012581057767,
          0.2382516692831459,
          0.2409320749920798,
          0.2823906294172005,
          0.26862671925942,
          0.1873249894914935,
          0.2655022245272509,
          0.15010299961131351,
          0.1928644375712481,
          0.3185662489861904,
          0.1511611479423593,
          0.23069906113861022,
          0.2720683170719876,
          0.291272988967195,
          0.2663360247919684,
          0.20582463310712779,
          0.28734440659901384,
          0.1726223164350101,
          0.251367336118367,
          0.2604208886315562,
          0.2232334175171061,
          0.2804880949325316,
          0.16246454141775352,
          0.1664965230332354,
          0.2041660175509844,
          0.2504523050467654,
          0.2585094462348357,
          0.1561265988195229,
          0.2632283713716759,
          0.2587743905745108,
          0.1744953953174564,
          0.1890892701699456,
          0.1635579169568669,
          0.314191124647364,
          0.183771001164831,
          0.2541287914887702,
          0.2198559461525275,
          0.2652957492148567,
          0.2916210525173685,
          0.28355062625255223,
          0.2787968508094334,
          0.1597840361977383,
          0.1984090925691931,
          0.26778282527480013,
          0.2580655569897673,
          0.2764686024970283,
          0.23663171511785,
          0.24243358449057217,
          0.1084221133224419,
          0.11829268230774159,
          0.2699511997922226,
          0.3191130071949504,
          0.2111908374487739,
          0.0606927597465103,
          0.27518431795028486,
          0.2813277924458137,
          0.3575402598405618,
          0.2275590226927741,
          0.28367076377228484,
          0.233601254725429,
          0.2733449874402588,
          0.2375464458562459,
          0.29276342637197095,
          0.3145909497811558,
          0.2843796922082527,
          0.2819234463190696,
          0.2745906268844706,
          0.26474804773403593,
          0.2442479724788326,
          0.1224320699561139,
          0.18355279304158062,
          0.2553702437949666,
          0.2343826362874054,
          0.30756242444093806,
          0.2217519040766997,
          0.2464960357783404,
          0.2562997217820753,
          0.1266420479764495,
          0.3232157000989045,
          0.1797902474838923,
          0.2247182240255573,
          0.16800882650304622,
          0.2739209694594693,
          0.2674804088254811,
          0.4421112985409187,
          0.28026261840231,
          0.2637062965390574,
          0.2049260812573578,
          0.2641925769693779,
          0.291679739395321,
          0.27568087180525946,
          0.18033653064011312,
          0.3078522196801068,
          0.17878006678242542,
          0.28504402840854537,
          0.178353736411549,
          0.18348119711300448,
          0.2702621293935602,
          0.1914002012378749,
          0.2479290334203087,
          0.17651414085706651,
          0.25010562340596154,
          0.255009318520448,
          0.2725516024005149,
          0.2772844246572391,
          0.2147494969282879,
          0.23469202390959992,
          0.2278386074788188,
          0.1823147415239585,
          0.1673026706833422,
          0.2353414918911366,
          0.2346929002282725,
          0.2013356936406774,
          0.1794891168030729,
          0.136490132377705,
          0.2240030177375034,
          0.28479976074291236,
          0.12909923122730518,
          0.2469559464482024,
          0.2371909099498165,
          0.3015285364580679,
          0.2381932381798924,
          0.18719100612187178,
          0.23114838667677118,
          0.3561319341278465,
          0.2050679544641283,
          0.2795834872047936,
          0.1176464708815109,
          0.2073529830871349,
          0.2795652057604081,
          0.2378046117159457,
          0.1274043754210202,
          0.24092276689946268,
          0.1565053401682207,
          0.1912363165320329,
          0.1275622584239688,
          0.1730621559865465,
          0.1217015906969521,
          0.746577685094911,
          0.3000390247398309,
          0.2358522792469803,
          0.28376436319632004,
          0.2074037519035749,
          0.17607562444763109,
          0.2719264199065038,
          0.22600100972167592,
          0.259051952465137,
          0.2855964649212776,
          0.2619725539320127,
          0.2354403346386369,
          0.23886990202359842,
          0.1233270929409743,
          0.2728905589834723,
          0.1995265698694173,
          0.24408464567269172,
          0.24656008092148732,
          0.5985288525250338,
          0.261664235768193,
          0.27073268318669486,
          0.2896913931089482,
          0.1907908962547134,
          0.27840366535814465,
          0.11463413494248789,
          0.1921552634492641,
          0.21635823628071899,
          0.1527835982901485,
          0.270229111317152,
          0.2539323051388011,
          0.2850556658009228,
          0.22251433356010258,
          0.34964953157551015,
          0.15025724888223368,
          0.2604144302930538,
          0.2427763980010165,
          0.2240970024189899,
          0.2593244028131962,
          0.23759990982711632,
          0.20422171917086002,
          0.1801285571745186,
          0.2799651570332502,
          0.3233135415638053,
          0.2679098564738212,
          0.24783338068464328,
          0.2257027264432458,
          0.1800480595105714,
          0.1636953438692283,
          0.2064218435911431,
          0.1775959845940152,
          0.2506861198095684,
          0.2269290233851289,
          0.26666793111427,
          0.2006091469043469,
          0.28097654209429124,
          0.3524305827556889,
          0.2738485112710964,
          0.1820112155120771,
          0.1951775594256871,
          0.351333949756654,
          0.2491258612148325,
          0.17623815400226311,
          0.23977157667959942,
          0.2661306807191133,
          0.2030390016408209,
          0.2184036291401907,
          0.1980966187695402,
          0.287546861788762,
          0.2394778129866359,
          0.25293056980524287,
          0.17811306020098472,
          0.2564125080924524,
          0.2561295590026922,
          0.1767441866443866,
          0.1234282532912883,
          0.2797158079992485,
          0.212486810089617,
          0.4791292883509529,
          0.1334522445062682,
          0.11022898311237059,
          0.29501602431994933,
          0.27784380509226847,
          0.1426950655919366,
          0.2504917994492921,
          0.2691654557558518,
          0.11421671388841251,
          0.28141296055139753,
          0.195495962250271,
          0.2707800611891712,
          0.18903270426806928,
          0.2475814080569967,
          0.1894241785664673,
          0.2174457499957777,
          0.1511903579721312,
          0.2123491417893691,
          0.1177833752749386,
          0.2244214121534882,
          0.27311161260997574,
          0.2485053800860396,
          0.2708283538762982,
          0.2570211502212397,
          0.2690715908252522,
          0.2000781205151061,
          0.16142868194933302,
          0.25097821409710364,
          0.2711266345230367,
          0.2026903123168894,
          0.7787447108835253,
          0.25846274794518054,
          0.2620552819058096,
          0.1482413227841376,
          0.3061222570706589,
          0.2130009136647174,
          0.2396707853307511,
          0.19397013835845478,
          0.16197687223555202,
          0.3144982503623097,
          0.1743858926651586,
          0.2967150678822182,
          0.32322936327362106,
          0.3219372984584654,
          0.161155797104739,
          0.2628012300138617,
          0.20909936710091598,
          0.2433556645773602,
          0.0868036956745028,
          0.3580523697507456,
          0.26203633547469374,
          0.23700241344421158,
          0.2005809666034271,
          0.2790101200315971,
          0.2582560702445873,
          0.2317625376374522,
          0.20585329110526768,
          0.2754727866202486,
          0.2896266314785926,
          0.2340538844712371,
          0.26611816131718624,
          0.1850284566616045,
          0.2748124892880236,
          0.2525448958776866,
          0.21150030774095951,
          0.2478113769718382,
          0.2570989345165897,
          0.3149771628763025,
          0.26390315621392624,
          0.2097281942775056,
          0.20228443050316852,
          0.1934081048771943,
          0.2481340612281539,
          0.2670231565342701,
          0.24624847789200982,
          0.2524624936750468,
          0.228736067536115,
          0.1382953849105456,
          0.26291389513668006,
          0.18108035509155418,
          0.2534124670024571,
          0.2723173629062643,
          0.265482087103326,
          0.2328380692748506,
          0.16546711890105179,
          0.2428421610353363,
          0.29795076601375337,
          0.19255724223702292,
          0.2572344669036857,
          0.24437996165911,
          0.1883387292063366,
          0.2617738536186832,
          0.1186945549387662,
          0.3381546872396534,
          0.2674805214383452,
          0.21196196385504512,
          0.2294024376677949,
          0.10262370029237619,
          0.1490727854018386,
          0.1252588063887386,
          0.2861211412287783,
          0.1559942402946033,
          0.32222956088716503,
          0.14046495431345118,
          0.2778409600285575,
          0.1456332381994443,
          0.2673382265210933,
          0.2682009611883114,
          0.2740597643841855,
          0.2476984814417991,
          0.285598693524115,
          0.264006272752144,
          0.1510115576993829,
          0.22422542778685178,
          0.1621022700965776,
          0.2854643346869759,
          0.26642790958458495,
          0.2819305365436029,
          0.202794091331259,
          0.1371060840480183,
          0.3013588305821707,
          0.1675127481634836,
          0.2832812128095278,
          0.2158286992313308,
          0.26953658429985583,
          0.2090633239758233,
          0.1779158940473553,
          0.2447898765417203,
          0.2858522051530926,
          0.1995357290838497,
          0.3960913355169667,
          0.23265337331743252,
          0.2270033459654905,
          0.2918441086214915,
          0.2501785072363254,
          0.1326663972454995,
          0.048341576500438195,
          0.30891068161481,
          0.2684834002394917,
          0.2620956802371238,
          0.2254895464577665,
          0.22929992237441338,
          0.22449325436671258,
          0.37639195545275395,
          0.3121060709813957,
          0.246880408153904,
          0.2253769902771578,
          0.1817128432563878,
          0.28323469224245146,
          0.0961765038239496,
          0.2453575886962858,
          0.2461642398283373,
          0.3301422615186703,
          0.20570750425718448,
          0.2662939549641668,
          0.2688015560940562,
          0.1277679024086856,
          0.3024533770240158,
          0.2571032576619126,
          0.1389296912263855,
          0.25931320628229726,
          0.1279257305318274,
          0.2173455407961005,
          0.26074741876960117,
          0.22019657214066612,
          0.1553397456643255,
          0.4639954924313734,
          0.2880838003871999,
          0.2849130165433952,
          0.2453625371118935,
          0.1431762508242763,
          0.2139813967648563,
          0.2661919848195366,
          0.2190725469444652,
          0.21847449553865722,
          0.1932051492368341,
          0.3321531644092565,
          0.1437013473984558,
          0.27516754127722187,
          0.142223813621492,
          0.29981833781067213,
          0.23761227909000748,
          0.29297408449167794,
          0.1380133557718595,
          0.2887040947345446,
          0.2545594801063068,
          0.31424011817683395,
          0.2713469997428074,
          0.2703431202089873,
          0.3040045995672628,
          0.1457300256338388,
          0.3316100366938773,
          0.2078125578120703,
          0.24540344939499859,
          0.26533747545608444,
          0.2399241277592559,
          0.1259437855480962,
          0.2607587473874674,
          0.45220302305842364,
          0.1576960067165995,
          0.28796546508221543,
          0.21589370759770038,
          0.2632043770127907,
          0.1138362778327866,
          0.23859809824959582,
          0.1333803258835822,
          0.2709344193397791,
          0.2313059035327712,
          0.2010622400896259,
          0.20149082011666158,
          0.1126861327809838,
          0.276356355092226,
          0.1383711904250866,
          0.21160817439316182,
          0.18605040148772262,
          0.3769418184066171,
          0.2592732190717625,
          0.2160904592248769,
          0.15228871512702058,
          0.21625256447329122,
          0.2196456671493206,
          0.3060228820873279,
          0.4401855664242569,
          0.1871826115294351,
          0.27960798950469123,
          0.27753121041129347,
          0.2727802898542169,
          0.2448048805189866,
          0.203172975140058,
          0.22083951198991142,
          0.4032883888091543,
          0.15798994816400708,
          0.3381990349026804,
          0.2672493903792722,
          0.0778230476650918,
          0.1752875358588158,
          0.37383723006825986,
          0.25555512354152077,
          0.2501261094108019,
          0.2625718784816854,
          0.2402058814708465,
          0.1566131227893641,
          0.2441903251752915,
          0.1806378763419091,
          0.2476405928511375,
          0.2836672122883287,
          0.1342330531419646,
          0.1890359910522507,
          0.2492932510557325,
          0.19337865401607768,
          0.2585787860240032,
          0.245259963582436,
          0.3481032998423937,
          0.2968576475778266,
          0.2002576309082244,
          0.2609227733837689,
          0.2514163968673608,
          0.23832208470086153,
          0.2765946447782564,
          0.17835478583665199,
          0.2345843035442448,
          0.265241513800728,
          0.21096434053463,
          0.3053179690614216,
          0.2354108205645863,
          0.198997302588931,
          0.28537297009043583,
          0.1695896252411094,
          0.2788145354188305,
          0.2635369311111455,
          0.222733613473637,
          0.2270091423540861,
          0.264506458790009,
          0.0915504167343115,
          0.3310579057577364,
          0.1596698411641116,
          0.1812335921250558,
          0.384238748644052,
          0.2852276907872798,
          0.2025881274972101,
          0.1617123302525417,
          0.2133924195897971,
          0.2073337211186308,
          0.2555007769186498,
          0.2645620111219223,
          0.2928995698910966,
          0.2713867496381479,
          0.132128317313505,
          0.2186412212953429,
          0.1872045779954829,
          0.2138472543008825,
          0.2386245610720124,
          0.1773564985696915,
          0.22837337698307203,
          0.21038859642155933,
          0.2603302076213716,
          0.1484252603996181,
          0.14220738337105449,
          0.2924268224289697,
          0.19112059297947298,
          0.1511135623787011,
          0.2118238667313052,
          0.1977606112775318,
          0.2580189241558259,
          0.2178806236935163,
          0.2043191738677254,
          0.1979607625291454,
          0.3477023303305661,
          0.2509123374079649,
          0.3036943556769087,
          0.1581584427754772,
          0.2587706876514188,
          0.2530221111756965,
          0.2575067660964495,
          0.2019477382742202,
          0.1499954614258277,
          0.2923116117853446,
          0.1469632013565573,
          0.2499434237996048,
          0.2797930607937324,
          0.2292624747025579,
          0.17351088213786758,
          0.1721512559882501,
          0.1655013371225883,
          0.4853117999589964,
          0.28040257365627896,
          0.18418211164789539,
          0.186150894497202,
          0.3040505911657105,
          0.25541820538834203,
          0.2745146885285505,
          0.17665011897764488,
          0.1931338969132807,
          0.2037578636106107,
          0.2069357999607041,
          0.2103961327483862,
          0.1639461092128655,
          0.2408569196348057,
          0.2735730947171736,
          0.33522869107889464,
          0.2403706195843484,
          0.3670914396648083,
          0.2894034186319746,
          0.25386043640940004,
          0.3653150202067988,
          0.2431817388437571,
          0.1756185615187735,
          0.299637950744464,
          0.2746924196282165,
          0.2146722268185438,
          0.2383731582250767,
          0.30008238866468173,
          0.2310465001912084,
          0.1526346915538768,
          0.4812301987968687,
          0.19047958254101732,
          0.18436037933518068,
          0.2489975930248542,
          0.3040741025846533,
          0.2339491282018265,
          0.1459476851476923,
          0.1976765034160926,
          0.2307350164124369,
          0.1978980254383724,
          0.37281191846945727,
          0.222895822423744,
          0.3469699771733672,
          0.1292935286024846,
          0.3303409953069327,
          0.2963593075639991,
          0.35198626746908745,
          0.1192128886843363,
          0.1244633725070032,
          0.18492275856307,
          0.2781794801512697,
          0.2552833532670335,
          0.24011220891514232,
          0.1944142752210086,
          0.4106436744669893,
          0.32470714617557517,
          0.3249826374782302,
          0.3338800006722973,
          0.2695784547908931,
          0.1882808576836256,
          0.3157142646177614,
          0.1909314275551404,
          0.24459860139053352,
          0.180311127733134,
          0.2270291106393146,
          0.28152910490461736,
          0.2776931602025481,
          0.2857494019583543,
          0.27284722678523077,
          0.2687643171168642,
          0.1972882599778886,
          0.2356744789381329,
          0.20049265539687489,
          0.2396109566162401,
          0.2604865444290197,
          0.2728018114474954,
          0.18733597627812698,
          0.2741972897254361,
          0.1737499860542592,
          0.2708672422903767,
          0.2244327856791952,
          0.2778829809005242,
          0.1705582975176514,
          0.1947337657867855,
          0.25895099365348606,
          0.2595505951363551,
          0.1722868826248499,
          0.1898635812354243,
          0.1853295527334152,
          0.3277079662303751,
          0.1039106738628493,
          0.1193903530162852,
          0.2258385157784852,
          0.16851738015196638,
          0.284770517522323,
          0.1611266971339883,
          0.2854679455819631,
          0.2715595000711867,
          0.24203976712714392,
          0.2802702606248511,
          0.2789946492266227,
          0.1710725792474696,
          0.377458371825539,
          0.2399397030852696,
          0.19302805201967,
          0.1650006834755836,
          0.2842879495338775,
          0.177254209036725,
          0.2769845128507737,
          0.2030665614397047,
          0.27073314131212967,
          0.161182521744199,
          0.1686788553849273
         ],
         "yaxis": "y"
        }
       ],
       "layout": {
        "coloraxis": {
         "colorbar": {
          "title": {
           "text": "cluster"
          }
         },
         "colorscale": [
          [
           0,
           "#0d0887"
          ],
          [
           0.1111111111111111,
           "#46039f"
          ],
          [
           0.2222222222222222,
           "#7201a8"
          ],
          [
           0.3333333333333333,
           "#9c179e"
          ],
          [
           0.4444444444444444,
           "#bd3786"
          ],
          [
           0.5555555555555556,
           "#d8576b"
          ],
          [
           0.6666666666666666,
           "#ed7953"
          ],
          [
           0.7777777777777778,
           "#fb9f3a"
          ],
          [
           0.8888888888888888,
           "#fdca26"
          ],
          [
           1,
           "#f0f921"
          ]
         ]
        },
        "legend": {
         "tracegroupgap": 0
        },
        "margin": {
         "t": 60
        },
        "template": {
         "data": {
          "bar": [
           {
            "error_x": {
             "color": "#2a3f5f"
            },
            "error_y": {
             "color": "#2a3f5f"
            },
            "marker": {
             "line": {
              "color": "#E5ECF6",
              "width": 0.5
             },
             "pattern": {
              "fillmode": "overlay",
              "size": 10,
              "solidity": 0.2
             }
            },
            "type": "bar"
           }
          ],
          "barpolar": [
           {
            "marker": {
             "line": {
              "color": "#E5ECF6",
              "width": 0.5
             },
             "pattern": {
              "fillmode": "overlay",
              "size": 10,
              "solidity": 0.2
             }
            },
            "type": "barpolar"
           }
          ],
          "carpet": [
           {
            "aaxis": {
             "endlinecolor": "#2a3f5f",
             "gridcolor": "white",
             "linecolor": "white",
             "minorgridcolor": "white",
             "startlinecolor": "#2a3f5f"
            },
            "baxis": {
             "endlinecolor": "#2a3f5f",
             "gridcolor": "white",
             "linecolor": "white",
             "minorgridcolor": "white",
             "startlinecolor": "#2a3f5f"
            },
            "type": "carpet"
           }
          ],
          "choropleth": [
           {
            "colorbar": {
             "outlinewidth": 0,
             "ticks": ""
            },
            "type": "choropleth"
           }
          ],
          "contour": [
           {
            "colorbar": {
             "outlinewidth": 0,
             "ticks": ""
            },
            "colorscale": [
             [
              0,
              "#0d0887"
             ],
             [
              0.1111111111111111,
              "#46039f"
             ],
             [
              0.2222222222222222,
              "#7201a8"
             ],
             [
              0.3333333333333333,
              "#9c179e"
             ],
             [
              0.4444444444444444,
              "#bd3786"
             ],
             [
              0.5555555555555556,
              "#d8576b"
             ],
             [
              0.6666666666666666,
              "#ed7953"
             ],
             [
              0.7777777777777778,
              "#fb9f3a"
             ],
             [
              0.8888888888888888,
              "#fdca26"
             ],
             [
              1,
              "#f0f921"
             ]
            ],
            "type": "contour"
           }
          ],
          "contourcarpet": [
           {
            "colorbar": {
             "outlinewidth": 0,
             "ticks": ""
            },
            "type": "contourcarpet"
           }
          ],
          "heatmap": [
           {
            "colorbar": {
             "outlinewidth": 0,
             "ticks": ""
            },
            "colorscale": [
             [
              0,
              "#0d0887"
             ],
             [
              0.1111111111111111,
              "#46039f"
             ],
             [
              0.2222222222222222,
              "#7201a8"
             ],
             [
              0.3333333333333333,
              "#9c179e"
             ],
             [
              0.4444444444444444,
              "#bd3786"
             ],
             [
              0.5555555555555556,
              "#d8576b"
             ],
             [
              0.6666666666666666,
              "#ed7953"
             ],
             [
              0.7777777777777778,
              "#fb9f3a"
             ],
             [
              0.8888888888888888,
              "#fdca26"
             ],
             [
              1,
              "#f0f921"
             ]
            ],
            "type": "heatmap"
           }
          ],
          "heatmapgl": [
           {
            "colorbar": {
             "outlinewidth": 0,
             "ticks": ""
            },
            "colorscale": [
             [
              0,
              "#0d0887"
             ],
             [
              0.1111111111111111,
              "#46039f"
             ],
             [
              0.2222222222222222,
              "#7201a8"
             ],
             [
              0.3333333333333333,
              "#9c179e"
             ],
             [
              0.4444444444444444,
              "#bd3786"
             ],
             [
              0.5555555555555556,
              "#d8576b"
             ],
             [
              0.6666666666666666,
              "#ed7953"
             ],
             [
              0.7777777777777778,
              "#fb9f3a"
             ],
             [
              0.8888888888888888,
              "#fdca26"
             ],
             [
              1,
              "#f0f921"
             ]
            ],
            "type": "heatmapgl"
           }
          ],
          "histogram": [
           {
            "marker": {
             "pattern": {
              "fillmode": "overlay",
              "size": 10,
              "solidity": 0.2
             }
            },
            "type": "histogram"
           }
          ],
          "histogram2d": [
           {
            "colorbar": {
             "outlinewidth": 0,
             "ticks": ""
            },
            "colorscale": [
             [
              0,
              "#0d0887"
             ],
             [
              0.1111111111111111,
              "#46039f"
             ],
             [
              0.2222222222222222,
              "#7201a8"
             ],
             [
              0.3333333333333333,
              "#9c179e"
             ],
             [
              0.4444444444444444,
              "#bd3786"
             ],
             [
              0.5555555555555556,
              "#d8576b"
             ],
             [
              0.6666666666666666,
              "#ed7953"
             ],
             [
              0.7777777777777778,
              "#fb9f3a"
             ],
             [
              0.8888888888888888,
              "#fdca26"
             ],
             [
              1,
              "#f0f921"
             ]
            ],
            "type": "histogram2d"
           }
          ],
          "histogram2dcontour": [
           {
            "colorbar": {
             "outlinewidth": 0,
             "ticks": ""
            },
            "colorscale": [
             [
              0,
              "#0d0887"
             ],
             [
              0.1111111111111111,
              "#46039f"
             ],
             [
              0.2222222222222222,
              "#7201a8"
             ],
             [
              0.3333333333333333,
              "#9c179e"
             ],
             [
              0.4444444444444444,
              "#bd3786"
             ],
             [
              0.5555555555555556,
              "#d8576b"
             ],
             [
              0.6666666666666666,
              "#ed7953"
             ],
             [
              0.7777777777777778,
              "#fb9f3a"
             ],
             [
              0.8888888888888888,
              "#fdca26"
             ],
             [
              1,
              "#f0f921"
             ]
            ],
            "type": "histogram2dcontour"
           }
          ],
          "mesh3d": [
           {
            "colorbar": {
             "outlinewidth": 0,
             "ticks": ""
            },
            "type": "mesh3d"
           }
          ],
          "parcoords": [
           {
            "line": {
             "colorbar": {
              "outlinewidth": 0,
              "ticks": ""
             }
            },
            "type": "parcoords"
           }
          ],
          "pie": [
           {
            "automargin": true,
            "type": "pie"
           }
          ],
          "scatter": [
           {
            "marker": {
             "colorbar": {
              "outlinewidth": 0,
              "ticks": ""
             }
            },
            "type": "scatter"
           }
          ],
          "scatter3d": [
           {
            "line": {
             "colorbar": {
              "outlinewidth": 0,
              "ticks": ""
             }
            },
            "marker": {
             "colorbar": {
              "outlinewidth": 0,
              "ticks": ""
             }
            },
            "type": "scatter3d"
           }
          ],
          "scattercarpet": [
           {
            "marker": {
             "colorbar": {
              "outlinewidth": 0,
              "ticks": ""
             }
            },
            "type": "scattercarpet"
           }
          ],
          "scattergeo": [
           {
            "marker": {
             "colorbar": {
              "outlinewidth": 0,
              "ticks": ""
             }
            },
            "type": "scattergeo"
           }
          ],
          "scattergl": [
           {
            "marker": {
             "colorbar": {
              "outlinewidth": 0,
              "ticks": ""
             }
            },
            "type": "scattergl"
           }
          ],
          "scattermapbox": [
           {
            "marker": {
             "colorbar": {
              "outlinewidth": 0,
              "ticks": ""
             }
            },
            "type": "scattermapbox"
           }
          ],
          "scatterpolar": [
           {
            "marker": {
             "colorbar": {
              "outlinewidth": 0,
              "ticks": ""
             }
            },
            "type": "scatterpolar"
           }
          ],
          "scatterpolargl": [
           {
            "marker": {
             "colorbar": {
              "outlinewidth": 0,
              "ticks": ""
             }
            },
            "type": "scatterpolargl"
           }
          ],
          "scatterternary": [
           {
            "marker": {
             "colorbar": {
              "outlinewidth": 0,
              "ticks": ""
             }
            },
            "type": "scatterternary"
           }
          ],
          "surface": [
           {
            "colorbar": {
             "outlinewidth": 0,
             "ticks": ""
            },
            "colorscale": [
             [
              0,
              "#0d0887"
             ],
             [
              0.1111111111111111,
              "#46039f"
             ],
             [
              0.2222222222222222,
              "#7201a8"
             ],
             [
              0.3333333333333333,
              "#9c179e"
             ],
             [
              0.4444444444444444,
              "#bd3786"
             ],
             [
              0.5555555555555556,
              "#d8576b"
             ],
             [
              0.6666666666666666,
              "#ed7953"
             ],
             [
              0.7777777777777778,
              "#fb9f3a"
             ],
             [
              0.8888888888888888,
              "#fdca26"
             ],
             [
              1,
              "#f0f921"
             ]
            ],
            "type": "surface"
           }
          ],
          "table": [
           {
            "cells": {
             "fill": {
              "color": "#EBF0F8"
             },
             "line": {
              "color": "white"
             }
            },
            "header": {
             "fill": {
              "color": "#C8D4E3"
             },
             "line": {
              "color": "white"
             }
            },
            "type": "table"
           }
          ]
         },
         "layout": {
          "annotationdefaults": {
           "arrowcolor": "#2a3f5f",
           "arrowhead": 0,
           "arrowwidth": 1
          },
          "autotypenumbers": "strict",
          "coloraxis": {
           "colorbar": {
            "outlinewidth": 0,
            "ticks": ""
           }
          },
          "colorscale": {
           "diverging": [
            [
             0,
             "#8e0152"
            ],
            [
             0.1,
             "#c51b7d"
            ],
            [
             0.2,
             "#de77ae"
            ],
            [
             0.3,
             "#f1b6da"
            ],
            [
             0.4,
             "#fde0ef"
            ],
            [
             0.5,
             "#f7f7f7"
            ],
            [
             0.6,
             "#e6f5d0"
            ],
            [
             0.7,
             "#b8e186"
            ],
            [
             0.8,
             "#7fbc41"
            ],
            [
             0.9,
             "#4d9221"
            ],
            [
             1,
             "#276419"
            ]
           ],
           "sequential": [
            [
             0,
             "#0d0887"
            ],
            [
             0.1111111111111111,
             "#46039f"
            ],
            [
             0.2222222222222222,
             "#7201a8"
            ],
            [
             0.3333333333333333,
             "#9c179e"
            ],
            [
             0.4444444444444444,
             "#bd3786"
            ],
            [
             0.5555555555555556,
             "#d8576b"
            ],
            [
             0.6666666666666666,
             "#ed7953"
            ],
            [
             0.7777777777777778,
             "#fb9f3a"
            ],
            [
             0.8888888888888888,
             "#fdca26"
            ],
            [
             1,
             "#f0f921"
            ]
           ],
           "sequentialminus": [
            [
             0,
             "#0d0887"
            ],
            [
             0.1111111111111111,
             "#46039f"
            ],
            [
             0.2222222222222222,
             "#7201a8"
            ],
            [
             0.3333333333333333,
             "#9c179e"
            ],
            [
             0.4444444444444444,
             "#bd3786"
            ],
            [
             0.5555555555555556,
             "#d8576b"
            ],
            [
             0.6666666666666666,
             "#ed7953"
            ],
            [
             0.7777777777777778,
             "#fb9f3a"
            ],
            [
             0.8888888888888888,
             "#fdca26"
            ],
            [
             1,
             "#f0f921"
            ]
           ]
          },
          "colorway": [
           "#636efa",
           "#EF553B",
           "#00cc96",
           "#ab63fa",
           "#FFA15A",
           "#19d3f3",
           "#FF6692",
           "#B6E880",
           "#FF97FF",
           "#FECB52"
          ],
          "font": {
           "color": "#2a3f5f"
          },
          "geo": {
           "bgcolor": "white",
           "lakecolor": "white",
           "landcolor": "#E5ECF6",
           "showlakes": true,
           "showland": true,
           "subunitcolor": "white"
          },
          "hoverlabel": {
           "align": "left"
          },
          "hovermode": "closest",
          "mapbox": {
           "style": "light"
          },
          "paper_bgcolor": "white",
          "plot_bgcolor": "#E5ECF6",
          "polar": {
           "angularaxis": {
            "gridcolor": "white",
            "linecolor": "white",
            "ticks": ""
           },
           "bgcolor": "#E5ECF6",
           "radialaxis": {
            "gridcolor": "white",
            "linecolor": "white",
            "ticks": ""
           }
          },
          "scene": {
           "xaxis": {
            "backgroundcolor": "#E5ECF6",
            "gridcolor": "white",
            "gridwidth": 2,
            "linecolor": "white",
            "showbackground": true,
            "ticks": "",
            "zerolinecolor": "white"
           },
           "yaxis": {
            "backgroundcolor": "#E5ECF6",
            "gridcolor": "white",
            "gridwidth": 2,
            "linecolor": "white",
            "showbackground": true,
            "ticks": "",
            "zerolinecolor": "white"
           },
           "zaxis": {
            "backgroundcolor": "#E5ECF6",
            "gridcolor": "white",
            "gridwidth": 2,
            "linecolor": "white",
            "showbackground": true,
            "ticks": "",
            "zerolinecolor": "white"
           }
          },
          "shapedefaults": {
           "line": {
            "color": "#2a3f5f"
           }
          },
          "ternary": {
           "aaxis": {
            "gridcolor": "white",
            "linecolor": "white",
            "ticks": ""
           },
           "baxis": {
            "gridcolor": "white",
            "linecolor": "white",
            "ticks": ""
           },
           "bgcolor": "#E5ECF6",
           "caxis": {
            "gridcolor": "white",
            "linecolor": "white",
            "ticks": ""
           }
          },
          "title": {
           "x": 0.05
          },
          "xaxis": {
           "automargin": true,
           "gridcolor": "white",
           "linecolor": "white",
           "ticks": "",
           "title": {
            "standoff": 15
           },
           "zerolinecolor": "white",
           "zerolinewidth": 2
          },
          "yaxis": {
           "automargin": true,
           "gridcolor": "white",
           "linecolor": "white",
           "ticks": "",
           "title": {
            "standoff": 15
           },
           "zerolinecolor": "white",
           "zerolinewidth": 2
          }
         }
        },
        "xaxis": {
         "anchor": "y",
         "domain": [
          0,
          1
         ],
         "title": {
          "text": "evening"
         }
        },
        "yaxis": {
         "anchor": "x",
         "domain": [
          0,
          1
         ],
         "title": {
          "text": "weekend"
         }
        }
       }
      },
      "text/html": [
       "<div>                            <div id=\"3f3506af-7c66-4322-b2d8-2f6b9af70433\" class=\"plotly-graph-div\" style=\"height:525px; width:100%;\"></div>            <script type=\"text/javascript\">                require([\"plotly\"], function(Plotly) {                    window.PLOTLYENV=window.PLOTLYENV || {};                                    if (document.getElementById(\"3f3506af-7c66-4322-b2d8-2f6b9af70433\")) {                    Plotly.newPlot(                        \"3f3506af-7c66-4322-b2d8-2f6b9af70433\",                        [{\"customdata\":[[1208],[588],[1116],[144],[510],[220],[621],[786],[428],[59],[999],[1185],[828],[1477],[1000],[1248],[1011],[336],[697],[556],[526],[989],[1419],[1408],[520],[178],[1696],[149],[1126],[775],[469],[396],[1439],[816],[973],[1398],[1193],[1216],[500],[962],[445],[1552],[1713],[183],[74],[1030],[727],[85],[1053],[659],[1642],[410],[145],[325],[633],[458],[935],[1461],[1546],[722],[617],[692],[1273],[1002],[694],[1409],[868],[407],[988],[284],[1221],[818],[893],[861],[1139],[38],[1668],[605],[423],[207],[408],[1441],[476],[377],[534],[780],[339],[528],[972],[822],[501],[119],[163],[1555],[947],[574],[797],[1079],[1054],[557],[1067],[807],[629],[1039],[1648],[711],[1334],[1739],[1647],[129],[440],[670],[1405],[1503],[1498],[707],[397],[150],[1508],[136],[1724],[1580],[87],[310],[1109],[364],[273],[1464],[1300],[114],[1179],[1680],[374],[1249],[1522],[376],[1343],[527],[1493],[874],[1093],[1075],[123],[850],[383],[880],[1399],[679],[733],[1519],[1199],[356],[952],[20],[701],[661],[467],[8],[1119],[958],[625],[471],[425],[555],[837],[841],[1238],[1518],[81],[693],[934],[1360],[658],[9],[1315],[1621],[152],[452],[955],[663],[1674],[941],[643],[1553],[280],[1143],[1254],[366],[1607],[485],[827],[1382],[449],[514],[771],[391],[966],[509],[1257],[401],[461],[1705],[883],[993],[23],[1486],[1550],[1033],[1658],[532],[1089],[1123],[1323],[323],[1233],[1041],[1626],[243],[1095],[647],[1501],[1164],[86],[108],[1017],[769],[1244],[964],[860],[763],[862],[695],[1309],[1732],[1447],[1681],[1665],[1105],[1155],[39],[1012],[379],[464],[1150],[744],[227],[217],[133],[1057],[906],[288],[1137],[245],[103],[1712],[1068],[1200],[1583],[187],[1664],[1115],[380],[1151],[304],[1488],[1418],[1470],[1347],[648],[1120],[392],[1592],[99],[1154],[1390],[623],[1599],[864],[1585],[439],[470],[499],[1569],[559],[96],[118],[412],[329],[1412],[474],[561],[1086],[488],[774],[490],[1654],[1530],[1131],[942],[1720],[1605],[316],[1448],[1677],[649],[1214],[1708],[1491],[669],[1051],[1425],[1462],[1500],[431],[777],[1329],[317],[1718],[1149],[591],[1692],[739],[1406],[443],[188],[447],[714],[903],[333],[77],[913],[1683],[473],[1472],[715],[21],[1691],[702],[250],[1363],[819],[1128],[563],[221],[533],[306],[1688],[199],[1678],[1387],[1196],[1710],[716],[1088],[1281],[1350],[475],[709],[127],[1638],[41],[840],[1376],[1377],[542],[1288],[192],[1295],[272],[708],[270],[1485],[937],[182],[287],[1383],[237],[1662],[981],[311],[755],[1511],[1197],[956],[689],[855],[405],[1097],[1457],[655],[502],[184],[889],[531],[982],[171],[609],[718],[1572],[1468],[875],[1312],[340],[1269],[939],[113],[1209],[911],[231],[1636],[409],[630],[535],[1064],[1069],[1340],[326],[770],[1176],[830],[570],[1426],[704],[1411],[871],[640],[52],[1215],[1574],[1682],[1346],[810],[1689],[1106],[1702],[25],[1459],[782],[1284],[1428],[820],[917],[1313],[836],[314],[1568],[141],[684],[1594],[1092],[159],[848],[17],[1049],[960],[312],[315],[1191],[1564],[1617],[1081],[801],[1436],[496],[1496],[544],[1627],[156],[831],[788],[46],[135],[201],[480],[83],[415],[1666],[98],[1730],[262],[857],[54],[1616],[463],[244],[269],[268],[1251],[1446],[1237],[1576],[1728],[1455],[1557],[945],[1141],[1482],[1671],[802],[1375],[289],[1203],[84],[897],[983],[18],[1029],[1596],[1697],[936],[1147],[539],[1512],[1085],[375],[963],[758],[721],[518],[815],[949],[40],[185],[462],[31],[33],[1319],[599],[907],[854],[595],[1299],[1335],[1741],[1449],[1255],[1065],[248],[1379],[765],[1480],[971],[1431],[1163],[653],[785],[167],[1157],[1144],[450],[672],[1709],[781],[424],[348],[404],[1526],[1311],[1061],[870],[1101],[717],[459],[1094],[1129],[260],[1445],[1043],[1239],[1317],[1324],[1161],[1245],[627],[1628],[1077],[764],[1415],[1633],[1414],[161],[212],[685],[1122],[1326],[154],[732],[302],[1265],[1005],[987],[516],[1463],[1055],[1397],[1167],[362],[10],[660],[417],[487],[296],[265],[1656],[639],[1046],[1586],[751],[607],[991],[1351],[664],[1717],[264],[1356],[1473],[372],[867],[726],[611],[155],[1060],[1623],[637],[1653],[1384],[337],[278],[1279],[1201],[545],[768],[524],[257],[30],[1134],[493],[560],[292],[324],[27],[1327],[1646],[1602],[957],[749],[92],[116],[1218],[1381],[979],[1483],[334],[1502],[687],[1451],[1253],[179],[1034],[70],[1649],[1113],[442],[1047],[328],[12],[1052],[1606],[169],[1644],[773],[1050],[434],[153],[1117],[724],[1614],[1542],[1429],[277],[923],[386],[460],[530],[44],[1341],[667],[678],[151],[1235],[254],[713],[381],[71],[196],[246],[251],[1566],[1178],[881],[195],[858],[82],[1573],[741],[204],[1598],[134],[1359],[322],[180],[852],[995],[1275],[746],[791],[1025],[1231],[76],[1481],[394],[676],[1634],[799],[486],[229],[565],[959],[115],[1567],[1393],[165],[505],[537],[1673],[933],[921],[223],[36],[398],[369],[1478],[953],[568],[34],[757],[1650],[683],[1615],[1078],[230],[300],[240],[1532],[1437],[345],[686],[1247],[1102],[1104],[759],[1388],[349],[1734],[762],[1545],[1194],[927],[645],[1294],[970],[355],[569],[794],[635],[370],[1171],[969],[1667],[1074],[360],[1400],[1073],[274],[1622],[567],[513],[378],[1466],[1080],[1183],[421],[1716],[1723],[1282],[1182],[1187],[1386],[436],[1076],[45],[258],[1731],[335],[1637],[1166],[1679],[1291],[416],[895],[909],[147],[1494],[1618],[1738],[1006],[1735],[1121],[1138],[753],[1331],[1339],[1133],[1391],[419],[1010],[1362],[938],[1651],[1401],[1278],[1422],[1032],[35],[688],[876],[100],[1003],[318],[856],[1474],[519],[1589],[56],[13],[1660],[235],[427]],\"hovertemplate\":\"<b>%{hovertext}</b><br><br>evening=%{x}<br>weekend=%{y}<br>ID=%{customdata[0]}<br>cluster=%{marker.color}<extra></extra>\",\"hovertext\":[\"Stadhuis/Gemeentehuis\",\"Academie\",\"Cultureel centrum\",\"Lagere school\",\"Andere gebouwen\",\"Ontmoetingscentrum\",\"Werkplaats\",\"Academie\",\"RVT/WZC/revalidatiecentrum\",\"Kerk\",\"Cultureel centrum\",\"Kerk\",\"Bibliotheek\",\"Museum\",\"Administratief centrum\",\"Ontmoetingscentrum\",\"Jeugdhuis\",\"Lagere school\",\"Administratief centrum\",\"Academie\",\"Fontein\",\"Sporthal\",\"Administratief centrum\",\"Ontmoetingscentrum\",\"Stadion\",\"OCMW Administratief centrum\",\"Bibliotheek\",\"Administratief centrum\",\"Containerpark\",\"Zwembad\",\"Administratief centrum\",\"Lagere school\",\"Andere gebouwen\",\"Museum\",\"Werkplaats\",\"Ontmoetingscentrum\",\"Sporthal\",\"Lagere school\",\"Werkplaats\",\"Cultureel centrum\",\"Sporthal\",\"Andere gebouwen\",\"Brandweerkazerne\",\"Museum\",\"Sporthal\",\"Ontmoetingscentrum\",\"Andere gebouwen\",\"Sporthal\",\"Cultureel centrum\",\"Lagere school\",\"Sporthal\",\"Stadhuis/Gemeentehuis\",\"Stadhuis/Gemeentehuis\",\"Ontmoetingscentrum\",\"Administratief centrum\",\"Andere gebouwen\",\"Stadhuis/Gemeentehuis\",\"RVT/WZC/revalidatiecentrum\",\"Bibliotheek\",\"Cultureel centrum\",\"Buitengewoon middelbaar onderwijs (BUSO)\",\"Administratief centrum\",\"Algemene middelbare school\",\"Stadhuis/Gemeentehuis\",\"Administratief centrum\",\"RVT/WZC/revalidatiecentrum\",\"Kinderdagverblijf/BKO/IBO\",\"Sporthal\",\"Administratief centrum\",\"RVT/WZC/revalidatiecentrum\",\"Andere gebouwen\",\"Sporthal\",\"Dienstencentrum/CAW/dagverblijf\",\"Museum\",\"Stadhuis/Gemeentehuis\",\"RVT/WZC/revalidatiecentrum\",\"Cultureel centrum\",\"Andere gebouwen\",\"Ontmoetingscentrum\",\"Stadion\",\"Bibliotheek\",\"Ontmoetingscentrum\",\"Sporthal\",\"Stadhuis/Gemeentehuis\",\"Lagere school\",\"Ontmoetingscentrum\",\"Andere gebouwen\",\"Andere gebouwen\",\"Ontmoetingscentrum\",\"Sporthal\",\"Sportcomplex\",\"Lagere school\",\"Cultureel centrum\",\"Administratief centrum\",\"Sporthal\",\"RVT/WZC/revalidatiecentrum\",\"Cultureel centrum\",\"Sportcomplex\",\"Voetbalveld\",\"Administratief centrum\",\"Ontmoetingscentrum\",\"Politiegebouw\",\"Sportcomplex\",\"Andere gebouwen\",\"Administratief centrum\",\"Cultureel centrum\",\"RVT/WZC/revalidatiecentrum\",\"RVT/WZC/revalidatiecentrum\",\"Zwembad\",\"Werkplaats\",\"Stadhuis/Gemeentehuis\",\"Sportcomplex\",\"Werkplaats\",\"Lagere school\",\"Jeugdhuis\",\"Andere gebouwen\",\"Ontmoetingscentrum\",\"Ontmoetingscentrum\",\"Sporthal\",\"Jeugdhuis\",\"Ontmoetingscentrum\",\"Werkplaats\",\"Looppiste\",\"OCMW Administratief centrum\",\"Lagere school\",\"Sportcomplex\",\"Werkplaats\",\"Sporthal\",\"Algemene middelbare school\",\"Stadhuis/Gemeentehuis\",\"Bibliotheek\",\"Werkplaats\",\"Administratief centrum\",\"Brandweerkazerne\",\"Dienstencentrum/CAW/dagverblijf\",\"Zwembad\",\"Academie\",\"Academie\",\"Administratief centrum\",\"Zwembad\",\"OCMW Administratief centrum\",\"RVT/WZC/revalidatiecentrum\",\"Stadion\",\"Sporthal\",\"Andere gebouwen\",\"Sporthal\",\"Stadhuis/Gemeentehuis\",\"Bibliotheek\",\"Sporthal\",\"Straatverlichting\",\"Andere gebouwen\",\"Sporthal\",\"Pomp\",\"Sportcomplex\",\"Cultureel centrum\",\"Jeugdhuis\",\"Cultureel centrum\",\"Brandweerkazerne\",\"RVT/WZC/revalidatiecentrum\",\"Andere gebouwen\",\"Stadion\",\"Administratief centrum\",\"Administratief centrum\",\"Andere gebouwen\",\"Academie\",\"Jeugdhuis\",\"Lagere school\",\"Ontmoetingscentrum\",\"Stadhuis/Gemeentehuis\",\"Kleuterschool\",\"School\",\"Stadion\",\"Ontmoetingscentrum\",\"Sporthal\",\"Dienstencentrum/CAW/dagverblijf\",\"Andere gebouwen\",\"Sporthal\",\"Zwembad\",\"Brandweerkazerne\",\"Ontmoetingscentrum\",\"Sporthal\",\"Ontmoetingscentrum\",\"Administratief centrum\",\"Cultureel centrum\",\"Stadion\",\"Bibliotheek\",\"Administratief centrum\",\"Stadhuis/Gemeentehuis\",\"Jeugdhuis\",\"Administratief centrum\",\"Sportcomplex\",\"Administratief centrum\",\"Ontmoetingscentrum\",\"Administratief centrum\",\"Cultureel centrum\",\"Sporthal\",\"Cultureel centrum\",\"Bibliotheek\",\"Sporthal\",\"Administratief centrum\",\"Sporthal\",\"Lagere school\",\"RVT/WZC/revalidatiecentrum\",\"Buitengewoon lager onderwijs (MPI)\",\"Academie\",\"Andere gebouwen\",\"Lagere school\",\"Lagere school\",\"Sporthal\",\"Andere gebouwen\",\"Ontmoetingscentrum\",\"Sportcomplex\",\"Sporthal\",\"Algemene middelbare school\",\"Sporthal\",\"RVT/WZC/revalidatiecentrum\",\"Cultureel centrum\",\"Museum\",\"Werkplaats\",\"Administratief centrum\",\"Administratief centrum\",\"Ontmoetingscentrum\",\"Sporthal\",\"Lagere school\",\"Brandweerkazerne\",\"Politiegebouw\",\"Kinderdagverblijf/BKO/IBO\",\"Academie\",\"Bibliotheek\",\"Werkplaats\",\"Administratief centrum\",\"Academie\",\"Stadion\",\"RVT/WZC/revalidatiecentrum\",\"Andere gebouwen\",\"Museum\",\"RVT/WZC/revalidatiecentrum\",\"Administratief centrum\",\"Academie\",\"RVT/WZC/revalidatiecentrum\",\"Cultureel centrum\",\"Dienstencentrum/CAW/dagverblijf\",\"RVT/WZC/revalidatiecentrum\",\"Dienstencentrum/CAW/dagverblijf\",\"School\",\"OCMW Administratief centrum\",\"Sporthal\",\"Ontmoetingscentrum\",\"Cultureel centrum\",\"Andere gebouwen\",\"Administratief centrum\",\"Sportcomplex\",\"Andere gebouwen\",\"Andere gebouwen\",\"Cultureel centrum\",\"Sporthal\",\"Stadion\",\"Sporthal\",\"Museum\",\"Cultureel centrum\",\"Museum\",\"OCMW Woningen\",\"Zwembad\",\"Cultureel centrum\",\"Cultureel centrum\",\"School\",\"Dienstencentrum/CAW/dagverblijf\",\"Andere gebouwen\",\"Administratief centrum\",\"Andere gebouwen\",\"Stadhuis/Gemeentehuis\",\"Cultureel centrum\",\"Sportcomplex\",\"Lagere school\",\"Cultureel centrum\",\"Lagere school\",\"RVT/WZC/revalidatiecentrum\",\"Lagere school\",\"Andere terreinen\",\"Cultureel centrum\",\"Andere gebouwen\",\"Museum\",\"Brandweerkazerne\",\"Stadhuis/Gemeentehuis\",\"OCMW Woningen\",\"Andere gebouwen\",\"Sportcomplex\",\"Sporthal\",\"Museum\",\"Werkplaats\",\"Academie\",\"Administratief centrum\",\"Stadhuis/Gemeentehuis\",\"Andere gebouwen\",\"Dienstencentrum/CAW/dagverblijf\",\"Sportcomplex\",\"Lagere school\",\"Ziekenhuis\",\"RVT/WZC/revalidatiecentrum\",\"Zwembad\",\"Zwembad\",\"Sporthal\",\"Ontmoetingscentrum\",\"OCMW Administratief centrum\",\"Algemene middelbare school\",\"Administratief centrum\",\"Administratief centrum\",\"Administratief centrum\",\"Cultureel centrum\",\"Lagere school\",\"Bibliotheek\",\"Sporthal\",\"Cultureel centrum\",\"Lagere school\",\"Sporthal\",\"Sporthal\",\"Andere gebouwen\",\"Sporthal\",\"Lagere school\",\"Stadhuis/Gemeentehuis\",\"Andere gebouwen\",\"Stadhuis/Gemeentehuis\",\"Zwembad\",\"Cultureel centrum\",\"Sporthal\",\"Sporthal\",\"Cultureel centrum\",\"Sporthal\",\"Cultureel centrum\",\"Andere gebouwen\",\"Lagere school\",\"Algemene middelbare school\",\"Werkplaats\",\"Andere gebouwen\",\"Andere gebouwen\",\"Cultureel centrum\",\"Politiegebouw\",\"Andere gebouwen\",\"Kinderdagverblijf/BKO/IBO\",\"Administratief centrum\",\"Museum\",\"Administratief centrum\",\"Cultureel centrum\",\"Straatverlichting\",\"Stadhuis/Gemeentehuis\",\"Stadion\",\"Cultureel centrum\",\"Lagere school\",\"Ontmoetingscentrum\",\"OCMW Woningen\",\"Politiegebouw\",\"Cultureel centrum\",\"Straatverlichting\",\"Sporthal\",\"Parking\",\"Cultureel centrum\",\"Dienstencentrum/CAW/dagverblijf\",\"Andere gebouwen\",\"Lagere school\",\"Bibliotheek\",\"Werkplaats\",\"School\",\"Andere gebouwen\",\"Administratief centrum\",\"Tennisveld\",\"Administratief centrum\",\"Cultureel centrum\",\"Andere gebouwen\",\"Sporthal\",\"Cultureel centrum\",\"Sporthal\",\"School\",\"Sporthal\",\"Sporthal\",\"Andere gebouwen\",\"Zwembad\",\"Andere gebouwen\",\"Sporthal\",\"RVT/WZC/revalidatiecentrum\",\"Sporthal\",\"Stadhuis/Gemeentehuis\",\"Administratief centrum\",\"Bibliotheek\",\"Academie\",\"Zwembad\",\"OCMW Administratief centrum\",\"Cultureel centrum\",\"Lagere school\",\"Cultureel centrum\",\"Stadion\",\"Werkplaats\",\"Administratief centrum\",\"Andere gebouwen\",\"Andere gebouwen\",\"Stadhuis/Gemeentehuis\",\"Bibliotheek\",\"Andere gebouwen\",\"Andere gebouwen\",\"Stadhuis/Gemeentehuis\",\"Sporthal\",\"Lagere school\",\"Museum\",\"Sporthal\",\"Sportcomplex\",\"School\",\"Cultureel centrum\",\"Andere gebouwen\",\"Administratief centrum\",\"Lagere school\",\"RVT/WZC/revalidatiecentrum\",\"Administratief centrum\",\"Ontmoetingscentrum\",\"Technische middelbare school\",\"Lagere school\",\"Sporthal\",\"Administratief centrum\",\"Werkplaats\",\"Sporthal\",\"Brandweerkazerne\",\"School\",\"Ontmoetingscentrum\",\"Bibliotheek\",\"Administratief centrum\",\"Administratief centrum\",\"Sporthal\",\"Algemene middelbare school\",\"Lagere school\",\"Cultureel centrum\",\"Academie\",\"Administratief centrum\",\"Administratief centrum\",\"Museum\",\"Museum\",\"Cultureel centrum\",\"Sportcomplex\",\"RVT/WZC/revalidatiecentrum\",\"Administratief centrum\",\"Ontmoetingscentrum\",\"Sportcomplex\",\"Cultureel centrum\",\"Administratief centrum\",\"Andere gebouwen\",\"Sporthal\",\"Cultureel centrum\",\"Administratief centrum\",\"Sporthal\",\"OCMW Administratief centrum\",\"Voetbalveld\",\"Sporthal\",\"Lagere school\",\"Andere gebouwen\",\"Administratief centrum\",\"Sporthal\",\"Andere gebouwen\",\"Ontmoetingscentrum\",\"Kinderdagverblijf/BKO/IBO\",\"Museum\",\"Sporthal\",\"Administratief centrum\",\"Academie\",\"Ontmoetingscentrum\",\"Politiegebouw\",\"Ontmoetingscentrum\",\"Werkplaats\",\"Zwembad\",\"Ontmoetingscentrum\",\"Administratief centrum\",\"Stadhuis/Gemeentehuis\",\"Museum\",\"Cultureel centrum\",\"OCMW Administratief centrum\",\"OCMW Woningen\",\"OCMW Administratief centrum\",\"Museum\",\"Administratief centrum\",\"Andere gebouwen\",\"Sporthal\",\"Cultureel centrum\",\"Ontmoetingscentrum\",\"RVT/WZC/revalidatiecentrum\",\"Stadhuis/Gemeentehuis\",\"Sporthal\",\"Sporthal\",\"Zwembad\",\"Ontmoetingscentrum\",\"Stadhuis/Gemeentehuis\",\"Andere gebouwen\",\"OCMW Administratief centrum\",\"Lagere school\",\"RVT/WZC/revalidatiecentrum\",\"Stadhuis/Gemeentehuis\",\"Sporthal\",\"Ontmoetingscentrum\",\"Stadhuis/Gemeentehuis\",\"Andere gebouwen\",\"Bibliotheek\",\"Administratief centrum\",\"Cultureel centrum\",\"Administratief centrum\",\"Sporthal\",\"Stadhuis/Gemeentehuis\",\"Sporthal\",\"Sporthal\",\"Werkplaats\",\"Ontmoetingscentrum\",\"Bibliotheek\",\"Ontmoetingscentrum\",\"RVT/WZC/revalidatiecentrum\",\"Lagere school\",\"Cultureel centrum\",\"Werkplaats\",\"Zwembad\",\"Sporthal\",\"Museum\",\"Lagere school\",\"Sportcomplex\",\"Lagere school\",\"RVT/WZC/revalidatiecentrum\",\"Sporthal\",\"Museum\",\"Sporthal\",\"Straatverlichting\",\"Sporthal\",\"Werkplaats\",\"Academie\",\"Lagere school\",\"Sporthal\",\"Museum\",\"Cultureel centrum\",\"Sporthal\",\"Sporthal\",\"Museum\",\"Buitengewoon lager onderwijs (MPI)\",\"OCMW Woningen\",\"Sporthal\",\"RVT/WZC/revalidatiecentrum\",\"Stadhuis/Gemeentehuis\",\"Algemene middelbare school\",\"Sportcomplex\",\"Stadion\",\"Administratief centrum\",\"Academie\",\"Sporthal\",\"RVT/WZC/revalidatiecentrum\",\"Andere gebouwen\",\"Cultureel centrum\",\"Kleuterschool\",\"Stadion\",\"Werkplaats\",\"Sportcomplex\",\"Cultureel centrum\",\"Stadhuis/Gemeentehuis\",\"Bibliotheek\",\"Brandweerkazerne\",\"Andere gebouwen\",\"Ontmoetingscentrum\",\"Cultureel centrum\",\"Administratief centrum\",\"Andere gebouwen\",\"Stadhuis/Gemeentehuis\",\"Lagere school\",\"Sportcomplex\",\"Sporthal\",\"Andere gebouwen\",\"Sportcomplex\",\"RVT/WZC/revalidatiecentrum\",\"Cultureel centrum\",\"Werkplaats\",\"Pomp\",\"Cultureel centrum\",\"Kleuterschool\",\"Kinderdagverblijf/BKO/IBO\",\"Lagere school\",\"Administratief centrum\",\"RVT/WZC/revalidatiecentrum\",\"Administratief centrum\",\"Administratief centrum\",\"Administratief centrum\",\"Cultureel centrum\",\"Andere gebouwen\",\"Sporthal\",\"Bibliotheek\",\"Stadhuis/Gemeentehuis\",\"RVT/WZC/revalidatiecentrum\",\"Lagere school\",\"Lagere school\",\"Sporthal\",\"Andere gebouwen\",\"Lagere school\",\"Sporthal\",\"Bibliotheek\",\"Andere gebouwen\",\"Ontmoetingscentrum\",\"Andere gebouwen\",\"Werkplaats\",\"Ontmoetingscentrum\",\"Cultureel centrum\",\"Ontmoetingscentrum\",\"RVT/WZC/revalidatiecentrum\",\"Cultureel centrum\",\"Ontmoetingscentrum\",\"Lagere school\",\"Andere gebouwen\",\"Administratief centrum\",\"Museum\",\"Zwembad\",\"Sporthal\",\"Kleuterschool\",\"Andere gebouwen\",\"Laadeiland\",\"Sporthal\",\"Stadion\",\"OCMW Administratief centrum\",\"Administratief centrum\",\"Kleuterschool\",\"Ontmoetingscentrum\",\"Administratief centrum\",\"RVT/WZC/revalidatiecentrum\",\"Administratief centrum\",\"Lagere school\",\"Administratief centrum\",\"Lagere school\",\"Park\",\"Algemene middelbare school\",\"Stadhuis/Gemeentehuis\",\"Stadhuis/Gemeentehuis\",\"Ontmoetingscentrum\",\"Cultureel centrum\",\"Academie\",\"Lagere school\",\"Administratief centrum\",\"OCMW Administratief centrum\",\"Andere gebouwen\",\"Andere gebouwen\",\"Administratief centrum\",\"Ontmoetingscentrum\",\"Zwembad\",\"RVT/WZC/revalidatiecentrum\",\"Sporthal\",\"Administratief centrum\",\"Sporthal\",\"Andere gebouwen\",\"School\",\"Ontmoetingscentrum\",\"Cultureel centrum\",\"Kinderdagverblijf/BKO/IBO\",\"Lagere school\",\"Andere gebouwen\",\"Ontmoetingscentrum\",\"Sporthal\",\"Zwembad\",\"Sporthal\",\"Academie\",\"Ontmoetingscentrum\",\"Buitengewoon middelbaar onderwijs (BUSO)\",\"Sporthal\",\"Brandweerkazerne\",\"Andere gebouwen\",\"Academie\",\"Andere gebouwen\",\"Stadion\",\"Stadion\",\"Sporthal\",\"Andere gebouwen\",\"Andere gebouwen\",\"Sporthal\",\"Sportcomplex\",\"Sporthal\",\"Academie\",\"Sporthal\",\"Administratief centrum\",\"Cultureel centrum\",\"Brandweerkazerne\",\"Bibliotheek\",\"Werkplaats\",\"Andere gebouwen\",\"Ontmoetingscentrum\",\"Cultureel centrum\",\"Stadhuis/Gemeentehuis\",\"Museum\",\"Academie\",\"Stadhuis/Gemeentehuis\",\"Sporthal\",\"Ontmoetingscentrum\",\"Sporthal\",\"Museum\",\"Technische middelbare school\",\"Andere gebouwen\",\"Cultureel centrum\",\"Ontmoetingscentrum\",\"Sporthal\",\"Werkplaats\",\"Sporthal\",\"Stadhuis/Gemeentehuis\",\"Sporthal\",\"Museum\",\"Andere gebouwen\",\"RVT/WZC/revalidatiecentrum\",\"Werkplaats\",\"Ontmoetingscentrum\",\"Administratief centrum\",\"Andere gebouwen\",\"Sportcomplex\",\"Andere gebouwen\",\"Stadion\",\"Andere gebouwen\",\"Sporthal\",\"Lagere school\",\"Lagere school\",\"Straatverlichting\",\"Dienstencentrum/CAW/dagverblijf\",\"Sporthal\",\"Cultureel centrum\",\"Werkplaats\",\"Andere gebouwen\",\"Werkplaats\",\"Ontmoetingscentrum\",\"Sportcomplex\",\"Museum\",\"Sporthal\",\"Pomp\",\"Lagere school\",\"RVT/WZC/revalidatiecentrum\",\"Academie\",\"Cultureel centrum\",\"Andere gebouwen\",\"Kinderdagverblijf/BKO/IBO\",\"Cultureel centrum\",\"Lagere school\",\"Sporthal\",\"Ontmoetingscentrum\",\"Brandweerkazerne\",\"Sportcomplex\",\"Algemene middelbare school\",\"Lagere school\",\"Andere gebouwen\",\"Cultureel centrum\",\"Administratief centrum\",\"Administratief centrum\",\"Andere gebouwen\",\"Administratief centrum\",\"Academie\",\"Administratief centrum\",\"Andere gebouwen\",\"Cultureel centrum\",\"Stadion\",\"Sporthal\",\"Bibliotheek\",\"Cultureel centrum\",\"Brandweerkazerne\",\"Ontmoetingscentrum\",\"Sporthal\",\"Andere gebouwen\",\"Zwembad\",\"Ontmoetingscentrum\",\"Andere gebouwen\",\"Politiegebouw\",\"Bibliotheek\",\"Tennisveld\",\"Werkplaats\",\"Sporthal\",\"RVT/WZC/revalidatiecentrum\",\"Ontmoetingscentrum\",\"Andere gebouwen\",\"Administratief centrum\",\"Andere gebouwen\",\"Cultureel centrum\",\"Buitengewoon middelbaar onderwijs (BUSO)\",\"Administratief centrum\",\"Andere\",\"Cultureel centrum\",\"Bibliotheek\",\"Academie\",\"Ontmoetingscentrum\",\"Administratief centrum\",\"Ontmoetingscentrum\",\"Sportcomplex\",\"Ontmoetingscentrum\",\"Lagere school\",\"Laadeiland\",\"Cultureel centrum\",\"Cultureel centrum\",\"Sporthal\",\"Werkplaats\",\"School\",\"Sportcomplex\",\"Jeugdhuis\",\"Cultureel centrum\",\"Administratief centrum\",\"Andere gebouwen\",\"Cultureel centrum\",\"Andere gebouwen\",\"Ontmoetingscentrum\",\"RVT/WZC/revalidatiecentrum\",\"Bibliotheek\",\"Andere gebouwen\",\"Administratief centrum\",\"OCMW Administratief centrum\",\"Academie\",\"Andere gebouwen\",\"Zwembad\",\"Ontmoetingscentrum\",\"Sportcomplex\",\"Zwembad\",\"Sporthal\",\"Lagere school\",\"Andere gebouwen\",\"Cultureel centrum\",\"Sportcomplex\",\"Sporthal\",\"RVT/WZC/revalidatiecentrum\",\"Stadhuis/Gemeentehuis\",\"Cultureel centrum\",\"Sporthal\",\"RVT/WZC/revalidatiecentrum\",\"OCMW Administratief centrum\",\"Andere gebouwen\",\"Sportcomplex\",\"OCMW Administratief centrum\",\"Andere gebouwen\",\"Cultureel centrum\",\"Cultureel centrum\",\"Stadhuis/Gemeentehuis\",\"Ontmoetingscentrum\",\"Ontmoetingscentrum\",\"Bibliotheek\",\"Kinderdagverblijf/BKO/IBO\",\"Administratief centrum\",\"Andere gebouwen\",\"Andere gebouwen\",\"Lagere school\",\"Andere gebouwen\",\"Zwembad\",\"Ontmoetingscentrum\",\"School\",\"Cultureel centrum\",\"Bibliotheek\",\"Andere gebouwen\",\"Bibliotheek\",\"Sporthal\",\"Lagere school\",\"Sporthal\",\"Lagere school\",\"Ontmoetingscentrum\",\"Administratief centrum\",\"Cultureel centrum\",\"Werkplaats\",\"Administratief centrum\"],\"legendgroup\":\"\",\"marker\":{\"color\":[8,2,5,4,8,5,4,1,0,8,1,5,4,1,1,8,8,4,5,2,8,8,6,5,2,4,4,1,1,6,1,1,8,1,8,8,8,4,1,8,8,8,8,1,8,8,8,2,0,4,1,4,0,6,1,2,1,6,4,8,1,0,1,1,1,6,1,5,4,0,4,8,1,1,1,8,1,5,8,2,4,8,2,4,4,5,8,5,5,8,8,4,8,1,2,8,8,2,2,1,8,8,1,2,8,2,0,6,8,4,0,7,1,4,8,4,8,5,8,1,8,1,7,6,4,8,4,2,4,1,0,4,1,0,8,0,1,0,1,0,4,0,7,8,8,8,1,1,8,7,1,0,5,2,8,8,8,8,0,5,2,1,1,2,8,8,4,8,1,2,1,2,2,8,8,5,8,6,8,8,8,8,4,4,3,8,1,1,8,4,0,2,1,6,0,1,8,6,8,8,8,1,6,4,8,5,4,8,0,2,8,8,8,4,6,6,1,6,4,0,1,1,8,4,6,8,4,1,4,5,1,8,2,6,8,0,0,4,1,0,8,8,8,1,4,4,2,5,1,4,2,8,5,2,8,8,2,8,1,5,8,0,0,8,8,4,1,1,1,2,1,0,0,4,5,1,6,4,8,8,5,8,8,1,8,1,0,1,8,1,8,1,1,8,1,8,1,3,6,8,6,0,8,1,1,4,8,8,1,1,4,8,8,4,8,8,5,1,1,6,5,1,8,4,1,0,1,7,8,7,1,1,1,4,9,8,8,8,1,1,0,6,8,7,8,2,8,4,8,1,8,8,9,0,2,8,1,8,4,6,8,1,8,1,8,1,5,4,8,8,2,6,8,8,7,3,5,8,6,0,1,1,1,8,8,1,8,1,8,2,8,1,1,5,0,1,7,8,0,1,1,8,8,3,4,8,2,1,4,2,1,5,4,4,2,8,4,8,8,4,1,1,8,1,8,1,8,1,1,4,0,6,1,8,6,0,1,1,2,6,1,9,8,8,4,8,1,2,1,1,8,1,8,5,5,1,0,8,1,1,5,6,1,1,0,8,0,1,1,8,4,0,1,3,0,0,8,0,5,0,0,2,1,0,8,1,2,0,4,0,1,8,8,8,8,4,0,8,1,8,8,2,8,4,5,8,8,0,4,4,4,0,7,8,4,0,4,6,8,4,8,7,8,4,8,4,2,6,3,1,4,6,4,2,8,0,1,4,0,2,6,2,8,1,8,8,4,7,8,2,8,1,8,8,5,5,8,1,4,8,4,8,8,1,8,0,1,4,8,8,4,8,4,1,0,0,6,5,8,8,8,1,1,0,1,1,2,5,4,8,4,8,1,2,4,8,1,8,0,8,8,4,8,1,0,0,2,4,0,5,1,2,1,0,4,1,4,0,3,1,1,4,8,4,1,1,5,8,8,4,1,4,1,5,1,2,6,6,8,1,0,5,4,5,8,4,1,5,1,8,0,8,8,1,1,0,0,7,1,8,7,2,0,2,8,1,2,8,8,8,1,1,8,0,5,8,1,8,4,0,8,0,2,0,7,8,1,1,5,8,1,4,2,1,8,1,8,6,4,1,0,7,0,0,7,1,2,4,4,7,4,4,1,1,8,1,4,2,5,1,5,4,0,8,8,1,4,8,4,8,8,0,7,4,4,5,0,1,1,2,1,2,1,2,1,7,1,1,0,8,5,8,5,8,1,5,8,1,8,8,1,6,8,8,1,5,1,1,0,8,0,4,8,1,1,5,1,5,4,5,8,5,4,4,1,8,0,8,1,5,5,5,5,0,1,2,0,1,0,8,6,8,2,0,8,1,0,1,8,8,1,1,8,4,0,8,8,7,0,8,2,1,1,1,5,4,4,8,4,8,1,8,6,6,8,8,4,5,3,8,4,8,1,8,1,8,1,4],\"coloraxis\":\"coloraxis\",\"symbol\":\"circle\"},\"mode\":\"markers\",\"name\":\"\",\"orientation\":\"v\",\"showlegend\":false,\"x\":[0.4267735172607467,0.548166879564242,0.5665192848237993,0.27257915408487693,0.4578933823666529,0.493251597016422,0.21784037057645872,0.4517443000854577,0.35463739150905443,0.47966114487505945,0.4250699031855858,0.5283896695546207,0.3037872110121308,0.39937143089802524,0.40350302662362575,0.4778295461747917,0.4370069430292709,0.29186186151948834,0.5227391963063573,0.545722938585236,0.5169318380584974,0.4586704894465835,0.44240170598996237,0.5024962089307206,0.6033888979181873,0.321734393707403,0.3152549768101251,0.3755930564548524,0.36439385358626547,0.4309273127208911,0.3884404708078234,0.3642948813822057,0.5116374184831046,0.3413001705839078,0.4416465646840099,0.4885615990390074,0.5298480313000625,0.30813691143204225,0.3660658622892667,0.45337990481734636,0.48320029801087,0.4751056650463706,0.465354479397113,0.2982430317836344,0.5059207075246323,0.44154130856006063,0.4635525398593657,0.6133870150722152,0.3605516846896151,0.3347919481175672,0.4328124307832141,0.32667460381664315,0.346515020115449,0.48459124834355055,0.4077312047122806,0.7109011649532079,0.3954402111020176,0.3141575607047599,0.33378577410838695,0.5194084634522348,0.3642468078648578,0.35465311775804254,0.36645225248012175,0.3579642887454437,0.3436637532186204,0.4121632575131807,0.3983969204899243,0.5127287249272866,0.25369249815119654,0.4401631229132837,0.30177056289055354,0.4565862695400498,0.3722130671350449,0.28894885803793285,0.4199748662659017,0.44980505273135984,0.40076431407735225,0.4893973510732987,0.48386940409932067,0.5993764446328984,0.2601993464251566,0.47687876553542796,0.6503888931867813,0.3361020798640316,0.33046927031448636,0.4778167406932087,0.48587237091552393,0.6192440181461843,0.5154829026371858,0.4598442678202625,0.5073662625578343,0.3191605132320016,0.4171505664550785,0.3564565298450797,0.5389012082826833,0.4243156351648071,0.4525523506601281,0.6178255721764878,0.5549993053723075,0.4176080870979133,0.45384776448894754,0.45981549192860754,0.4261416331220944,0.5597558623010833,0.483604765864703,0.5634863286098035,0.4352578906129912,0.3268900898846137,0.4723490303983849,0.25789542368675034,0.4176686359478263,0.8525669300465043,0.3751742177469276,0.2557214281821969,0.49820450399662297,0.3330855069554835,0.43089810198705814,0.49204999829978535,0.4850057038370992,0.3089612460779668,0.4298246473752568,0.3744013648304558,0.729387800356915,0.3948446718810256,0.3598443474016419,0.5209721013578463,0.2848684391618057,0.5454715388604816,0.34124074329697623,0.40264374840493095,0.33293159890054386,0.29803777960781885,0.37374945699439627,0.4582005625787388,0.4334494949935832,0.4946416082646907,0.35076519874213724,0.4843337461447773,0.3957386071231703,0.4650584906595242,0.33062403092895837,0.35725815439935343,0.7316656263051474,0.49266883595763766,0.49398187446899294,0.4914857948061676,0.4007453791079897,0.3875653479608438,0.5130328381897222,0.782989915492767,0.4228187009917515,0.4435665509657304,0.51504464582343,0.5508664978844734,0.4806888145369356,0.4379234422605492,0.5182844519992168,0.49169420658586466,0.4144584316930852,0.5764401023965154,0.6828724063024884,0.36016807278763663,0.36088164371535936,0.5541456718005766,0.479833966691054,0.4465313935296801,0.2541193886999879,0.48529399701728987,0.41760856361286514,0.6157703190785668,0.3850890222521629,0.6365546597974604,0.5698669747162666,0.48799451353963114,0.4606081041958297,0.6293937847515568,0.5075450558217826,0.4780098231367167,0.5106020036351684,0.40703443414016016,0.47221201635155063,0.481036849547867,0.32747252497348445,0.14864046311902623,0.5285345286137938,0.4177864119050973,0.4158686594293866,0.3441050310728525,0.47759011100656934,0.1590912001698963,0.48081145776216905,0.6264245630013385,0.42509569256097024,0.43209613508932854,0.4486947478089784,0.42787393714828525,0.4263128780703483,0.40281879714589425,0.44602715550814814,0.48576857316844607,0.5241216126282676,0.35924581465297667,0.37338675680955496,0.2942869321030266,0.5001155763431494,0.5599853984917931,0.3059210103774803,0.44778242453872646,0.4850878842787368,0.6466469764029741,0.4465874393462895,0.4970064043419807,0.4318200613205402,0.3399803955686323,0.45095586378085917,0.37761823232091024,0.405044855460942,0.458582325968588,0.3010962054778397,0.3282052603348078,0.39520850412036507,0.3973215442426186,0.4387438718389182,0.32727715513348865,0.4700218762460792,0.4586515573720151,0.3309392251753512,0.4033136841716567,0.2520785561379376,0.5169423700261623,0.3546642417258401,0.47755061053227166,0.687502569678973,0.3981686441409396,0.45105726706470906,0.3358950297598824,0.4368578124688123,0.3473298388898827,0.4500568582815431,0.4020332058076626,0.430473554527937,0.44692790534463966,0.4398180412828337,0.35024775275034237,0.2520270387961242,0.251024561599152,0.591420423916946,0.5333147715138261,0.40309524997485513,0.2388375260849099,0.550720819361915,0.5321623448865438,0.43370968410687266,0.6799660389475122,0.49843045270003183,0.5199770404982709,0.614623047851529,0.4496955068551584,0.27139112044561087,0.5092576942904642,0.4723725246960138,0.4680647915394829,0.47124265790837033,0.48267112998255374,0.5069884749823353,0.2661544403624205,0.36030321537611587,0.39865775213141286,0.3546841619845833,0.7307193202153452,0.39093140263768883,0.43432029364747726,0.44978418221609834,0.2667383596787017,0.4961110537456755,0.3490533189956864,0.31268931852869486,0.32131860492454156,0.5230543857184413,0.4614761929736145,0.4803914743118911,0.4324126902612901,0.4780765353216267,0.39076902887671583,0.479509984149614,0.37507512429656314,0.47453856330011557,0.42765493063637733,0.4607310421620051,0.3446152671143923,0.5313729713464663,0.38454727307921316,0.3450480480669851,0.49560093580271747,0.3514790235977636,0.443698610568745,0.3731638112352483,0.39355097743942113,0.38877274021619934,0.4825460925460572,0.44103200099115286,0.42714046606649114,0.47692366170315076,0.36625120813907586,0.35734161894231425,0.34635087742834514,0.43198990386303177,0.5059683522353216,0.3954336049420077,0.4407631603708611,0.33926771535526146,0.48268577722000366,0.41145841743284634,0.3134925352582651,0.46385692374575205,0.4441965862265665,0.5390057837145643,0.42131114104702994,0.37020138718668205,0.3841503851155418,0.5107923667534197,0.38760500627479577,0.49547054420360204,0.29214098818197887,0.39503445775664703,0.48473048722989054,0.42184764642179523,0.8981684107726066,0.440116068921254,0.7839581907331177,0.3509550893786207,0.378227480822472,0.3593220079672481,0.2668103565221796,0.1624218056756687,0.481820605252445,0.43678952394277715,0.4611236852616159,0.40110898672280876,0.3694114119998399,0.4592947529881265,0.4258550699185205,0.4656557346483025,0.7839551351280024,0.45049317530240757,0.6860831529690157,0.49040315644472976,0.27999737945270886,0.4780831454749141,0.3695306592280154,0.4430584292125611,0.42836647010742046,0.3086110495362897,0.5188126348225341,0.6305593573064644,0.4990768321303408,0.39691472111310583,0.46611960614313364,0.2934899094863829,0.31291431182846474,0.46417403819822517,0.43857710359451485,0.4092793989462768,0.4027361432208699,0.43704005117661915,0.4253400408701673,0.480278408029014,0.26684147731890073,0.485199066768272,0.449819422148496,0.5715289990881125,0.47615780242855904,0.4455592615089647,0.45711926561224914,0.7250506576568635,0.46151328810397174,0.5257270617626713,0.4886424441642374,0.35588267475566293,0.4037480299152791,0.36187984662492445,0.39103653722757953,0.38646056161938525,0.47617305048627245,0.4694861693799139,0.334057223381444,0.47218977013277214,0.3804671851752426,0.5203427625604355,0.6142739671449918,0.4864879966246264,0.36807491594609215,0.3874783940195309,0.5163004288888017,0.4290791257467903,0.3701245686300092,0.809663548367981,0.512667424812227,0.403497541744564,0.40340743443262506,0.35269058754524035,0.4621726575937677,0.4414030719775621,0.4515920005546018,0.318934729768813,0.43230436403395833,0.5721296819981385,0.37425398872826016,0.32007177218081867,0.6255116421670511,0.41418416969165484,0.4328185055210617,0.32345281045910995,0.23052010646562843,0.628646667840777,0.518138473651775,0.2791994610285,0.45327348074257,0.4719571910085994,0.2608692840276833,0.39478407744259136,0.36741801731810353,0.4643640301010485,0.38229376036913787,0.45649463809959395,0.38062749343734226,0.5108110254470957,0.3865736102296881,0.37854813132327314,0.3089376997024028,0.44848080327345485,0.3195298013245029,0.34208587299573007,0.4972852911347828,0.4500808581742918,0.4094983892434154,0.38594934628907973,0.43966060840914123,0.6321697020840357,0.4331410417132691,0.38306666007262996,0.1918164230111049,0.44545334340622045,0.45404955886036413,0.3293856015513694,0.43186603570634086,0.4220263210804239,0.5851791932874489,0.42968902207581633,0.4536580763201869,0.43008306772790017,0.3432073171421188,0.4772856425481639,0.564301076641287,0.565475275410036,0.400494429628963,0.44081254964998595,0.44615978721069915,0.38888432343865903,0.5175529402443517,0.5203478707154177,0.46941749337889493,0.4110353213924528,0.41395273147795436,0.48667004633939825,0.4842318804942515,0.47303040579400857,0.3959411549682845,0.35694707794387404,0.514009696485931,0.159462900800497,0.4103088239873707,0.3400951754434267,0.4349270050555215,0.45027300188551533,0.39350771639812715,0.4614713837566954,0.44326691967652687,0.49495547098079534,0.3303915014590151,0.4189208911007897,0.5816838335787906,0.443110801525747,0.4325421122743624,0.47527055729746076,0.3420833486954993,0.591658222868674,0.4370117120490077,0.2840696158408655,0.3040513704917242,0.34701561075774484,0.4667943550388898,0.4903568837448192,0.46341897657463493,0.4717902873080742,0.30711434002640114,0.4307701004500213,0.4801421843911148,0.4260523588570696,0.42922667433281336,0.4457416974492794,0.5687949008481821,0.46441784738319214,0.21512341854618072,0.48766865665986214,0.47122778518162134,0.4516172226737328,0.43430062453257956,0.2409767662430883,0.3316230917714913,0.27244185171284907,0.4694158865337879,0.9496824934078599,0.3744684591995247,0.27896533704177123,0.4815529005168617,0.29470805171623854,0.3445104779955367,0.44228447591223724,0.2752432406273103,0.49113752859941656,0.7837768738086484,0.4502156857939303,0.3381095048453982,0.4794257581734023,0.31224178394944313,0.583971935830952,0.33403434109127705,0.5085851056187672,0.4473309554118256,0.3070473156304848,0.347329291753915,0.31756011588654137,0.5708960954267354,0.505181585101817,0.41664356680742565,0.41046566631815556,0.3341323137289849,0.4236074595029636,0.5839510973820027,0.4040465843977374,0.6766161686424106,0.48219129679454337,0.3829141129926446,0.51857822934222,0.49256958844179155,0.300787955814336,0.985001467224416,0.5030832028287842,0.5469930909150358,0.4612308703249027,0.4015913860983714,0.43547933141755174,0.45359686306196484,0.4256102848076177,0.4828172780681922,0.46783045692688674,0.40297069114014167,0.33230417044312893,0.43229516094016185,0.2440874027807654,0.45412181079704317,0.4351099481361299,0.3287671232876712,0.49593752010291137,0.355400541219869,0.3889638277955339,0.29423247946506814,0.48902664070226176,0.42909931230896997,0.3076455407720324,0.4818708199725142,0.27651890261709594,0.40585344019392994,0.40721830934126596,0.4083629201647034,0.42835760857512256,0.4487876545755572,0.4985856091241031,0.5023765290612103,0.48097460211084797,0.3917457950095715,0.40975494203343216,0.41976820112374047,0.3912107593079316,0.39773620378447694,0.5852052981131731,0.4958206548455595,0.28594934063767363,0.471569150635636,0.2865948099215249,0.5006210084248203,0.4247761016847791,0.6691424698041798,0.30429192623509876,0.4649984444774306,0.3895015937512556,0.3942473451440998,0.412549884400509,0.4375494058600704,0.49262112995032104,0.28338613819767544,0.4147505778412709,0.40746768061341154,0.33689172809485224,0.480028578865468,0.6014835536365875,0.35489421794248177,0.4317562630923686,0.49310213310039114,0.38464162634276133,0.6075178492349337,0.42176853597913533,0.3435955554859601,0.2601608502082428,0.4157611000631456,0.34660561745877155,0.38125717927970326,0.4296042643692535,0.37465061624618734,0.3739202013279539,0.2742908779264806,0.5298428104638343,0.25515068606723823,0.41843462731597714,0.4090601102182135,0.5337400281776654,0.4298340027004753,0.5183724311298268,0.3094752499912135,0.4077282518305971,0.3064325361223366,0.345983348138858,0.3651410454434592,0.4109426138970545,0.6690813751653265,0.4542409621341256,0.39285906851514546,0.48823634879609906,0.38757469635852787,0.43270828114968063,0.6226127682034249,0.30757720167545255,0.5051112764076544,0.5418746703191971,0.24034651064087742,0.37214427516720794,0.44239735654632406,0.40429056575735095,0.4560854433290596,0.4764581958860785,0.4240958672112523,0.49188958255273124,0.41436211021752706,0.3740771495617831,0.44252701171497366,0.5097090277221163,0.7872355341981597,0.43143979986736736,0.4270088591502522,0.6947324542426416,0.6109491346618553,0.45654693998565393,0.6289997738056742,0.49802860358764806,0.41997788580824025,0.5639287334808996,0.4459754818649462,0.5250954105236761,0.517242725349054,0.3559459205957441,0.4057585182765627,0.5006223273831839,0.32797819541868123,0.5432162337273754,0.47745189051288056,0.4257138335203393,0.48322982705473405,0.3381322099010587,0.400571185205878,0.47244990483829635,0.4353893464196969,0.5979039486532458,0.4647604162784967,0.865288944950533,0.4130801524274895,0.4068089487237102,0.3694652630149018,0.4920394952338487,0.487518854429337,0.44238054345224825,0.3217129081220996,0.5367876683044098,0.3799477985190265,0.47871375725691334,0.3992772331906003,0.4284676062778653,0.3596291242426344,0.2642463987445176,0.379216882249353,0.3798035466992923,0.7254829953082313,0.4551222890693986,0.42660485532509834,0.7144741065139744,0.35868503768154014,0.5457594091342429,0.31694387180960376,0.2853175245399847,0.7815630965305917,0.3284294193797217,0.33142123954793123,0.38529943805945444,0.446512294102846,0.4294824391721934,0.3744146930086106,0.21057275690398541,0.6677697219598039,0.5069442392538912,0.4141574909704266,0.5307017543859647,0.3478317848972277,0.41028208621591933,0.4793695090361144,0.48880033665309414,0.3959621475881208,0.31588912631144683,0.44024418947887584,0.31010851932608285,0.43243462470698013,0.4678602566202708,0.4246285972602877,0.7143127657738121,0.3251151441689723,0.3068957238277999,0.7044988242127314,0.45604002434950364,0.36620603203866936,0.36522121603731045,0.5965247669510687,0.38076417056966266,0.5375523638539791,0.36455455342687737,0.6561586410580957,0.39555324470660125,0.9888447423219776,0.347569304848089,0.35833309474659836,0.4625629697796868,0.44215441697354124,0.4676493698792963,0.4908840699113264,0.5328548588267407,0.5030840670731345,0.3759984639443505,0.47339507963876587,0.46041823332920095,0.3507594358932538,0.4659769980207701,0.5096416945988695,0.4172936236837013,0.3188566872953792,0.5062038035056649,0.45082003740884746,0.39756444150270986,0.5796197965412954,0.37243496923103075,0.37714699730996015,0.4420780979903947,0.532088189686908,0.42102489533072995,0.33889045704475534,0.46142092766566944,0.41537715720691315,0.39497860894945686,0.5196674403743724,0.406215353728439,0.5118037155355301,0.27715429659989,0.5193521775611956,0.45943152205360027,0.47287664431597415,0.2558497830971349,0.2172765095345812,0.3497416036649392,0.500498496904756,0.4685700716891054,0.43175382414483393,0.39371593459442084,0.5545092101496483,0.503793517249519,0.5470848426663744,0.4756019912435253,0.343849948445136,0.3638601190931797,0.6297655621849205,0.3667295410553496,0.34655675376824246,0.4453289015304345,0.5143800094295139,0.4849225037277701,0.4376301566202726,0.5637018291647913,0.48529125716097854,0.5275874023046968,0.3247581295946506,0.4295929796517775,0.37464613281088655,0.4669950086536604,0.46324748862325615,0.384977063237086,0.3787155393269263,0.4459352701556584,0.34252343392997187,0.37847779372775275,0.44884704809771964,0.4234925646493164,0.8067251092905539,0.4355682846418796,0.5050933505049064,0.559875150334577,0.3894357668405082,0.3580266758025103,0.3539410110731851,0.48693526203849335,0.28420028079142073,0.27650915650341945,0.4421002230476578,0.31919890140249435,0.5175232068168442,0.3831656576353879,0.5018045411918493,0.48136671619327454,0.4048328702699567,0.4914239446227503,0.4330670385561662,0.34097295839356734,0.5906699137200665,0.43830780681891923,0.46183150321449523,0.321205338030408,0.4946104223334673,0.3676293214529193,0.43804974657755097,0.4174034909813963,0.47013616552771453,0.35516636092147785,0.3407699319081907],\"xaxis\":\"x\",\"y\":[0.23776383652627042,0.26360293561618287,0.4467309494207159,0.1051421796640567,0.2386544044032598,0.32089465048478283,0.11327116906322679,0.1582539120269042,0.2648221262997489,0.2607251177141429,0.2308938452719227,0.5737627619894801,0.1509819714154942,0.2512978846185848,0.1884340243274218,0.2722183933176721,0.29491765028845807,0.1241206873002995,0.3615345723724695,0.2194036194289176,0.2807726188537502,0.2540032186635674,0.2414147764002217,0.3282886930853397,0.250525900834569,0.1485283861936815,0.1431985728014656,0.2176448224210619,0.19673800553275111,0.2596547715679548,0.1881038731729218,0.17705788575725612,0.2890700069125846,0.29921177682627753,0.2335001327002993,0.2954057182166008,0.2758519607047316,0.1576534954881278,0.1967781163380231,0.24467458328080238,0.22139471666885968,0.2882847342468601,0.2436090145512213,0.24471191540973608,0.2821763928581099,0.26014407911630333,0.2963739171004166,0.2906730243384993,0.2480853576679161,0.1568182393103793,0.2165893145969256,0.1548431547882902,0.1770825056094117,0.2658226088534141,0.2377319814305247,0.408696653679167,0.2169936528233957,0.236397008056597,0.15639426593713002,0.3096659922727277,0.16478277716187623,0.1895919601479905,0.19702427387321841,0.17795033317899578,0.1829624472100036,0.27262799369578394,0.1366303805052392,0.30910889958924603,0.0944810152526897,0.2741437004985059,0.1823744489317612,0.2311783874001591,0.14731839369789862,0.3159411526289691,0.24288406534334123,0.2630276279852158,0.22642431553161518,0.37506958733104256,0.2615563606441259,0.2923561489359938,0.1550120601784927,0.2526080329565007,0.180000743057256,0.1669466483038802,0.1610923037066619,0.3663586977388536,0.28508946462695917,0.4159757082868777,0.3188088347839506,0.21945202948138198,0.198205139498662,0.1128190351979563,0.25642696558783623,0.1693477741481633,0.2678818587169537,0.2681584126005012,0.2440803709227807,0.25977021249021087,0.2819473771303229,0.2033239849642039,0.25519643912987067,0.2583678584592026,0.1990407968138275,0.25988423555681317,0.2936150432452137,0.2883715034134235,0.27651754333223466,0.2695166498904715,0.2861177269991833,0.1503604683515279,0.2066504016190115,0.054854365453712195,0.17580138397274492,0.1421401344547278,0.28702279633043537,0.1690209056622587,0.2898143426894527,0.3324261852529463,0.23971207537174322,0.35763970273492574,0.24634605924603262,0.169081142550239,0.1164733680446639,0.2793749699880445,0.1169660327945599,0.2728161969562664,0.1447493035727503,0.1587151044184038,0.1530359737400017,0.23995329707546492,0.19011777260806167,0.1604202995450532,0.19801604822037128,0.23793877818017528,0.2773604707992281,0.2533622652645351,0.17024870976669482,0.2363888380240703,0.1918526449615432,0.2739571532943067,0.1473815651978903,0.27175734858703826,0.1935334695337658,0.2209842801854932,0.240758939459371,0.2662240904915706,0.2113639034182973,0.22423661844387682,0.23041780415749352,0.2853330116099568,0.2209749562163941,0.25136240597094,0.3591118564636065,0.22037810595132362,0.2415349314778513,0.2895925560034574,0.28222333677075,0.2779646387054726,0.2496402409425854,0.3324389505392233,0.2327575419814793,0.22348541977280278,0.2075558435969598,0.2709239022411823,0.2244445566237021,0.24712423385417,0.15453592710729552,0.2745390441696639,0.21930138231063329,0.2672649789119812,0.2773956312047198,0.2433934058950451,0.2594845560679837,0.252514468100089,0.23866299743970482,0.3952613443129438,0.2777087459469859,0.2829738691020858,0.29476731036151527,0.27381032932940297,0.2734847109715522,0.2190084744105419,0.175852287795162,0.0913282399884887,0.26240016279391254,0.2664983315706463,0.2075382141305545,0.1718160454426021,0.2986215211282165,0.13032638224939389,0.2687836860311754,0.2823445851268911,0.195480819185375,0.2542722471546405,0.27434295027934463,0.164404908675013,0.2864012581057767,0.2382516692831459,0.2409320749920798,0.2823906294172005,0.26862671925942,0.1873249894914935,0.2655022245272509,0.15010299961131351,0.1928644375712481,0.3185662489861904,0.1511611479423593,0.23069906113861022,0.2720683170719876,0.291272988967195,0.2663360247919684,0.20582463310712779,0.28734440659901384,0.1726223164350101,0.251367336118367,0.2604208886315562,0.2232334175171061,0.2804880949325316,0.16246454141775352,0.1664965230332354,0.2041660175509844,0.2504523050467654,0.2585094462348357,0.1561265988195229,0.2632283713716759,0.2587743905745108,0.1744953953174564,0.1890892701699456,0.1635579169568669,0.314191124647364,0.183771001164831,0.2541287914887702,0.2198559461525275,0.2652957492148567,0.2916210525173685,0.28355062625255223,0.2787968508094334,0.1597840361977383,0.1984090925691931,0.26778282527480013,0.2580655569897673,0.2764686024970283,0.23663171511785,0.24243358449057217,0.1084221133224419,0.11829268230774159,0.2699511997922226,0.3191130071949504,0.2111908374487739,0.0606927597465103,0.27518431795028486,0.2813277924458137,0.3575402598405618,0.2275590226927741,0.28367076377228484,0.233601254725429,0.2733449874402588,0.2375464458562459,0.29276342637197095,0.3145909497811558,0.2843796922082527,0.2819234463190696,0.2745906268844706,0.26474804773403593,0.2442479724788326,0.1224320699561139,0.18355279304158062,0.2553702437949666,0.2343826362874054,0.30756242444093806,0.2217519040766997,0.2464960357783404,0.2562997217820753,0.1266420479764495,0.3232157000989045,0.1797902474838923,0.2247182240255573,0.16800882650304622,0.2739209694594693,0.2674804088254811,0.4421112985409187,0.28026261840231,0.2637062965390574,0.2049260812573578,0.2641925769693779,0.291679739395321,0.27568087180525946,0.18033653064011312,0.3078522196801068,0.17878006678242542,0.28504402840854537,0.178353736411549,0.18348119711300448,0.2702621293935602,0.1914002012378749,0.2479290334203087,0.17651414085706651,0.25010562340596154,0.255009318520448,0.2725516024005149,0.2772844246572391,0.2147494969282879,0.23469202390959992,0.2278386074788188,0.1823147415239585,0.1673026706833422,0.2353414918911366,0.2346929002282725,0.2013356936406774,0.1794891168030729,0.136490132377705,0.2240030177375034,0.28479976074291236,0.12909923122730518,0.2469559464482024,0.2371909099498165,0.3015285364580679,0.2381932381798924,0.18719100612187178,0.23114838667677118,0.3561319341278465,0.2050679544641283,0.2795834872047936,0.1176464708815109,0.2073529830871349,0.2795652057604081,0.2378046117159457,0.1274043754210202,0.24092276689946268,0.1565053401682207,0.1912363165320329,0.1275622584239688,0.1730621559865465,0.1217015906969521,0.746577685094911,0.3000390247398309,0.2358522792469803,0.28376436319632004,0.2074037519035749,0.17607562444763109,0.2719264199065038,0.22600100972167592,0.259051952465137,0.2855964649212776,0.2619725539320127,0.2354403346386369,0.23886990202359842,0.1233270929409743,0.2728905589834723,0.1995265698694173,0.24408464567269172,0.24656008092148732,0.5985288525250338,0.261664235768193,0.27073268318669486,0.2896913931089482,0.1907908962547134,0.27840366535814465,0.11463413494248789,0.1921552634492641,0.21635823628071899,0.1527835982901485,0.270229111317152,0.2539323051388011,0.2850556658009228,0.22251433356010258,0.34964953157551015,0.15025724888223368,0.2604144302930538,0.2427763980010165,0.2240970024189899,0.2593244028131962,0.23759990982711632,0.20422171917086002,0.1801285571745186,0.2799651570332502,0.3233135415638053,0.2679098564738212,0.24783338068464328,0.2257027264432458,0.1800480595105714,0.1636953438692283,0.2064218435911431,0.1775959845940152,0.2506861198095684,0.2269290233851289,0.26666793111427,0.2006091469043469,0.28097654209429124,0.3524305827556889,0.2738485112710964,0.1820112155120771,0.1951775594256871,0.351333949756654,0.2491258612148325,0.17623815400226311,0.23977157667959942,0.2661306807191133,0.2030390016408209,0.2184036291401907,0.1980966187695402,0.287546861788762,0.2394778129866359,0.25293056980524287,0.17811306020098472,0.2564125080924524,0.2561295590026922,0.1767441866443866,0.1234282532912883,0.2797158079992485,0.212486810089617,0.4791292883509529,0.1334522445062682,0.11022898311237059,0.29501602431994933,0.27784380509226847,0.1426950655919366,0.2504917994492921,0.2691654557558518,0.11421671388841251,0.28141296055139753,0.195495962250271,0.2707800611891712,0.18903270426806928,0.2475814080569967,0.1894241785664673,0.2174457499957777,0.1511903579721312,0.2123491417893691,0.1177833752749386,0.2244214121534882,0.27311161260997574,0.2485053800860396,0.2708283538762982,0.2570211502212397,0.2690715908252522,0.2000781205151061,0.16142868194933302,0.25097821409710364,0.2711266345230367,0.2026903123168894,0.7787447108835253,0.25846274794518054,0.2620552819058096,0.1482413227841376,0.3061222570706589,0.2130009136647174,0.2396707853307511,0.19397013835845478,0.16197687223555202,0.3144982503623097,0.1743858926651586,0.2967150678822182,0.32322936327362106,0.3219372984584654,0.161155797104739,0.2628012300138617,0.20909936710091598,0.2433556645773602,0.0868036956745028,0.3580523697507456,0.26203633547469374,0.23700241344421158,0.2005809666034271,0.2790101200315971,0.2582560702445873,0.2317625376374522,0.20585329110526768,0.2754727866202486,0.2896266314785926,0.2340538844712371,0.26611816131718624,0.1850284566616045,0.2748124892880236,0.2525448958776866,0.21150030774095951,0.2478113769718382,0.2570989345165897,0.3149771628763025,0.26390315621392624,0.2097281942775056,0.20228443050316852,0.1934081048771943,0.2481340612281539,0.2670231565342701,0.24624847789200982,0.2524624936750468,0.228736067536115,0.1382953849105456,0.26291389513668006,0.18108035509155418,0.2534124670024571,0.2723173629062643,0.265482087103326,0.2328380692748506,0.16546711890105179,0.2428421610353363,0.29795076601375337,0.19255724223702292,0.2572344669036857,0.24437996165911,0.1883387292063366,0.2617738536186832,0.1186945549387662,0.3381546872396534,0.2674805214383452,0.21196196385504512,0.2294024376677949,0.10262370029237619,0.1490727854018386,0.1252588063887386,0.2861211412287783,0.1559942402946033,0.32222956088716503,0.14046495431345118,0.2778409600285575,0.1456332381994443,0.2673382265210933,0.2682009611883114,0.2740597643841855,0.2476984814417991,0.285598693524115,0.264006272752144,0.1510115576993829,0.22422542778685178,0.1621022700965776,0.2854643346869759,0.26642790958458495,0.2819305365436029,0.202794091331259,0.1371060840480183,0.3013588305821707,0.1675127481634836,0.2832812128095278,0.2158286992313308,0.26953658429985583,0.2090633239758233,0.1779158940473553,0.2447898765417203,0.2858522051530926,0.1995357290838497,0.3960913355169667,0.23265337331743252,0.2270033459654905,0.2918441086214915,0.2501785072363254,0.1326663972454995,0.048341576500438195,0.30891068161481,0.2684834002394917,0.2620956802371238,0.2254895464577665,0.22929992237441338,0.22449325436671258,0.37639195545275395,0.3121060709813957,0.246880408153904,0.2253769902771578,0.1817128432563878,0.28323469224245146,0.0961765038239496,0.2453575886962858,0.2461642398283373,0.3301422615186703,0.20570750425718448,0.2662939549641668,0.2688015560940562,0.1277679024086856,0.3024533770240158,0.2571032576619126,0.1389296912263855,0.25931320628229726,0.1279257305318274,0.2173455407961005,0.26074741876960117,0.22019657214066612,0.1553397456643255,0.4639954924313734,0.2880838003871999,0.2849130165433952,0.2453625371118935,0.1431762508242763,0.2139813967648563,0.2661919848195366,0.2190725469444652,0.21847449553865722,0.1932051492368341,0.3321531644092565,0.1437013473984558,0.27516754127722187,0.142223813621492,0.29981833781067213,0.23761227909000748,0.29297408449167794,0.1380133557718595,0.2887040947345446,0.2545594801063068,0.31424011817683395,0.2713469997428074,0.2703431202089873,0.3040045995672628,0.1457300256338388,0.3316100366938773,0.2078125578120703,0.24540344939499859,0.26533747545608444,0.2399241277592559,0.1259437855480962,0.2607587473874674,0.45220302305842364,0.1576960067165995,0.28796546508221543,0.21589370759770038,0.2632043770127907,0.1138362778327866,0.23859809824959582,0.1333803258835822,0.2709344193397791,0.2313059035327712,0.2010622400896259,0.20149082011666158,0.1126861327809838,0.276356355092226,0.1383711904250866,0.21160817439316182,0.18605040148772262,0.3769418184066171,0.2592732190717625,0.2160904592248769,0.15228871512702058,0.21625256447329122,0.2196456671493206,0.3060228820873279,0.4401855664242569,0.1871826115294351,0.27960798950469123,0.27753121041129347,0.2727802898542169,0.2448048805189866,0.203172975140058,0.22083951198991142,0.4032883888091543,0.15798994816400708,0.3381990349026804,0.2672493903792722,0.0778230476650918,0.1752875358588158,0.37383723006825986,0.25555512354152077,0.2501261094108019,0.2625718784816854,0.2402058814708465,0.1566131227893641,0.2441903251752915,0.1806378763419091,0.2476405928511375,0.2836672122883287,0.1342330531419646,0.1890359910522507,0.2492932510557325,0.19337865401607768,0.2585787860240032,0.245259963582436,0.3481032998423937,0.2968576475778266,0.2002576309082244,0.2609227733837689,0.2514163968673608,0.23832208470086153,0.2765946447782564,0.17835478583665199,0.2345843035442448,0.265241513800728,0.21096434053463,0.3053179690614216,0.2354108205645863,0.198997302588931,0.28537297009043583,0.1695896252411094,0.2788145354188305,0.2635369311111455,0.222733613473637,0.2270091423540861,0.264506458790009,0.0915504167343115,0.3310579057577364,0.1596698411641116,0.1812335921250558,0.384238748644052,0.2852276907872798,0.2025881274972101,0.1617123302525417,0.2133924195897971,0.2073337211186308,0.2555007769186498,0.2645620111219223,0.2928995698910966,0.2713867496381479,0.132128317313505,0.2186412212953429,0.1872045779954829,0.2138472543008825,0.2386245610720124,0.1773564985696915,0.22837337698307203,0.21038859642155933,0.2603302076213716,0.1484252603996181,0.14220738337105449,0.2924268224289697,0.19112059297947298,0.1511135623787011,0.2118238667313052,0.1977606112775318,0.2580189241558259,0.2178806236935163,0.2043191738677254,0.1979607625291454,0.3477023303305661,0.2509123374079649,0.3036943556769087,0.1581584427754772,0.2587706876514188,0.2530221111756965,0.2575067660964495,0.2019477382742202,0.1499954614258277,0.2923116117853446,0.1469632013565573,0.2499434237996048,0.2797930607937324,0.2292624747025579,0.17351088213786758,0.1721512559882501,0.1655013371225883,0.4853117999589964,0.28040257365627896,0.18418211164789539,0.186150894497202,0.3040505911657105,0.25541820538834203,0.2745146885285505,0.17665011897764488,0.1931338969132807,0.2037578636106107,0.2069357999607041,0.2103961327483862,0.1639461092128655,0.2408569196348057,0.2735730947171736,0.33522869107889464,0.2403706195843484,0.3670914396648083,0.2894034186319746,0.25386043640940004,0.3653150202067988,0.2431817388437571,0.1756185615187735,0.299637950744464,0.2746924196282165,0.2146722268185438,0.2383731582250767,0.30008238866468173,0.2310465001912084,0.1526346915538768,0.4812301987968687,0.19047958254101732,0.18436037933518068,0.2489975930248542,0.3040741025846533,0.2339491282018265,0.1459476851476923,0.1976765034160926,0.2307350164124369,0.1978980254383724,0.37281191846945727,0.222895822423744,0.3469699771733672,0.1292935286024846,0.3303409953069327,0.2963593075639991,0.35198626746908745,0.1192128886843363,0.1244633725070032,0.18492275856307,0.2781794801512697,0.2552833532670335,0.24011220891514232,0.1944142752210086,0.4106436744669893,0.32470714617557517,0.3249826374782302,0.3338800006722973,0.2695784547908931,0.1882808576836256,0.3157142646177614,0.1909314275551404,0.24459860139053352,0.180311127733134,0.2270291106393146,0.28152910490461736,0.2776931602025481,0.2857494019583543,0.27284722678523077,0.2687643171168642,0.1972882599778886,0.2356744789381329,0.20049265539687489,0.2396109566162401,0.2604865444290197,0.2728018114474954,0.18733597627812698,0.2741972897254361,0.1737499860542592,0.2708672422903767,0.2244327856791952,0.2778829809005242,0.1705582975176514,0.1947337657867855,0.25895099365348606,0.2595505951363551,0.1722868826248499,0.1898635812354243,0.1853295527334152,0.3277079662303751,0.1039106738628493,0.1193903530162852,0.2258385157784852,0.16851738015196638,0.284770517522323,0.1611266971339883,0.2854679455819631,0.2715595000711867,0.24203976712714392,0.2802702606248511,0.2789946492266227,0.1710725792474696,0.377458371825539,0.2399397030852696,0.19302805201967,0.1650006834755836,0.2842879495338775,0.177254209036725,0.2769845128507737,0.2030665614397047,0.27073314131212967,0.161182521744199,0.1686788553849273],\"yaxis\":\"y\",\"type\":\"scatter\"}],                        {\"template\":{\"data\":{\"bar\":[{\"error_x\":{\"color\":\"#2a3f5f\"},\"error_y\":{\"color\":\"#2a3f5f\"},\"marker\":{\"line\":{\"color\":\"#E5ECF6\",\"width\":0.5},\"pattern\":{\"fillmode\":\"overlay\",\"size\":10,\"solidity\":0.2}},\"type\":\"bar\"}],\"barpolar\":[{\"marker\":{\"line\":{\"color\":\"#E5ECF6\",\"width\":0.5},\"pattern\":{\"fillmode\":\"overlay\",\"size\":10,\"solidity\":0.2}},\"type\":\"barpolar\"}],\"carpet\":[{\"aaxis\":{\"endlinecolor\":\"#2a3f5f\",\"gridcolor\":\"white\",\"linecolor\":\"white\",\"minorgridcolor\":\"white\",\"startlinecolor\":\"#2a3f5f\"},\"baxis\":{\"endlinecolor\":\"#2a3f5f\",\"gridcolor\":\"white\",\"linecolor\":\"white\",\"minorgridcolor\":\"white\",\"startlinecolor\":\"#2a3f5f\"},\"type\":\"carpet\"}],\"choropleth\":[{\"colorbar\":{\"outlinewidth\":0,\"ticks\":\"\"},\"type\":\"choropleth\"}],\"contour\":[{\"colorbar\":{\"outlinewidth\":0,\"ticks\":\"\"},\"colorscale\":[[0.0,\"#0d0887\"],[0.1111111111111111,\"#46039f\"],[0.2222222222222222,\"#7201a8\"],[0.3333333333333333,\"#9c179e\"],[0.4444444444444444,\"#bd3786\"],[0.5555555555555556,\"#d8576b\"],[0.6666666666666666,\"#ed7953\"],[0.7777777777777778,\"#fb9f3a\"],[0.8888888888888888,\"#fdca26\"],[1.0,\"#f0f921\"]],\"type\":\"contour\"}],\"contourcarpet\":[{\"colorbar\":{\"outlinewidth\":0,\"ticks\":\"\"},\"type\":\"contourcarpet\"}],\"heatmap\":[{\"colorbar\":{\"outlinewidth\":0,\"ticks\":\"\"},\"colorscale\":[[0.0,\"#0d0887\"],[0.1111111111111111,\"#46039f\"],[0.2222222222222222,\"#7201a8\"],[0.3333333333333333,\"#9c179e\"],[0.4444444444444444,\"#bd3786\"],[0.5555555555555556,\"#d8576b\"],[0.6666666666666666,\"#ed7953\"],[0.7777777777777778,\"#fb9f3a\"],[0.8888888888888888,\"#fdca26\"],[1.0,\"#f0f921\"]],\"type\":\"heatmap\"}],\"heatmapgl\":[{\"colorbar\":{\"outlinewidth\":0,\"ticks\":\"\"},\"colorscale\":[[0.0,\"#0d0887\"],[0.1111111111111111,\"#46039f\"],[0.2222222222222222,\"#7201a8\"],[0.3333333333333333,\"#9c179e\"],[0.4444444444444444,\"#bd3786\"],[0.5555555555555556,\"#d8576b\"],[0.6666666666666666,\"#ed7953\"],[0.7777777777777778,\"#fb9f3a\"],[0.8888888888888888,\"#fdca26\"],[1.0,\"#f0f921\"]],\"type\":\"heatmapgl\"}],\"histogram\":[{\"marker\":{\"pattern\":{\"fillmode\":\"overlay\",\"size\":10,\"solidity\":0.2}},\"type\":\"histogram\"}],\"histogram2d\":[{\"colorbar\":{\"outlinewidth\":0,\"ticks\":\"\"},\"colorscale\":[[0.0,\"#0d0887\"],[0.1111111111111111,\"#46039f\"],[0.2222222222222222,\"#7201a8\"],[0.3333333333333333,\"#9c179e\"],[0.4444444444444444,\"#bd3786\"],[0.5555555555555556,\"#d8576b\"],[0.6666666666666666,\"#ed7953\"],[0.7777777777777778,\"#fb9f3a\"],[0.8888888888888888,\"#fdca26\"],[1.0,\"#f0f921\"]],\"type\":\"histogram2d\"}],\"histogram2dcontour\":[{\"colorbar\":{\"outlinewidth\":0,\"ticks\":\"\"},\"colorscale\":[[0.0,\"#0d0887\"],[0.1111111111111111,\"#46039f\"],[0.2222222222222222,\"#7201a8\"],[0.3333333333333333,\"#9c179e\"],[0.4444444444444444,\"#bd3786\"],[0.5555555555555556,\"#d8576b\"],[0.6666666666666666,\"#ed7953\"],[0.7777777777777778,\"#fb9f3a\"],[0.8888888888888888,\"#fdca26\"],[1.0,\"#f0f921\"]],\"type\":\"histogram2dcontour\"}],\"mesh3d\":[{\"colorbar\":{\"outlinewidth\":0,\"ticks\":\"\"},\"type\":\"mesh3d\"}],\"parcoords\":[{\"line\":{\"colorbar\":{\"outlinewidth\":0,\"ticks\":\"\"}},\"type\":\"parcoords\"}],\"pie\":[{\"automargin\":true,\"type\":\"pie\"}],\"scatter\":[{\"marker\":{\"colorbar\":{\"outlinewidth\":0,\"ticks\":\"\"}},\"type\":\"scatter\"}],\"scatter3d\":[{\"line\":{\"colorbar\":{\"outlinewidth\":0,\"ticks\":\"\"}},\"marker\":{\"colorbar\":{\"outlinewidth\":0,\"ticks\":\"\"}},\"type\":\"scatter3d\"}],\"scattercarpet\":[{\"marker\":{\"colorbar\":{\"outlinewidth\":0,\"ticks\":\"\"}},\"type\":\"scattercarpet\"}],\"scattergeo\":[{\"marker\":{\"colorbar\":{\"outlinewidth\":0,\"ticks\":\"\"}},\"type\":\"scattergeo\"}],\"scattergl\":[{\"marker\":{\"colorbar\":{\"outlinewidth\":0,\"ticks\":\"\"}},\"type\":\"scattergl\"}],\"scattermapbox\":[{\"marker\":{\"colorbar\":{\"outlinewidth\":0,\"ticks\":\"\"}},\"type\":\"scattermapbox\"}],\"scatterpolar\":[{\"marker\":{\"colorbar\":{\"outlinewidth\":0,\"ticks\":\"\"}},\"type\":\"scatterpolar\"}],\"scatterpolargl\":[{\"marker\":{\"colorbar\":{\"outlinewidth\":0,\"ticks\":\"\"}},\"type\":\"scatterpolargl\"}],\"scatterternary\":[{\"marker\":{\"colorbar\":{\"outlinewidth\":0,\"ticks\":\"\"}},\"type\":\"scatterternary\"}],\"surface\":[{\"colorbar\":{\"outlinewidth\":0,\"ticks\":\"\"},\"colorscale\":[[0.0,\"#0d0887\"],[0.1111111111111111,\"#46039f\"],[0.2222222222222222,\"#7201a8\"],[0.3333333333333333,\"#9c179e\"],[0.4444444444444444,\"#bd3786\"],[0.5555555555555556,\"#d8576b\"],[0.6666666666666666,\"#ed7953\"],[0.7777777777777778,\"#fb9f3a\"],[0.8888888888888888,\"#fdca26\"],[1.0,\"#f0f921\"]],\"type\":\"surface\"}],\"table\":[{\"cells\":{\"fill\":{\"color\":\"#EBF0F8\"},\"line\":{\"color\":\"white\"}},\"header\":{\"fill\":{\"color\":\"#C8D4E3\"},\"line\":{\"color\":\"white\"}},\"type\":\"table\"}]},\"layout\":{\"annotationdefaults\":{\"arrowcolor\":\"#2a3f5f\",\"arrowhead\":0,\"arrowwidth\":1},\"autotypenumbers\":\"strict\",\"coloraxis\":{\"colorbar\":{\"outlinewidth\":0,\"ticks\":\"\"}},\"colorscale\":{\"diverging\":[[0,\"#8e0152\"],[0.1,\"#c51b7d\"],[0.2,\"#de77ae\"],[0.3,\"#f1b6da\"],[0.4,\"#fde0ef\"],[0.5,\"#f7f7f7\"],[0.6,\"#e6f5d0\"],[0.7,\"#b8e186\"],[0.8,\"#7fbc41\"],[0.9,\"#4d9221\"],[1,\"#276419\"]],\"sequential\":[[0.0,\"#0d0887\"],[0.1111111111111111,\"#46039f\"],[0.2222222222222222,\"#7201a8\"],[0.3333333333333333,\"#9c179e\"],[0.4444444444444444,\"#bd3786\"],[0.5555555555555556,\"#d8576b\"],[0.6666666666666666,\"#ed7953\"],[0.7777777777777778,\"#fb9f3a\"],[0.8888888888888888,\"#fdca26\"],[1.0,\"#f0f921\"]],\"sequentialminus\":[[0.0,\"#0d0887\"],[0.1111111111111111,\"#46039f\"],[0.2222222222222222,\"#7201a8\"],[0.3333333333333333,\"#9c179e\"],[0.4444444444444444,\"#bd3786\"],[0.5555555555555556,\"#d8576b\"],[0.6666666666666666,\"#ed7953\"],[0.7777777777777778,\"#fb9f3a\"],[0.8888888888888888,\"#fdca26\"],[1.0,\"#f0f921\"]]},\"colorway\":[\"#636efa\",\"#EF553B\",\"#00cc96\",\"#ab63fa\",\"#FFA15A\",\"#19d3f3\",\"#FF6692\",\"#B6E880\",\"#FF97FF\",\"#FECB52\"],\"font\":{\"color\":\"#2a3f5f\"},\"geo\":{\"bgcolor\":\"white\",\"lakecolor\":\"white\",\"landcolor\":\"#E5ECF6\",\"showlakes\":true,\"showland\":true,\"subunitcolor\":\"white\"},\"hoverlabel\":{\"align\":\"left\"},\"hovermode\":\"closest\",\"mapbox\":{\"style\":\"light\"},\"paper_bgcolor\":\"white\",\"plot_bgcolor\":\"#E5ECF6\",\"polar\":{\"angularaxis\":{\"gridcolor\":\"white\",\"linecolor\":\"white\",\"ticks\":\"\"},\"bgcolor\":\"#E5ECF6\",\"radialaxis\":{\"gridcolor\":\"white\",\"linecolor\":\"white\",\"ticks\":\"\"}},\"scene\":{\"xaxis\":{\"backgroundcolor\":\"#E5ECF6\",\"gridcolor\":\"white\",\"gridwidth\":2,\"linecolor\":\"white\",\"showbackground\":true,\"ticks\":\"\",\"zerolinecolor\":\"white\"},\"yaxis\":{\"backgroundcolor\":\"#E5ECF6\",\"gridcolor\":\"white\",\"gridwidth\":2,\"linecolor\":\"white\",\"showbackground\":true,\"ticks\":\"\",\"zerolinecolor\":\"white\"},\"zaxis\":{\"backgroundcolor\":\"#E5ECF6\",\"gridcolor\":\"white\",\"gridwidth\":2,\"linecolor\":\"white\",\"showbackground\":true,\"ticks\":\"\",\"zerolinecolor\":\"white\"}},\"shapedefaults\":{\"line\":{\"color\":\"#2a3f5f\"}},\"ternary\":{\"aaxis\":{\"gridcolor\":\"white\",\"linecolor\":\"white\",\"ticks\":\"\"},\"baxis\":{\"gridcolor\":\"white\",\"linecolor\":\"white\",\"ticks\":\"\"},\"bgcolor\":\"#E5ECF6\",\"caxis\":{\"gridcolor\":\"white\",\"linecolor\":\"white\",\"ticks\":\"\"}},\"title\":{\"x\":0.05},\"xaxis\":{\"automargin\":true,\"gridcolor\":\"white\",\"linecolor\":\"white\",\"ticks\":\"\",\"title\":{\"standoff\":15},\"zerolinecolor\":\"white\",\"zerolinewidth\":2},\"yaxis\":{\"automargin\":true,\"gridcolor\":\"white\",\"linecolor\":\"white\",\"ticks\":\"\",\"title\":{\"standoff\":15},\"zerolinecolor\":\"white\",\"zerolinewidth\":2}}},\"xaxis\":{\"anchor\":\"y\",\"domain\":[0.0,1.0],\"title\":{\"text\":\"evening\"}},\"yaxis\":{\"anchor\":\"x\",\"domain\":[0.0,1.0],\"title\":{\"text\":\"weekend\"}},\"coloraxis\":{\"colorbar\":{\"title\":{\"text\":\"cluster\"}},\"colorscale\":[[0.0,\"#0d0887\"],[0.1111111111111111,\"#46039f\"],[0.2222222222222222,\"#7201a8\"],[0.3333333333333333,\"#9c179e\"],[0.4444444444444444,\"#bd3786\"],[0.5555555555555556,\"#d8576b\"],[0.6666666666666666,\"#ed7953\"],[0.7777777777777778,\"#fb9f3a\"],[0.8888888888888888,\"#fdca26\"],[1.0,\"#f0f921\"]]},\"legend\":{\"tracegroupgap\":0},\"margin\":{\"t\":60}},                        {\"responsive\": true}                    ).then(function(){\n",
       "                            \n",
       "var gd = document.getElementById('3f3506af-7c66-4322-b2d8-2f6b9af70433');\n",
       "var x = new MutationObserver(function (mutations, observer) {{\n",
       "        var display = window.getComputedStyle(gd).display;\n",
       "        if (!display || display === 'none') {{\n",
       "            console.log([gd, 'removed!']);\n",
       "            Plotly.purge(gd);\n",
       "            observer.disconnect();\n",
       "        }}\n",
       "}});\n",
       "\n",
       "// Listen for the removal of the full notebook cells\n",
       "var notebookContainer = gd.closest('#notebook-container');\n",
       "if (notebookContainer) {{\n",
       "    x.observe(notebookContainer, {childList: true});\n",
       "}}\n",
       "\n",
       "// Listen for the clearing of the current output cell\n",
       "var outputEl = gd.closest('.output');\n",
       "if (outputEl) {{\n",
       "    x.observe(outputEl, {childList: true});\n",
       "}}\n",
       "\n",
       "                        })                };                });            </script>        </div>"
      ]
     },
     "metadata": {},
     "output_type": "display_data"
    },
    {
     "data": {
      "text/plain": [
       "<Figure size 7200x720 with 0 Axes>"
      ]
     },
     "metadata": {},
     "output_type": "display_data"
    }
   ],
   "source": [
    "fig = px.scatter(features, x='evening', y='weekend', color='cluster', hover_name=features.function, hover_data=features[['ID']])\n",
    "# make the figure bigger\n",
    "plt.figure(figsize=(100, 10))\n",
    "fig.update_traces(mode=\"markers\")   \n",
    "fig.show()"
   ]
  },
  {
   "cell_type": "code",
   "execution_count": 27,
   "metadata": {},
   "outputs": [
    {
     "data": {
      "application/vnd.plotly.v1+json": {
       "config": {
        "plotlyServerURL": "https://plot.ly"
       },
       "data": [
        {
         "customdata": [
          [
           1000
          ],
          [
           697
          ],
          [
           1419
          ],
          [
           149
          ],
          [
           469
          ],
          [
           633
          ],
          [
           692
          ],
          [
           694
          ],
          [
           988
          ],
          [
           1555
          ],
          [
           557
          ],
          [
           1648
          ],
          [
           374
          ],
          [
           1493
          ],
          [
           471
          ],
          [
           425
          ],
          [
           643
          ],
          [
           1254
          ],
          [
           485
          ],
          [
           1382
          ],
          [
           514
          ],
          [
           401
          ],
          [
           647
          ],
          [
           1501
          ],
          [
           862
          ],
          [
           1105
          ],
          [
           288
          ],
          [
           648
          ],
          [
           1086
          ],
          [
           1214
          ],
          [
           1708
          ],
          [
           1491
          ],
          [
           1363
          ],
          [
           1128
          ],
          [
           1377
          ],
          [
           1288
          ],
          [
           1511
          ],
          [
           184
          ],
          [
           911
          ],
          [
           409
          ],
          [
           1340
          ],
          [
           704
          ],
          [
           1411
          ],
          [
           1682
          ],
          [
           1346
          ],
          [
           1459
          ],
          [
           820
          ],
          [
           314
          ],
          [
           848
          ],
          [
           1564
          ],
          [
           1627
          ],
          [
           83
          ],
          [
           1482
          ],
          [
           802
          ],
          [
           1480
          ],
          [
           1311
          ],
          [
           627
          ],
          [
           1077
          ],
          [
           764
          ],
          [
           1415
          ],
          [
           1656
          ],
          [
           264
          ],
          [
           372
          ],
          [
           726
          ],
          [
           155
          ],
          [
           545
          ],
          [
           30
          ],
          [
           324
          ],
          [
           773
          ],
          [
           195
          ],
          [
           223
          ],
          [
           36
          ],
          [
           369
          ],
          [
           953
          ],
          [
           762
          ],
          [
           645
          ],
          [
           635
          ],
          [
           1466
          ],
          [
           1187
          ],
          [
           938
          ],
          [
           13
          ],
          [
           427
          ]
         ],
         "hovertemplate": "<b>%{hovertext}</b><br><br>evening=%{x}<br>weekend=%{y}<br>ID=%{customdata[0]}<br>cluster=%{marker.color}<extra></extra>",
         "hovertext": [
          "Administratief centrum",
          "Administratief centrum",
          "Administratief centrum",
          "Administratief centrum",
          "Administratief centrum",
          "Administratief centrum",
          "Administratief centrum",
          "Administratief centrum",
          "Administratief centrum",
          "Administratief centrum",
          "Administratief centrum",
          "Administratief centrum",
          "Administratief centrum",
          "Administratief centrum",
          "Administratief centrum",
          "Administratief centrum",
          "Administratief centrum",
          "Administratief centrum",
          "Administratief centrum",
          "Administratief centrum",
          "Administratief centrum",
          "Administratief centrum",
          "Administratief centrum",
          "Administratief centrum",
          "Administratief centrum",
          "Administratief centrum",
          "Administratief centrum",
          "Administratief centrum",
          "Administratief centrum",
          "Administratief centrum",
          "Administratief centrum",
          "Administratief centrum",
          "Administratief centrum",
          "Administratief centrum",
          "Administratief centrum",
          "Administratief centrum",
          "Administratief centrum",
          "Administratief centrum",
          "Administratief centrum",
          "Administratief centrum",
          "Administratief centrum",
          "Administratief centrum",
          "Administratief centrum",
          "Administratief centrum",
          "Administratief centrum",
          "Administratief centrum",
          "Administratief centrum",
          "Administratief centrum",
          "Administratief centrum",
          "Administratief centrum",
          "Administratief centrum",
          "Administratief centrum",
          "Administratief centrum",
          "Administratief centrum",
          "Administratief centrum",
          "Administratief centrum",
          "Administratief centrum",
          "Administratief centrum",
          "Administratief centrum",
          "Administratief centrum",
          "Administratief centrum",
          "Administratief centrum",
          "Administratief centrum",
          "Administratief centrum",
          "Administratief centrum",
          "Administratief centrum",
          "Administratief centrum",
          "Administratief centrum",
          "Administratief centrum",
          "Administratief centrum",
          "Administratief centrum",
          "Administratief centrum",
          "Administratief centrum",
          "Administratief centrum",
          "Administratief centrum",
          "Administratief centrum",
          "Administratief centrum",
          "Administratief centrum",
          "Administratief centrum",
          "Administratief centrum",
          "Administratief centrum",
          "Administratief centrum"
         ],
         "legendgroup": "",
         "marker": {
          "color": [
           0,
           3,
           4,
           0,
           0,
           3,
           4,
           0,
           0,
           0,
           0,
           3,
           0,
           0,
           0,
           0,
           0,
           0,
           0,
           1,
           4,
           3,
           4,
           0,
           0,
           0,
           3,
           0,
           0,
           0,
           3,
           3,
           0,
           4,
           3,
           3,
           0,
           0,
           0,
           0,
           3,
           3,
           0,
           0,
           4,
           0,
           0,
           0,
           0,
           0,
           3,
           4,
           4,
           0,
           4,
           0,
           0,
           4,
           2,
           3,
           0,
           4,
           0,
           2,
           0,
           0,
           0,
           0,
           0,
           4,
           0,
           0,
           0,
           0,
           0,
           4,
           0,
           0,
           0,
           3,
           0,
           0
          ],
          "coloraxis": "coloraxis",
          "symbol": "circle"
         },
         "mode": "markers",
         "name": "",
         "orientation": "v",
         "showlegend": false,
         "type": "scatter",
         "x": [
          0.40350302662362575,
          0.5227391963063573,
          0.44240170598996237,
          0.3755930564548524,
          0.3884404708078234,
          0.4077312047122806,
          0.35465311775804254,
          0.3436637532186204,
          0.25369249815119654,
          0.3564565298450797,
          0.4176080870979133,
          0.483604765864703,
          0.37374945699439627,
          0.3957386071231703,
          0.36016807278763663,
          0.36088164371535936,
          0.32747252497348445,
          0.4158686594293866,
          0.1590912001698963,
          0.6264245630013385,
          0.43209613508932854,
          0.48576857316844607,
          0.3282052603348078,
          0.39520850412036507,
          0.3546642417258401,
          0.3473298388898827,
          0.550720819361915,
          0.3546841619845833,
          0.38454727307921316,
          0.34635087742834514,
          0.43198990386303177,
          0.5059683522353216,
          0.3694114119998399,
          0.4258550699185205,
          0.4027361432208699,
          0.4253400408701673,
          0.39103653722757953,
          0.36807491594609215,
          0.37425398872826016,
          0.41418416969165484,
          0.518138473651775,
          0.4643640301010485,
          0.38229376036913787,
          0.3089376997024028,
          0.44848080327345485,
          0.38594934628907973,
          0.38306666007262996,
          0.3293856015513694,
          0.3432073171421188,
          0.38888432343865903,
          0.47303040579400857,
          0.45027300188551533,
          0.4307701004500213,
          0.4260523588570696,
          0.4040465843977374,
          0.40297069114014167,
          0.40585344019392994,
          0.4083629201647034,
          0.42835760857512256,
          0.4487876545755572,
          0.40746768061341154,
          0.3435955554859601,
          0.34660561745877155,
          0.4296042643692535,
          0.3739202013279539,
          0.4077282518305971,
          0.4109426138970545,
          0.38757469635852787,
          0.3559459205957441,
          0.3798035466992923,
          0.36620603203866936,
          0.36522121603731045,
          0.38076417056966266,
          0.36455455342687737,
          0.39756444150270986,
          0.4420780979903947,
          0.39497860894945686,
          0.39371593459442084,
          0.3667295410553496,
          0.4421002230476578,
          0.4174034909813963,
          0.3407699319081907
         ],
         "xaxis": "x",
         "y": [
          0.1884340243274218,
          0.3615345723724695,
          0.2414147764002217,
          0.2176448224210619,
          0.1881038731729218,
          0.2377319814305247,
          0.1895919601479905,
          0.1829624472100036,
          0.0944810152526897,
          0.1693477741481633,
          0.2033239849642039,
          0.2936150432452137,
          0.19801604822037128,
          0.1918526449615432,
          0.22348541977280278,
          0.2075558435969598,
          0.175852287795162,
          0.2075382141305545,
          0.13032638224939389,
          0.2823445851268911,
          0.2542722471546405,
          0.2823906294172005,
          0.1664965230332354,
          0.2041660175509844,
          0.183771001164831,
          0.1597840361977383,
          0.27518431795028486,
          0.2343826362874054,
          0.178353736411549,
          0.1673026706833422,
          0.2353414918911366,
          0.2346929002282725,
          0.17607562444763109,
          0.22600100972167592,
          0.2539323051388011,
          0.22251433356010258,
          0.1636953438692283,
          0.1820112155120771,
          0.1767441866443866,
          0.212486810089617,
          0.27784380509226847,
          0.2707800611891712,
          0.18903270426806928,
          0.1177833752749386,
          0.2244214121534882,
          0.2000781205151061,
          0.2026903123168894,
          0.1482413227841376,
          0.1743858926651586,
          0.2433556645773602,
          0.2317625376374522,
          0.2525448958776866,
          0.2428421610353363,
          0.19255724223702292,
          0.1995357290838497,
          0.2253769902771578,
          0.2173455407961005,
          0.22019657214066612,
          0.1553397456643255,
          0.4639954924313734,
          0.2078125578120703,
          0.2632043770127907,
          0.1333803258835822,
          0.2313059035327712,
          0.20149082011666158,
          0.21625256447329122,
          0.1871826115294351,
          0.203172975140058,
          0.17835478583665199,
          0.1872045779954829,
          0.18418211164789539,
          0.186150894497202,
          0.25541820538834203,
          0.17665011897764488,
          0.1526346915538768,
          0.2489975930248542,
          0.1978980254383724,
          0.1944142752210086,
          0.1909314275551404,
          0.2258385157784852,
          0.2030665614397047,
          0.1686788553849273
         ],
         "yaxis": "y"
        }
       ],
       "layout": {
        "coloraxis": {
         "colorbar": {
          "title": {
           "text": "cluster"
          }
         },
         "colorscale": [
          [
           0,
           "#0d0887"
          ],
          [
           0.1111111111111111,
           "#46039f"
          ],
          [
           0.2222222222222222,
           "#7201a8"
          ],
          [
           0.3333333333333333,
           "#9c179e"
          ],
          [
           0.4444444444444444,
           "#bd3786"
          ],
          [
           0.5555555555555556,
           "#d8576b"
          ],
          [
           0.6666666666666666,
           "#ed7953"
          ],
          [
           0.7777777777777778,
           "#fb9f3a"
          ],
          [
           0.8888888888888888,
           "#fdca26"
          ],
          [
           1,
           "#f0f921"
          ]
         ]
        },
        "legend": {
         "tracegroupgap": 0
        },
        "margin": {
         "t": 60
        },
        "template": {
         "data": {
          "bar": [
           {
            "error_x": {
             "color": "#2a3f5f"
            },
            "error_y": {
             "color": "#2a3f5f"
            },
            "marker": {
             "line": {
              "color": "#E5ECF6",
              "width": 0.5
             },
             "pattern": {
              "fillmode": "overlay",
              "size": 10,
              "solidity": 0.2
             }
            },
            "type": "bar"
           }
          ],
          "barpolar": [
           {
            "marker": {
             "line": {
              "color": "#E5ECF6",
              "width": 0.5
             },
             "pattern": {
              "fillmode": "overlay",
              "size": 10,
              "solidity": 0.2
             }
            },
            "type": "barpolar"
           }
          ],
          "carpet": [
           {
            "aaxis": {
             "endlinecolor": "#2a3f5f",
             "gridcolor": "white",
             "linecolor": "white",
             "minorgridcolor": "white",
             "startlinecolor": "#2a3f5f"
            },
            "baxis": {
             "endlinecolor": "#2a3f5f",
             "gridcolor": "white",
             "linecolor": "white",
             "minorgridcolor": "white",
             "startlinecolor": "#2a3f5f"
            },
            "type": "carpet"
           }
          ],
          "choropleth": [
           {
            "colorbar": {
             "outlinewidth": 0,
             "ticks": ""
            },
            "type": "choropleth"
           }
          ],
          "contour": [
           {
            "colorbar": {
             "outlinewidth": 0,
             "ticks": ""
            },
            "colorscale": [
             [
              0,
              "#0d0887"
             ],
             [
              0.1111111111111111,
              "#46039f"
             ],
             [
              0.2222222222222222,
              "#7201a8"
             ],
             [
              0.3333333333333333,
              "#9c179e"
             ],
             [
              0.4444444444444444,
              "#bd3786"
             ],
             [
              0.5555555555555556,
              "#d8576b"
             ],
             [
              0.6666666666666666,
              "#ed7953"
             ],
             [
              0.7777777777777778,
              "#fb9f3a"
             ],
             [
              0.8888888888888888,
              "#fdca26"
             ],
             [
              1,
              "#f0f921"
             ]
            ],
            "type": "contour"
           }
          ],
          "contourcarpet": [
           {
            "colorbar": {
             "outlinewidth": 0,
             "ticks": ""
            },
            "type": "contourcarpet"
           }
          ],
          "heatmap": [
           {
            "colorbar": {
             "outlinewidth": 0,
             "ticks": ""
            },
            "colorscale": [
             [
              0,
              "#0d0887"
             ],
             [
              0.1111111111111111,
              "#46039f"
             ],
             [
              0.2222222222222222,
              "#7201a8"
             ],
             [
              0.3333333333333333,
              "#9c179e"
             ],
             [
              0.4444444444444444,
              "#bd3786"
             ],
             [
              0.5555555555555556,
              "#d8576b"
             ],
             [
              0.6666666666666666,
              "#ed7953"
             ],
             [
              0.7777777777777778,
              "#fb9f3a"
             ],
             [
              0.8888888888888888,
              "#fdca26"
             ],
             [
              1,
              "#f0f921"
             ]
            ],
            "type": "heatmap"
           }
          ],
          "heatmapgl": [
           {
            "colorbar": {
             "outlinewidth": 0,
             "ticks": ""
            },
            "colorscale": [
             [
              0,
              "#0d0887"
             ],
             [
              0.1111111111111111,
              "#46039f"
             ],
             [
              0.2222222222222222,
              "#7201a8"
             ],
             [
              0.3333333333333333,
              "#9c179e"
             ],
             [
              0.4444444444444444,
              "#bd3786"
             ],
             [
              0.5555555555555556,
              "#d8576b"
             ],
             [
              0.6666666666666666,
              "#ed7953"
             ],
             [
              0.7777777777777778,
              "#fb9f3a"
             ],
             [
              0.8888888888888888,
              "#fdca26"
             ],
             [
              1,
              "#f0f921"
             ]
            ],
            "type": "heatmapgl"
           }
          ],
          "histogram": [
           {
            "marker": {
             "pattern": {
              "fillmode": "overlay",
              "size": 10,
              "solidity": 0.2
             }
            },
            "type": "histogram"
           }
          ],
          "histogram2d": [
           {
            "colorbar": {
             "outlinewidth": 0,
             "ticks": ""
            },
            "colorscale": [
             [
              0,
              "#0d0887"
             ],
             [
              0.1111111111111111,
              "#46039f"
             ],
             [
              0.2222222222222222,
              "#7201a8"
             ],
             [
              0.3333333333333333,
              "#9c179e"
             ],
             [
              0.4444444444444444,
              "#bd3786"
             ],
             [
              0.5555555555555556,
              "#d8576b"
             ],
             [
              0.6666666666666666,
              "#ed7953"
             ],
             [
              0.7777777777777778,
              "#fb9f3a"
             ],
             [
              0.8888888888888888,
              "#fdca26"
             ],
             [
              1,
              "#f0f921"
             ]
            ],
            "type": "histogram2d"
           }
          ],
          "histogram2dcontour": [
           {
            "colorbar": {
             "outlinewidth": 0,
             "ticks": ""
            },
            "colorscale": [
             [
              0,
              "#0d0887"
             ],
             [
              0.1111111111111111,
              "#46039f"
             ],
             [
              0.2222222222222222,
              "#7201a8"
             ],
             [
              0.3333333333333333,
              "#9c179e"
             ],
             [
              0.4444444444444444,
              "#bd3786"
             ],
             [
              0.5555555555555556,
              "#d8576b"
             ],
             [
              0.6666666666666666,
              "#ed7953"
             ],
             [
              0.7777777777777778,
              "#fb9f3a"
             ],
             [
              0.8888888888888888,
              "#fdca26"
             ],
             [
              1,
              "#f0f921"
             ]
            ],
            "type": "histogram2dcontour"
           }
          ],
          "mesh3d": [
           {
            "colorbar": {
             "outlinewidth": 0,
             "ticks": ""
            },
            "type": "mesh3d"
           }
          ],
          "parcoords": [
           {
            "line": {
             "colorbar": {
              "outlinewidth": 0,
              "ticks": ""
             }
            },
            "type": "parcoords"
           }
          ],
          "pie": [
           {
            "automargin": true,
            "type": "pie"
           }
          ],
          "scatter": [
           {
            "marker": {
             "colorbar": {
              "outlinewidth": 0,
              "ticks": ""
             }
            },
            "type": "scatter"
           }
          ],
          "scatter3d": [
           {
            "line": {
             "colorbar": {
              "outlinewidth": 0,
              "ticks": ""
             }
            },
            "marker": {
             "colorbar": {
              "outlinewidth": 0,
              "ticks": ""
             }
            },
            "type": "scatter3d"
           }
          ],
          "scattercarpet": [
           {
            "marker": {
             "colorbar": {
              "outlinewidth": 0,
              "ticks": ""
             }
            },
            "type": "scattercarpet"
           }
          ],
          "scattergeo": [
           {
            "marker": {
             "colorbar": {
              "outlinewidth": 0,
              "ticks": ""
             }
            },
            "type": "scattergeo"
           }
          ],
          "scattergl": [
           {
            "marker": {
             "colorbar": {
              "outlinewidth": 0,
              "ticks": ""
             }
            },
            "type": "scattergl"
           }
          ],
          "scattermapbox": [
           {
            "marker": {
             "colorbar": {
              "outlinewidth": 0,
              "ticks": ""
             }
            },
            "type": "scattermapbox"
           }
          ],
          "scatterpolar": [
           {
            "marker": {
             "colorbar": {
              "outlinewidth": 0,
              "ticks": ""
             }
            },
            "type": "scatterpolar"
           }
          ],
          "scatterpolargl": [
           {
            "marker": {
             "colorbar": {
              "outlinewidth": 0,
              "ticks": ""
             }
            },
            "type": "scatterpolargl"
           }
          ],
          "scatterternary": [
           {
            "marker": {
             "colorbar": {
              "outlinewidth": 0,
              "ticks": ""
             }
            },
            "type": "scatterternary"
           }
          ],
          "surface": [
           {
            "colorbar": {
             "outlinewidth": 0,
             "ticks": ""
            },
            "colorscale": [
             [
              0,
              "#0d0887"
             ],
             [
              0.1111111111111111,
              "#46039f"
             ],
             [
              0.2222222222222222,
              "#7201a8"
             ],
             [
              0.3333333333333333,
              "#9c179e"
             ],
             [
              0.4444444444444444,
              "#bd3786"
             ],
             [
              0.5555555555555556,
              "#d8576b"
             ],
             [
              0.6666666666666666,
              "#ed7953"
             ],
             [
              0.7777777777777778,
              "#fb9f3a"
             ],
             [
              0.8888888888888888,
              "#fdca26"
             ],
             [
              1,
              "#f0f921"
             ]
            ],
            "type": "surface"
           }
          ],
          "table": [
           {
            "cells": {
             "fill": {
              "color": "#EBF0F8"
             },
             "line": {
              "color": "white"
             }
            },
            "header": {
             "fill": {
              "color": "#C8D4E3"
             },
             "line": {
              "color": "white"
             }
            },
            "type": "table"
           }
          ]
         },
         "layout": {
          "annotationdefaults": {
           "arrowcolor": "#2a3f5f",
           "arrowhead": 0,
           "arrowwidth": 1
          },
          "autotypenumbers": "strict",
          "coloraxis": {
           "colorbar": {
            "outlinewidth": 0,
            "ticks": ""
           }
          },
          "colorscale": {
           "diverging": [
            [
             0,
             "#8e0152"
            ],
            [
             0.1,
             "#c51b7d"
            ],
            [
             0.2,
             "#de77ae"
            ],
            [
             0.3,
             "#f1b6da"
            ],
            [
             0.4,
             "#fde0ef"
            ],
            [
             0.5,
             "#f7f7f7"
            ],
            [
             0.6,
             "#e6f5d0"
            ],
            [
             0.7,
             "#b8e186"
            ],
            [
             0.8,
             "#7fbc41"
            ],
            [
             0.9,
             "#4d9221"
            ],
            [
             1,
             "#276419"
            ]
           ],
           "sequential": [
            [
             0,
             "#0d0887"
            ],
            [
             0.1111111111111111,
             "#46039f"
            ],
            [
             0.2222222222222222,
             "#7201a8"
            ],
            [
             0.3333333333333333,
             "#9c179e"
            ],
            [
             0.4444444444444444,
             "#bd3786"
            ],
            [
             0.5555555555555556,
             "#d8576b"
            ],
            [
             0.6666666666666666,
             "#ed7953"
            ],
            [
             0.7777777777777778,
             "#fb9f3a"
            ],
            [
             0.8888888888888888,
             "#fdca26"
            ],
            [
             1,
             "#f0f921"
            ]
           ],
           "sequentialminus": [
            [
             0,
             "#0d0887"
            ],
            [
             0.1111111111111111,
             "#46039f"
            ],
            [
             0.2222222222222222,
             "#7201a8"
            ],
            [
             0.3333333333333333,
             "#9c179e"
            ],
            [
             0.4444444444444444,
             "#bd3786"
            ],
            [
             0.5555555555555556,
             "#d8576b"
            ],
            [
             0.6666666666666666,
             "#ed7953"
            ],
            [
             0.7777777777777778,
             "#fb9f3a"
            ],
            [
             0.8888888888888888,
             "#fdca26"
            ],
            [
             1,
             "#f0f921"
            ]
           ]
          },
          "colorway": [
           "#636efa",
           "#EF553B",
           "#00cc96",
           "#ab63fa",
           "#FFA15A",
           "#19d3f3",
           "#FF6692",
           "#B6E880",
           "#FF97FF",
           "#FECB52"
          ],
          "font": {
           "color": "#2a3f5f"
          },
          "geo": {
           "bgcolor": "white",
           "lakecolor": "white",
           "landcolor": "#E5ECF6",
           "showlakes": true,
           "showland": true,
           "subunitcolor": "white"
          },
          "hoverlabel": {
           "align": "left"
          },
          "hovermode": "closest",
          "mapbox": {
           "style": "light"
          },
          "paper_bgcolor": "white",
          "plot_bgcolor": "#E5ECF6",
          "polar": {
           "angularaxis": {
            "gridcolor": "white",
            "linecolor": "white",
            "ticks": ""
           },
           "bgcolor": "#E5ECF6",
           "radialaxis": {
            "gridcolor": "white",
            "linecolor": "white",
            "ticks": ""
           }
          },
          "scene": {
           "xaxis": {
            "backgroundcolor": "#E5ECF6",
            "gridcolor": "white",
            "gridwidth": 2,
            "linecolor": "white",
            "showbackground": true,
            "ticks": "",
            "zerolinecolor": "white"
           },
           "yaxis": {
            "backgroundcolor": "#E5ECF6",
            "gridcolor": "white",
            "gridwidth": 2,
            "linecolor": "white",
            "showbackground": true,
            "ticks": "",
            "zerolinecolor": "white"
           },
           "zaxis": {
            "backgroundcolor": "#E5ECF6",
            "gridcolor": "white",
            "gridwidth": 2,
            "linecolor": "white",
            "showbackground": true,
            "ticks": "",
            "zerolinecolor": "white"
           }
          },
          "shapedefaults": {
           "line": {
            "color": "#2a3f5f"
           }
          },
          "ternary": {
           "aaxis": {
            "gridcolor": "white",
            "linecolor": "white",
            "ticks": ""
           },
           "baxis": {
            "gridcolor": "white",
            "linecolor": "white",
            "ticks": ""
           },
           "bgcolor": "#E5ECF6",
           "caxis": {
            "gridcolor": "white",
            "linecolor": "white",
            "ticks": ""
           }
          },
          "title": {
           "x": 0.05
          },
          "xaxis": {
           "automargin": true,
           "gridcolor": "white",
           "linecolor": "white",
           "ticks": "",
           "title": {
            "standoff": 15
           },
           "zerolinecolor": "white",
           "zerolinewidth": 2
          },
          "yaxis": {
           "automargin": true,
           "gridcolor": "white",
           "linecolor": "white",
           "ticks": "",
           "title": {
            "standoff": 15
           },
           "zerolinecolor": "white",
           "zerolinewidth": 2
          }
         }
        },
        "xaxis": {
         "anchor": "y",
         "domain": [
          0,
          1
         ],
         "title": {
          "text": "evening"
         }
        },
        "yaxis": {
         "anchor": "x",
         "domain": [
          0,
          1
         ],
         "title": {
          "text": "weekend"
         }
        }
       }
      },
      "text/html": [
       "<div>                            <div id=\"dcd6f588-7886-40da-bab1-32a9060cdadd\" class=\"plotly-graph-div\" style=\"height:525px; width:100%;\"></div>            <script type=\"text/javascript\">                require([\"plotly\"], function(Plotly) {                    window.PLOTLYENV=window.PLOTLYENV || {};                                    if (document.getElementById(\"dcd6f588-7886-40da-bab1-32a9060cdadd\")) {                    Plotly.newPlot(                        \"dcd6f588-7886-40da-bab1-32a9060cdadd\",                        [{\"customdata\":[[1000],[697],[1419],[149],[469],[633],[692],[694],[988],[1555],[557],[1648],[374],[1493],[471],[425],[643],[1254],[485],[1382],[514],[401],[647],[1501],[862],[1105],[288],[648],[1086],[1214],[1708],[1491],[1363],[1128],[1377],[1288],[1511],[184],[911],[409],[1340],[704],[1411],[1682],[1346],[1459],[820],[314],[848],[1564],[1627],[83],[1482],[802],[1480],[1311],[627],[1077],[764],[1415],[1656],[264],[372],[726],[155],[545],[30],[324],[773],[195],[223],[36],[369],[953],[762],[645],[635],[1466],[1187],[938],[13],[427]],\"hovertemplate\":\"<b>%{hovertext}</b><br><br>evening=%{x}<br>weekend=%{y}<br>ID=%{customdata[0]}<br>cluster=%{marker.color}<extra></extra>\",\"hovertext\":[\"Administratief centrum\",\"Administratief centrum\",\"Administratief centrum\",\"Administratief centrum\",\"Administratief centrum\",\"Administratief centrum\",\"Administratief centrum\",\"Administratief centrum\",\"Administratief centrum\",\"Administratief centrum\",\"Administratief centrum\",\"Administratief centrum\",\"Administratief centrum\",\"Administratief centrum\",\"Administratief centrum\",\"Administratief centrum\",\"Administratief centrum\",\"Administratief centrum\",\"Administratief centrum\",\"Administratief centrum\",\"Administratief centrum\",\"Administratief centrum\",\"Administratief centrum\",\"Administratief centrum\",\"Administratief centrum\",\"Administratief centrum\",\"Administratief centrum\",\"Administratief centrum\",\"Administratief centrum\",\"Administratief centrum\",\"Administratief centrum\",\"Administratief centrum\",\"Administratief centrum\",\"Administratief centrum\",\"Administratief centrum\",\"Administratief centrum\",\"Administratief centrum\",\"Administratief centrum\",\"Administratief centrum\",\"Administratief centrum\",\"Administratief centrum\",\"Administratief centrum\",\"Administratief centrum\",\"Administratief centrum\",\"Administratief centrum\",\"Administratief centrum\",\"Administratief centrum\",\"Administratief centrum\",\"Administratief centrum\",\"Administratief centrum\",\"Administratief centrum\",\"Administratief centrum\",\"Administratief centrum\",\"Administratief centrum\",\"Administratief centrum\",\"Administratief centrum\",\"Administratief centrum\",\"Administratief centrum\",\"Administratief centrum\",\"Administratief centrum\",\"Administratief centrum\",\"Administratief centrum\",\"Administratief centrum\",\"Administratief centrum\",\"Administratief centrum\",\"Administratief centrum\",\"Administratief centrum\",\"Administratief centrum\",\"Administratief centrum\",\"Administratief centrum\",\"Administratief centrum\",\"Administratief centrum\",\"Administratief centrum\",\"Administratief centrum\",\"Administratief centrum\",\"Administratief centrum\",\"Administratief centrum\",\"Administratief centrum\",\"Administratief centrum\",\"Administratief centrum\",\"Administratief centrum\",\"Administratief centrum\"],\"legendgroup\":\"\",\"marker\":{\"color\":[0,3,4,0,0,3,4,0,0,0,0,3,0,0,0,0,0,0,0,1,4,3,4,0,0,0,3,0,0,0,3,3,0,4,3,3,0,0,0,0,3,3,0,0,4,0,0,0,0,0,3,4,4,0,4,0,0,4,2,3,0,4,0,2,0,0,0,0,0,4,0,0,0,0,0,4,0,0,0,3,0,0],\"coloraxis\":\"coloraxis\",\"symbol\":\"circle\"},\"mode\":\"markers\",\"name\":\"\",\"orientation\":\"v\",\"showlegend\":false,\"x\":[0.40350302662362575,0.5227391963063573,0.44240170598996237,0.3755930564548524,0.3884404708078234,0.4077312047122806,0.35465311775804254,0.3436637532186204,0.25369249815119654,0.3564565298450797,0.4176080870979133,0.483604765864703,0.37374945699439627,0.3957386071231703,0.36016807278763663,0.36088164371535936,0.32747252497348445,0.4158686594293866,0.1590912001698963,0.6264245630013385,0.43209613508932854,0.48576857316844607,0.3282052603348078,0.39520850412036507,0.3546642417258401,0.3473298388898827,0.550720819361915,0.3546841619845833,0.38454727307921316,0.34635087742834514,0.43198990386303177,0.5059683522353216,0.3694114119998399,0.4258550699185205,0.4027361432208699,0.4253400408701673,0.39103653722757953,0.36807491594609215,0.37425398872826016,0.41418416969165484,0.518138473651775,0.4643640301010485,0.38229376036913787,0.3089376997024028,0.44848080327345485,0.38594934628907973,0.38306666007262996,0.3293856015513694,0.3432073171421188,0.38888432343865903,0.47303040579400857,0.45027300188551533,0.4307701004500213,0.4260523588570696,0.4040465843977374,0.40297069114014167,0.40585344019392994,0.4083629201647034,0.42835760857512256,0.4487876545755572,0.40746768061341154,0.3435955554859601,0.34660561745877155,0.4296042643692535,0.3739202013279539,0.4077282518305971,0.4109426138970545,0.38757469635852787,0.3559459205957441,0.3798035466992923,0.36620603203866936,0.36522121603731045,0.38076417056966266,0.36455455342687737,0.39756444150270986,0.4420780979903947,0.39497860894945686,0.39371593459442084,0.3667295410553496,0.4421002230476578,0.4174034909813963,0.3407699319081907],\"xaxis\":\"x\",\"y\":[0.1884340243274218,0.3615345723724695,0.2414147764002217,0.2176448224210619,0.1881038731729218,0.2377319814305247,0.1895919601479905,0.1829624472100036,0.0944810152526897,0.1693477741481633,0.2033239849642039,0.2936150432452137,0.19801604822037128,0.1918526449615432,0.22348541977280278,0.2075558435969598,0.175852287795162,0.2075382141305545,0.13032638224939389,0.2823445851268911,0.2542722471546405,0.2823906294172005,0.1664965230332354,0.2041660175509844,0.183771001164831,0.1597840361977383,0.27518431795028486,0.2343826362874054,0.178353736411549,0.1673026706833422,0.2353414918911366,0.2346929002282725,0.17607562444763109,0.22600100972167592,0.2539323051388011,0.22251433356010258,0.1636953438692283,0.1820112155120771,0.1767441866443866,0.212486810089617,0.27784380509226847,0.2707800611891712,0.18903270426806928,0.1177833752749386,0.2244214121534882,0.2000781205151061,0.2026903123168894,0.1482413227841376,0.1743858926651586,0.2433556645773602,0.2317625376374522,0.2525448958776866,0.2428421610353363,0.19255724223702292,0.1995357290838497,0.2253769902771578,0.2173455407961005,0.22019657214066612,0.1553397456643255,0.4639954924313734,0.2078125578120703,0.2632043770127907,0.1333803258835822,0.2313059035327712,0.20149082011666158,0.21625256447329122,0.1871826115294351,0.203172975140058,0.17835478583665199,0.1872045779954829,0.18418211164789539,0.186150894497202,0.25541820538834203,0.17665011897764488,0.1526346915538768,0.2489975930248542,0.1978980254383724,0.1944142752210086,0.1909314275551404,0.2258385157784852,0.2030665614397047,0.1686788553849273],\"yaxis\":\"y\",\"type\":\"scatter\"}],                        {\"template\":{\"data\":{\"bar\":[{\"error_x\":{\"color\":\"#2a3f5f\"},\"error_y\":{\"color\":\"#2a3f5f\"},\"marker\":{\"line\":{\"color\":\"#E5ECF6\",\"width\":0.5},\"pattern\":{\"fillmode\":\"overlay\",\"size\":10,\"solidity\":0.2}},\"type\":\"bar\"}],\"barpolar\":[{\"marker\":{\"line\":{\"color\":\"#E5ECF6\",\"width\":0.5},\"pattern\":{\"fillmode\":\"overlay\",\"size\":10,\"solidity\":0.2}},\"type\":\"barpolar\"}],\"carpet\":[{\"aaxis\":{\"endlinecolor\":\"#2a3f5f\",\"gridcolor\":\"white\",\"linecolor\":\"white\",\"minorgridcolor\":\"white\",\"startlinecolor\":\"#2a3f5f\"},\"baxis\":{\"endlinecolor\":\"#2a3f5f\",\"gridcolor\":\"white\",\"linecolor\":\"white\",\"minorgridcolor\":\"white\",\"startlinecolor\":\"#2a3f5f\"},\"type\":\"carpet\"}],\"choropleth\":[{\"colorbar\":{\"outlinewidth\":0,\"ticks\":\"\"},\"type\":\"choropleth\"}],\"contour\":[{\"colorbar\":{\"outlinewidth\":0,\"ticks\":\"\"},\"colorscale\":[[0.0,\"#0d0887\"],[0.1111111111111111,\"#46039f\"],[0.2222222222222222,\"#7201a8\"],[0.3333333333333333,\"#9c179e\"],[0.4444444444444444,\"#bd3786\"],[0.5555555555555556,\"#d8576b\"],[0.6666666666666666,\"#ed7953\"],[0.7777777777777778,\"#fb9f3a\"],[0.8888888888888888,\"#fdca26\"],[1.0,\"#f0f921\"]],\"type\":\"contour\"}],\"contourcarpet\":[{\"colorbar\":{\"outlinewidth\":0,\"ticks\":\"\"},\"type\":\"contourcarpet\"}],\"heatmap\":[{\"colorbar\":{\"outlinewidth\":0,\"ticks\":\"\"},\"colorscale\":[[0.0,\"#0d0887\"],[0.1111111111111111,\"#46039f\"],[0.2222222222222222,\"#7201a8\"],[0.3333333333333333,\"#9c179e\"],[0.4444444444444444,\"#bd3786\"],[0.5555555555555556,\"#d8576b\"],[0.6666666666666666,\"#ed7953\"],[0.7777777777777778,\"#fb9f3a\"],[0.8888888888888888,\"#fdca26\"],[1.0,\"#f0f921\"]],\"type\":\"heatmap\"}],\"heatmapgl\":[{\"colorbar\":{\"outlinewidth\":0,\"ticks\":\"\"},\"colorscale\":[[0.0,\"#0d0887\"],[0.1111111111111111,\"#46039f\"],[0.2222222222222222,\"#7201a8\"],[0.3333333333333333,\"#9c179e\"],[0.4444444444444444,\"#bd3786\"],[0.5555555555555556,\"#d8576b\"],[0.6666666666666666,\"#ed7953\"],[0.7777777777777778,\"#fb9f3a\"],[0.8888888888888888,\"#fdca26\"],[1.0,\"#f0f921\"]],\"type\":\"heatmapgl\"}],\"histogram\":[{\"marker\":{\"pattern\":{\"fillmode\":\"overlay\",\"size\":10,\"solidity\":0.2}},\"type\":\"histogram\"}],\"histogram2d\":[{\"colorbar\":{\"outlinewidth\":0,\"ticks\":\"\"},\"colorscale\":[[0.0,\"#0d0887\"],[0.1111111111111111,\"#46039f\"],[0.2222222222222222,\"#7201a8\"],[0.3333333333333333,\"#9c179e\"],[0.4444444444444444,\"#bd3786\"],[0.5555555555555556,\"#d8576b\"],[0.6666666666666666,\"#ed7953\"],[0.7777777777777778,\"#fb9f3a\"],[0.8888888888888888,\"#fdca26\"],[1.0,\"#f0f921\"]],\"type\":\"histogram2d\"}],\"histogram2dcontour\":[{\"colorbar\":{\"outlinewidth\":0,\"ticks\":\"\"},\"colorscale\":[[0.0,\"#0d0887\"],[0.1111111111111111,\"#46039f\"],[0.2222222222222222,\"#7201a8\"],[0.3333333333333333,\"#9c179e\"],[0.4444444444444444,\"#bd3786\"],[0.5555555555555556,\"#d8576b\"],[0.6666666666666666,\"#ed7953\"],[0.7777777777777778,\"#fb9f3a\"],[0.8888888888888888,\"#fdca26\"],[1.0,\"#f0f921\"]],\"type\":\"histogram2dcontour\"}],\"mesh3d\":[{\"colorbar\":{\"outlinewidth\":0,\"ticks\":\"\"},\"type\":\"mesh3d\"}],\"parcoords\":[{\"line\":{\"colorbar\":{\"outlinewidth\":0,\"ticks\":\"\"}},\"type\":\"parcoords\"}],\"pie\":[{\"automargin\":true,\"type\":\"pie\"}],\"scatter\":[{\"marker\":{\"colorbar\":{\"outlinewidth\":0,\"ticks\":\"\"}},\"type\":\"scatter\"}],\"scatter3d\":[{\"line\":{\"colorbar\":{\"outlinewidth\":0,\"ticks\":\"\"}},\"marker\":{\"colorbar\":{\"outlinewidth\":0,\"ticks\":\"\"}},\"type\":\"scatter3d\"}],\"scattercarpet\":[{\"marker\":{\"colorbar\":{\"outlinewidth\":0,\"ticks\":\"\"}},\"type\":\"scattercarpet\"}],\"scattergeo\":[{\"marker\":{\"colorbar\":{\"outlinewidth\":0,\"ticks\":\"\"}},\"type\":\"scattergeo\"}],\"scattergl\":[{\"marker\":{\"colorbar\":{\"outlinewidth\":0,\"ticks\":\"\"}},\"type\":\"scattergl\"}],\"scattermapbox\":[{\"marker\":{\"colorbar\":{\"outlinewidth\":0,\"ticks\":\"\"}},\"type\":\"scattermapbox\"}],\"scatterpolar\":[{\"marker\":{\"colorbar\":{\"outlinewidth\":0,\"ticks\":\"\"}},\"type\":\"scatterpolar\"}],\"scatterpolargl\":[{\"marker\":{\"colorbar\":{\"outlinewidth\":0,\"ticks\":\"\"}},\"type\":\"scatterpolargl\"}],\"scatterternary\":[{\"marker\":{\"colorbar\":{\"outlinewidth\":0,\"ticks\":\"\"}},\"type\":\"scatterternary\"}],\"surface\":[{\"colorbar\":{\"outlinewidth\":0,\"ticks\":\"\"},\"colorscale\":[[0.0,\"#0d0887\"],[0.1111111111111111,\"#46039f\"],[0.2222222222222222,\"#7201a8\"],[0.3333333333333333,\"#9c179e\"],[0.4444444444444444,\"#bd3786\"],[0.5555555555555556,\"#d8576b\"],[0.6666666666666666,\"#ed7953\"],[0.7777777777777778,\"#fb9f3a\"],[0.8888888888888888,\"#fdca26\"],[1.0,\"#f0f921\"]],\"type\":\"surface\"}],\"table\":[{\"cells\":{\"fill\":{\"color\":\"#EBF0F8\"},\"line\":{\"color\":\"white\"}},\"header\":{\"fill\":{\"color\":\"#C8D4E3\"},\"line\":{\"color\":\"white\"}},\"type\":\"table\"}]},\"layout\":{\"annotationdefaults\":{\"arrowcolor\":\"#2a3f5f\",\"arrowhead\":0,\"arrowwidth\":1},\"autotypenumbers\":\"strict\",\"coloraxis\":{\"colorbar\":{\"outlinewidth\":0,\"ticks\":\"\"}},\"colorscale\":{\"diverging\":[[0,\"#8e0152\"],[0.1,\"#c51b7d\"],[0.2,\"#de77ae\"],[0.3,\"#f1b6da\"],[0.4,\"#fde0ef\"],[0.5,\"#f7f7f7\"],[0.6,\"#e6f5d0\"],[0.7,\"#b8e186\"],[0.8,\"#7fbc41\"],[0.9,\"#4d9221\"],[1,\"#276419\"]],\"sequential\":[[0.0,\"#0d0887\"],[0.1111111111111111,\"#46039f\"],[0.2222222222222222,\"#7201a8\"],[0.3333333333333333,\"#9c179e\"],[0.4444444444444444,\"#bd3786\"],[0.5555555555555556,\"#d8576b\"],[0.6666666666666666,\"#ed7953\"],[0.7777777777777778,\"#fb9f3a\"],[0.8888888888888888,\"#fdca26\"],[1.0,\"#f0f921\"]],\"sequentialminus\":[[0.0,\"#0d0887\"],[0.1111111111111111,\"#46039f\"],[0.2222222222222222,\"#7201a8\"],[0.3333333333333333,\"#9c179e\"],[0.4444444444444444,\"#bd3786\"],[0.5555555555555556,\"#d8576b\"],[0.6666666666666666,\"#ed7953\"],[0.7777777777777778,\"#fb9f3a\"],[0.8888888888888888,\"#fdca26\"],[1.0,\"#f0f921\"]]},\"colorway\":[\"#636efa\",\"#EF553B\",\"#00cc96\",\"#ab63fa\",\"#FFA15A\",\"#19d3f3\",\"#FF6692\",\"#B6E880\",\"#FF97FF\",\"#FECB52\"],\"font\":{\"color\":\"#2a3f5f\"},\"geo\":{\"bgcolor\":\"white\",\"lakecolor\":\"white\",\"landcolor\":\"#E5ECF6\",\"showlakes\":true,\"showland\":true,\"subunitcolor\":\"white\"},\"hoverlabel\":{\"align\":\"left\"},\"hovermode\":\"closest\",\"mapbox\":{\"style\":\"light\"},\"paper_bgcolor\":\"white\",\"plot_bgcolor\":\"#E5ECF6\",\"polar\":{\"angularaxis\":{\"gridcolor\":\"white\",\"linecolor\":\"white\",\"ticks\":\"\"},\"bgcolor\":\"#E5ECF6\",\"radialaxis\":{\"gridcolor\":\"white\",\"linecolor\":\"white\",\"ticks\":\"\"}},\"scene\":{\"xaxis\":{\"backgroundcolor\":\"#E5ECF6\",\"gridcolor\":\"white\",\"gridwidth\":2,\"linecolor\":\"white\",\"showbackground\":true,\"ticks\":\"\",\"zerolinecolor\":\"white\"},\"yaxis\":{\"backgroundcolor\":\"#E5ECF6\",\"gridcolor\":\"white\",\"gridwidth\":2,\"linecolor\":\"white\",\"showbackground\":true,\"ticks\":\"\",\"zerolinecolor\":\"white\"},\"zaxis\":{\"backgroundcolor\":\"#E5ECF6\",\"gridcolor\":\"white\",\"gridwidth\":2,\"linecolor\":\"white\",\"showbackground\":true,\"ticks\":\"\",\"zerolinecolor\":\"white\"}},\"shapedefaults\":{\"line\":{\"color\":\"#2a3f5f\"}},\"ternary\":{\"aaxis\":{\"gridcolor\":\"white\",\"linecolor\":\"white\",\"ticks\":\"\"},\"baxis\":{\"gridcolor\":\"white\",\"linecolor\":\"white\",\"ticks\":\"\"},\"bgcolor\":\"#E5ECF6\",\"caxis\":{\"gridcolor\":\"white\",\"linecolor\":\"white\",\"ticks\":\"\"}},\"title\":{\"x\":0.05},\"xaxis\":{\"automargin\":true,\"gridcolor\":\"white\",\"linecolor\":\"white\",\"ticks\":\"\",\"title\":{\"standoff\":15},\"zerolinecolor\":\"white\",\"zerolinewidth\":2},\"yaxis\":{\"automargin\":true,\"gridcolor\":\"white\",\"linecolor\":\"white\",\"ticks\":\"\",\"title\":{\"standoff\":15},\"zerolinecolor\":\"white\",\"zerolinewidth\":2}}},\"xaxis\":{\"anchor\":\"y\",\"domain\":[0.0,1.0],\"title\":{\"text\":\"evening\"}},\"yaxis\":{\"anchor\":\"x\",\"domain\":[0.0,1.0],\"title\":{\"text\":\"weekend\"}},\"coloraxis\":{\"colorbar\":{\"title\":{\"text\":\"cluster\"}},\"colorscale\":[[0.0,\"#0d0887\"],[0.1111111111111111,\"#46039f\"],[0.2222222222222222,\"#7201a8\"],[0.3333333333333333,\"#9c179e\"],[0.4444444444444444,\"#bd3786\"],[0.5555555555555556,\"#d8576b\"],[0.6666666666666666,\"#ed7953\"],[0.7777777777777778,\"#fb9f3a\"],[0.8888888888888888,\"#fdca26\"],[1.0,\"#f0f921\"]]},\"legend\":{\"tracegroupgap\":0},\"margin\":{\"t\":60}},                        {\"responsive\": true}                    ).then(function(){\n",
       "                            \n",
       "var gd = document.getElementById('dcd6f588-7886-40da-bab1-32a9060cdadd');\n",
       "var x = new MutationObserver(function (mutations, observer) {{\n",
       "        var display = window.getComputedStyle(gd).display;\n",
       "        if (!display || display === 'none') {{\n",
       "            console.log([gd, 'removed!']);\n",
       "            Plotly.purge(gd);\n",
       "            observer.disconnect();\n",
       "        }}\n",
       "}});\n",
       "\n",
       "// Listen for the removal of the full notebook cells\n",
       "var notebookContainer = gd.closest('#notebook-container');\n",
       "if (notebookContainer) {{\n",
       "    x.observe(notebookContainer, {childList: true});\n",
       "}}\n",
       "\n",
       "// Listen for the clearing of the current output cell\n",
       "var outputEl = gd.closest('.output');\n",
       "if (outputEl) {{\n",
       "    x.observe(outputEl, {childList: true});\n",
       "}}\n",
       "\n",
       "                        })                };                });            </script>        </div>"
      ]
     },
     "metadata": {},
     "output_type": "display_data"
    },
    {
     "data": {
      "text/plain": [
       "<Figure size 7200x720 with 0 Axes>"
      ]
     },
     "metadata": {},
     "output_type": "display_data"
    }
   ],
   "source": [
    "schools = features.loc[features.function == 'Administratief centrum']\n",
    "fig = px.scatter(schools, x='evening', y='weekend', color='cluster', hover_name=schools.function, hover_data=schools[['ID']])\n",
    "# make the figure bigger\n",
    "plt.figure(figsize=(100, 10))\n",
    "# x axis scale\n",
    "#plt.xlim([0])\n",
    "fig.update_traces(mode=\"markers\")   \n",
    "fig.show()"
   ]
  },
  {
   "cell_type": "code",
   "execution_count": 25,
   "metadata": {},
   "outputs": [
    {
     "data": {
      "text/html": [
       "<div>\n",
       "<style scoped>\n",
       "    .dataframe tbody tr th:only-of-type {\n",
       "        vertical-align: middle;\n",
       "    }\n",
       "\n",
       "    .dataframe tbody tr th {\n",
       "        vertical-align: top;\n",
       "    }\n",
       "\n",
       "    .dataframe thead th {\n",
       "        text-align: right;\n",
       "    }\n",
       "</style>\n",
       "<table border=\"1\" class=\"dataframe\">\n",
       "  <thead>\n",
       "    <tr style=\"text-align: right;\">\n",
       "      <th>cluster</th>\n",
       "      <th>0</th>\n",
       "      <th>1</th>\n",
       "      <th>2</th>\n",
       "      <th>3</th>\n",
       "      <th>4</th>\n",
       "      <th>5</th>\n",
       "      <th>6</th>\n",
       "      <th>7</th>\n",
       "      <th>8</th>\n",
       "      <th>9</th>\n",
       "    </tr>\n",
       "    <tr>\n",
       "      <th>function</th>\n",
       "      <th></th>\n",
       "      <th></th>\n",
       "      <th></th>\n",
       "      <th></th>\n",
       "      <th></th>\n",
       "      <th></th>\n",
       "      <th></th>\n",
       "      <th></th>\n",
       "      <th></th>\n",
       "      <th></th>\n",
       "    </tr>\n",
       "  </thead>\n",
       "  <tbody>\n",
       "    <tr>\n",
       "      <th>Sporthal</th>\n",
       "      <td>9.0</td>\n",
       "      <td>15.0</td>\n",
       "      <td>15.0</td>\n",
       "      <td>NaN</td>\n",
       "      <td>4.0</td>\n",
       "      <td>1.0</td>\n",
       "      <td>1.0</td>\n",
       "      <td>3.0</td>\n",
       "      <td>57.0</td>\n",
       "      <td>NaN</td>\n",
       "    </tr>\n",
       "    <tr>\n",
       "      <th>Andere gebouwen</th>\n",
       "      <td>4.0</td>\n",
       "      <td>9.0</td>\n",
       "      <td>13.0</td>\n",
       "      <td>NaN</td>\n",
       "      <td>7.0</td>\n",
       "      <td>24.0</td>\n",
       "      <td>NaN</td>\n",
       "      <td>5.0</td>\n",
       "      <td>29.0</td>\n",
       "      <td>2.0</td>\n",
       "    </tr>\n",
       "    <tr>\n",
       "      <th>Administratief centrum</th>\n",
       "      <td>11.0</td>\n",
       "      <td>45.0</td>\n",
       "      <td>2.0</td>\n",
       "      <td>1.0</td>\n",
       "      <td>9.0</td>\n",
       "      <td>2.0</td>\n",
       "      <td>5.0</td>\n",
       "      <td>NaN</td>\n",
       "      <td>7.0</td>\n",
       "      <td>NaN</td>\n",
       "    </tr>\n",
       "    <tr>\n",
       "      <th>Cultureel centrum</th>\n",
       "      <td>7.0</td>\n",
       "      <td>15.0</td>\n",
       "      <td>2.0</td>\n",
       "      <td>1.0</td>\n",
       "      <td>3.0</td>\n",
       "      <td>7.0</td>\n",
       "      <td>1.0</td>\n",
       "      <td>NaN</td>\n",
       "      <td>43.0</td>\n",
       "      <td>NaN</td>\n",
       "    </tr>\n",
       "    <tr>\n",
       "      <th>Ontmoetingscentrum</th>\n",
       "      <td>1.0</td>\n",
       "      <td>14.0</td>\n",
       "      <td>2.0</td>\n",
       "      <td>NaN</td>\n",
       "      <td>1.0</td>\n",
       "      <td>19.0</td>\n",
       "      <td>2.0</td>\n",
       "      <td>NaN</td>\n",
       "      <td>26.0</td>\n",
       "      <td>NaN</td>\n",
       "    </tr>\n",
       "    <tr>\n",
       "      <th>Lagere school</th>\n",
       "      <td>NaN</td>\n",
       "      <td>17.0</td>\n",
       "      <td>NaN</td>\n",
       "      <td>NaN</td>\n",
       "      <td>36.0</td>\n",
       "      <td>NaN</td>\n",
       "      <td>NaN</td>\n",
       "      <td>NaN</td>\n",
       "      <td>2.0</td>\n",
       "      <td>NaN</td>\n",
       "    </tr>\n",
       "    <tr>\n",
       "      <th>RVT/WZC/revalidatiecentrum</th>\n",
       "      <td>20.0</td>\n",
       "      <td>2.0</td>\n",
       "      <td>1.0</td>\n",
       "      <td>NaN</td>\n",
       "      <td>NaN</td>\n",
       "      <td>NaN</td>\n",
       "      <td>13.0</td>\n",
       "      <td>NaN</td>\n",
       "      <td>3.0</td>\n",
       "      <td>NaN</td>\n",
       "    </tr>\n",
       "    <tr>\n",
       "      <th>Stadhuis/Gemeentehuis</th>\n",
       "      <td>6.0</td>\n",
       "      <td>23.0</td>\n",
       "      <td>NaN</td>\n",
       "      <td>NaN</td>\n",
       "      <td>3.0</td>\n",
       "      <td>NaN</td>\n",
       "      <td>1.0</td>\n",
       "      <td>NaN</td>\n",
       "      <td>5.0</td>\n",
       "      <td>NaN</td>\n",
       "    </tr>\n",
       "    <tr>\n",
       "      <th>Werkplaats</th>\n",
       "      <td>NaN</td>\n",
       "      <td>9.0</td>\n",
       "      <td>NaN</td>\n",
       "      <td>NaN</td>\n",
       "      <td>14.0</td>\n",
       "      <td>2.0</td>\n",
       "      <td>NaN</td>\n",
       "      <td>NaN</td>\n",
       "      <td>5.0</td>\n",
       "      <td>NaN</td>\n",
       "    </tr>\n",
       "    <tr>\n",
       "      <th>Sportcomplex</th>\n",
       "      <td>6.0</td>\n",
       "      <td>2.0</td>\n",
       "      <td>7.0</td>\n",
       "      <td>1.0</td>\n",
       "      <td>NaN</td>\n",
       "      <td>NaN</td>\n",
       "      <td>1.0</td>\n",
       "      <td>3.0</td>\n",
       "      <td>9.0</td>\n",
       "      <td>NaN</td>\n",
       "    </tr>\n",
       "    <tr>\n",
       "      <th>Bibliotheek</th>\n",
       "      <td>2.0</td>\n",
       "      <td>8.0</td>\n",
       "      <td>NaN</td>\n",
       "      <td>1.0</td>\n",
       "      <td>11.0</td>\n",
       "      <td>NaN</td>\n",
       "      <td>2.0</td>\n",
       "      <td>NaN</td>\n",
       "      <td>3.0</td>\n",
       "      <td>NaN</td>\n",
       "    </tr>\n",
       "    <tr>\n",
       "      <th>Museum</th>\n",
       "      <td>5.0</td>\n",
       "      <td>8.0</td>\n",
       "      <td>NaN</td>\n",
       "      <td>1.0</td>\n",
       "      <td>1.0</td>\n",
       "      <td>1.0</td>\n",
       "      <td>4.0</td>\n",
       "      <td>NaN</td>\n",
       "      <td>6.0</td>\n",
       "      <td>NaN</td>\n",
       "    </tr>\n",
       "    <tr>\n",
       "      <th>Academie</th>\n",
       "      <td>2.0</td>\n",
       "      <td>7.0</td>\n",
       "      <td>4.0</td>\n",
       "      <td>NaN</td>\n",
       "      <td>NaN</td>\n",
       "      <td>NaN</td>\n",
       "      <td>NaN</td>\n",
       "      <td>NaN</td>\n",
       "      <td>12.0</td>\n",
       "      <td>NaN</td>\n",
       "    </tr>\n",
       "    <tr>\n",
       "      <th>Zwembad</th>\n",
       "      <td>9.0</td>\n",
       "      <td>NaN</td>\n",
       "      <td>NaN</td>\n",
       "      <td>1.0</td>\n",
       "      <td>NaN</td>\n",
       "      <td>NaN</td>\n",
       "      <td>6.0</td>\n",
       "      <td>NaN</td>\n",
       "      <td>5.0</td>\n",
       "      <td>NaN</td>\n",
       "    </tr>\n",
       "    <tr>\n",
       "      <th>Stadion</th>\n",
       "      <td>NaN</td>\n",
       "      <td>NaN</td>\n",
       "      <td>11.0</td>\n",
       "      <td>1.0</td>\n",
       "      <td>NaN</td>\n",
       "      <td>NaN</td>\n",
       "      <td>NaN</td>\n",
       "      <td>5.0</td>\n",
       "      <td>NaN</td>\n",
       "      <td>NaN</td>\n",
       "    </tr>\n",
       "    <tr>\n",
       "      <th>OCMW Administratief centrum</th>\n",
       "      <td>2.0</td>\n",
       "      <td>6.0</td>\n",
       "      <td>NaN</td>\n",
       "      <td>NaN</td>\n",
       "      <td>5.0</td>\n",
       "      <td>NaN</td>\n",
       "      <td>1.0</td>\n",
       "      <td>NaN</td>\n",
       "      <td>1.0</td>\n",
       "      <td>NaN</td>\n",
       "    </tr>\n",
       "    <tr>\n",
       "      <th>Brandweerkazerne</th>\n",
       "      <td>3.0</td>\n",
       "      <td>NaN</td>\n",
       "      <td>NaN</td>\n",
       "      <td>NaN</td>\n",
       "      <td>NaN</td>\n",
       "      <td>NaN</td>\n",
       "      <td>1.0</td>\n",
       "      <td>NaN</td>\n",
       "      <td>8.0</td>\n",
       "      <td>NaN</td>\n",
       "    </tr>\n",
       "    <tr>\n",
       "      <th>School</th>\n",
       "      <td>NaN</td>\n",
       "      <td>3.0</td>\n",
       "      <td>NaN</td>\n",
       "      <td>NaN</td>\n",
       "      <td>5.0</td>\n",
       "      <td>NaN</td>\n",
       "      <td>1.0</td>\n",
       "      <td>NaN</td>\n",
       "      <td>1.0</td>\n",
       "      <td>NaN</td>\n",
       "    </tr>\n",
       "    <tr>\n",
       "      <th>Algemene middelbare school</th>\n",
       "      <td>NaN</td>\n",
       "      <td>4.0</td>\n",
       "      <td>NaN</td>\n",
       "      <td>NaN</td>\n",
       "      <td>5.0</td>\n",
       "      <td>NaN</td>\n",
       "      <td>NaN</td>\n",
       "      <td>NaN</td>\n",
       "      <td>NaN</td>\n",
       "      <td>NaN</td>\n",
       "    </tr>\n",
       "    <tr>\n",
       "      <th>Dienstencentrum/CAW/dagverblijf</th>\n",
       "      <td>NaN</td>\n",
       "      <td>5.0</td>\n",
       "      <td>NaN</td>\n",
       "      <td>NaN</td>\n",
       "      <td>1.0</td>\n",
       "      <td>NaN</td>\n",
       "      <td>NaN</td>\n",
       "      <td>NaN</td>\n",
       "      <td>3.0</td>\n",
       "      <td>NaN</td>\n",
       "    </tr>\n",
       "    <tr>\n",
       "      <th>Kinderdagverblijf/BKO/IBO</th>\n",
       "      <td>NaN</td>\n",
       "      <td>3.0</td>\n",
       "      <td>NaN</td>\n",
       "      <td>NaN</td>\n",
       "      <td>4.0</td>\n",
       "      <td>NaN</td>\n",
       "      <td>NaN</td>\n",
       "      <td>NaN</td>\n",
       "      <td>1.0</td>\n",
       "      <td>NaN</td>\n",
       "    </tr>\n",
       "    <tr>\n",
       "      <th>Jeugdhuis</th>\n",
       "      <td>1.0</td>\n",
       "      <td>1.0</td>\n",
       "      <td>NaN</td>\n",
       "      <td>NaN</td>\n",
       "      <td>NaN</td>\n",
       "      <td>NaN</td>\n",
       "      <td>NaN</td>\n",
       "      <td>NaN</td>\n",
       "      <td>5.0</td>\n",
       "      <td>NaN</td>\n",
       "    </tr>\n",
       "    <tr>\n",
       "      <th>Politiegebouw</th>\n",
       "      <td>NaN</td>\n",
       "      <td>NaN</td>\n",
       "      <td>NaN</td>\n",
       "      <td>NaN</td>\n",
       "      <td>NaN</td>\n",
       "      <td>NaN</td>\n",
       "      <td>1.0</td>\n",
       "      <td>NaN</td>\n",
       "      <td>5.0</td>\n",
       "      <td>NaN</td>\n",
       "    </tr>\n",
       "    <tr>\n",
       "      <th>OCMW Woningen</th>\n",
       "      <td>2.0</td>\n",
       "      <td>1.0</td>\n",
       "      <td>1.0</td>\n",
       "      <td>NaN</td>\n",
       "      <td>NaN</td>\n",
       "      <td>NaN</td>\n",
       "      <td>NaN</td>\n",
       "      <td>NaN</td>\n",
       "      <td>1.0</td>\n",
       "      <td>NaN</td>\n",
       "    </tr>\n",
       "    <tr>\n",
       "      <th>Straatverlichting</th>\n",
       "      <td>NaN</td>\n",
       "      <td>NaN</td>\n",
       "      <td>NaN</td>\n",
       "      <td>NaN</td>\n",
       "      <td>NaN</td>\n",
       "      <td>NaN</td>\n",
       "      <td>NaN</td>\n",
       "      <td>4.0</td>\n",
       "      <td>NaN</td>\n",
       "      <td>1.0</td>\n",
       "    </tr>\n",
       "    <tr>\n",
       "      <th>Kleuterschool</th>\n",
       "      <td>NaN</td>\n",
       "      <td>NaN</td>\n",
       "      <td>1.0</td>\n",
       "      <td>NaN</td>\n",
       "      <td>4.0</td>\n",
       "      <td>NaN</td>\n",
       "      <td>NaN</td>\n",
       "      <td>NaN</td>\n",
       "      <td>NaN</td>\n",
       "      <td>NaN</td>\n",
       "    </tr>\n",
       "    <tr>\n",
       "      <th>Pomp</th>\n",
       "      <td>NaN</td>\n",
       "      <td>NaN</td>\n",
       "      <td>NaN</td>\n",
       "      <td>NaN</td>\n",
       "      <td>NaN</td>\n",
       "      <td>2.0</td>\n",
       "      <td>NaN</td>\n",
       "      <td>NaN</td>\n",
       "      <td>1.0</td>\n",
       "      <td>NaN</td>\n",
       "    </tr>\n",
       "    <tr>\n",
       "      <th>Buitengewoon middelbaar onderwijs (BUSO)</th>\n",
       "      <td>NaN</td>\n",
       "      <td>3.0</td>\n",
       "      <td>NaN</td>\n",
       "      <td>NaN</td>\n",
       "      <td>NaN</td>\n",
       "      <td>NaN</td>\n",
       "      <td>NaN</td>\n",
       "      <td>NaN</td>\n",
       "      <td>NaN</td>\n",
       "      <td>NaN</td>\n",
       "    </tr>\n",
       "    <tr>\n",
       "      <th>Kerk</th>\n",
       "      <td>NaN</td>\n",
       "      <td>NaN</td>\n",
       "      <td>NaN</td>\n",
       "      <td>NaN</td>\n",
       "      <td>NaN</td>\n",
       "      <td>1.0</td>\n",
       "      <td>NaN</td>\n",
       "      <td>NaN</td>\n",
       "      <td>1.0</td>\n",
       "      <td>NaN</td>\n",
       "    </tr>\n",
       "    <tr>\n",
       "      <th>Voetbalveld</th>\n",
       "      <td>NaN</td>\n",
       "      <td>NaN</td>\n",
       "      <td>2.0</td>\n",
       "      <td>NaN</td>\n",
       "      <td>NaN</td>\n",
       "      <td>NaN</td>\n",
       "      <td>NaN</td>\n",
       "      <td>NaN</td>\n",
       "      <td>NaN</td>\n",
       "      <td>NaN</td>\n",
       "    </tr>\n",
       "    <tr>\n",
       "      <th>Buitengewoon lager onderwijs (MPI)</th>\n",
       "      <td>NaN</td>\n",
       "      <td>NaN</td>\n",
       "      <td>NaN</td>\n",
       "      <td>NaN</td>\n",
       "      <td>2.0</td>\n",
       "      <td>NaN</td>\n",
       "      <td>NaN</td>\n",
       "      <td>NaN</td>\n",
       "      <td>NaN</td>\n",
       "      <td>NaN</td>\n",
       "    </tr>\n",
       "    <tr>\n",
       "      <th>Tennisveld</th>\n",
       "      <td>NaN</td>\n",
       "      <td>NaN</td>\n",
       "      <td>NaN</td>\n",
       "      <td>NaN</td>\n",
       "      <td>NaN</td>\n",
       "      <td>NaN</td>\n",
       "      <td>NaN</td>\n",
       "      <td>NaN</td>\n",
       "      <td>2.0</td>\n",
       "      <td>NaN</td>\n",
       "    </tr>\n",
       "    <tr>\n",
       "      <th>Laadeiland</th>\n",
       "      <td>NaN</td>\n",
       "      <td>NaN</td>\n",
       "      <td>NaN</td>\n",
       "      <td>NaN</td>\n",
       "      <td>NaN</td>\n",
       "      <td>2.0</td>\n",
       "      <td>NaN</td>\n",
       "      <td>NaN</td>\n",
       "      <td>NaN</td>\n",
       "      <td>NaN</td>\n",
       "    </tr>\n",
       "    <tr>\n",
       "      <th>Technische middelbare school</th>\n",
       "      <td>NaN</td>\n",
       "      <td>1.0</td>\n",
       "      <td>NaN</td>\n",
       "      <td>NaN</td>\n",
       "      <td>1.0</td>\n",
       "      <td>NaN</td>\n",
       "      <td>NaN</td>\n",
       "      <td>NaN</td>\n",
       "      <td>NaN</td>\n",
       "      <td>NaN</td>\n",
       "    </tr>\n",
       "    <tr>\n",
       "      <th>Ziekenhuis</th>\n",
       "      <td>NaN</td>\n",
       "      <td>NaN</td>\n",
       "      <td>NaN</td>\n",
       "      <td>1.0</td>\n",
       "      <td>NaN</td>\n",
       "      <td>NaN</td>\n",
       "      <td>NaN</td>\n",
       "      <td>NaN</td>\n",
       "      <td>NaN</td>\n",
       "      <td>NaN</td>\n",
       "    </tr>\n",
       "    <tr>\n",
       "      <th>Andere terreinen</th>\n",
       "      <td>NaN</td>\n",
       "      <td>NaN</td>\n",
       "      <td>NaN</td>\n",
       "      <td>NaN</td>\n",
       "      <td>NaN</td>\n",
       "      <td>NaN</td>\n",
       "      <td>NaN</td>\n",
       "      <td>NaN</td>\n",
       "      <td>1.0</td>\n",
       "      <td>NaN</td>\n",
       "    </tr>\n",
       "    <tr>\n",
       "      <th>Andere</th>\n",
       "      <td>NaN</td>\n",
       "      <td>NaN</td>\n",
       "      <td>NaN</td>\n",
       "      <td>NaN</td>\n",
       "      <td>NaN</td>\n",
       "      <td>NaN</td>\n",
       "      <td>NaN</td>\n",
       "      <td>NaN</td>\n",
       "      <td>1.0</td>\n",
       "      <td>NaN</td>\n",
       "    </tr>\n",
       "    <tr>\n",
       "      <th>Looppiste</th>\n",
       "      <td>NaN</td>\n",
       "      <td>NaN</td>\n",
       "      <td>NaN</td>\n",
       "      <td>NaN</td>\n",
       "      <td>NaN</td>\n",
       "      <td>NaN</td>\n",
       "      <td>NaN</td>\n",
       "      <td>1.0</td>\n",
       "      <td>NaN</td>\n",
       "      <td>NaN</td>\n",
       "    </tr>\n",
       "    <tr>\n",
       "      <th>Containerpark</th>\n",
       "      <td>NaN</td>\n",
       "      <td>1.0</td>\n",
       "      <td>NaN</td>\n",
       "      <td>NaN</td>\n",
       "      <td>NaN</td>\n",
       "      <td>NaN</td>\n",
       "      <td>NaN</td>\n",
       "      <td>NaN</td>\n",
       "      <td>NaN</td>\n",
       "      <td>NaN</td>\n",
       "    </tr>\n",
       "    <tr>\n",
       "      <th>Parking</th>\n",
       "      <td>NaN</td>\n",
       "      <td>NaN</td>\n",
       "      <td>1.0</td>\n",
       "      <td>NaN</td>\n",
       "      <td>NaN</td>\n",
       "      <td>NaN</td>\n",
       "      <td>NaN</td>\n",
       "      <td>NaN</td>\n",
       "      <td>NaN</td>\n",
       "      <td>NaN</td>\n",
       "    </tr>\n",
       "    <tr>\n",
       "      <th>Park</th>\n",
       "      <td>NaN</td>\n",
       "      <td>NaN</td>\n",
       "      <td>NaN</td>\n",
       "      <td>NaN</td>\n",
       "      <td>NaN</td>\n",
       "      <td>NaN</td>\n",
       "      <td>NaN</td>\n",
       "      <td>NaN</td>\n",
       "      <td>1.0</td>\n",
       "      <td>NaN</td>\n",
       "    </tr>\n",
       "    <tr>\n",
       "      <th>Fontein</th>\n",
       "      <td>NaN</td>\n",
       "      <td>NaN</td>\n",
       "      <td>NaN</td>\n",
       "      <td>NaN</td>\n",
       "      <td>NaN</td>\n",
       "      <td>NaN</td>\n",
       "      <td>NaN</td>\n",
       "      <td>NaN</td>\n",
       "      <td>1.0</td>\n",
       "      <td>NaN</td>\n",
       "    </tr>\n",
       "  </tbody>\n",
       "</table>\n",
       "</div>"
      ],
      "text/plain": [
       "cluster                                      0     1     2    3     4     5  \\\n",
       "function                                                                      \n",
       "Sporthal                                   9.0  15.0  15.0  NaN   4.0   1.0   \n",
       "Andere gebouwen                            4.0   9.0  13.0  NaN   7.0  24.0   \n",
       "Administratief centrum                    11.0  45.0   2.0  1.0   9.0   2.0   \n",
       "Cultureel centrum                          7.0  15.0   2.0  1.0   3.0   7.0   \n",
       "Ontmoetingscentrum                         1.0  14.0   2.0  NaN   1.0  19.0   \n",
       "Lagere school                              NaN  17.0   NaN  NaN  36.0   NaN   \n",
       "RVT/WZC/revalidatiecentrum                20.0   2.0   1.0  NaN   NaN   NaN   \n",
       "Stadhuis/Gemeentehuis                      6.0  23.0   NaN  NaN   3.0   NaN   \n",
       "Werkplaats                                 NaN   9.0   NaN  NaN  14.0   2.0   \n",
       "Sportcomplex                               6.0   2.0   7.0  1.0   NaN   NaN   \n",
       "Bibliotheek                                2.0   8.0   NaN  1.0  11.0   NaN   \n",
       "Museum                                     5.0   8.0   NaN  1.0   1.0   1.0   \n",
       "Academie                                   2.0   7.0   4.0  NaN   NaN   NaN   \n",
       "Zwembad                                    9.0   NaN   NaN  1.0   NaN   NaN   \n",
       "Stadion                                    NaN   NaN  11.0  1.0   NaN   NaN   \n",
       "OCMW Administratief centrum                2.0   6.0   NaN  NaN   5.0   NaN   \n",
       "Brandweerkazerne                           3.0   NaN   NaN  NaN   NaN   NaN   \n",
       "School                                     NaN   3.0   NaN  NaN   5.0   NaN   \n",
       "Algemene middelbare school                 NaN   4.0   NaN  NaN   5.0   NaN   \n",
       "Dienstencentrum/CAW/dagverblijf            NaN   5.0   NaN  NaN   1.0   NaN   \n",
       "Kinderdagverblijf/BKO/IBO                  NaN   3.0   NaN  NaN   4.0   NaN   \n",
       "Jeugdhuis                                  1.0   1.0   NaN  NaN   NaN   NaN   \n",
       "Politiegebouw                              NaN   NaN   NaN  NaN   NaN   NaN   \n",
       "OCMW Woningen                              2.0   1.0   1.0  NaN   NaN   NaN   \n",
       "Straatverlichting                          NaN   NaN   NaN  NaN   NaN   NaN   \n",
       "Kleuterschool                              NaN   NaN   1.0  NaN   4.0   NaN   \n",
       "Pomp                                       NaN   NaN   NaN  NaN   NaN   2.0   \n",
       "Buitengewoon middelbaar onderwijs (BUSO)   NaN   3.0   NaN  NaN   NaN   NaN   \n",
       "Kerk                                       NaN   NaN   NaN  NaN   NaN   1.0   \n",
       "Voetbalveld                                NaN   NaN   2.0  NaN   NaN   NaN   \n",
       "Buitengewoon lager onderwijs (MPI)         NaN   NaN   NaN  NaN   2.0   NaN   \n",
       "Tennisveld                                 NaN   NaN   NaN  NaN   NaN   NaN   \n",
       "Laadeiland                                 NaN   NaN   NaN  NaN   NaN   2.0   \n",
       "Technische middelbare school               NaN   1.0   NaN  NaN   1.0   NaN   \n",
       "Ziekenhuis                                 NaN   NaN   NaN  1.0   NaN   NaN   \n",
       "Andere terreinen                           NaN   NaN   NaN  NaN   NaN   NaN   \n",
       "Andere                                     NaN   NaN   NaN  NaN   NaN   NaN   \n",
       "Looppiste                                  NaN   NaN   NaN  NaN   NaN   NaN   \n",
       "Containerpark                              NaN   1.0   NaN  NaN   NaN   NaN   \n",
       "Parking                                    NaN   NaN   1.0  NaN   NaN   NaN   \n",
       "Park                                       NaN   NaN   NaN  NaN   NaN   NaN   \n",
       "Fontein                                    NaN   NaN   NaN  NaN   NaN   NaN   \n",
       "\n",
       "cluster                                      6    7     8    9  \n",
       "function                                                        \n",
       "Sporthal                                   1.0  3.0  57.0  NaN  \n",
       "Andere gebouwen                            NaN  5.0  29.0  2.0  \n",
       "Administratief centrum                     5.0  NaN   7.0  NaN  \n",
       "Cultureel centrum                          1.0  NaN  43.0  NaN  \n",
       "Ontmoetingscentrum                         2.0  NaN  26.0  NaN  \n",
       "Lagere school                              NaN  NaN   2.0  NaN  \n",
       "RVT/WZC/revalidatiecentrum                13.0  NaN   3.0  NaN  \n",
       "Stadhuis/Gemeentehuis                      1.0  NaN   5.0  NaN  \n",
       "Werkplaats                                 NaN  NaN   5.0  NaN  \n",
       "Sportcomplex                               1.0  3.0   9.0  NaN  \n",
       "Bibliotheek                                2.0  NaN   3.0  NaN  \n",
       "Museum                                     4.0  NaN   6.0  NaN  \n",
       "Academie                                   NaN  NaN  12.0  NaN  \n",
       "Zwembad                                    6.0  NaN   5.0  NaN  \n",
       "Stadion                                    NaN  5.0   NaN  NaN  \n",
       "OCMW Administratief centrum                1.0  NaN   1.0  NaN  \n",
       "Brandweerkazerne                           1.0  NaN   8.0  NaN  \n",
       "School                                     1.0  NaN   1.0  NaN  \n",
       "Algemene middelbare school                 NaN  NaN   NaN  NaN  \n",
       "Dienstencentrum/CAW/dagverblijf            NaN  NaN   3.0  NaN  \n",
       "Kinderdagverblijf/BKO/IBO                  NaN  NaN   1.0  NaN  \n",
       "Jeugdhuis                                  NaN  NaN   5.0  NaN  \n",
       "Politiegebouw                              1.0  NaN   5.0  NaN  \n",
       "OCMW Woningen                              NaN  NaN   1.0  NaN  \n",
       "Straatverlichting                          NaN  4.0   NaN  1.0  \n",
       "Kleuterschool                              NaN  NaN   NaN  NaN  \n",
       "Pomp                                       NaN  NaN   1.0  NaN  \n",
       "Buitengewoon middelbaar onderwijs (BUSO)   NaN  NaN   NaN  NaN  \n",
       "Kerk                                       NaN  NaN   1.0  NaN  \n",
       "Voetbalveld                                NaN  NaN   NaN  NaN  \n",
       "Buitengewoon lager onderwijs (MPI)         NaN  NaN   NaN  NaN  \n",
       "Tennisveld                                 NaN  NaN   2.0  NaN  \n",
       "Laadeiland                                 NaN  NaN   NaN  NaN  \n",
       "Technische middelbare school               NaN  NaN   NaN  NaN  \n",
       "Ziekenhuis                                 NaN  NaN   NaN  NaN  \n",
       "Andere terreinen                           NaN  NaN   1.0  NaN  \n",
       "Andere                                     NaN  NaN   1.0  NaN  \n",
       "Looppiste                                  NaN  1.0   NaN  NaN  \n",
       "Containerpark                              NaN  NaN   NaN  NaN  \n",
       "Parking                                    NaN  NaN   NaN  NaN  \n",
       "Park                                       NaN  NaN   1.0  NaN  \n",
       "Fontein                                    NaN  NaN   1.0  NaN  "
      ]
     },
     "execution_count": 25,
     "metadata": {},
     "output_type": "execute_result"
    }
   ],
   "source": [
    "# Show  value counts in the function column for each cluster\n",
    "counts = features.groupby('cluster').function.value_counts().sort_values(ascending=False).unstack().T\n",
    "counts.loc[counts.sum(axis=1).sort_values(ascending=False).index]"
   ]
  },
  {
   "cell_type": "code",
   "execution_count": 34,
   "metadata": {},
   "outputs": [],
   "source": [
    "day_p = pd.DataFrame()\n",
    "# Create stanard profiles for each cluster\n",
    "for k, clust in enumerate(range(clust_num)):\n",
    "    agg = pd.DataFrame()\n",
    "    for i, ID in enumerate(features[features.cluster == clust].index):\n",
    "        #print(ID)\n",
    "        agg[ID] = pd.read_csv('./data/buildings/' + str(ID) + '.csv', index_col=0, usecols=['ds','Power'], parse_dates=['ds'])\n",
    "        agg[ID] = agg[ID] / agg.loc['2019'][ID].sum()\n",
    "    # drop the rows with any infinite values\n",
    "    agg = agg[~np.isinf(agg).any(1)]\n",
    "    # Create an average profile over columns\n",
    "    agg = agg.mean(axis=1)\n",
    "    # group by hour of the day and make an average\n",
    "    agg = agg.groupby(agg.index.hour).mean()\n",
    "    day_p[clust] = agg"
   ]
  },
  {
   "cell_type": "code",
   "execution_count": 36,
   "metadata": {},
   "outputs": [
    {
     "data": {
      "image/png": "[encoded data removed]",
      "text/plain": [
       "<Figure size 432x288 with 1 Axes>"
      ]
     },
     "metadata": {
      "needs_background": "light"
     },
     "output_type": "display_data"
    }
   ],
   "source": [
    "#day_p.columns = ['Cluster 0', 'Cluster 1','Cluster 2','Cluster 3', 'Cluster 4']\n",
    "day_p.plot()\n",
    "plt.title('Average Day Profile', fontsize=18)\n",
    "plt.show()"
   ]
  },
  {
   "cell_type": "code",
   "execution_count": 46,
   "metadata": {},
   "outputs": [],
   "source": [
    "weekly_p = pd.DataFrame()\n",
    "# Create stanard profiles for each cluster\n",
    "for k, clust in enumerate(range(clust_num)):\n",
    "    for i, ID in enumerate(features[features.cluster == clust].index):\n",
    "        #print(ID)\n",
    "        if i == 0:\n",
    "            agg = pd.read_csv('./data/buildings/' + str(ID) + '.csv', index_col=0, usecols=['ds','Power'], parse_dates=['ds'])\n",
    "            agg = agg / \n",
    "            agg['2019'].sum()\n",
    "        else:\n",
    "            agg[ID] = pd.read_csv('./data/buildings/' + str(ID) + '.csv', index_col=0, usecols=['ds','Power'], parse_dates=['ds'])\n",
    "            agg[ID] = agg[ID] / agg['2019'][ID].sum()\n",
    "    # drop the rows with any infinite values\n",
    "    agg = agg[~np.isinf(agg).any(1)]\n",
    "    # Create an average profile over columns\n",
    "    agg = agg.mean(axis=1)\n",
    "    # group by day of the week and take and average\n",
    "    agg = agg.groupby(agg.index.weekday).mean()"
   ]
  },
  {
   "cell_type": "code",
   "execution_count": 27,
   "metadata": {},
   "outputs": [],
   "source": [
    "st_p = pd.DataFrame()\n",
    "# Create stanard profiles for each cluster\n",
    "for k, clust in enumerate(range(clust_num)):\n",
    "    agg = pd.DataFrame()\n",
    "    for i, ID in enumerate(features[features.cluster == clust].index):\n",
    "        #print(ID)\n",
    "        agg[ID] = pd.read_csv('./data/buildings/' + str(ID) + '.csv', index_col=0, usecols=['ds','Power'], parse_dates=['ds'])\n",
    "        agg[ID] = agg[ID] / agg.loc['2019'][ID].sum()\n",
    "    # Create an average profile over columns\n",
    "    agg = agg.mean(axis=1)\n",
    "    st_p[clust] = agg"
   ]
  },
  {
   "cell_type": "code",
   "execution_count": 29,
   "metadata": {},
   "outputs": [],
   "source": [
    "for clust_num in [3,5,10,15,20]:\n",
    "    # K-mean clustering on the features dataset\n",
    "    kmeans = KMeans(n_clusters=clust_num, random_state=2).fit(ds)\n",
    "    # kmeans save model\n",
    "    pickle.dump(kmeans, open(model_dir+\"kmeans{}.pkl\".format(clust_num), \"wb\"))\n",
    "    clusters = kmeans.labels_\n",
    "    features['cluster'] = clusters\n",
    "    st_p = pd.DataFrame()\n",
    "    # Create stanard profiles for each cluster\n",
    "    for k, clust in enumerate(range(clust_num)):\n",
    "        agg = pd.DataFrame()\n",
    "        for i, ID in enumerate(features[features.cluster == clust].index):\n",
    "            #print(ID)\n",
    "            agg[ID] = pd.read_csv('./data/buildings/' + str(ID) + '.csv', index_col=0, usecols=['ds','Power'], parse_dates=['ds'])\n",
    "            agg[ID] = agg[ID] / agg.loc['2019'][ID].sum()\n",
    "        # Create an average profile over columns\n",
    "        agg = agg.mean(axis=1)\n",
    "        st_p[clust] = agg\n",
    "    st_p.to_csv('./data/st_p_kmeans'+str(clust_num)+'.csv')"
   ]
  },
  {
   "cell_type": "code",
   "execution_count": null,
   "metadata": {},
   "outputs": [],
   "source": []
  }
 ],
 "metadata": {
  "kernelspec": {
   "display_name": "Python 3.8.10 ('vvsg')",
   "language": "python",
   "name": "python3"
  },
  "language_info": {
   "codemirror_mode": {
    "name": "ipython",
    "version": 3
   },
   "file_extension": ".py",
   "mimetype": "text/x-python",
   "name": "python",
   "nbconvert_exporter": "python",
   "pygments_lexer": "ipython3",
   "version": "3.8.10"
  },
  "orig_nbformat": 4,
  "vscode": {
   "interpreter": {
    "hash": "90a767557799bee2de1016a1437fac7679255ccc409d29b76a98294dd1a886c4"
   }
  }
 },
 "nbformat": 4,
 "nbformat_minor": 2
}
