{
 "cells": [
  {
   "cell_type": "code",
   "execution_count": 1,
   "id": "b78399a1",
   "metadata": {},
   "outputs": [],
   "source": [
    "import os\n",
    "# Change native directory to root\n",
    "os.chdir(os.path.dirname(os.getcwd()))"
   ]
  },
  {
   "cell_type": "code",
   "execution_count": 31,
   "id": "ff1ee95b",
   "metadata": {},
   "outputs": [],
   "source": [
    "import glob\n",
    "import pandas as pd\n",
    "import numpy as np\n",
    "from tqdm import tqdm\n",
    "import dill as pickle\n",
    "\n",
    "import lightgbm as lgb\n",
    "from lightgbm import LGBMRegressor\n",
    "from sklearn.model_selection import TimeSeriesSplit\n",
    "from sklearn import preprocessing\n",
    "from scipy.stats.stats import pearsonr\n",
    "from sklearn.metrics import mean_absolute_error\n",
    "from src.group_ts_split import PurgedGroupTimeSeriesSplit\n",
    "\n",
    "import seaborn as sns\n",
    "import matplotlib.pyplot as plt\n",
    "\n",
    "import cpadapter\n",
    "from cpadapter.utils import train_cal_test_split\n",
    "from cpadapter.visualization import conditional_band_interval_plot\n",
    "from optuna.samplers import TPESampler\n",
    "import optuna"
   ]
  },
  {
   "cell_type": "code",
   "execution_count": 3,
   "id": "ebf77166",
   "metadata": {},
   "outputs": [],
   "source": [
    "# Path to the table with metadata\n",
    "meta_pre = './data/EANLIJST_METADATA.csv'\n",
    "# Input data directory\n",
    "input_dir = './data/'"
   ]
  },
  {
   "cell_type": "code",
   "execution_count": 19,
   "id": "c0691bc0",
   "metadata": {},
   "outputs": [],
   "source": [
    "data = pd.read_csv(input_dir+'full.csv')\n",
    "data.index = pd.to_datetime(data.datetime)"
   ]
  },
  {
   "cell_type": "code",
   "execution_count": 13,
   "id": "aacf32d6",
   "metadata": {},
   "outputs": [],
   "source": [
    "# CV PARAMS\n",
    "FOLDS = 10\n",
    "GROUP_GAP = 1\n",
    "MAX_TEST_GROUP_SIZE = 30\n",
    "MAX_TRAIN_GROUP_SIZE = 100\n",
    "\n",
    "# define features for LGBM\n",
    "features = data.columns.drop(['Target', 'ID','datetime', 'type', 'kwh', 'Target-1', 'Target-7'])\n",
    "features = features.to_list()\n",
    "categoricals = data.columns.drop(['Target', 'ID', 'yearly_cons','datetime', 'type', 'kwh','Target-1', 'Target-7'])\n",
    "categoricals = categoricals.to_list()"
   ]
  },
  {
   "cell_type": "code",
   "execution_count": 26,
   "id": "278c166f",
   "metadata": {},
   "outputs": [],
   "source": [
    "labelencoder = preprocessing.LabelEncoder()\n",
    "\n",
    "for col in categoricals:\n",
    "    data[col] = labelencoder.fit_transform(data[col])\n",
    "    data[col] = data[col].astype('int')"
   ]
  },
  {
   "cell_type": "code",
   "execution_count": 15,
   "id": "d445fc06",
   "metadata": {},
   "outputs": [],
   "source": [
    "X = data[features]\n",
    "y = data['Target']\n",
    "dateda = pd.to_datetime(data['datetime'])\n",
    "groups = pd.factorize(dateda.dt.day.astype(str) + '_' + dateda.dt.month.astype(str) + '_' + dateda.dt.year.astype(str))[0]"
   ]
  },
  {
   "cell_type": "code",
   "execution_count": 42,
   "id": "f2781306",
   "metadata": {},
   "outputs": [],
   "source": [
    "evals_result = {}\n",
    "sampler = TPESampler(seed = 123)\n",
    "\n",
    "def objective(trial):\n",
    "    params = {\n",
    "        'objective': 'regression_l1', #'regression'\n",
    "        'random_state': 123,\n",
    "        'verbose': -1,\n",
    "        'max_depth': trial.suggest_int('max_depth',3, 20),\n",
    "        'num_leaves': trial.suggest_int('num_leaves', 2, 256),\n",
    "        'learning_rate': trial.suggest_float(\"learning_rate\", 1e-5, 0.1),\n",
    "        'n_estimators': trial.suggest_int('n_estimators', 500, 2500),\n",
    "        \"feature_fraction\": trial.suggest_float(\"feature_fraction\", 0.4, 1.0),\n",
    "        \"bagging_fraction\": trial.suggest_float(\"bagging_fraction\", 0.4, 1.0),\n",
    "        \"bagging_freq\": trial.suggest_int(\"bagging_freq\", 1, 7),\n",
    "        #'n_estimators': trial.suggest_categorical('n_estimators', [10000]),\n",
    "        'min_child_samples': trial.suggest_int('min_child_samples', 5, 50),\n",
    "        'lambda_l1': trial.suggest_float(\"lambda_l1\", 1e-8, 10.0, log=True),\n",
    "        'lambda_l2': trial.suggest_float(\"lambda_l2\", 1e-8, 10.0, log=True),\n",
    "    }\n",
    "        \n",
    "    # 10-fold time-series cross validation\n",
    "    tfold = PurgedGroupTimeSeriesSplit(n_splits = FOLDS, group_gap = GROUP_GAP, max_train_group_size = MAX_TRAIN_GROUP_SIZE, max_test_group_size = MAX_TEST_GROUP_SIZE)\n",
    "    mae_list = []\n",
    "    for _, (train_index, test_index) in tqdm(enumerate(tfold.split(X, y, groups))):\n",
    "        X_train = X.iloc[train_index]\n",
    "        X_val = X.iloc[test_index]\n",
    "        y_train = y[train_index]\n",
    "        y_val = y[test_index]        \n",
    "        train_dataset = lgb.Dataset(X_train, \n",
    "                            y_train, \n",
    "                            feature_name = features, \n",
    "                            categorical_feature = categoricals,\n",
    "                            free_raw_data=False)\n",
    "        val_dataset = lgb.Dataset(X_val, \n",
    "                                y_val,\n",
    "                                feature_name = features, \n",
    "                                categorical_feature = categoricals,\n",
    "                                free_raw_data=False)\n",
    "        # train LGBM2\n",
    "        model = lgb.train(params = params,\n",
    "                          train_set = train_dataset, \n",
    "                          valid_sets = [val_dataset],\n",
    "                          early_stopping_rounds=100,\n",
    "                          verbose_eval = 10,\n",
    "                          evals_result = evals_result \n",
    "                         )\n",
    "        pred = model.predict(val_dataset.get_data())\n",
    "\n",
    "        mae = mean_absolute_error(np.nan_to_num(pred), np.nan_to_num(val_dataset.get_label()))\n",
    "        mae_list.append(mae)\n",
    "        #print(pcc_list)\n",
    "    print(f'\\n average PCC: {np.mean(mae_list):.4f}')\n",
    "    return np.mean(mae_list)"
   ]
  },
  {
   "cell_type": "code",
   "execution_count": 43,
   "id": "522ffa5b",
   "metadata": {},
   "outputs": [
    {
     "name": "stderr",
     "output_type": "stream",
     "text": [
      "\u001b[32m[I 2022-06-13 09:15:34,831]\u001b[0m A new study created in memory with name: no-name-69ca2e14-15ae-42fa-bdc8-57dc7913e504\u001b[0m\n",
      "0it [00:00, ?it/s]/home/ubuntu/anaconda3/envs/generate/lib/python3.8/site-packages/lightgbm/engine.py:148: UserWarning: Found `n_estimators` in params. Will use it instead of argument\n",
      "  _log_warning(\"Found `{}` in params. Will use it instead of argument\".format(alias))\n",
      "/home/ubuntu/anaconda3/envs/generate/lib/python3.8/site-packages/lightgbm/basic.py:1702: UserWarning: Using categorical_feature in Dataset.\n",
      "  _log_warning('Using categorical_feature in Dataset.')\n",
      "/home/ubuntu/anaconda3/envs/generate/lib/python3.8/site-packages/lightgbm/basic.py:1433: UserWarning: Overriding the parameters from Reference Dataset.\n",
      "  _log_warning('Overriding the parameters from Reference Dataset.')\n",
      "/home/ubuntu/anaconda3/envs/generate/lib/python3.8/site-packages/lightgbm/basic.py:1245: UserWarning: categorical_column in param dict is overridden.\n",
      "  _log_warning('{} in param dict is overridden.'.format(cat_alias))\n"
     ]
    },
    {
     "name": "stdout",
     "output_type": "stream",
     "text": [
      "Training until validation scores don't improve for 100 rounds\n",
      "[10]\tvalid_0's l1: 6.45558e-06\n",
      "[20]\tvalid_0's l1: 6.45833e-06\n",
      "[30]\tvalid_0's l1: 6.45841e-06\n",
      "[40]\tvalid_0's l1: 6.45856e-06\n",
      "[50]\tvalid_0's l1: 6.45856e-06\n",
      "[60]\tvalid_0's l1: 6.45856e-06\n",
      "[70]\tvalid_0's l1: 6.45856e-06\n",
      "[80]\tvalid_0's l1: 6.45856e-06\n",
      "[90]\tvalid_0's l1: 6.45856e-06\n"
     ]
    },
    {
     "name": "stderr",
     "output_type": "stream",
     "text": [
      "1it [00:48, 48.15s/it]"
     ]
    },
    {
     "name": "stdout",
     "output_type": "stream",
     "text": [
      "[100]\tvalid_0's l1: 6.45856e-06\n",
      "Early stopping, best iteration is:\n",
      "[1]\tvalid_0's l1: 6.45558e-06\n"
     ]
    },
    {
     "name": "stderr",
     "output_type": "stream",
     "text": [
      "/home/ubuntu/anaconda3/envs/generate/lib/python3.8/site-packages/lightgbm/engine.py:148: UserWarning: Found `n_estimators` in params. Will use it instead of argument\n",
      "  _log_warning(\"Found `{}` in params. Will use it instead of argument\".format(alias))\n",
      "/home/ubuntu/anaconda3/envs/generate/lib/python3.8/site-packages/lightgbm/basic.py:1702: UserWarning: Using categorical_feature in Dataset.\n",
      "  _log_warning('Using categorical_feature in Dataset.')\n",
      "/home/ubuntu/anaconda3/envs/generate/lib/python3.8/site-packages/lightgbm/basic.py:1433: UserWarning: Overriding the parameters from Reference Dataset.\n",
      "  _log_warning('Overriding the parameters from Reference Dataset.')\n",
      "/home/ubuntu/anaconda3/envs/generate/lib/python3.8/site-packages/lightgbm/basic.py:1245: UserWarning: categorical_column in param dict is overridden.\n",
      "  _log_warning('{} in param dict is overridden.'.format(cat_alias))\n"
     ]
    },
    {
     "name": "stdout",
     "output_type": "stream",
     "text": [
      "Training until validation scores don't improve for 100 rounds\n",
      "[10]\tvalid_0's l1: 6.22714e-06\n",
      "[20]\tvalid_0's l1: 6.22756e-06\n",
      "[30]\tvalid_0's l1: 6.22756e-06\n",
      "[40]\tvalid_0's l1: 6.22756e-06\n",
      "[50]\tvalid_0's l1: 6.22865e-06\n",
      "[60]\tvalid_0's l1: 6.22865e-06\n",
      "[70]\tvalid_0's l1: 6.22865e-06\n",
      "[80]\tvalid_0's l1: 6.22865e-06\n",
      "[90]\tvalid_0's l1: 6.22865e-06\n",
      "[100]\tvalid_0's l1: 6.22865e-06\n",
      "Early stopping, best iteration is:\n",
      "[1]\tvalid_0's l1: 6.22714e-06\n"
     ]
    },
    {
     "name": "stderr",
     "output_type": "stream",
     "text": [
      "2it [01:09, 32.55s/it]/home/ubuntu/anaconda3/envs/generate/lib/python3.8/site-packages/lightgbm/engine.py:148: UserWarning: Found `n_estimators` in params. Will use it instead of argument\n",
      "  _log_warning(\"Found `{}` in params. Will use it instead of argument\".format(alias))\n",
      "/home/ubuntu/anaconda3/envs/generate/lib/python3.8/site-packages/lightgbm/basic.py:1702: UserWarning: Using categorical_feature in Dataset.\n",
      "  _log_warning('Using categorical_feature in Dataset.')\n",
      "/home/ubuntu/anaconda3/envs/generate/lib/python3.8/site-packages/lightgbm/basic.py:1433: UserWarning: Overriding the parameters from Reference Dataset.\n",
      "  _log_warning('Overriding the parameters from Reference Dataset.')\n",
      "/home/ubuntu/anaconda3/envs/generate/lib/python3.8/site-packages/lightgbm/basic.py:1245: UserWarning: categorical_column in param dict is overridden.\n",
      "  _log_warning('{} in param dict is overridden.'.format(cat_alias))\n"
     ]
    },
    {
     "name": "stdout",
     "output_type": "stream",
     "text": [
      "Training until validation scores don't improve for 100 rounds\n",
      "[10]\tvalid_0's l1: 6.02756e-06\n",
      "[20]\tvalid_0's l1: 6.02785e-06\n",
      "[30]\tvalid_0's l1: 6.02785e-06\n",
      "[40]\tvalid_0's l1: 6.02785e-06\n",
      "[50]\tvalid_0's l1: 6.02802e-06\n",
      "[60]\tvalid_0's l1: 6.02802e-06\n",
      "[70]\tvalid_0's l1: 6.02802e-06\n",
      "[80]\tvalid_0's l1: 6.02802e-06\n",
      "[90]\tvalid_0's l1: 6.02802e-06\n",
      "[100]\tvalid_0's l1: 6.0289e-06\n",
      "Early stopping, best iteration is:\n",
      "[1]\tvalid_0's l1: 6.02756e-06\n"
     ]
    },
    {
     "name": "stderr",
     "output_type": "stream",
     "text": [
      "3it [01:31, 27.65s/it]/home/ubuntu/anaconda3/envs/generate/lib/python3.8/site-packages/lightgbm/engine.py:148: UserWarning: Found `n_estimators` in params. Will use it instead of argument\n",
      "  _log_warning(\"Found `{}` in params. Will use it instead of argument\".format(alias))\n",
      "/home/ubuntu/anaconda3/envs/generate/lib/python3.8/site-packages/lightgbm/basic.py:1702: UserWarning: Using categorical_feature in Dataset.\n",
      "  _log_warning('Using categorical_feature in Dataset.')\n",
      "/home/ubuntu/anaconda3/envs/generate/lib/python3.8/site-packages/lightgbm/basic.py:1433: UserWarning: Overriding the parameters from Reference Dataset.\n",
      "  _log_warning('Overriding the parameters from Reference Dataset.')\n",
      "/home/ubuntu/anaconda3/envs/generate/lib/python3.8/site-packages/lightgbm/basic.py:1245: UserWarning: categorical_column in param dict is overridden.\n",
      "  _log_warning('{} in param dict is overridden.'.format(cat_alias))\n"
     ]
    },
    {
     "name": "stdout",
     "output_type": "stream",
     "text": [
      "Training until validation scores don't improve for 100 rounds\n",
      "[10]\tvalid_0's l1: 9.43175e-06\n",
      "[20]\tvalid_0's l1: 9.43175e-06\n",
      "[30]\tvalid_0's l1: 9.43175e-06\n",
      "[40]\tvalid_0's l1: 9.43175e-06\n",
      "[50]\tvalid_0's l1: 9.43175e-06\n",
      "[60]\tvalid_0's l1: 9.43175e-06\n",
      "[70]\tvalid_0's l1: 9.43175e-06\n",
      "[80]\tvalid_0's l1: 9.43175e-06\n",
      "[90]\tvalid_0's l1: 9.43175e-06\n"
     ]
    },
    {
     "name": "stderr",
     "output_type": "stream",
     "text": [
      "4it [01:49, 23.68s/it]"
     ]
    },
    {
     "name": "stdout",
     "output_type": "stream",
     "text": [
      "[100]\tvalid_0's l1: 9.43213e-06\n",
      "Early stopping, best iteration is:\n",
      "[1]\tvalid_0's l1: 9.43175e-06\n"
     ]
    },
    {
     "name": "stderr",
     "output_type": "stream",
     "text": [
      "/home/ubuntu/anaconda3/envs/generate/lib/python3.8/site-packages/lightgbm/engine.py:148: UserWarning: Found `n_estimators` in params. Will use it instead of argument\n",
      "  _log_warning(\"Found `{}` in params. Will use it instead of argument\".format(alias))\n",
      "/home/ubuntu/anaconda3/envs/generate/lib/python3.8/site-packages/lightgbm/basic.py:1702: UserWarning: Using categorical_feature in Dataset.\n",
      "  _log_warning('Using categorical_feature in Dataset.')\n",
      "/home/ubuntu/anaconda3/envs/generate/lib/python3.8/site-packages/lightgbm/basic.py:1433: UserWarning: Overriding the parameters from Reference Dataset.\n",
      "  _log_warning('Overriding the parameters from Reference Dataset.')\n",
      "/home/ubuntu/anaconda3/envs/generate/lib/python3.8/site-packages/lightgbm/basic.py:1245: UserWarning: categorical_column in param dict is overridden.\n",
      "  _log_warning('{} in param dict is overridden.'.format(cat_alias))\n"
     ]
    },
    {
     "name": "stdout",
     "output_type": "stream",
     "text": [
      "Training until validation scores don't improve for 100 rounds\n",
      "[10]\tvalid_0's l1: 8.66829e-06\n",
      "[20]\tvalid_0's l1: 8.66933e-06\n",
      "[30]\tvalid_0's l1: 8.66844e-06\n",
      "[40]\tvalid_0's l1: 8.66844e-06\n",
      "[50]\tvalid_0's l1: 8.66844e-06\n",
      "[60]\tvalid_0's l1: 8.66844e-06\n",
      "[70]\tvalid_0's l1: 8.66844e-06\n",
      "[80]\tvalid_0's l1: 8.66844e-06\n",
      "[90]\tvalid_0's l1: 8.66844e-06\n",
      "[100]\tvalid_0's l1: 8.66844e-06\n"
     ]
    },
    {
     "name": "stderr",
     "output_type": "stream",
     "text": [
      "5it [01:59, 18.73s/it]"
     ]
    },
    {
     "name": "stdout",
     "output_type": "stream",
     "text": [
      "Early stopping, best iteration is:\n",
      "[9]\tvalid_0's l1: 8.66829e-06\n"
     ]
    },
    {
     "name": "stderr",
     "output_type": "stream",
     "text": [
      "/home/ubuntu/anaconda3/envs/generate/lib/python3.8/site-packages/lightgbm/engine.py:148: UserWarning: Found `n_estimators` in params. Will use it instead of argument\n",
      "  _log_warning(\"Found `{}` in params. Will use it instead of argument\".format(alias))\n",
      "/home/ubuntu/anaconda3/envs/generate/lib/python3.8/site-packages/lightgbm/basic.py:1702: UserWarning: Using categorical_feature in Dataset.\n",
      "  _log_warning('Using categorical_feature in Dataset.')\n",
      "/home/ubuntu/anaconda3/envs/generate/lib/python3.8/site-packages/lightgbm/basic.py:1433: UserWarning: Overriding the parameters from Reference Dataset.\n",
      "  _log_warning('Overriding the parameters from Reference Dataset.')\n",
      "/home/ubuntu/anaconda3/envs/generate/lib/python3.8/site-packages/lightgbm/basic.py:1245: UserWarning: categorical_column in param dict is overridden.\n",
      "  _log_warning('{} in param dict is overridden.'.format(cat_alias))\n"
     ]
    },
    {
     "name": "stdout",
     "output_type": "stream",
     "text": [
      "Training until validation scores don't improve for 100 rounds\n",
      "[10]\tvalid_0's l1: 1.59452e-05\n",
      "[20]\tvalid_0's l1: 1.59455e-05\n",
      "[30]\tvalid_0's l1: 1.59456e-05\n",
      "[40]\tvalid_0's l1: 1.59456e-05\n",
      "[50]\tvalid_0's l1: 1.59457e-05\n",
      "[60]\tvalid_0's l1: 1.59457e-05\n",
      "[70]\tvalid_0's l1: 1.59457e-05\n",
      "[80]\tvalid_0's l1: 1.59458e-05\n",
      "[90]\tvalid_0's l1: 1.59487e-05\n"
     ]
    },
    {
     "name": "stderr",
     "output_type": "stream",
     "text": [
      "6it [02:10, 16.06s/it]"
     ]
    },
    {
     "name": "stdout",
     "output_type": "stream",
     "text": [
      "[100]\tvalid_0's l1: 1.59518e-05\n",
      "Early stopping, best iteration is:\n",
      "[1]\tvalid_0's l1: 1.59452e-05\n"
     ]
    },
    {
     "name": "stderr",
     "output_type": "stream",
     "text": [
      "/home/ubuntu/anaconda3/envs/generate/lib/python3.8/site-packages/lightgbm/engine.py:148: UserWarning: Found `n_estimators` in params. Will use it instead of argument\n",
      "  _log_warning(\"Found `{}` in params. Will use it instead of argument\".format(alias))\n",
      "/home/ubuntu/anaconda3/envs/generate/lib/python3.8/site-packages/lightgbm/basic.py:1702: UserWarning: Using categorical_feature in Dataset.\n",
      "  _log_warning('Using categorical_feature in Dataset.')\n",
      "/home/ubuntu/anaconda3/envs/generate/lib/python3.8/site-packages/lightgbm/basic.py:1433: UserWarning: Overriding the parameters from Reference Dataset.\n",
      "  _log_warning('Overriding the parameters from Reference Dataset.')\n",
      "/home/ubuntu/anaconda3/envs/generate/lib/python3.8/site-packages/lightgbm/basic.py:1245: UserWarning: categorical_column in param dict is overridden.\n",
      "  _log_warning('{} in param dict is overridden.'.format(cat_alias))\n"
     ]
    },
    {
     "name": "stdout",
     "output_type": "stream",
     "text": [
      "Training until validation scores don't improve for 100 rounds\n",
      "[10]\tvalid_0's l1: 1.66523e-05\n",
      "[20]\tvalid_0's l1: 1.66584e-05\n",
      "[30]\tvalid_0's l1: 1.6677e-05\n",
      "[40]\tvalid_0's l1: 1.6696e-05\n",
      "[50]\tvalid_0's l1: 1.6696e-05\n",
      "[60]\tvalid_0's l1: 1.6696e-05\n",
      "[70]\tvalid_0's l1: 1.66968e-05\n",
      "[80]\tvalid_0's l1: 1.66966e-05\n",
      "[90]\tvalid_0's l1: 1.66979e-05\n"
     ]
    },
    {
     "name": "stderr",
     "output_type": "stream",
     "text": [
      "7it [02:20, 14.08s/it]"
     ]
    },
    {
     "name": "stdout",
     "output_type": "stream",
     "text": [
      "[100]\tvalid_0's l1: 1.66979e-05\n",
      "Early stopping, best iteration is:\n",
      "[1]\tvalid_0's l1: 1.66445e-05\n"
     ]
    },
    {
     "name": "stderr",
     "output_type": "stream",
     "text": [
      "/home/ubuntu/anaconda3/envs/generate/lib/python3.8/site-packages/lightgbm/engine.py:148: UserWarning: Found `n_estimators` in params. Will use it instead of argument\n",
      "  _log_warning(\"Found `{}` in params. Will use it instead of argument\".format(alias))\n",
      "/home/ubuntu/anaconda3/envs/generate/lib/python3.8/site-packages/lightgbm/basic.py:1702: UserWarning: Using categorical_feature in Dataset.\n",
      "  _log_warning('Using categorical_feature in Dataset.')\n",
      "/home/ubuntu/anaconda3/envs/generate/lib/python3.8/site-packages/lightgbm/basic.py:1433: UserWarning: Overriding the parameters from Reference Dataset.\n",
      "  _log_warning('Overriding the parameters from Reference Dataset.')\n",
      "/home/ubuntu/anaconda3/envs/generate/lib/python3.8/site-packages/lightgbm/basic.py:1245: UserWarning: categorical_column in param dict is overridden.\n",
      "  _log_warning('{} in param dict is overridden.'.format(cat_alias))\n"
     ]
    },
    {
     "name": "stdout",
     "output_type": "stream",
     "text": [
      "Training until validation scores don't improve for 100 rounds\n",
      "[10]\tvalid_0's l1: 2.70421e-05\n",
      "[20]\tvalid_0's l1: 2.70421e-05\n",
      "[30]\tvalid_0's l1: 2.70425e-05\n",
      "[40]\tvalid_0's l1: 2.70425e-05\n",
      "[50]\tvalid_0's l1: 2.70425e-05\n",
      "[60]\tvalid_0's l1: 2.70945e-05\n",
      "[70]\tvalid_0's l1: 2.70945e-05\n",
      "[80]\tvalid_0's l1: 2.70945e-05\n",
      "[90]\tvalid_0's l1: 2.7109e-05\n",
      "[100]\tvalid_0's l1: 2.7109e-05\n",
      "Early stopping, best iteration is:\n",
      "[1]\tvalid_0's l1: 2.70421e-05\n"
     ]
    },
    {
     "name": "stderr",
     "output_type": "stream",
     "text": [
      "8it [02:35, 14.45s/it]/home/ubuntu/anaconda3/envs/generate/lib/python3.8/site-packages/lightgbm/engine.py:148: UserWarning: Found `n_estimators` in params. Will use it instead of argument\n",
      "  _log_warning(\"Found `{}` in params. Will use it instead of argument\".format(alias))\n",
      "/home/ubuntu/anaconda3/envs/generate/lib/python3.8/site-packages/lightgbm/basic.py:1702: UserWarning: Using categorical_feature in Dataset.\n",
      "  _log_warning('Using categorical_feature in Dataset.')\n",
      "/home/ubuntu/anaconda3/envs/generate/lib/python3.8/site-packages/lightgbm/basic.py:1433: UserWarning: Overriding the parameters from Reference Dataset.\n",
      "  _log_warning('Overriding the parameters from Reference Dataset.')\n",
      "/home/ubuntu/anaconda3/envs/generate/lib/python3.8/site-packages/lightgbm/basic.py:1245: UserWarning: categorical_column in param dict is overridden.\n",
      "  _log_warning('{} in param dict is overridden.'.format(cat_alias))\n"
     ]
    },
    {
     "name": "stdout",
     "output_type": "stream",
     "text": [
      "Training until validation scores don't improve for 100 rounds\n",
      "[10]\tvalid_0's l1: 4.9783e-05\n",
      "[20]\tvalid_0's l1: 4.9783e-05\n",
      "[30]\tvalid_0's l1: 4.9783e-05\n",
      "[40]\tvalid_0's l1: 4.9783e-05\n",
      "[50]\tvalid_0's l1: 4.9783e-05\n",
      "[60]\tvalid_0's l1: 4.97836e-05\n",
      "[70]\tvalid_0's l1: 4.97847e-05\n",
      "[80]\tvalid_0's l1: 4.97847e-05\n",
      "[90]\tvalid_0's l1: 4.97847e-05\n"
     ]
    },
    {
     "name": "stderr",
     "output_type": "stream",
     "text": [
      "9it [02:52, 15.23s/it]"
     ]
    },
    {
     "name": "stdout",
     "output_type": "stream",
     "text": [
      "[100]\tvalid_0's l1: 4.97848e-05\n",
      "Early stopping, best iteration is:\n",
      "[1]\tvalid_0's l1: 4.9783e-05\n"
     ]
    },
    {
     "name": "stderr",
     "output_type": "stream",
     "text": [
      "/home/ubuntu/anaconda3/envs/generate/lib/python3.8/site-packages/lightgbm/engine.py:148: UserWarning: Found `n_estimators` in params. Will use it instead of argument\n",
      "  _log_warning(\"Found `{}` in params. Will use it instead of argument\".format(alias))\n",
      "/home/ubuntu/anaconda3/envs/generate/lib/python3.8/site-packages/lightgbm/basic.py:1702: UserWarning: Using categorical_feature in Dataset.\n",
      "  _log_warning('Using categorical_feature in Dataset.')\n",
      "/home/ubuntu/anaconda3/envs/generate/lib/python3.8/site-packages/lightgbm/basic.py:1433: UserWarning: Overriding the parameters from Reference Dataset.\n",
      "  _log_warning('Overriding the parameters from Reference Dataset.')\n",
      "/home/ubuntu/anaconda3/envs/generate/lib/python3.8/site-packages/lightgbm/basic.py:1245: UserWarning: categorical_column in param dict is overridden.\n",
      "  _log_warning('{} in param dict is overridden.'.format(cat_alias))\n"
     ]
    },
    {
     "name": "stdout",
     "output_type": "stream",
     "text": [
      "Training until validation scores don't improve for 100 rounds\n",
      "[10]\tvalid_0's l1: 8.33784e-05\n",
      "[20]\tvalid_0's l1: 8.33822e-05\n",
      "[30]\tvalid_0's l1: 8.33822e-05\n",
      "[40]\tvalid_0's l1: 8.33902e-05\n",
      "[50]\tvalid_0's l1: 8.33941e-05\n",
      "[60]\tvalid_0's l1: 8.33968e-05\n",
      "[70]\tvalid_0's l1: 8.33969e-05\n",
      "[80]\tvalid_0's l1: 8.34135e-05\n",
      "[90]\tvalid_0's l1: 8.34136e-05\n"
     ]
    },
    {
     "name": "stderr",
     "output_type": "stream",
     "text": [
      "10it [03:04, 14.31s/it]"
     ]
    },
    {
     "name": "stdout",
     "output_type": "stream",
     "text": [
      "[100]\tvalid_0's l1: 8.34136e-05\n",
      "Early stopping, best iteration is:\n",
      "[1]\tvalid_0's l1: 8.33784e-05\n"
     ]
    },
    {
     "name": "stderr",
     "output_type": "stream",
     "text": [
      "10it [03:06, 18.61s/it]\n",
      "\u001b[32m[I 2022-06-13 09:18:41,124]\u001b[0m Trial 0 finished with value: 2.2960348590201555e-05 and parameters: {'max_depth': 15, 'num_leaves': 74, 'learning_rate': 0.02269287684188467, 'n_estimators': 1603, 'feature_fraction': 0.8316813818713378, 'bagging_fraction': 0.6538638760746767, 'bagging_freq': 7, 'min_child_samples': 36, 'lambda_l1': 0.00021300368327705253, 'lambda_l2': 3.381097259762742e-05}. Best is trial 0 with value: 2.2960348590201555e-05.\u001b[0m\n"
     ]
    },
    {
     "name": "stdout",
     "output_type": "stream",
     "text": [
      "\n",
      " average PCC: 0.0000\n"
     ]
    },
    {
     "name": "stderr",
     "output_type": "stream",
     "text": [
      "0it [00:00, ?it/s]/home/ubuntu/anaconda3/envs/generate/lib/python3.8/site-packages/lightgbm/engine.py:148: UserWarning: Found `n_estimators` in params. Will use it instead of argument\n",
      "  _log_warning(\"Found `{}` in params. Will use it instead of argument\".format(alias))\n",
      "/home/ubuntu/anaconda3/envs/generate/lib/python3.8/site-packages/lightgbm/basic.py:1702: UserWarning: Using categorical_feature in Dataset.\n",
      "  _log_warning('Using categorical_feature in Dataset.')\n",
      "/home/ubuntu/anaconda3/envs/generate/lib/python3.8/site-packages/lightgbm/basic.py:1433: UserWarning: Overriding the parameters from Reference Dataset.\n",
      "  _log_warning('Overriding the parameters from Reference Dataset.')\n",
      "/home/ubuntu/anaconda3/envs/generate/lib/python3.8/site-packages/lightgbm/basic.py:1245: UserWarning: categorical_column in param dict is overridden.\n",
      "  _log_warning('{} in param dict is overridden.'.format(cat_alias))\n"
     ]
    },
    {
     "name": "stdout",
     "output_type": "stream",
     "text": [
      "Training until validation scores don't improve for 100 rounds\n",
      "[10]\tvalid_0's l1: 6.45558e-06\n",
      "[20]\tvalid_0's l1: 6.45558e-06\n",
      "[30]\tvalid_0's l1: 6.45558e-06\n",
      "[40]\tvalid_0's l1: 6.45558e-06\n",
      "[50]\tvalid_0's l1: 6.45558e-06\n",
      "[60]\tvalid_0's l1: 6.45558e-06\n",
      "[70]\tvalid_0's l1: 6.45558e-06\n",
      "[80]\tvalid_0's l1: 6.45558e-06\n",
      "[90]\tvalid_0's l1: 6.45558e-06\n"
     ]
    },
    {
     "name": "stderr",
     "output_type": "stream",
     "text": [
      "1it [00:50, 50.84s/it]"
     ]
    },
    {
     "name": "stdout",
     "output_type": "stream",
     "text": [
      "[100]\tvalid_0's l1: 6.45558e-06\n",
      "Early stopping, best iteration is:\n",
      "[1]\tvalid_0's l1: 6.45558e-06\n"
     ]
    },
    {
     "name": "stderr",
     "output_type": "stream",
     "text": [
      "/home/ubuntu/anaconda3/envs/generate/lib/python3.8/site-packages/lightgbm/engine.py:148: UserWarning: Found `n_estimators` in params. Will use it instead of argument\n",
      "  _log_warning(\"Found `{}` in params. Will use it instead of argument\".format(alias))\n",
      "/home/ubuntu/anaconda3/envs/generate/lib/python3.8/site-packages/lightgbm/basic.py:1702: UserWarning: Using categorical_feature in Dataset.\n",
      "  _log_warning('Using categorical_feature in Dataset.')\n",
      "/home/ubuntu/anaconda3/envs/generate/lib/python3.8/site-packages/lightgbm/basic.py:1433: UserWarning: Overriding the parameters from Reference Dataset.\n",
      "  _log_warning('Overriding the parameters from Reference Dataset.')\n",
      "/home/ubuntu/anaconda3/envs/generate/lib/python3.8/site-packages/lightgbm/basic.py:1245: UserWarning: categorical_column in param dict is overridden.\n",
      "  _log_warning('{} in param dict is overridden.'.format(cat_alias))\n"
     ]
    },
    {
     "name": "stdout",
     "output_type": "stream",
     "text": [
      "Training until validation scores don't improve for 100 rounds\n",
      "[10]\tvalid_0's l1: 6.22714e-06\n",
      "[20]\tvalid_0's l1: 6.22714e-06\n",
      "[30]\tvalid_0's l1: 6.22714e-06\n",
      "[40]\tvalid_0's l1: 6.22714e-06\n",
      "[50]\tvalid_0's l1: 6.22714e-06\n",
      "[60]\tvalid_0's l1: 6.22714e-06\n",
      "[70]\tvalid_0's l1: 6.22714e-06\n",
      "[80]\tvalid_0's l1: 6.22714e-06\n",
      "[90]\tvalid_0's l1: 6.22714e-06\n",
      "[100]\tvalid_0's l1: 6.22714e-06\n",
      "Early stopping, best iteration is:\n",
      "[1]\tvalid_0's l1: 6.22714e-06\n"
     ]
    },
    {
     "name": "stderr",
     "output_type": "stream",
     "text": [
      "2it [01:19, 37.79s/it]/home/ubuntu/anaconda3/envs/generate/lib/python3.8/site-packages/lightgbm/engine.py:148: UserWarning: Found `n_estimators` in params. Will use it instead of argument\n",
      "  _log_warning(\"Found `{}` in params. Will use it instead of argument\".format(alias))\n",
      "/home/ubuntu/anaconda3/envs/generate/lib/python3.8/site-packages/lightgbm/basic.py:1702: UserWarning: Using categorical_feature in Dataset.\n",
      "  _log_warning('Using categorical_feature in Dataset.')\n",
      "/home/ubuntu/anaconda3/envs/generate/lib/python3.8/site-packages/lightgbm/basic.py:1433: UserWarning: Overriding the parameters from Reference Dataset.\n",
      "  _log_warning('Overriding the parameters from Reference Dataset.')\n",
      "/home/ubuntu/anaconda3/envs/generate/lib/python3.8/site-packages/lightgbm/basic.py:1245: UserWarning: categorical_column in param dict is overridden.\n",
      "  _log_warning('{} in param dict is overridden.'.format(cat_alias))\n"
     ]
    },
    {
     "name": "stdout",
     "output_type": "stream",
     "text": [
      "Training until validation scores don't improve for 100 rounds\n",
      "[10]\tvalid_0's l1: 6.02756e-06\n",
      "[20]\tvalid_0's l1: 6.02756e-06\n",
      "[30]\tvalid_0's l1: 6.02756e-06\n",
      "[40]\tvalid_0's l1: 6.02756e-06\n",
      "[50]\tvalid_0's l1: 6.02756e-06\n",
      "[60]\tvalid_0's l1: 6.02756e-06\n",
      "[70]\tvalid_0's l1: 6.02756e-06\n",
      "[80]\tvalid_0's l1: 6.02756e-06\n",
      "[90]\tvalid_0's l1: 6.02756e-06\n",
      "[100]\tvalid_0's l1: 6.02756e-06\n",
      "Early stopping, best iteration is:\n",
      "[1]\tvalid_0's l1: 6.02756e-06\n"
     ]
    },
    {
     "name": "stderr",
     "output_type": "stream",
     "text": [
      "3it [01:46, 32.76s/it]/home/ubuntu/anaconda3/envs/generate/lib/python3.8/site-packages/lightgbm/engine.py:148: UserWarning: Found `n_estimators` in params. Will use it instead of argument\n",
      "  _log_warning(\"Found `{}` in params. Will use it instead of argument\".format(alias))\n",
      "/home/ubuntu/anaconda3/envs/generate/lib/python3.8/site-packages/lightgbm/basic.py:1702: UserWarning: Using categorical_feature in Dataset.\n",
      "  _log_warning('Using categorical_feature in Dataset.')\n",
      "/home/ubuntu/anaconda3/envs/generate/lib/python3.8/site-packages/lightgbm/basic.py:1433: UserWarning: Overriding the parameters from Reference Dataset.\n",
      "  _log_warning('Overriding the parameters from Reference Dataset.')\n",
      "/home/ubuntu/anaconda3/envs/generate/lib/python3.8/site-packages/lightgbm/basic.py:1245: UserWarning: categorical_column in param dict is overridden.\n",
      "  _log_warning('{} in param dict is overridden.'.format(cat_alias))\n"
     ]
    },
    {
     "name": "stdout",
     "output_type": "stream",
     "text": [
      "Training until validation scores don't improve for 100 rounds\n",
      "[10]\tvalid_0's l1: 9.43175e-06\n",
      "[20]\tvalid_0's l1: 9.43175e-06\n",
      "[30]\tvalid_0's l1: 9.43175e-06\n",
      "[40]\tvalid_0's l1: 9.43175e-06\n",
      "[50]\tvalid_0's l1: 9.43175e-06\n",
      "[60]\tvalid_0's l1: 9.43175e-06\n",
      "[70]\tvalid_0's l1: 9.43175e-06\n",
      "[80]\tvalid_0's l1: 9.43175e-06\n",
      "[90]\tvalid_0's l1: 9.43175e-06\n",
      "[100]\tvalid_0's l1: 9.43175e-06\n",
      "Early stopping, best iteration is:\n",
      "[1]\tvalid_0's l1: 9.43175e-06\n"
     ]
    },
    {
     "name": "stderr",
     "output_type": "stream",
     "text": [
      "4it [02:14, 31.08s/it]/home/ubuntu/anaconda3/envs/generate/lib/python3.8/site-packages/lightgbm/engine.py:148: UserWarning: Found `n_estimators` in params. Will use it instead of argument\n",
      "  _log_warning(\"Found `{}` in params. Will use it instead of argument\".format(alias))\n",
      "/home/ubuntu/anaconda3/envs/generate/lib/python3.8/site-packages/lightgbm/basic.py:1702: UserWarning: Using categorical_feature in Dataset.\n",
      "  _log_warning('Using categorical_feature in Dataset.')\n",
      "/home/ubuntu/anaconda3/envs/generate/lib/python3.8/site-packages/lightgbm/basic.py:1433: UserWarning: Overriding the parameters from Reference Dataset.\n",
      "  _log_warning('Overriding the parameters from Reference Dataset.')\n",
      "/home/ubuntu/anaconda3/envs/generate/lib/python3.8/site-packages/lightgbm/basic.py:1245: UserWarning: categorical_column in param dict is overridden.\n",
      "  _log_warning('{} in param dict is overridden.'.format(cat_alias))\n"
     ]
    },
    {
     "name": "stdout",
     "output_type": "stream",
     "text": [
      "Training until validation scores don't improve for 100 rounds\n",
      "[10]\tvalid_0's l1: 8.68003e-06\n",
      "[20]\tvalid_0's l1: 8.68003e-06\n",
      "[30]\tvalid_0's l1: 8.68003e-06\n",
      "[40]\tvalid_0's l1: 8.68003e-06\n",
      "[50]\tvalid_0's l1: 8.68003e-06\n",
      "[60]\tvalid_0's l1: 8.68003e-06\n",
      "[70]\tvalid_0's l1: 8.68003e-06\n",
      "[80]\tvalid_0's l1: 8.68003e-06\n",
      "[90]\tvalid_0's l1: 8.68003e-06\n",
      "[100]\tvalid_0's l1: 8.68003e-06\n"
     ]
    },
    {
     "name": "stderr",
     "output_type": "stream",
     "text": [
      "5it [02:41, 29.47s/it]"
     ]
    },
    {
     "name": "stdout",
     "output_type": "stream",
     "text": [
      "Early stopping, best iteration is:\n",
      "[1]\tvalid_0's l1: 8.68003e-06\n"
     ]
    },
    {
     "name": "stderr",
     "output_type": "stream",
     "text": [
      "/home/ubuntu/anaconda3/envs/generate/lib/python3.8/site-packages/lightgbm/engine.py:148: UserWarning: Found `n_estimators` in params. Will use it instead of argument\n",
      "  _log_warning(\"Found `{}` in params. Will use it instead of argument\".format(alias))\n",
      "/home/ubuntu/anaconda3/envs/generate/lib/python3.8/site-packages/lightgbm/basic.py:1702: UserWarning: Using categorical_feature in Dataset.\n",
      "  _log_warning('Using categorical_feature in Dataset.')\n",
      "/home/ubuntu/anaconda3/envs/generate/lib/python3.8/site-packages/lightgbm/basic.py:1433: UserWarning: Overriding the parameters from Reference Dataset.\n",
      "  _log_warning('Overriding the parameters from Reference Dataset.')\n",
      "/home/ubuntu/anaconda3/envs/generate/lib/python3.8/site-packages/lightgbm/basic.py:1245: UserWarning: categorical_column in param dict is overridden.\n",
      "  _log_warning('{} in param dict is overridden.'.format(cat_alias))\n"
     ]
    },
    {
     "name": "stdout",
     "output_type": "stream",
     "text": [
      "Training until validation scores don't improve for 100 rounds\n",
      "[10]\tvalid_0's l1: 1.59452e-05\n",
      "[20]\tvalid_0's l1: 1.59452e-05\n",
      "[30]\tvalid_0's l1: 1.59452e-05\n",
      "[40]\tvalid_0's l1: 1.59452e-05\n",
      "[50]\tvalid_0's l1: 1.59452e-05\n",
      "[60]\tvalid_0's l1: 1.59452e-05\n",
      "[70]\tvalid_0's l1: 1.59452e-05\n",
      "[80]\tvalid_0's l1: 1.59452e-05\n",
      "[90]\tvalid_0's l1: 1.59452e-05\n",
      "[100]\tvalid_0's l1: 1.59452e-05\n"
     ]
    },
    {
     "name": "stderr",
     "output_type": "stream",
     "text": [
      "6it [03:09, 29.03s/it]"
     ]
    },
    {
     "name": "stdout",
     "output_type": "stream",
     "text": [
      "Early stopping, best iteration is:\n",
      "[1]\tvalid_0's l1: 1.59452e-05\n"
     ]
    },
    {
     "name": "stderr",
     "output_type": "stream",
     "text": [
      "/home/ubuntu/anaconda3/envs/generate/lib/python3.8/site-packages/lightgbm/engine.py:148: UserWarning: Found `n_estimators` in params. Will use it instead of argument\n",
      "  _log_warning(\"Found `{}` in params. Will use it instead of argument\".format(alias))\n",
      "/home/ubuntu/anaconda3/envs/generate/lib/python3.8/site-packages/lightgbm/basic.py:1702: UserWarning: Using categorical_feature in Dataset.\n",
      "  _log_warning('Using categorical_feature in Dataset.')\n",
      "/home/ubuntu/anaconda3/envs/generate/lib/python3.8/site-packages/lightgbm/basic.py:1433: UserWarning: Overriding the parameters from Reference Dataset.\n",
      "  _log_warning('Overriding the parameters from Reference Dataset.')\n",
      "/home/ubuntu/anaconda3/envs/generate/lib/python3.8/site-packages/lightgbm/basic.py:1245: UserWarning: categorical_column in param dict is overridden.\n",
      "  _log_warning('{} in param dict is overridden.'.format(cat_alias))\n"
     ]
    },
    {
     "name": "stdout",
     "output_type": "stream",
     "text": [
      "Training until validation scores don't improve for 100 rounds\n",
      "[10]\tvalid_0's l1: 1.66418e-05\n",
      "[20]\tvalid_0's l1: 1.66418e-05\n",
      "[30]\tvalid_0's l1: 1.66418e-05\n",
      "[40]\tvalid_0's l1: 1.66418e-05\n",
      "[50]\tvalid_0's l1: 1.66418e-05\n",
      "[60]\tvalid_0's l1: 1.66418e-05\n",
      "[70]\tvalid_0's l1: 1.66418e-05\n",
      "[80]\tvalid_0's l1: 1.66418e-05\n",
      "[90]\tvalid_0's l1: 1.66418e-05\n",
      "[100]\tvalid_0's l1: 1.66418e-05\n"
     ]
    },
    {
     "name": "stderr",
     "output_type": "stream",
     "text": [
      "7it [03:34, 27.59s/it]"
     ]
    },
    {
     "name": "stdout",
     "output_type": "stream",
     "text": [
      "Early stopping, best iteration is:\n",
      "[1]\tvalid_0's l1: 1.66418e-05\n"
     ]
    },
    {
     "name": "stderr",
     "output_type": "stream",
     "text": [
      "/home/ubuntu/anaconda3/envs/generate/lib/python3.8/site-packages/lightgbm/engine.py:148: UserWarning: Found `n_estimators` in params. Will use it instead of argument\n",
      "  _log_warning(\"Found `{}` in params. Will use it instead of argument\".format(alias))\n",
      "/home/ubuntu/anaconda3/envs/generate/lib/python3.8/site-packages/lightgbm/basic.py:1702: UserWarning: Using categorical_feature in Dataset.\n",
      "  _log_warning('Using categorical_feature in Dataset.')\n",
      "/home/ubuntu/anaconda3/envs/generate/lib/python3.8/site-packages/lightgbm/basic.py:1433: UserWarning: Overriding the parameters from Reference Dataset.\n",
      "  _log_warning('Overriding the parameters from Reference Dataset.')\n",
      "/home/ubuntu/anaconda3/envs/generate/lib/python3.8/site-packages/lightgbm/basic.py:1245: UserWarning: categorical_column in param dict is overridden.\n",
      "  _log_warning('{} in param dict is overridden.'.format(cat_alias))\n"
     ]
    },
    {
     "name": "stdout",
     "output_type": "stream",
     "text": [
      "Training until validation scores don't improve for 100 rounds\n",
      "[10]\tvalid_0's l1: 2.70225e-05\n",
      "[20]\tvalid_0's l1: 2.70225e-05\n",
      "[30]\tvalid_0's l1: 2.70223e-05\n",
      "[40]\tvalid_0's l1: 2.70223e-05\n",
      "[50]\tvalid_0's l1: 2.70222e-05\n",
      "[60]\tvalid_0's l1: 2.70222e-05\n",
      "[70]\tvalid_0's l1: 2.70222e-05\n",
      "[80]\tvalid_0's l1: 2.70222e-05\n",
      "[90]\tvalid_0's l1: 2.70222e-05\n",
      "[100]\tvalid_0's l1: 2.70222e-05\n"
     ]
    },
    {
     "name": "stderr",
     "output_type": "stream",
     "text": [
      "8it [03:56, 26.04s/it]"
     ]
    },
    {
     "name": "stdout",
     "output_type": "stream",
     "text": [
      "Early stopping, best iteration is:\n",
      "[1]\tvalid_0's l1: 2.70156e-05\n"
     ]
    },
    {
     "name": "stderr",
     "output_type": "stream",
     "text": [
      "/home/ubuntu/anaconda3/envs/generate/lib/python3.8/site-packages/lightgbm/engine.py:148: UserWarning: Found `n_estimators` in params. Will use it instead of argument\n",
      "  _log_warning(\"Found `{}` in params. Will use it instead of argument\".format(alias))\n",
      "/home/ubuntu/anaconda3/envs/generate/lib/python3.8/site-packages/lightgbm/basic.py:1702: UserWarning: Using categorical_feature in Dataset.\n",
      "  _log_warning('Using categorical_feature in Dataset.')\n",
      "/home/ubuntu/anaconda3/envs/generate/lib/python3.8/site-packages/lightgbm/basic.py:1433: UserWarning: Overriding the parameters from Reference Dataset.\n",
      "  _log_warning('Overriding the parameters from Reference Dataset.')\n",
      "/home/ubuntu/anaconda3/envs/generate/lib/python3.8/site-packages/lightgbm/basic.py:1245: UserWarning: categorical_column in param dict is overridden.\n",
      "  _log_warning('{} in param dict is overridden.'.format(cat_alias))\n"
     ]
    },
    {
     "name": "stdout",
     "output_type": "stream",
     "text": [
      "Training until validation scores don't improve for 100 rounds\n",
      "[10]\tvalid_0's l1: 4.9783e-05\n",
      "[20]\tvalid_0's l1: 4.9783e-05\n",
      "[30]\tvalid_0's l1: 4.9783e-05\n",
      "[40]\tvalid_0's l1: 4.9783e-05\n",
      "[50]\tvalid_0's l1: 4.9783e-05\n",
      "[60]\tvalid_0's l1: 4.9783e-05\n",
      "[70]\tvalid_0's l1: 4.9783e-05\n",
      "[80]\tvalid_0's l1: 4.9783e-05\n",
      "[90]\tvalid_0's l1: 4.9783e-05\n",
      "[100]\tvalid_0's l1: 4.9783e-05\n",
      "Early stopping, best iteration is:\n",
      "[1]\tvalid_0's l1: 4.9783e-05\n"
     ]
    },
    {
     "name": "stderr",
     "output_type": "stream",
     "text": [
      "9it [04:19, 25.06s/it]/home/ubuntu/anaconda3/envs/generate/lib/python3.8/site-packages/lightgbm/engine.py:148: UserWarning: Found `n_estimators` in params. Will use it instead of argument\n",
      "  _log_warning(\"Found `{}` in params. Will use it instead of argument\".format(alias))\n",
      "/home/ubuntu/anaconda3/envs/generate/lib/python3.8/site-packages/lightgbm/basic.py:1702: UserWarning: Using categorical_feature in Dataset.\n",
      "  _log_warning('Using categorical_feature in Dataset.')\n",
      "/home/ubuntu/anaconda3/envs/generate/lib/python3.8/site-packages/lightgbm/basic.py:1433: UserWarning: Overriding the parameters from Reference Dataset.\n",
      "  _log_warning('Overriding the parameters from Reference Dataset.')\n",
      "/home/ubuntu/anaconda3/envs/generate/lib/python3.8/site-packages/lightgbm/basic.py:1245: UserWarning: categorical_column in param dict is overridden.\n",
      "  _log_warning('{} in param dict is overridden.'.format(cat_alias))\n"
     ]
    },
    {
     "name": "stdout",
     "output_type": "stream",
     "text": [
      "Training until validation scores don't improve for 100 rounds\n",
      "[10]\tvalid_0's l1: 8.33784e-05\n",
      "[20]\tvalid_0's l1: 8.33784e-05\n",
      "[30]\tvalid_0's l1: 8.33784e-05\n",
      "[40]\tvalid_0's l1: 8.33784e-05\n",
      "[50]\tvalid_0's l1: 8.33784e-05\n",
      "[60]\tvalid_0's l1: 8.33784e-05\n",
      "[70]\tvalid_0's l1: 8.33784e-05\n",
      "[80]\tvalid_0's l1: 8.33784e-05\n",
      "[90]\tvalid_0's l1: 8.33784e-05\n"
     ]
    },
    {
     "name": "stderr",
     "output_type": "stream",
     "text": [
      "10it [04:43, 24.69s/it]"
     ]
    },
    {
     "name": "stdout",
     "output_type": "stream",
     "text": [
      "[100]\tvalid_0's l1: 8.33784e-05\n",
      "Early stopping, best iteration is:\n",
      "[1]\tvalid_0's l1: 8.33784e-05\n"
     ]
    },
    {
     "name": "stderr",
     "output_type": "stream",
     "text": [
      "10it [04:44, 28.47s/it]\n",
      "\u001b[32m[I 2022-06-13 09:23:25,959]\u001b[0m Trial 1 finished with value: 2.295861361778025e-05 and parameters: {'max_depth': 9, 'num_leaves': 187, 'learning_rate': 0.04386283874551565, 'n_estimators': 619, 'feature_fraction': 0.6388265531982589, 'bagging_fraction': 0.8427972434392215, 'bagging_freq': 2, 'min_child_samples': 13, 'lambda_l1': 0.0006080823033339466, 'lambda_l2': 0.0006115729720282377}. Best is trial 1 with value: 2.295861361778025e-05.\u001b[0m\n"
     ]
    },
    {
     "name": "stdout",
     "output_type": "stream",
     "text": [
      "\n",
      " average PCC: 0.0000\n"
     ]
    },
    {
     "name": "stderr",
     "output_type": "stream",
     "text": [
      "0it [00:00, ?it/s]/home/ubuntu/anaconda3/envs/generate/lib/python3.8/site-packages/lightgbm/engine.py:148: UserWarning: Found `n_estimators` in params. Will use it instead of argument\n",
      "  _log_warning(\"Found `{}` in params. Will use it instead of argument\".format(alias))\n",
      "/home/ubuntu/anaconda3/envs/generate/lib/python3.8/site-packages/lightgbm/basic.py:1702: UserWarning: Using categorical_feature in Dataset.\n",
      "  _log_warning('Using categorical_feature in Dataset.')\n",
      "/home/ubuntu/anaconda3/envs/generate/lib/python3.8/site-packages/lightgbm/basic.py:1433: UserWarning: Overriding the parameters from Reference Dataset.\n",
      "  _log_warning('Overriding the parameters from Reference Dataset.')\n",
      "/home/ubuntu/anaconda3/envs/generate/lib/python3.8/site-packages/lightgbm/basic.py:1245: UserWarning: categorical_column in param dict is overridden.\n",
      "  _log_warning('{} in param dict is overridden.'.format(cat_alias))\n"
     ]
    },
    {
     "name": "stdout",
     "output_type": "stream",
     "text": [
      "Training until validation scores don't improve for 100 rounds\n",
      "[10]\tvalid_0's l1: 6.45558e-06\n",
      "[20]\tvalid_0's l1: 6.46228e-06\n",
      "[30]\tvalid_0's l1: 6.46228e-06\n",
      "[40]\tvalid_0's l1: 6.46228e-06\n",
      "[50]\tvalid_0's l1: 6.46258e-06\n",
      "[60]\tvalid_0's l1: 6.46258e-06\n",
      "[70]\tvalid_0's l1: 6.47391e-06\n",
      "[80]\tvalid_0's l1: 6.49171e-06\n",
      "[90]\tvalid_0's l1: 6.49171e-06\n",
      "[100]\tvalid_0's l1: 6.50176e-06\n"
     ]
    },
    {
     "name": "stderr",
     "output_type": "stream",
     "text": [
      "1it [00:54, 54.59s/it]"
     ]
    },
    {
     "name": "stdout",
     "output_type": "stream",
     "text": [
      "Early stopping, best iteration is:\n",
      "[1]\tvalid_0's l1: 6.45558e-06\n"
     ]
    },
    {
     "name": "stderr",
     "output_type": "stream",
     "text": [
      "/home/ubuntu/anaconda3/envs/generate/lib/python3.8/site-packages/lightgbm/engine.py:148: UserWarning: Found `n_estimators` in params. Will use it instead of argument\n",
      "  _log_warning(\"Found `{}` in params. Will use it instead of argument\".format(alias))\n",
      "/home/ubuntu/anaconda3/envs/generate/lib/python3.8/site-packages/lightgbm/basic.py:1702: UserWarning: Using categorical_feature in Dataset.\n",
      "  _log_warning('Using categorical_feature in Dataset.')\n",
      "/home/ubuntu/anaconda3/envs/generate/lib/python3.8/site-packages/lightgbm/basic.py:1433: UserWarning: Overriding the parameters from Reference Dataset.\n",
      "  _log_warning('Overriding the parameters from Reference Dataset.')\n",
      "/home/ubuntu/anaconda3/envs/generate/lib/python3.8/site-packages/lightgbm/basic.py:1245: UserWarning: categorical_column in param dict is overridden.\n",
      "  _log_warning('{} in param dict is overridden.'.format(cat_alias))\n"
     ]
    },
    {
     "name": "stdout",
     "output_type": "stream",
     "text": [
      "Training until validation scores don't improve for 100 rounds\n",
      "[10]\tvalid_0's l1: 6.22769e-06\n",
      "[20]\tvalid_0's l1: 6.22769e-06\n",
      "[30]\tvalid_0's l1: 6.232e-06\n",
      "[40]\tvalid_0's l1: 6.23669e-06\n",
      "[50]\tvalid_0's l1: 6.23669e-06\n",
      "[60]\tvalid_0's l1: 6.23966e-06\n",
      "[70]\tvalid_0's l1: 6.23966e-06\n",
      "[80]\tvalid_0's l1: 6.23966e-06\n",
      "[90]\tvalid_0's l1: 6.23966e-06\n",
      "[100]\tvalid_0's l1: 6.24413e-06\n",
      "Early stopping, best iteration is:\n",
      "[1]\tvalid_0's l1: 6.22714e-06\n"
     ]
    },
    {
     "name": "stderr",
     "output_type": "stream",
     "text": [
      "2it [01:21, 38.46s/it]/home/ubuntu/anaconda3/envs/generate/lib/python3.8/site-packages/lightgbm/engine.py:148: UserWarning: Found `n_estimators` in params. Will use it instead of argument\n",
      "  _log_warning(\"Found `{}` in params. Will use it instead of argument\".format(alias))\n",
      "/home/ubuntu/anaconda3/envs/generate/lib/python3.8/site-packages/lightgbm/basic.py:1702: UserWarning: Using categorical_feature in Dataset.\n",
      "  _log_warning('Using categorical_feature in Dataset.')\n",
      "/home/ubuntu/anaconda3/envs/generate/lib/python3.8/site-packages/lightgbm/basic.py:1433: UserWarning: Overriding the parameters from Reference Dataset.\n",
      "  _log_warning('Overriding the parameters from Reference Dataset.')\n",
      "/home/ubuntu/anaconda3/envs/generate/lib/python3.8/site-packages/lightgbm/basic.py:1245: UserWarning: categorical_column in param dict is overridden.\n",
      "  _log_warning('{} in param dict is overridden.'.format(cat_alias))\n"
     ]
    },
    {
     "name": "stdout",
     "output_type": "stream",
     "text": [
      "Training until validation scores don't improve for 100 rounds\n",
      "[10]\tvalid_0's l1: 6.02756e-06\n",
      "[20]\tvalid_0's l1: 6.02756e-06\n",
      "[30]\tvalid_0's l1: 6.02756e-06\n",
      "[40]\tvalid_0's l1: 6.02756e-06\n",
      "[50]\tvalid_0's l1: 6.03112e-06\n",
      "[60]\tvalid_0's l1: 6.03112e-06\n",
      "[70]\tvalid_0's l1: 6.03112e-06\n",
      "[80]\tvalid_0's l1: 6.03435e-06\n",
      "[90]\tvalid_0's l1: 6.04311e-06\n"
     ]
    },
    {
     "name": "stderr",
     "output_type": "stream",
     "text": [
      "3it [01:48, 33.04s/it]"
     ]
    },
    {
     "name": "stdout",
     "output_type": "stream",
     "text": [
      "[100]\tvalid_0's l1: 6.05658e-06\n",
      "Early stopping, best iteration is:\n",
      "[1]\tvalid_0's l1: 6.02756e-06\n"
     ]
    },
    {
     "name": "stderr",
     "output_type": "stream",
     "text": [
      "/home/ubuntu/anaconda3/envs/generate/lib/python3.8/site-packages/lightgbm/engine.py:148: UserWarning: Found `n_estimators` in params. Will use it instead of argument\n",
      "  _log_warning(\"Found `{}` in params. Will use it instead of argument\".format(alias))\n",
      "/home/ubuntu/anaconda3/envs/generate/lib/python3.8/site-packages/lightgbm/basic.py:1702: UserWarning: Using categorical_feature in Dataset.\n",
      "  _log_warning('Using categorical_feature in Dataset.')\n",
      "/home/ubuntu/anaconda3/envs/generate/lib/python3.8/site-packages/lightgbm/basic.py:1433: UserWarning: Overriding the parameters from Reference Dataset.\n",
      "  _log_warning('Overriding the parameters from Reference Dataset.')\n",
      "/home/ubuntu/anaconda3/envs/generate/lib/python3.8/site-packages/lightgbm/basic.py:1245: UserWarning: categorical_column in param dict is overridden.\n",
      "  _log_warning('{} in param dict is overridden.'.format(cat_alias))\n"
     ]
    },
    {
     "name": "stdout",
     "output_type": "stream",
     "text": [
      "Training until validation scores don't improve for 100 rounds\n",
      "[10]\tvalid_0's l1: 9.43175e-06\n",
      "[20]\tvalid_0's l1: 9.43405e-06\n",
      "[30]\tvalid_0's l1: 9.43405e-06\n",
      "[40]\tvalid_0's l1: 9.43492e-06\n",
      "[50]\tvalid_0's l1: 9.43461e-06\n",
      "[60]\tvalid_0's l1: 9.43845e-06\n",
      "[70]\tvalid_0's l1: 9.43845e-06\n",
      "[80]\tvalid_0's l1: 9.43862e-06\n",
      "[90]\tvalid_0's l1: 9.43854e-06\n",
      "[100]\tvalid_0's l1: 9.43854e-06\n"
     ]
    },
    {
     "name": "stderr",
     "output_type": "stream",
     "text": [
      "4it [02:16, 31.17s/it]"
     ]
    },
    {
     "name": "stdout",
     "output_type": "stream",
     "text": [
      "Early stopping, best iteration is:\n",
      "[1]\tvalid_0's l1: 9.43175e-06\n"
     ]
    },
    {
     "name": "stderr",
     "output_type": "stream",
     "text": [
      "/home/ubuntu/anaconda3/envs/generate/lib/python3.8/site-packages/lightgbm/engine.py:148: UserWarning: Found `n_estimators` in params. Will use it instead of argument\n",
      "  _log_warning(\"Found `{}` in params. Will use it instead of argument\".format(alias))\n",
      "/home/ubuntu/anaconda3/envs/generate/lib/python3.8/site-packages/lightgbm/basic.py:1702: UserWarning: Using categorical_feature in Dataset.\n",
      "  _log_warning('Using categorical_feature in Dataset.')\n",
      "/home/ubuntu/anaconda3/envs/generate/lib/python3.8/site-packages/lightgbm/basic.py:1433: UserWarning: Overriding the parameters from Reference Dataset.\n",
      "  _log_warning('Overriding the parameters from Reference Dataset.')\n",
      "/home/ubuntu/anaconda3/envs/generate/lib/python3.8/site-packages/lightgbm/basic.py:1245: UserWarning: categorical_column in param dict is overridden.\n",
      "  _log_warning('{} in param dict is overridden.'.format(cat_alias))\n"
     ]
    },
    {
     "name": "stdout",
     "output_type": "stream",
     "text": [
      "Training until validation scores don't improve for 100 rounds\n",
      "[10]\tvalid_0's l1: 8.67304e-06\n",
      "[20]\tvalid_0's l1: 8.85039e-06\n",
      "[30]\tvalid_0's l1: 8.85039e-06\n",
      "[40]\tvalid_0's l1: 8.83825e-06\n",
      "[50]\tvalid_0's l1: 8.93583e-06\n",
      "[60]\tvalid_0's l1: 8.93583e-06\n",
      "[70]\tvalid_0's l1: 8.93595e-06\n",
      "[80]\tvalid_0's l1: 8.93279e-06\n",
      "[90]\tvalid_0's l1: 8.92174e-06\n"
     ]
    },
    {
     "name": "stderr",
     "output_type": "stream",
     "text": [
      "5it [02:43, 29.56s/it]"
     ]
    },
    {
     "name": "stdout",
     "output_type": "stream",
     "text": [
      "[100]\tvalid_0's l1: 9.04215e-06\n",
      "Early stopping, best iteration is:\n",
      "[1]\tvalid_0's l1: 8.67304e-06\n"
     ]
    }
   ],
   "source": [
    "#study_model = optuna.create_study(direction = 'maximize', sampler = sampler)\n",
    "study_model = optuna.create_study(direction = 'minimize', sampler = sampler)\n",
    "study_model.optimize(objective, n_trials = 50)"
   ]
  },
  {
   "cell_type": "code",
   "execution_count": null,
   "id": "6904a67a",
   "metadata": {},
   "outputs": [],
   "source": [
    "# select best trial and parameter\n",
    "trial = study_model.best_trial\n",
    "best_params = trial.params\n",
    "\n",
    "print('Best params from optuna: \\n', best_params)"
   ]
  },
  {
   "cell_type": "code",
   "execution_count": null,
   "id": "b2e94155",
   "metadata": {},
   "outputs": [],
   "source": [
    "# Save the best parameters into a json file\n",
    "with open('params.json', 'wb') as fp:\n",
    "    pickle.dump(best_params, fp)"
   ]
  },
  {
   "cell_type": "code",
   "execution_count": 11,
   "id": "6751c063",
   "metadata": {},
   "outputs": [
    {
     "data": {
      "text/plain": [
       "{'max_depth': 14,\n",
       " 'num_leaves': 70,\n",
       " 'learning_rate': 0.09544600078958534,\n",
       " 'n_estimators': 504,\n",
       " 'feature_fraction': 0.692597562668158,\n",
       " 'bagging_fraction': 0.902059664353617,\n",
       " 'bagging_freq': 2,\n",
       " 'min_child_samples': 7,\n",
       " 'lambda_l1': 1.8770358603329745e-05,\n",
       " 'lambda_l2': 0.007252894722583617}"
      ]
     },
     "execution_count": 11,
     "metadata": {},
     "output_type": "execute_result"
    }
   ],
   "source": [
    "with open('params.json', 'rb') as fp:\n",
    "    best_params = pickle.load(fp)\n",
    "best_params"
   ]
  },
  {
   "cell_type": "code",
   "execution_count": 27,
   "id": "1932458f",
   "metadata": {},
   "outputs": [],
   "source": [
    "split_date = pd.to_datetime(data.datetime)[int(len(data) * 0.93)]\n",
    "\n",
    "x_train, y_train = data.loc[data.index < split_date][features], data.loc[data.index < split_date]['Target']\n",
    "x_cal, y_cal = data.loc[data.index >= split_date][features], data.loc[data.index >= split_date]['Target']\n",
    "train_dataset = lgb.Dataset(x_train, \n",
    "                        y_train, \n",
    "                        feature_name = features, \n",
    "                        categorical_feature = categoricals,\n",
    "                        free_raw_data=False).construct()\n",
    "cal_dataset = lgb.Dataset(x_cal, \n",
    "                        y_cal, \n",
    "                        feature_name = features, \n",
    "                        categorical_feature = categoricals,\n",
    "                        free_raw_data=False).construct()"
   ]
  },
  {
   "cell_type": "code",
   "execution_count": 39,
   "id": "8dea5e2b",
   "metadata": {},
   "outputs": [],
   "source": [
    "# CHECK ADEQUACY \n",
    "lgbmod = LGBMRegressor(**best_params)\n",
    "cp_model = cpadapter.Adapt_to_CP(lgbmod, True)\n",
    "#cv_result(lgb_model, X, y)\n",
    "cp_model.fit(train_dataset.get_data(), train_dataset.get_label())\n",
    "cp_model.calibrate(cal_dataset.get_data(), cal_dataset.get_label())"
   ]
  },
  {
   "cell_type": "code",
   "execution_count": 41,
   "id": "ea2ae4da",
   "metadata": {},
   "outputs": [],
   "source": [
    "# save model\n",
    "pickle.dump(cp_model, open('train_prob_vvsg.p', 'wb'))\n",
    "\n",
    "# save model\n",
    "pickle.dump(model, open('train_vvsg.p', 'wb'))"
   ]
  },
  {
   "cell_type": "code",
   "execution_count": 37,
   "id": "14f60c6d",
   "metadata": {
    "scrolled": true
   },
   "outputs": [
    {
     "name": "stdout",
     "output_type": "stream",
     "text": [
      "[LightGBM] [Warning] lambda_l1 is set=1.8770358603329745e-05, reg_alpha=0.0 will be ignored. Current value: lambda_l1=1.8770358603329745e-05\n",
      "[LightGBM] [Warning] feature_fraction is set=0.692597562668158, colsample_bytree=1.0 will be ignored. Current value: feature_fraction=0.692597562668158\n",
      "[LightGBM] [Warning] bagging_freq is set=2, subsample_freq=0 will be ignored. Current value: bagging_freq=2\n",
      "[LightGBM] [Warning] lambda_l2 is set=0.007252894722583617, reg_lambda=0.0 will be ignored. Current value: lambda_l2=0.007252894722583617\n",
      "[LightGBM] [Warning] bagging_fraction is set=0.902059664353617, subsample=1.0 will be ignored. Current value: bagging_fraction=0.902059664353617\n"
     ]
    }
   ],
   "source": [
    "lgbmod = LGBMRegressor(**best_params)\n",
    "model = lgbmod.fit(train_dataset.get_data(), train_dataset.get_label())"
   ]
  },
  {
   "cell_type": "code",
   "execution_count": 38,
   "id": "a3811843",
   "metadata": {},
   "outputs": [
    {
     "data": {
      "image/png": "[encoded data removed]",
      "text/plain": [
       "<Figure size 2880x1440 with 1 Axes>"
      ]
     },
     "metadata": {
      "needs_background": "light"
     },
     "output_type": "display_data"
    }
   ],
   "source": [
    "def plotImp(model, X , num = 20, fig_size = (40, 20)):\n",
    "    feature_imp = pd.DataFrame({'Value':model.feature_importances_,'Feature':X.columns})\n",
    "    plt.figure(figsize=fig_size)\n",
    "    #sns.set(font_scale = 5)\n",
    "    sns.barplot(x=\"Value\", y=\"Feature\", data=feature_imp.sort_values(by=\"Value\", \n",
    "                                                        ascending=False)[0:num])\n",
    "    plt.title('LightGBM Features (avg over folds)')\n",
    "    plt.tight_layout()\n",
    "    plt.xticks(fontsize=40)\n",
    "    plt.yticks(fontsize=40)\n",
    "    #plt.savefig('lgbm_importances-01.png')\n",
    "    plt.show()\n",
    "\n",
    "plotImp(model, train_dataset.get_data())"
   ]
  },
  {
   "cell_type": "code",
   "execution_count": 37,
   "id": "45af8775",
   "metadata": {},
   "outputs": [
    {
     "name": "stdout",
     "output_type": "stream",
     "text": [
      "[LightGBM] [Warning] Find whitespaces in feature_names, replace with underlines\n"
     ]
    }
   ],
   "source": [
    "df_test = data[data.ID == 6725][-168:]\n",
    "X_test = df_test[features]\n",
    "y_test = df_test['Target']\n",
    "test_dataset = lgb.Dataset(X_test, \n",
    "                            y_test, \n",
    "                            feature_name = features, \n",
    "                            categorical_feature = categoricals,\n",
    "                            free_raw_data=False).construct()\n",
    "y_preds = np.zeros((len(test_dataset.get_label())))\n",
    "y_preds = model.predict(test_dataset.get_data())"
   ]
  },
  {
   "cell_type": "code",
   "execution_count": 38,
   "id": "730c84f8",
   "metadata": {},
   "outputs": [
    {
     "data": {
      "image/png": "[encoded data removed]",
      "text/plain": [
       "<Figure size 432x288 with 1 Axes>"
      ]
     },
     "metadata": {
      "needs_background": "light"
     },
     "output_type": "display_data"
    }
   ],
   "source": [
    "plt.plot(df_test['datetime'], y_preds)\n",
    "plt.show()"
   ]
  },
  {
   "cell_type": "code",
   "execution_count": 39,
   "id": "52cd6b22",
   "metadata": {},
   "outputs": [
    {
     "data": {
      "image/png": "[encoded data removed]",
      "text/plain": [
       "<Figure size 432x288 with 1 Axes>"
      ]
     },
     "metadata": {
      "needs_background": "light"
     },
     "output_type": "display_data"
    }
   ],
   "source": [
    "plt.plot(df_test['datetime'], y_test)\n",
    "plt.show()"
   ]
  },
  {
   "cell_type": "code",
   "execution_count": null,
   "id": "972dfca0",
   "metadata": {},
   "outputs": [],
   "source": []
  }
 ],
 "metadata": {
  "interpreter": {
   "hash": "82eac50b546914481e715615e61f48e15fd0ff69f139aea75285dc2c14d36e80"
  },
  "kernelspec": {
   "display_name": "Python 3.8.10 ('generate')",
   "language": "python",
   "name": "python3"
  },
  "language_info": {
   "codemirror_mode": {
    "name": "ipython",
    "version": 3
   },
   "file_extension": ".py",
   "mimetype": "text/x-python",
   "name": "python",
   "nbconvert_exporter": "python",
   "pygments_lexer": "ipython3",
   "version": "3.8.10"
  }
 },
 "nbformat": 4,
 "nbformat_minor": 5
}
