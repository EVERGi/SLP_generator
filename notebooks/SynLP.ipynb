{
 "cells": [
  {
   "cell_type": "code",
   "execution_count": 1,
   "id": "b78399a1",
   "metadata": {},
   "outputs": [],
   "source": [
    "import os\n",
    "# Change native directory to root\n",
    "os.chdir(os.path.dirname(os.getcwd()))"
   ]
  },
  {
   "cell_type": "code",
   "execution_count": 27,
   "id": "ff1ee95b",
   "metadata": {},
   "outputs": [],
   "source": [
    "import glob\n",
    "import pandas as pd\n",
    "import numpy as np\n",
    "import random\n",
    "from tsfeatures import tsfeatures\n",
    "import matplotlib.pyplot as plt\n",
    "import plotly.express as px\n",
    "\n",
    "# K-mean clustering libraries\n",
    "from sklearn.cluster import KMeans\n",
    "from sklearn.metrics import silhouette_score\n",
    "from sklearn.metrics import silhouette_samples\n",
    "from sklearn.metrics import davies_bouldin_score\n",
    "from sklearn.metrics import calinski_harabasz_score"
   ]
  },
  {
   "cell_type": "code",
   "execution_count": 42,
   "metadata": {},
   "outputs": [
    {
     "data": {
      "text/html": [
       "<div>\n",
       "<style scoped>\n",
       "    .dataframe tbody tr th:only-of-type {\n",
       "        vertical-align: middle;\n",
       "    }\n",
       "\n",
       "    .dataframe tbody tr th {\n",
       "        vertical-align: top;\n",
       "    }\n",
       "\n",
       "    .dataframe thead th {\n",
       "        text-align: right;\n",
       "    }\n",
       "</style>\n",
       "<table border=\"1\" class=\"dataframe\">\n",
       "  <thead>\n",
       "    <tr style=\"text-align: right;\">\n",
       "      <th></th>\n",
       "      <th>DN_HistogramMode_5</th>\n",
       "      <th>DN_HistogramMode_10</th>\n",
       "      <th>CO_f1ecac</th>\n",
       "      <th>CO_FirstMin_ac</th>\n",
       "      <th>CO_HistogramAMI_even_2_5</th>\n",
       "      <th>CO_trev_1_num</th>\n",
       "      <th>MD_hrv_classic_pnn40</th>\n",
       "      <th>SB_BinaryStats_mean_longstretch1</th>\n",
       "      <th>SB_TransitionMatrix_3ac_sumdiagcov</th>\n",
       "      <th>PD_PeriodicityWang_th0_01</th>\n",
       "      <th>...</th>\n",
       "      <th>FC_LocalSimple_mean1_tauresrat</th>\n",
       "      <th>DN_OutlierInclude_p_001_mdrmd</th>\n",
       "      <th>DN_OutlierInclude_n_001_mdrmd</th>\n",
       "      <th>SP_Summaries_welch_rect_area_5_1</th>\n",
       "      <th>SB_BinaryStats_diff_longstretch0</th>\n",
       "      <th>SB_MotifThree_quantile_hh</th>\n",
       "      <th>SC_FluctAnal_2_rsrangefit_50_1_logi_prop_r1</th>\n",
       "      <th>SC_FluctAnal_2_dfa_50_1_2_logi_prop_r1</th>\n",
       "      <th>SP_Summaries_welch_rect_centroid</th>\n",
       "      <th>FC_LocalSimple_mean3_stderr</th>\n",
       "    </tr>\n",
       "  </thead>\n",
       "  <tbody>\n",
       "    <tr>\n",
       "      <th>411</th>\n",
       "      <td>-0.229518</td>\n",
       "      <td>-0.498146</td>\n",
       "      <td>23</td>\n",
       "      <td>49</td>\n",
       "      <td>0.714297</td>\n",
       "      <td>0.002028</td>\n",
       "      <td>0.518624</td>\n",
       "      <td>60.0</td>\n",
       "      <td>0.002018</td>\n",
       "      <td>95</td>\n",
       "      <td>...</td>\n",
       "      <td>0.727273</td>\n",
       "      <td>-0.537143</td>\n",
       "      <td>0.008972</td>\n",
       "      <td>0.990633</td>\n",
       "      <td>27.0</td>\n",
       "      <td>1.467418</td>\n",
       "      <td>0.26</td>\n",
       "      <td>0.20</td>\n",
       "      <td>0.065434</td>\n",
       "      <td>0.198818</td>\n",
       "    </tr>\n",
       "    <tr>\n",
       "      <th>1208</th>\n",
       "      <td>-0.421911</td>\n",
       "      <td>-0.793071</td>\n",
       "      <td>20</td>\n",
       "      <td>49</td>\n",
       "      <td>0.434424</td>\n",
       "      <td>0.006392</td>\n",
       "      <td>0.813468</td>\n",
       "      <td>158.0</td>\n",
       "      <td>0.001414</td>\n",
       "      <td>95</td>\n",
       "      <td>...</td>\n",
       "      <td>0.033333</td>\n",
       "      <td>-0.246978</td>\n",
       "      <td>-0.023704</td>\n",
       "      <td>0.953550</td>\n",
       "      <td>15.0</td>\n",
       "      <td>1.541064</td>\n",
       "      <td>0.24</td>\n",
       "      <td>0.12</td>\n",
       "      <td>0.065434</td>\n",
       "      <td>0.350191</td>\n",
       "    </tr>\n",
       "    <tr>\n",
       "      <th>588</th>\n",
       "      <td>-0.350266</td>\n",
       "      <td>-0.787705</td>\n",
       "      <td>21</td>\n",
       "      <td>51</td>\n",
       "      <td>0.351503</td>\n",
       "      <td>-0.025644</td>\n",
       "      <td>0.762562</td>\n",
       "      <td>86.0</td>\n",
       "      <td>0.000186</td>\n",
       "      <td>94</td>\n",
       "      <td>...</td>\n",
       "      <td>0.025000</td>\n",
       "      <td>-0.253764</td>\n",
       "      <td>-0.048315</td>\n",
       "      <td>0.963800</td>\n",
       "      <td>15.0</td>\n",
       "      <td>1.698899</td>\n",
       "      <td>0.22</td>\n",
       "      <td>0.20</td>\n",
       "      <td>0.059106</td>\n",
       "      <td>0.331352</td>\n",
       "    </tr>\n",
       "    <tr>\n",
       "      <th>1116</th>\n",
       "      <td>1.185587</td>\n",
       "      <td>0.372905</td>\n",
       "      <td>30</td>\n",
       "      <td>47</td>\n",
       "      <td>0.072859</td>\n",
       "      <td>0.012362</td>\n",
       "      <td>0.405199</td>\n",
       "      <td>1484.0</td>\n",
       "      <td>0.003637</td>\n",
       "      <td>76</td>\n",
       "      <td>...</td>\n",
       "      <td>0.000994</td>\n",
       "      <td>-0.480317</td>\n",
       "      <td>0.063013</td>\n",
       "      <td>0.959287</td>\n",
       "      <td>11.0</td>\n",
       "      <td>1.779463</td>\n",
       "      <td>0.24</td>\n",
       "      <td>0.22</td>\n",
       "      <td>0.025119</td>\n",
       "      <td>0.326308</td>\n",
       "    </tr>\n",
       "    <tr>\n",
       "      <th>279</th>\n",
       "      <td>-0.494994</td>\n",
       "      <td>-0.873380</td>\n",
       "      <td>41</td>\n",
       "      <td>44</td>\n",
       "      <td>0.277079</td>\n",
       "      <td>0.106722</td>\n",
       "      <td>0.671359</td>\n",
       "      <td>1072.0</td>\n",
       "      <td>0.005102</td>\n",
       "      <td>95</td>\n",
       "      <td>...</td>\n",
       "      <td>0.000142</td>\n",
       "      <td>-0.357037</td>\n",
       "      <td>0.055272</td>\n",
       "      <td>0.856057</td>\n",
       "      <td>12.0</td>\n",
       "      <td>1.730995</td>\n",
       "      <td>0.20</td>\n",
       "      <td>0.82</td>\n",
       "      <td>0.023633</td>\n",
       "      <td>0.533461</td>\n",
       "    </tr>\n",
       "    <tr>\n",
       "      <th>...</th>\n",
       "      <td>...</td>\n",
       "      <td>...</td>\n",
       "      <td>...</td>\n",
       "      <td>...</td>\n",
       "      <td>...</td>\n",
       "      <td>...</td>\n",
       "      <td>...</td>\n",
       "      <td>...</td>\n",
       "      <td>...</td>\n",
       "      <td>...</td>\n",
       "      <td>...</td>\n",
       "      <td>...</td>\n",
       "      <td>...</td>\n",
       "      <td>...</td>\n",
       "      <td>...</td>\n",
       "      <td>...</td>\n",
       "      <td>...</td>\n",
       "      <td>...</td>\n",
       "      <td>...</td>\n",
       "      <td>...</td>\n",
       "      <td>...</td>\n",
       "    </tr>\n",
       "    <tr>\n",
       "      <th>1660</th>\n",
       "      <td>0.121500</td>\n",
       "      <td>-0.470584</td>\n",
       "      <td>18</td>\n",
       "      <td>37</td>\n",
       "      <td>0.206636</td>\n",
       "      <td>-0.014362</td>\n",
       "      <td>0.785829</td>\n",
       "      <td>880.0</td>\n",
       "      <td>0.001562</td>\n",
       "      <td>45</td>\n",
       "      <td>...</td>\n",
       "      <td>0.006231</td>\n",
       "      <td>-0.421728</td>\n",
       "      <td>-0.001283</td>\n",
       "      <td>0.960805</td>\n",
       "      <td>13.0</td>\n",
       "      <td>1.546438</td>\n",
       "      <td>0.22</td>\n",
       "      <td>0.12</td>\n",
       "      <td>0.065434</td>\n",
       "      <td>0.350073</td>\n",
       "    </tr>\n",
       "    <tr>\n",
       "      <th>642</th>\n",
       "      <td>-0.248563</td>\n",
       "      <td>-0.539083</td>\n",
       "      <td>21</td>\n",
       "      <td>33</td>\n",
       "      <td>0.443825</td>\n",
       "      <td>-0.004426</td>\n",
       "      <td>0.660780</td>\n",
       "      <td>173.0</td>\n",
       "      <td>0.016389</td>\n",
       "      <td>36</td>\n",
       "      <td>...</td>\n",
       "      <td>0.002387</td>\n",
       "      <td>-0.283987</td>\n",
       "      <td>0.088076</td>\n",
       "      <td>0.968246</td>\n",
       "      <td>12.0</td>\n",
       "      <td>1.462734</td>\n",
       "      <td>0.18</td>\n",
       "      <td>0.12</td>\n",
       "      <td>0.065194</td>\n",
       "      <td>0.337450</td>\n",
       "    </tr>\n",
       "    <tr>\n",
       "      <th>597</th>\n",
       "      <td>0.361296</td>\n",
       "      <td>-0.010152</td>\n",
       "      <td>27</td>\n",
       "      <td>2</td>\n",
       "      <td>0.353650</td>\n",
       "      <td>-0.002056</td>\n",
       "      <td>0.885216</td>\n",
       "      <td>851.0</td>\n",
       "      <td>0.001394</td>\n",
       "      <td>3</td>\n",
       "      <td>...</td>\n",
       "      <td>0.007143</td>\n",
       "      <td>-0.447793</td>\n",
       "      <td>0.157913</td>\n",
       "      <td>0.892682</td>\n",
       "      <td>11.0</td>\n",
       "      <td>1.759513</td>\n",
       "      <td>0.24</td>\n",
       "      <td>0.12</td>\n",
       "      <td>0.046786</td>\n",
       "      <td>0.442868</td>\n",
       "    </tr>\n",
       "    <tr>\n",
       "      <th>235</th>\n",
       "      <td>-0.282135</td>\n",
       "      <td>-0.673022</td>\n",
       "      <td>17</td>\n",
       "      <td>50</td>\n",
       "      <td>0.357122</td>\n",
       "      <td>-0.000171</td>\n",
       "      <td>0.645478</td>\n",
       "      <td>127.0</td>\n",
       "      <td>0.003658</td>\n",
       "      <td>95</td>\n",
       "      <td>...</td>\n",
       "      <td>0.028571</td>\n",
       "      <td>0.012004</td>\n",
       "      <td>0.017578</td>\n",
       "      <td>0.939083</td>\n",
       "      <td>12.0</td>\n",
       "      <td>1.679973</td>\n",
       "      <td>0.26</td>\n",
       "      <td>0.22</td>\n",
       "      <td>0.065434</td>\n",
       "      <td>0.411346</td>\n",
       "    </tr>\n",
       "    <tr>\n",
       "      <th>427</th>\n",
       "      <td>-0.932123</td>\n",
       "      <td>-0.586042</td>\n",
       "      <td>21</td>\n",
       "      <td>48</td>\n",
       "      <td>0.625349</td>\n",
       "      <td>0.011095</td>\n",
       "      <td>0.624645</td>\n",
       "      <td>145.0</td>\n",
       "      <td>0.005559</td>\n",
       "      <td>95</td>\n",
       "      <td>...</td>\n",
       "      <td>0.064516</td>\n",
       "      <td>0.015663</td>\n",
       "      <td>0.030342</td>\n",
       "      <td>0.979541</td>\n",
       "      <td>16.0</td>\n",
       "      <td>1.487479</td>\n",
       "      <td>0.26</td>\n",
       "      <td>0.24</td>\n",
       "      <td>0.065434</td>\n",
       "      <td>0.258523</td>\n",
       "    </tr>\n",
       "  </tbody>\n",
       "</table>\n",
       "<p>1741 rows × 22 columns</p>\n",
       "</div>"
      ],
      "text/plain": [
       "      DN_HistogramMode_5  DN_HistogramMode_10  CO_f1ecac  CO_FirstMin_ac  \\\n",
       "411            -0.229518            -0.498146         23              49   \n",
       "1208           -0.421911            -0.793071         20              49   \n",
       "588            -0.350266            -0.787705         21              51   \n",
       "1116            1.185587             0.372905         30              47   \n",
       "279            -0.494994            -0.873380         41              44   \n",
       "...                  ...                  ...        ...             ...   \n",
       "1660            0.121500            -0.470584         18              37   \n",
       "642            -0.248563            -0.539083         21              33   \n",
       "597             0.361296            -0.010152         27               2   \n",
       "235            -0.282135            -0.673022         17              50   \n",
       "427            -0.932123            -0.586042         21              48   \n",
       "\n",
       "      CO_HistogramAMI_even_2_5  CO_trev_1_num  MD_hrv_classic_pnn40  \\\n",
       "411                   0.714297       0.002028              0.518624   \n",
       "1208                  0.434424       0.006392              0.813468   \n",
       "588                   0.351503      -0.025644              0.762562   \n",
       "1116                  0.072859       0.012362              0.405199   \n",
       "279                   0.277079       0.106722              0.671359   \n",
       "...                        ...            ...                   ...   \n",
       "1660                  0.206636      -0.014362              0.785829   \n",
       "642                   0.443825      -0.004426              0.660780   \n",
       "597                   0.353650      -0.002056              0.885216   \n",
       "235                   0.357122      -0.000171              0.645478   \n",
       "427                   0.625349       0.011095              0.624645   \n",
       "\n",
       "      SB_BinaryStats_mean_longstretch1  SB_TransitionMatrix_3ac_sumdiagcov  \\\n",
       "411                               60.0                            0.002018   \n",
       "1208                             158.0                            0.001414   \n",
       "588                               86.0                            0.000186   \n",
       "1116                            1484.0                            0.003637   \n",
       "279                             1072.0                            0.005102   \n",
       "...                                ...                                 ...   \n",
       "1660                             880.0                            0.001562   \n",
       "642                              173.0                            0.016389   \n",
       "597                              851.0                            0.001394   \n",
       "235                              127.0                            0.003658   \n",
       "427                              145.0                            0.005559   \n",
       "\n",
       "      PD_PeriodicityWang_th0_01  ...  FC_LocalSimple_mean1_tauresrat  \\\n",
       "411                          95  ...                        0.727273   \n",
       "1208                         95  ...                        0.033333   \n",
       "588                          94  ...                        0.025000   \n",
       "1116                         76  ...                        0.000994   \n",
       "279                          95  ...                        0.000142   \n",
       "...                         ...  ...                             ...   \n",
       "1660                         45  ...                        0.006231   \n",
       "642                          36  ...                        0.002387   \n",
       "597                           3  ...                        0.007143   \n",
       "235                          95  ...                        0.028571   \n",
       "427                          95  ...                        0.064516   \n",
       "\n",
       "      DN_OutlierInclude_p_001_mdrmd  DN_OutlierInclude_n_001_mdrmd  \\\n",
       "411                       -0.537143                       0.008972   \n",
       "1208                      -0.246978                      -0.023704   \n",
       "588                       -0.253764                      -0.048315   \n",
       "1116                      -0.480317                       0.063013   \n",
       "279                       -0.357037                       0.055272   \n",
       "...                             ...                            ...   \n",
       "1660                      -0.421728                      -0.001283   \n",
       "642                       -0.283987                       0.088076   \n",
       "597                       -0.447793                       0.157913   \n",
       "235                        0.012004                       0.017578   \n",
       "427                        0.015663                       0.030342   \n",
       "\n",
       "      SP_Summaries_welch_rect_area_5_1  SB_BinaryStats_diff_longstretch0  \\\n",
       "411                           0.990633                              27.0   \n",
       "1208                          0.953550                              15.0   \n",
       "588                           0.963800                              15.0   \n",
       "1116                          0.959287                              11.0   \n",
       "279                           0.856057                              12.0   \n",
       "...                                ...                               ...   \n",
       "1660                          0.960805                              13.0   \n",
       "642                           0.968246                              12.0   \n",
       "597                           0.892682                              11.0   \n",
       "235                           0.939083                              12.0   \n",
       "427                           0.979541                              16.0   \n",
       "\n",
       "      SB_MotifThree_quantile_hh  SC_FluctAnal_2_rsrangefit_50_1_logi_prop_r1  \\\n",
       "411                    1.467418                                         0.26   \n",
       "1208                   1.541064                                         0.24   \n",
       "588                    1.698899                                         0.22   \n",
       "1116                   1.779463                                         0.24   \n",
       "279                    1.730995                                         0.20   \n",
       "...                         ...                                          ...   \n",
       "1660                   1.546438                                         0.22   \n",
       "642                    1.462734                                         0.18   \n",
       "597                    1.759513                                         0.24   \n",
       "235                    1.679973                                         0.26   \n",
       "427                    1.487479                                         0.26   \n",
       "\n",
       "      SC_FluctAnal_2_dfa_50_1_2_logi_prop_r1  \\\n",
       "411                                     0.20   \n",
       "1208                                    0.12   \n",
       "588                                     0.20   \n",
       "1116                                    0.22   \n",
       "279                                     0.82   \n",
       "...                                      ...   \n",
       "1660                                    0.12   \n",
       "642                                     0.12   \n",
       "597                                     0.12   \n",
       "235                                     0.22   \n",
       "427                                     0.24   \n",
       "\n",
       "      SP_Summaries_welch_rect_centroid  FC_LocalSimple_mean3_stderr  \n",
       "411                           0.065434                     0.198818  \n",
       "1208                          0.065434                     0.350191  \n",
       "588                           0.059106                     0.331352  \n",
       "1116                          0.025119                     0.326308  \n",
       "279                           0.023633                     0.533461  \n",
       "...                                ...                          ...  \n",
       "1660                          0.065434                     0.350073  \n",
       "642                           0.065194                     0.337450  \n",
       "597                           0.046786                     0.442868  \n",
       "235                           0.065434                     0.411346  \n",
       "427                           0.065434                     0.258523  \n",
       "\n",
       "[1741 rows x 22 columns]"
      ]
     },
     "execution_count": 42,
     "metadata": {},
     "output_type": "execute_result"
    }
   ],
   "source": [
    "# Read the features from the csv file\n",
    "features = pd.read_csv('data/features.csv', index_col=0)\n",
    "features"
   ]
  },
  {
   "cell_type": "code",
   "execution_count": 43,
   "metadata": {},
   "outputs": [
    {
     "data": {
      "text/html": [
       "<div>\n",
       "<style scoped>\n",
       "    .dataframe tbody tr th:only-of-type {\n",
       "        vertical-align: middle;\n",
       "    }\n",
       "\n",
       "    .dataframe tbody tr th {\n",
       "        vertical-align: top;\n",
       "    }\n",
       "\n",
       "    .dataframe thead th {\n",
       "        text-align: right;\n",
       "    }\n",
       "</style>\n",
       "<table border=\"1\" class=\"dataframe\">\n",
       "  <thead>\n",
       "    <tr style=\"text-align: right;\">\n",
       "      <th></th>\n",
       "      <th>DN_HistogramMode_5</th>\n",
       "      <th>DN_HistogramMode_10</th>\n",
       "      <th>CO_f1ecac</th>\n",
       "      <th>CO_FirstMin_ac</th>\n",
       "      <th>CO_HistogramAMI_even_2_5</th>\n",
       "      <th>CO_trev_1_num</th>\n",
       "      <th>MD_hrv_classic_pnn40</th>\n",
       "      <th>SB_BinaryStats_mean_longstretch1</th>\n",
       "      <th>SB_TransitionMatrix_3ac_sumdiagcov</th>\n",
       "      <th>PD_PeriodicityWang_th0_01</th>\n",
       "      <th>...</th>\n",
       "      <th>SP_Summaries_welch_rect_area_5_1</th>\n",
       "      <th>SB_BinaryStats_diff_longstretch0</th>\n",
       "      <th>SB_MotifThree_quantile_hh</th>\n",
       "      <th>SC_FluctAnal_2_rsrangefit_50_1_logi_prop_r1</th>\n",
       "      <th>SC_FluctAnal_2_dfa_50_1_2_logi_prop_r1</th>\n",
       "      <th>SP_Summaries_welch_rect_centroid</th>\n",
       "      <th>FC_LocalSimple_mean3_stderr</th>\n",
       "      <th>function</th>\n",
       "      <th>mean</th>\n",
       "      <th>std</th>\n",
       "    </tr>\n",
       "  </thead>\n",
       "  <tbody>\n",
       "    <tr>\n",
       "      <th>411</th>\n",
       "      <td>-0.229518</td>\n",
       "      <td>-0.498146</td>\n",
       "      <td>23</td>\n",
       "      <td>49</td>\n",
       "      <td>0.714297</td>\n",
       "      <td>0.002028</td>\n",
       "      <td>0.518624</td>\n",
       "      <td>60.0</td>\n",
       "      <td>0.002018</td>\n",
       "      <td>95</td>\n",
       "      <td>...</td>\n",
       "      <td>0.990633</td>\n",
       "      <td>27.0</td>\n",
       "      <td>1.467418</td>\n",
       "      <td>0.26</td>\n",
       "      <td>0.20</td>\n",
       "      <td>0.065434</td>\n",
       "      <td>0.198818</td>\n",
       "      <td>NaN</td>\n",
       "      <td>398.241228</td>\n",
       "      <td>216.284313</td>\n",
       "    </tr>\n",
       "    <tr>\n",
       "      <th>1208</th>\n",
       "      <td>-0.421911</td>\n",
       "      <td>-0.793071</td>\n",
       "      <td>20</td>\n",
       "      <td>49</td>\n",
       "      <td>0.434424</td>\n",
       "      <td>0.006392</td>\n",
       "      <td>0.813468</td>\n",
       "      <td>158.0</td>\n",
       "      <td>0.001414</td>\n",
       "      <td>95</td>\n",
       "      <td>...</td>\n",
       "      <td>0.953550</td>\n",
       "      <td>15.0</td>\n",
       "      <td>1.541064</td>\n",
       "      <td>0.24</td>\n",
       "      <td>0.12</td>\n",
       "      <td>0.065434</td>\n",
       "      <td>0.350191</td>\n",
       "      <td>Stadhuis/Gemeentehuis</td>\n",
       "      <td>9.313439</td>\n",
       "      <td>3.516002</td>\n",
       "    </tr>\n",
       "    <tr>\n",
       "      <th>588</th>\n",
       "      <td>-0.350266</td>\n",
       "      <td>-0.787705</td>\n",
       "      <td>21</td>\n",
       "      <td>51</td>\n",
       "      <td>0.351503</td>\n",
       "      <td>-0.025644</td>\n",
       "      <td>0.762562</td>\n",
       "      <td>86.0</td>\n",
       "      <td>0.000186</td>\n",
       "      <td>94</td>\n",
       "      <td>...</td>\n",
       "      <td>0.963800</td>\n",
       "      <td>15.0</td>\n",
       "      <td>1.698899</td>\n",
       "      <td>0.22</td>\n",
       "      <td>0.20</td>\n",
       "      <td>0.059106</td>\n",
       "      <td>0.331352</td>\n",
       "      <td>Academie</td>\n",
       "      <td>4.929265</td>\n",
       "      <td>4.023414</td>\n",
       "    </tr>\n",
       "    <tr>\n",
       "      <th>1116</th>\n",
       "      <td>1.185587</td>\n",
       "      <td>0.372905</td>\n",
       "      <td>30</td>\n",
       "      <td>47</td>\n",
       "      <td>0.072859</td>\n",
       "      <td>0.012362</td>\n",
       "      <td>0.405199</td>\n",
       "      <td>1484.0</td>\n",
       "      <td>0.003637</td>\n",
       "      <td>76</td>\n",
       "      <td>...</td>\n",
       "      <td>0.959287</td>\n",
       "      <td>11.0</td>\n",
       "      <td>1.779463</td>\n",
       "      <td>0.24</td>\n",
       "      <td>0.22</td>\n",
       "      <td>0.025119</td>\n",
       "      <td>0.326308</td>\n",
       "      <td>Cultureel centrum</td>\n",
       "      <td>0.675075</td>\n",
       "      <td>1.535042</td>\n",
       "    </tr>\n",
       "    <tr>\n",
       "      <th>279</th>\n",
       "      <td>-0.494994</td>\n",
       "      <td>-0.873380</td>\n",
       "      <td>41</td>\n",
       "      <td>44</td>\n",
       "      <td>0.277079</td>\n",
       "      <td>0.106722</td>\n",
       "      <td>0.671359</td>\n",
       "      <td>1072.0</td>\n",
       "      <td>0.005102</td>\n",
       "      <td>95</td>\n",
       "      <td>...</td>\n",
       "      <td>0.856057</td>\n",
       "      <td>12.0</td>\n",
       "      <td>1.730995</td>\n",
       "      <td>0.20</td>\n",
       "      <td>0.82</td>\n",
       "      <td>0.023633</td>\n",
       "      <td>0.533461</td>\n",
       "      <td>NaN</td>\n",
       "      <td>6.109993</td>\n",
       "      <td>4.202058</td>\n",
       "    </tr>\n",
       "    <tr>\n",
       "      <th>...</th>\n",
       "      <td>...</td>\n",
       "      <td>...</td>\n",
       "      <td>...</td>\n",
       "      <td>...</td>\n",
       "      <td>...</td>\n",
       "      <td>...</td>\n",
       "      <td>...</td>\n",
       "      <td>...</td>\n",
       "      <td>...</td>\n",
       "      <td>...</td>\n",
       "      <td>...</td>\n",
       "      <td>...</td>\n",
       "      <td>...</td>\n",
       "      <td>...</td>\n",
       "      <td>...</td>\n",
       "      <td>...</td>\n",
       "      <td>...</td>\n",
       "      <td>...</td>\n",
       "      <td>...</td>\n",
       "      <td>...</td>\n",
       "      <td>...</td>\n",
       "    </tr>\n",
       "    <tr>\n",
       "      <th>1660</th>\n",
       "      <td>0.121500</td>\n",
       "      <td>-0.470584</td>\n",
       "      <td>18</td>\n",
       "      <td>37</td>\n",
       "      <td>0.206636</td>\n",
       "      <td>-0.014362</td>\n",
       "      <td>0.785829</td>\n",
       "      <td>880.0</td>\n",
       "      <td>0.001562</td>\n",
       "      <td>45</td>\n",
       "      <td>...</td>\n",
       "      <td>0.960805</td>\n",
       "      <td>13.0</td>\n",
       "      <td>1.546438</td>\n",
       "      <td>0.22</td>\n",
       "      <td>0.12</td>\n",
       "      <td>0.065434</td>\n",
       "      <td>0.350073</td>\n",
       "      <td>Cultureel centrum</td>\n",
       "      <td>7.875420</td>\n",
       "      <td>4.729058</td>\n",
       "    </tr>\n",
       "    <tr>\n",
       "      <th>642</th>\n",
       "      <td>-0.248563</td>\n",
       "      <td>-0.539083</td>\n",
       "      <td>21</td>\n",
       "      <td>33</td>\n",
       "      <td>0.443825</td>\n",
       "      <td>-0.004426</td>\n",
       "      <td>0.660780</td>\n",
       "      <td>173.0</td>\n",
       "      <td>0.016389</td>\n",
       "      <td>36</td>\n",
       "      <td>...</td>\n",
       "      <td>0.968246</td>\n",
       "      <td>12.0</td>\n",
       "      <td>1.462734</td>\n",
       "      <td>0.18</td>\n",
       "      <td>0.12</td>\n",
       "      <td>0.065194</td>\n",
       "      <td>0.337450</td>\n",
       "      <td>NaN</td>\n",
       "      <td>15.234523</td>\n",
       "      <td>18.363643</td>\n",
       "    </tr>\n",
       "    <tr>\n",
       "      <th>597</th>\n",
       "      <td>0.361296</td>\n",
       "      <td>-0.010152</td>\n",
       "      <td>27</td>\n",
       "      <td>2</td>\n",
       "      <td>0.353650</td>\n",
       "      <td>-0.002056</td>\n",
       "      <td>0.885216</td>\n",
       "      <td>851.0</td>\n",
       "      <td>0.001394</td>\n",
       "      <td>3</td>\n",
       "      <td>...</td>\n",
       "      <td>0.892682</td>\n",
       "      <td>11.0</td>\n",
       "      <td>1.759513</td>\n",
       "      <td>0.24</td>\n",
       "      <td>0.12</td>\n",
       "      <td>0.046786</td>\n",
       "      <td>0.442868</td>\n",
       "      <td>NaN</td>\n",
       "      <td>87.934478</td>\n",
       "      <td>18.172144</td>\n",
       "    </tr>\n",
       "    <tr>\n",
       "      <th>235</th>\n",
       "      <td>-0.282135</td>\n",
       "      <td>-0.673022</td>\n",
       "      <td>17</td>\n",
       "      <td>50</td>\n",
       "      <td>0.357122</td>\n",
       "      <td>-0.000171</td>\n",
       "      <td>0.645478</td>\n",
       "      <td>127.0</td>\n",
       "      <td>0.003658</td>\n",
       "      <td>95</td>\n",
       "      <td>...</td>\n",
       "      <td>0.939083</td>\n",
       "      <td>12.0</td>\n",
       "      <td>1.679973</td>\n",
       "      <td>0.26</td>\n",
       "      <td>0.22</td>\n",
       "      <td>0.065434</td>\n",
       "      <td>0.411346</td>\n",
       "      <td>Werkplaats</td>\n",
       "      <td>5.620527</td>\n",
       "      <td>4.201984</td>\n",
       "    </tr>\n",
       "    <tr>\n",
       "      <th>427</th>\n",
       "      <td>-0.932123</td>\n",
       "      <td>-0.586042</td>\n",
       "      <td>21</td>\n",
       "      <td>48</td>\n",
       "      <td>0.625349</td>\n",
       "      <td>0.011095</td>\n",
       "      <td>0.624645</td>\n",
       "      <td>145.0</td>\n",
       "      <td>0.005559</td>\n",
       "      <td>95</td>\n",
       "      <td>...</td>\n",
       "      <td>0.979541</td>\n",
       "      <td>16.0</td>\n",
       "      <td>1.487479</td>\n",
       "      <td>0.26</td>\n",
       "      <td>0.24</td>\n",
       "      <td>0.065434</td>\n",
       "      <td>0.258523</td>\n",
       "      <td>Administratief centrum</td>\n",
       "      <td>5.796313</td>\n",
       "      <td>3.568536</td>\n",
       "    </tr>\n",
       "  </tbody>\n",
       "</table>\n",
       "<p>1741 rows × 25 columns</p>\n",
       "</div>"
      ],
      "text/plain": [
       "      DN_HistogramMode_5  DN_HistogramMode_10  CO_f1ecac  CO_FirstMin_ac  \\\n",
       "411            -0.229518            -0.498146         23              49   \n",
       "1208           -0.421911            -0.793071         20              49   \n",
       "588            -0.350266            -0.787705         21              51   \n",
       "1116            1.185587             0.372905         30              47   \n",
       "279            -0.494994            -0.873380         41              44   \n",
       "...                  ...                  ...        ...             ...   \n",
       "1660            0.121500            -0.470584         18              37   \n",
       "642            -0.248563            -0.539083         21              33   \n",
       "597             0.361296            -0.010152         27               2   \n",
       "235            -0.282135            -0.673022         17              50   \n",
       "427            -0.932123            -0.586042         21              48   \n",
       "\n",
       "      CO_HistogramAMI_even_2_5  CO_trev_1_num  MD_hrv_classic_pnn40  \\\n",
       "411                   0.714297       0.002028              0.518624   \n",
       "1208                  0.434424       0.006392              0.813468   \n",
       "588                   0.351503      -0.025644              0.762562   \n",
       "1116                  0.072859       0.012362              0.405199   \n",
       "279                   0.277079       0.106722              0.671359   \n",
       "...                        ...            ...                   ...   \n",
       "1660                  0.206636      -0.014362              0.785829   \n",
       "642                   0.443825      -0.004426              0.660780   \n",
       "597                   0.353650      -0.002056              0.885216   \n",
       "235                   0.357122      -0.000171              0.645478   \n",
       "427                   0.625349       0.011095              0.624645   \n",
       "\n",
       "      SB_BinaryStats_mean_longstretch1  SB_TransitionMatrix_3ac_sumdiagcov  \\\n",
       "411                               60.0                            0.002018   \n",
       "1208                             158.0                            0.001414   \n",
       "588                               86.0                            0.000186   \n",
       "1116                            1484.0                            0.003637   \n",
       "279                             1072.0                            0.005102   \n",
       "...                                ...                                 ...   \n",
       "1660                             880.0                            0.001562   \n",
       "642                              173.0                            0.016389   \n",
       "597                              851.0                            0.001394   \n",
       "235                              127.0                            0.003658   \n",
       "427                              145.0                            0.005559   \n",
       "\n",
       "      PD_PeriodicityWang_th0_01  ...  SP_Summaries_welch_rect_area_5_1  \\\n",
       "411                          95  ...                          0.990633   \n",
       "1208                         95  ...                          0.953550   \n",
       "588                          94  ...                          0.963800   \n",
       "1116                         76  ...                          0.959287   \n",
       "279                          95  ...                          0.856057   \n",
       "...                         ...  ...                               ...   \n",
       "1660                         45  ...                          0.960805   \n",
       "642                          36  ...                          0.968246   \n",
       "597                           3  ...                          0.892682   \n",
       "235                          95  ...                          0.939083   \n",
       "427                          95  ...                          0.979541   \n",
       "\n",
       "      SB_BinaryStats_diff_longstretch0  SB_MotifThree_quantile_hh  \\\n",
       "411                               27.0                   1.467418   \n",
       "1208                              15.0                   1.541064   \n",
       "588                               15.0                   1.698899   \n",
       "1116                              11.0                   1.779463   \n",
       "279                               12.0                   1.730995   \n",
       "...                                ...                        ...   \n",
       "1660                              13.0                   1.546438   \n",
       "642                               12.0                   1.462734   \n",
       "597                               11.0                   1.759513   \n",
       "235                               12.0                   1.679973   \n",
       "427                               16.0                   1.487479   \n",
       "\n",
       "      SC_FluctAnal_2_rsrangefit_50_1_logi_prop_r1  \\\n",
       "411                                          0.26   \n",
       "1208                                         0.24   \n",
       "588                                          0.22   \n",
       "1116                                         0.24   \n",
       "279                                          0.20   \n",
       "...                                           ...   \n",
       "1660                                         0.22   \n",
       "642                                          0.18   \n",
       "597                                          0.24   \n",
       "235                                          0.26   \n",
       "427                                          0.26   \n",
       "\n",
       "      SC_FluctAnal_2_dfa_50_1_2_logi_prop_r1  \\\n",
       "411                                     0.20   \n",
       "1208                                    0.12   \n",
       "588                                     0.20   \n",
       "1116                                    0.22   \n",
       "279                                     0.82   \n",
       "...                                      ...   \n",
       "1660                                    0.12   \n",
       "642                                     0.12   \n",
       "597                                     0.12   \n",
       "235                                     0.22   \n",
       "427                                     0.24   \n",
       "\n",
       "      SP_Summaries_welch_rect_centroid  FC_LocalSimple_mean3_stderr  \\\n",
       "411                           0.065434                     0.198818   \n",
       "1208                          0.065434                     0.350191   \n",
       "588                           0.059106                     0.331352   \n",
       "1116                          0.025119                     0.326308   \n",
       "279                           0.023633                     0.533461   \n",
       "...                                ...                          ...   \n",
       "1660                          0.065434                     0.350073   \n",
       "642                           0.065194                     0.337450   \n",
       "597                           0.046786                     0.442868   \n",
       "235                           0.065434                     0.411346   \n",
       "427                           0.065434                     0.258523   \n",
       "\n",
       "                    function        mean         std  \n",
       "411                      NaN  398.241228  216.284313  \n",
       "1208   Stadhuis/Gemeentehuis    9.313439    3.516002  \n",
       "588                 Academie    4.929265    4.023414  \n",
       "1116       Cultureel centrum    0.675075    1.535042  \n",
       "279                      NaN    6.109993    4.202058  \n",
       "...                      ...         ...         ...  \n",
       "1660       Cultureel centrum    7.875420    4.729058  \n",
       "642                      NaN   15.234523   18.363643  \n",
       "597                      NaN   87.934478   18.172144  \n",
       "235               Werkplaats    5.620527    4.201984  \n",
       "427   Administratief centrum    5.796313    3.568536  \n",
       "\n",
       "[1741 rows x 25 columns]"
      ]
     },
     "execution_count": 43,
     "metadata": {},
     "output_type": "execute_result"
    }
   ],
   "source": [
    "# read metadata csv\n",
    "metadata = pd.read_csv('data/EANLIJST_METADATA.csv', index_col=0, sep   = ';')\n",
    "# ADD the functietype column to the features\n",
    "features['function'] = metadata['Patrimonium Functietype']\n",
    "# read more metrics from csv\n",
    "metrics = pd.read_csv('data/ts_metrics.csv', usecols = ['ID', 'mean', 'std'], index_col='ID')\n",
    "# add the metrics to the features\n",
    "features = features.join(metrics)\n",
    "features"
   ]
  },
  {
   "cell_type": "code",
   "execution_count": 44,
   "metadata": {},
   "outputs": [
    {
     "data": {
      "text/plain": [
       "SB_BinaryStats_mean_longstretch1               9.720957e+06\n",
       "PD_PeriodicityWang_th0_01                      4.807695e+06\n",
       "CO_f1ecac                                      2.868387e+06\n",
       "CO_FirstMin_ac                                 1.815816e+05\n",
       "mean                                           1.070565e+03\n",
       "std                                            4.430246e+02\n",
       "IN_AutoMutualInfoStats_40_gaussian_fmmi        9.204287e+01\n",
       "SB_BinaryStats_diff_longstretch0               1.618855e+01\n",
       "DN_HistogramMode_5                             1.619649e+00\n",
       "CO_trev_1_num                                  7.989520e-01\n",
       "DN_HistogramMode_10                            5.339645e-01\n",
       "SB_MotifThree_quantile_hh                      1.333191e-01\n",
       "DN_OutlierInclude_p_001_mdrmd                  1.146922e-01\n",
       "MD_hrv_classic_pnn40                           6.420649e-02\n",
       "CO_HistogramAMI_even_2_5                       5.596611e-02\n",
       "SC_FluctAnal_2_dfa_50_1_2_logi_prop_r1         5.139684e-02\n",
       "DN_OutlierInclude_n_001_mdrmd                  3.742844e-02\n",
       "FC_LocalSimple_mean3_stderr                    2.012053e-02\n",
       "FC_LocalSimple_mean1_tauresrat                 1.962113e-02\n",
       "CO_Embed2_Dist_tau_d_expfit_meandiff           1.614973e-02\n",
       "SP_Summaries_welch_rect_centroid               1.379078e-02\n",
       "SC_FluctAnal_2_rsrangefit_50_1_logi_prop_r1    1.286457e-02\n",
       "SP_Summaries_welch_rect_area_5_1               5.918572e-03\n",
       "SB_TransitionMatrix_3ac_sumdiagcov             4.156897e-03\n",
       "dtype: float64"
      ]
     },
     "execution_count": 44,
     "metadata": {},
     "output_type": "execute_result"
    }
   ],
   "source": [
    "# show variance of each feature in the features dataframe\n",
    "features.var().sort_values(ascending=False)\n"
   ]
  },
  {
   "cell_type": "code",
   "execution_count": 45,
   "metadata": {},
   "outputs": [],
   "source": [
    "# show nan values and drop rows with nan values\n",
    "features.isnull().sum()\n",
    "features.dropna(inplace=True)"
   ]
  },
  {
   "cell_type": "code",
   "execution_count": 114,
   "metadata": {},
   "outputs": [],
   "source": [
    "# K-mean clustering on the features dataset\n",
    "kmeans = KMeans(n_clusters=7, random_state=0).fit(features.drop(['function'], axis=1))\n",
    "clusters = kmeans.labels_\n",
    "features['cluster'] = clusters"
   ]
  },
  {
   "cell_type": "code",
   "execution_count": 139,
   "metadata": {},
   "outputs": [
    {
     "data": {
      "text/html": [
       "<div>\n",
       "<style scoped>\n",
       "    .dataframe tbody tr th:only-of-type {\n",
       "        vertical-align: middle;\n",
       "    }\n",
       "\n",
       "    .dataframe tbody tr th {\n",
       "        vertical-align: top;\n",
       "    }\n",
       "\n",
       "    .dataframe thead th {\n",
       "        text-align: right;\n",
       "    }\n",
       "</style>\n",
       "<table border=\"1\" class=\"dataframe\">\n",
       "  <thead>\n",
       "    <tr style=\"text-align: right;\">\n",
       "      <th></th>\n",
       "      <th>DN_HistogramMode_5</th>\n",
       "      <th>DN_HistogramMode_10</th>\n",
       "      <th>CO_f1ecac</th>\n",
       "      <th>CO_FirstMin_ac</th>\n",
       "      <th>CO_HistogramAMI_even_2_5</th>\n",
       "      <th>CO_trev_1_num</th>\n",
       "      <th>MD_hrv_classic_pnn40</th>\n",
       "      <th>SB_BinaryStats_mean_longstretch1</th>\n",
       "      <th>SB_TransitionMatrix_3ac_sumdiagcov</th>\n",
       "      <th>PD_PeriodicityWang_th0_01</th>\n",
       "      <th>...</th>\n",
       "      <th>SC_FluctAnal_2_dfa_50_1_2_logi_prop_r1</th>\n",
       "      <th>SP_Summaries_welch_rect_centroid</th>\n",
       "      <th>FC_LocalSimple_mean3_stderr</th>\n",
       "      <th>function</th>\n",
       "      <th>mean</th>\n",
       "      <th>std</th>\n",
       "      <th>cluster</th>\n",
       "      <th>PC 1 (95.9%)</th>\n",
       "      <th>PC 2 (4.1%)</th>\n",
       "      <th>ID</th>\n",
       "    </tr>\n",
       "  </thead>\n",
       "  <tbody>\n",
       "    <tr>\n",
       "      <th>1208</th>\n",
       "      <td>-0.421911</td>\n",
       "      <td>-0.793071</td>\n",
       "      <td>20</td>\n",
       "      <td>49</td>\n",
       "      <td>0.434424</td>\n",
       "      <td>0.006392</td>\n",
       "      <td>0.813468</td>\n",
       "      <td>158.0</td>\n",
       "      <td>0.001414</td>\n",
       "      <td>95</td>\n",
       "      <td>...</td>\n",
       "      <td>0.12</td>\n",
       "      <td>0.065434</td>\n",
       "      <td>0.350191</td>\n",
       "      <td>Stadhuis/Gemeentehuis</td>\n",
       "      <td>9.313439</td>\n",
       "      <td>3.516002</td>\n",
       "      <td>6</td>\n",
       "      <td>-8.380178</td>\n",
       "      <td>-3.034623</td>\n",
       "      <td>1208</td>\n",
       "    </tr>\n",
       "    <tr>\n",
       "      <th>588</th>\n",
       "      <td>-0.350266</td>\n",
       "      <td>-0.787705</td>\n",
       "      <td>21</td>\n",
       "      <td>51</td>\n",
       "      <td>0.351503</td>\n",
       "      <td>-0.025644</td>\n",
       "      <td>0.762562</td>\n",
       "      <td>86.0</td>\n",
       "      <td>0.000186</td>\n",
       "      <td>94</td>\n",
       "      <td>...</td>\n",
       "      <td>0.20</td>\n",
       "      <td>0.059106</td>\n",
       "      <td>0.331352</td>\n",
       "      <td>Academie</td>\n",
       "      <td>4.929265</td>\n",
       "      <td>4.023414</td>\n",
       "      <td>0</td>\n",
       "      <td>-12.168315</td>\n",
       "      <td>-0.769989</td>\n",
       "      <td>588</td>\n",
       "    </tr>\n",
       "    <tr>\n",
       "      <th>1116</th>\n",
       "      <td>1.185587</td>\n",
       "      <td>0.372905</td>\n",
       "      <td>30</td>\n",
       "      <td>47</td>\n",
       "      <td>0.072859</td>\n",
       "      <td>0.012362</td>\n",
       "      <td>0.405199</td>\n",
       "      <td>1484.0</td>\n",
       "      <td>0.003637</td>\n",
       "      <td>76</td>\n",
       "      <td>...</td>\n",
       "      <td>0.22</td>\n",
       "      <td>0.025119</td>\n",
       "      <td>0.326308</td>\n",
       "      <td>Cultureel centrum</td>\n",
       "      <td>0.675075</td>\n",
       "      <td>1.535042</td>\n",
       "      <td>0</td>\n",
       "      <td>-17.069314</td>\n",
       "      <td>-1.289834</td>\n",
       "      <td>1116</td>\n",
       "    </tr>\n",
       "    <tr>\n",
       "      <th>144</th>\n",
       "      <td>-0.533987</td>\n",
       "      <td>-0.745984</td>\n",
       "      <td>22</td>\n",
       "      <td>50</td>\n",
       "      <td>0.659145</td>\n",
       "      <td>-0.008065</td>\n",
       "      <td>0.528965</td>\n",
       "      <td>324.0</td>\n",
       "      <td>0.000427</td>\n",
       "      <td>95</td>\n",
       "      <td>...</td>\n",
       "      <td>0.20</td>\n",
       "      <td>0.065434</td>\n",
       "      <td>0.268958</td>\n",
       "      <td>Lagere school</td>\n",
       "      <td>4.773989</td>\n",
       "      <td>4.691106</td>\n",
       "      <td>0</td>\n",
       "      <td>-12.035372</td>\n",
       "      <td>-0.097314</td>\n",
       "      <td>144</td>\n",
       "    </tr>\n",
       "    <tr>\n",
       "      <th>510</th>\n",
       "      <td>0.373967</td>\n",
       "      <td>0.001066</td>\n",
       "      <td>7</td>\n",
       "      <td>39</td>\n",
       "      <td>0.170913</td>\n",
       "      <td>0.036794</td>\n",
       "      <td>0.111942</td>\n",
       "      <td>62.0</td>\n",
       "      <td>0.119904</td>\n",
       "      <td>94</td>\n",
       "      <td>...</td>\n",
       "      <td>0.12</td>\n",
       "      <td>0.152487</td>\n",
       "      <td>0.577336</td>\n",
       "      <td>Andere gebouwen</td>\n",
       "      <td>1.146714</td>\n",
       "      <td>3.083926</td>\n",
       "      <td>0</td>\n",
       "      <td>-16.002950</td>\n",
       "      <td>-0.072390</td>\n",
       "      <td>510</td>\n",
       "    </tr>\n",
       "    <tr>\n",
       "      <th>...</th>\n",
       "      <td>...</td>\n",
       "      <td>...</td>\n",
       "      <td>...</td>\n",
       "      <td>...</td>\n",
       "      <td>...</td>\n",
       "      <td>...</td>\n",
       "      <td>...</td>\n",
       "      <td>...</td>\n",
       "      <td>...</td>\n",
       "      <td>...</td>\n",
       "      <td>...</td>\n",
       "      <td>...</td>\n",
       "      <td>...</td>\n",
       "      <td>...</td>\n",
       "      <td>...</td>\n",
       "      <td>...</td>\n",
       "      <td>...</td>\n",
       "      <td>...</td>\n",
       "      <td>...</td>\n",
       "      <td>...</td>\n",
       "      <td>...</td>\n",
       "    </tr>\n",
       "    <tr>\n",
       "      <th>56</th>\n",
       "      <td>-0.426275</td>\n",
       "      <td>-0.741556</td>\n",
       "      <td>25</td>\n",
       "      <td>49</td>\n",
       "      <td>0.463603</td>\n",
       "      <td>0.001404</td>\n",
       "      <td>0.628855</td>\n",
       "      <td>972.0</td>\n",
       "      <td>0.000450</td>\n",
       "      <td>95</td>\n",
       "      <td>...</td>\n",
       "      <td>0.24</td>\n",
       "      <td>0.063133</td>\n",
       "      <td>0.296042</td>\n",
       "      <td>Ontmoetingscentrum</td>\n",
       "      <td>4.722174</td>\n",
       "      <td>3.758550</td>\n",
       "      <td>0</td>\n",
       "      <td>-12.465938</td>\n",
       "      <td>-0.926227</td>\n",
       "      <td>56</td>\n",
       "    </tr>\n",
       "    <tr>\n",
       "      <th>13</th>\n",
       "      <td>-1.221434</td>\n",
       "      <td>-0.888564</td>\n",
       "      <td>21</td>\n",
       "      <td>48</td>\n",
       "      <td>0.670719</td>\n",
       "      <td>0.001741</td>\n",
       "      <td>0.595067</td>\n",
       "      <td>165.0</td>\n",
       "      <td>0.001302</td>\n",
       "      <td>95</td>\n",
       "      <td>...</td>\n",
       "      <td>0.12</td>\n",
       "      <td>0.065434</td>\n",
       "      <td>0.265286</td>\n",
       "      <td>Administratief centrum</td>\n",
       "      <td>10.530915</td>\n",
       "      <td>5.580256</td>\n",
       "      <td>6</td>\n",
       "      <td>-6.421759</td>\n",
       "      <td>-1.652993</td>\n",
       "      <td>13</td>\n",
       "    </tr>\n",
       "    <tr>\n",
       "      <th>1660</th>\n",
       "      <td>0.121500</td>\n",
       "      <td>-0.470584</td>\n",
       "      <td>18</td>\n",
       "      <td>37</td>\n",
       "      <td>0.206636</td>\n",
       "      <td>-0.014362</td>\n",
       "      <td>0.785829</td>\n",
       "      <td>880.0</td>\n",
       "      <td>0.001562</td>\n",
       "      <td>45</td>\n",
       "      <td>...</td>\n",
       "      <td>0.12</td>\n",
       "      <td>0.065434</td>\n",
       "      <td>0.350073</td>\n",
       "      <td>Cultureel centrum</td>\n",
       "      <td>7.875420</td>\n",
       "      <td>4.729058</td>\n",
       "      <td>0</td>\n",
       "      <td>-9.192511</td>\n",
       "      <td>-1.337713</td>\n",
       "      <td>1660</td>\n",
       "    </tr>\n",
       "    <tr>\n",
       "      <th>235</th>\n",
       "      <td>-0.282135</td>\n",
       "      <td>-0.673022</td>\n",
       "      <td>17</td>\n",
       "      <td>50</td>\n",
       "      <td>0.357122</td>\n",
       "      <td>-0.000171</td>\n",
       "      <td>0.645478</td>\n",
       "      <td>127.0</td>\n",
       "      <td>0.003658</td>\n",
       "      <td>95</td>\n",
       "      <td>...</td>\n",
       "      <td>0.22</td>\n",
       "      <td>0.065434</td>\n",
       "      <td>0.411346</td>\n",
       "      <td>Werkplaats</td>\n",
       "      <td>5.620527</td>\n",
       "      <td>4.201984</td>\n",
       "      <td>0</td>\n",
       "      <td>-11.464819</td>\n",
       "      <td>-0.891550</td>\n",
       "      <td>235</td>\n",
       "    </tr>\n",
       "    <tr>\n",
       "      <th>427</th>\n",
       "      <td>-0.932123</td>\n",
       "      <td>-0.586042</td>\n",
       "      <td>21</td>\n",
       "      <td>48</td>\n",
       "      <td>0.625349</td>\n",
       "      <td>0.011095</td>\n",
       "      <td>0.624645</td>\n",
       "      <td>145.0</td>\n",
       "      <td>0.005559</td>\n",
       "      <td>95</td>\n",
       "      <td>...</td>\n",
       "      <td>0.24</td>\n",
       "      <td>0.065434</td>\n",
       "      <td>0.258523</td>\n",
       "      <td>Administratief centrum</td>\n",
       "      <td>5.796313</td>\n",
       "      <td>3.568536</td>\n",
       "      <td>0</td>\n",
       "      <td>-11.564796</td>\n",
       "      <td>-1.540845</td>\n",
       "      <td>427</td>\n",
       "    </tr>\n",
       "  </tbody>\n",
       "</table>\n",
       "<p>951 rows × 29 columns</p>\n",
       "</div>"
      ],
      "text/plain": [
       "      DN_HistogramMode_5  DN_HistogramMode_10  CO_f1ecac  CO_FirstMin_ac  \\\n",
       "1208           -0.421911            -0.793071         20              49   \n",
       "588            -0.350266            -0.787705         21              51   \n",
       "1116            1.185587             0.372905         30              47   \n",
       "144            -0.533987            -0.745984         22              50   \n",
       "510             0.373967             0.001066          7              39   \n",
       "...                  ...                  ...        ...             ...   \n",
       "56             -0.426275            -0.741556         25              49   \n",
       "13             -1.221434            -0.888564         21              48   \n",
       "1660            0.121500            -0.470584         18              37   \n",
       "235            -0.282135            -0.673022         17              50   \n",
       "427            -0.932123            -0.586042         21              48   \n",
       "\n",
       "      CO_HistogramAMI_even_2_5  CO_trev_1_num  MD_hrv_classic_pnn40  \\\n",
       "1208                  0.434424       0.006392              0.813468   \n",
       "588                   0.351503      -0.025644              0.762562   \n",
       "1116                  0.072859       0.012362              0.405199   \n",
       "144                   0.659145      -0.008065              0.528965   \n",
       "510                   0.170913       0.036794              0.111942   \n",
       "...                        ...            ...                   ...   \n",
       "56                    0.463603       0.001404              0.628855   \n",
       "13                    0.670719       0.001741              0.595067   \n",
       "1660                  0.206636      -0.014362              0.785829   \n",
       "235                   0.357122      -0.000171              0.645478   \n",
       "427                   0.625349       0.011095              0.624645   \n",
       "\n",
       "      SB_BinaryStats_mean_longstretch1  SB_TransitionMatrix_3ac_sumdiagcov  \\\n",
       "1208                             158.0                            0.001414   \n",
       "588                               86.0                            0.000186   \n",
       "1116                            1484.0                            0.003637   \n",
       "144                              324.0                            0.000427   \n",
       "510                               62.0                            0.119904   \n",
       "...                                ...                                 ...   \n",
       "56                               972.0                            0.000450   \n",
       "13                               165.0                            0.001302   \n",
       "1660                             880.0                            0.001562   \n",
       "235                              127.0                            0.003658   \n",
       "427                              145.0                            0.005559   \n",
       "\n",
       "      PD_PeriodicityWang_th0_01  ...  SC_FluctAnal_2_dfa_50_1_2_logi_prop_r1  \\\n",
       "1208                         95  ...                                    0.12   \n",
       "588                          94  ...                                    0.20   \n",
       "1116                         76  ...                                    0.22   \n",
       "144                          95  ...                                    0.20   \n",
       "510                          94  ...                                    0.12   \n",
       "...                         ...  ...                                     ...   \n",
       "56                           95  ...                                    0.24   \n",
       "13                           95  ...                                    0.12   \n",
       "1660                         45  ...                                    0.12   \n",
       "235                          95  ...                                    0.22   \n",
       "427                          95  ...                                    0.24   \n",
       "\n",
       "      SP_Summaries_welch_rect_centroid  FC_LocalSimple_mean3_stderr  \\\n",
       "1208                          0.065434                     0.350191   \n",
       "588                           0.059106                     0.331352   \n",
       "1116                          0.025119                     0.326308   \n",
       "144                           0.065434                     0.268958   \n",
       "510                           0.152487                     0.577336   \n",
       "...                                ...                          ...   \n",
       "56                            0.063133                     0.296042   \n",
       "13                            0.065434                     0.265286   \n",
       "1660                          0.065434                     0.350073   \n",
       "235                           0.065434                     0.411346   \n",
       "427                           0.065434                     0.258523   \n",
       "\n",
       "                    function       mean       std  cluster  PC 1 (95.9%)  \\\n",
       "1208   Stadhuis/Gemeentehuis   9.313439  3.516002        6     -8.380178   \n",
       "588                 Academie   4.929265  4.023414        0    -12.168315   \n",
       "1116       Cultureel centrum   0.675075  1.535042        0    -17.069314   \n",
       "144            Lagere school   4.773989  4.691106        0    -12.035372   \n",
       "510          Andere gebouwen   1.146714  3.083926        0    -16.002950   \n",
       "...                      ...        ...       ...      ...           ...   \n",
       "56        Ontmoetingscentrum   4.722174  3.758550        0    -12.465938   \n",
       "13    Administratief centrum  10.530915  5.580256        6     -6.421759   \n",
       "1660       Cultureel centrum   7.875420  4.729058        0     -9.192511   \n",
       "235               Werkplaats   5.620527  4.201984        0    -11.464819   \n",
       "427   Administratief centrum   5.796313  3.568536        0    -11.564796   \n",
       "\n",
       "      PC 2 (4.1%)    ID  \n",
       "1208    -3.034623  1208  \n",
       "588     -0.769989   588  \n",
       "1116    -1.289834  1116  \n",
       "144     -0.097314   144  \n",
       "510     -0.072390   510  \n",
       "...           ...   ...  \n",
       "56      -0.926227    56  \n",
       "13      -1.652993    13  \n",
       "1660    -1.337713  1660  \n",
       "235     -0.891550   235  \n",
       "427     -1.540845   427  \n",
       "\n",
       "[951 rows x 29 columns]"
      ]
     },
     "execution_count": 139,
     "metadata": {},
     "output_type": "execute_result"
    }
   ],
   "source": [
    "subset = features[['mean', 'std', 'FC_LocalSimple_mean3_stderr']]\n",
    "# Scale all numerical features with standard scaler\n",
    "from sklearn.preprocessing import StandardScaler\n",
    "scaler = StandardScaler()\n",
    "scaler.fit_transform(subset)\n",
    "# K-mean clustering on the features dataset\n",
    "kmeans = KMeans(n_clusters=7, random_state=0).fit(subset)\n",
    "clusters = kmeans.labels_\n",
    "# Create two axis with PCA\n",
    "from sklearn.decomposition import PCA\n",
    "pca = PCA(n_components=2)\n",
    "components = pca.fit_transform(subset)\n",
    "labels = {\n",
    "    str(i): f\"PC {i+1} ({var:.1f}%)\"\n",
    "    for i, var in enumerate(pca.explained_variance_ratio_ * 100)\n",
    "}\n",
    "scat = features.join(pd.DataFrame(components, index=features.index, columns=list(labels.values())))\n",
    "scat['ID'] = scat.index\n",
    "scat['cluster'] = clusters\n",
    "scat"
   ]
  },
  {
   "cell_type": "code",
   "execution_count": 140,
   "metadata": {},
   "outputs": [
    {
     "data": {
      "application/vnd.plotly.v1+json": {
       "config": {
        "plotlyServerURL": "https://plot.ly"
       },
       "data": [
        {
         "customdata": [
          [
           1208,
           9.313439020681283,
           3.516001793803219
          ],
          [
           588,
           4.929264560523115,
           4.023413803847915
          ],
          [
           1116,
           0.6750746084245072,
           1.5350421220716215
          ],
          [
           144,
           4.773989127129739,
           4.691106486056395
          ],
          [
           510,
           1.146713902828489,
           3.0839258338979803
          ],
          [
           220,
           0.3704509770378918,
           0.8130408966981927
          ],
          [
           621,
           6.127101581508115,
           6.695217075456673
          ],
          [
           786,
           5.770963541666815,
           7.710225018763846
          ],
          [
           428,
           58.86342381386861,
           24.862862835831343
          ],
          [
           59,
           1.422938526460005,
           1.4958665596907812
          ],
          [
           999,
           3.052542864203181,
           1.530881549702734
          ],
          [
           1185,
           1.895341487986318,
           7.705043758593471
          ],
          [
           828,
           6.687216773114365,
           6.035294673417861
          ],
          [
           1477,
           9.12949560903222,
           4.305499602737867
          ],
          [
           1000,
           27.192340708637087,
           12.213377655696425
          ],
          [
           1248,
           22.2529691301734,
           9.481724710096431
          ],
          [
           1011,
           1.424811340480727,
           1.5034873249680074
          ],
          [
           336,
           5.001796304744498,
           5.258754201476314
          ],
          [
           697,
           1.5661158949210556,
           3.9604379817260247
          ],
          [
           556,
           7.111313868613139,
           7.728103150889152
          ],
          [
           526,
           2.7304093483887195,
           4.131608082436519
          ],
          [
           989,
           17.38011081964747,
           13.656561245866095
          ],
          [
           143,
           0.0015548965936739,
           0.0426262789493258
          ],
          [
           1419,
           66.78646783759125,
           21.319215153946608
          ],
          [
           1408,
           3.474969966544914,
           2.944116381840994
          ],
          [
           520,
           6.470578144008545,
           6.921808739630463
          ],
          [
           178,
           23.798870894160583,
           15.213612043388936
          ],
          [
           1696,
           14.280849870741928,
           14.542206323723622
          ],
          [
           149,
           16.18556863975033,
           7.833246190081482
          ],
          [
           1126,
           3.92283255398426,
           2.6675523043474456
          ],
          [
           775,
           63.066491788321166,
           28.70717032933774
          ],
          [
           469,
           9.023040697232387,
           5.327165489912125
          ],
          [
           396,
           3.275853007147155,
           3.8825208554688455
          ],
          [
           1439,
           7.392036857512173,
           3.2946130467615435
          ],
          [
           816,
           7.116329740727937,
           9.41451121859902
          ],
          [
           973,
           12.422872947080714,
           10.659733759002908
          ],
          [
           1398,
           2.8649497224757043,
           2.720505616362175
          ],
          [
           1193,
           1.4890986161800486,
           1.8770581755799007
          ],
          [
           1423,
           0.2544727037713262,
           1.6550474342598598
          ],
          [
           1216,
           6.240284272353042,
           5.733108839142026
          ],
          [
           500,
           4.428749429744462,
           3.2688471581844456
          ],
          [
           962,
           1.4370420848540475,
           1.2956713242060962
          ],
          [
           445,
           2.3299252965336383,
           2.1994429012421044
          ],
          [
           1552,
           7.6719201452251955,
           3.2901076883864047
          ],
          [
           1713,
           10.305312404957348,
           5.439932616663432
          ],
          [
           183,
           23.1168073296837,
           18.332147121806088
          ],
          [
           74,
           5.689191757907551,
           4.865887340456196
          ],
          [
           1030,
           9.19813925638704,
           5.235138720186978
          ],
          [
           727,
           22.467101961677983,
           29.58152778303244
          ],
          [
           85,
           6.236701642335768,
           9.820973279748932
          ],
          [
           1053,
           26.98408987226148,
           22.537617367658054
          ],
          [
           659,
           6.474463009428282,
           7.38049175228466
          ],
          [
           1642,
           2.5638624353709702,
           3.181902448683545
          ],
          [
           410,
           8.887796057633762,
           7.250060171797096
          ],
          [
           145,
           42.072469966545015,
           27.51049091455068
          ],
          [
           325,
           76.29388591088808,
           35.305086749305744
          ],
          [
           633,
           5.773080805200605,
           4.241035883796933
          ],
          [
           458,
           0.6388096867396593,
           4.035141857438247
          ],
          [
           935,
           18.88731466697299,
           12.112911907541587
          ],
          [
           1461,
           102.90268780413604,
           55.66162323106383
          ],
          [
           1546,
           9.292984907238656,
           8.744762087432605
          ],
          [
           722,
           16.17377898798662,
           7.217553565505397
          ],
          [
           950,
           1.983047730383231,
           1.0424147354008753
          ],
          [
           617,
           5.471148114355306,
           4.839999441234704
          ],
          [
           692,
           46.210866123023074,
           25.25996129141813
          ],
          [
           1273,
           2.5626701262166383,
           1.8569142897847115
          ],
          [
           1002,
           3.841011823296532,
           2.455146677146717
          ],
          [
           694,
           13.115848825273744,
           9.099162403187629
          ],
          [
           1409,
           115.31725421989,
           76.39269113740848
          ],
          [
           868,
           4.611310732208278,
           5.050242671080365
          ],
          [
           407,
           3.784044251824753,
           3.789544780071148
          ],
          [
           988,
           5.699179307329725,
           5.708095571245512
          ],
          [
           521,
           10.995104356751895,
           10.13625317182838
          ],
          [
           284,
           46.824064781022365,
           18.127376467072978
          ],
          [
           1221,
           0.7715057595807338,
           2.711980247182638
          ],
          [
           818,
           8.340402600365236,
           7.596207774714437
          ],
          [
           893,
           9.249823220814935,
           8.054228583635393
          ],
          [
           861,
           2.7900542693124097,
           3.4717066602509017
          ],
          [
           1139,
           11.099006329836527,
           4.247429747649574
          ],
          [
           38,
           1.3451431341242737,
           0.7067014043547117
          ],
          [
           1668,
           13.394303052767274,
           9.16798207096119
          ],
          [
           605,
           4.898534633515257,
           9.16060903212087
          ],
          [
           423,
           6.425330368004369,
           4.789336013363501
          ],
          [
           207,
           7.039049954379746,
           6.864192248916215
          ],
          [
           408,
           12.00089625152062,
           11.84173703162975
          ],
          [
           1441,
           7.153997490875823,
           3.357703058627736
          ],
          [
           476,
           1.5971050030413625,
           7.743404205126755
          ],
          [
           377,
           9.938219472323675,
           6.574973625316104
          ],
          [
           534,
           10.368306626367986,
           7.997712724390214
          ],
          [
           780,
           3.876197061284101,
           6.248961177161441
          ],
          [
           339,
           20.18866902372263,
           7.307568556083335
          ],
          [
           1655,
           1.0548091545014937,
           1.7966102150098742
          ],
          [
           528,
           0.3481960918491453,
           1.7056890437556491
          ],
          [
           972,
           1.552684952858831,
           1.5243244094354438
          ],
          [
           822,
           6.8863252737224725,
           6.3540776407046105
          ],
          [
           242,
           10.04704379562065,
           5.772604582495718
          ],
          [
           501,
           10.717359051855093,
           11.15206201403914
          ],
          [
           1706,
           5.793300448600997,
           2.209312120002283
          ],
          [
           119,
           3.6558741066001743,
           3.4984963769832147
          ],
          [
           163,
           8.371960538321156,
           5.517651204818419
          ],
          [
           1555,
           9.357091126824868,
           5.582722500501883
          ],
          [
           947,
           3.7850032314476816,
           3.512529428119133
          ],
          [
           574,
           16.616987910584317,
           4.719449037634197
          ],
          [
           797,
           10.84865134580282,
           4.710967928627524
          ],
          [
           1079,
           5.442499239659418,
           8.370561581913883
          ],
          [
           1054,
           5.780865077554707,
           5.822035305396224
          ],
          [
           5,
           0.3411376596715323,
           1.6072110899723788
          ],
          [
           557,
           13.588712458181366,
           8.10352699149063
          ],
          [
           1067,
           14.527132185219044,
           11.133807725872243
          ],
          [
           807,
           15.34337363138687,
           6.432589100710054
          ],
          [
           629,
           17.97081812652064,
           15.301545931478929
          ],
          [
           1039,
           1.0419978900547195,
           3.169706545845481
          ],
          [
           1648,
           3.937993461078806,
           3.4575493742711307
          ],
          [
           711,
           1.5507327782848346,
           2.4102068921093625
          ],
          [
           1334,
           40.56280413625304,
           14.02848779118327
          ],
          [
           266,
           3.8721529995440336,
           16.663062163408586
          ],
          [
           1739,
           85.57564391347279,
           44.91536055293926
          ],
          [
           1647,
           10.933397392032196,
           9.226323136839753
          ],
          [
           129,
           5.755699038169139,
           5.749622427523075
          ],
          [
           440,
           38.39101201338088,
           16.334274700963743
          ],
          [
           670,
           5.165975231898862,
           15.574636782049456
          ],
          [
           1405,
           12.468635283607584,
           8.257874877311416
          ],
          [
           1503,
           4.4126872338807095,
           4.731968693645243
          ],
          [
           1498,
           6.078530356599885,
           1.7485360742020606
          ],
          [
           707,
           7.2372449057177555,
           5.124161652347606
          ],
          [
           397,
           6.532154805352926,
           4.155447890844106
          ],
          [
           150,
           5.226683204073863,
           8.71585439985533
          ],
          [
           1508,
           9.15752404577226,
           5.376288362650658
          ],
          [
           136,
           2.605803775090696,
           5.217831608177676
          ],
          [
           1724,
           2.278901022658149,
           4.2228019154356105
          ],
          [
           1580,
           7.861171779957534,
           6.761458567926661
          ],
          [
           87,
           6.823384276155648,
           13.717326348631923
          ],
          [
           310,
           62.61976315389295,
           28.225738005117297
          ],
          [
           1109,
           7.071074266271285,
           5.893168385631045
          ],
          [
           364,
           9.602077440693373,
           7.549219494309719
          ],
          [
           273,
           4.5059510910888365,
           3.729100141465681
          ],
          [
           737,
           9.348668928680054,
           4.923559587955136
          ],
          [
           1464,
           5.140392145681204,
           4.767632644442933
          ],
          [
           1300,
           10.076651364811315,
           9.94784265426856
          ],
          [
           114,
           7.33718008667866,
           3.210110140525583
          ],
          [
           976,
           9.92105820407583,
           7.442129876717391
          ],
          [
           1179,
           41.468796475821264,
           29.88936142396868
          ],
          [
           1680,
           9.090295677463477,
           7.257480715090459
          ],
          [
           374,
           3.235877623173326,
           1.9328986224421785
          ],
          [
           1249,
           38.50501824817493,
           10.142875921169914
          ],
          [
           1522,
           2.721853140206767,
           2.3071165345790887
          ],
          [
           376,
           46.88204512621815,
           18.37799241526002
          ],
          [
           1516,
           0.3904989735401903,
           2.678613659566576
          ],
          [
           1343,
           8.173650395377345,
           7.74410785477191
          ],
          [
           527,
           31.925562652068077,
           23.37504588863946
          ],
          [
           1493,
           15.631365571775978,
           9.73076990726422
          ],
          [
           874,
           42.07734032846739,
           11.488570608248692
          ],
          [
           1093,
           2.571429250304109,
           2.1455713879977862
          ],
          [
           224,
           1.803272220955407,
           1.2178669453062496
          ],
          [
           536,
           3.893823182786496,
           3.676382818170121
          ],
          [
           915,
           23.819647201946477,
           17.348732694814895
          ],
          [
           1075,
           38.40837258592035,
           19.66218992096632
          ],
          [
           123,
           2.318903018552396,
           6.075609627911659
          ],
          [
           850,
           6.87112264294446,
           6.318641313389604
          ],
          [
           383,
           10.036621806568895,
           8.263873467805126
          ],
          [
           880,
           10.54831109337005,
           7.297884631707718
          ],
          [
           1524,
           0.1511405109488997,
           1.3497893448174498
          ],
          [
           1399,
           14.92620894160584,
           6.743324399218283
          ],
          [
           679,
           3.658780793795399,
           2.7965395246168363
          ],
          [
           733,
           7.055520548204954,
           8.038655097240538
          ],
          [
           1519,
           50.774339739125374,
           58.18468112394031
          ],
          [
           1199,
           0.1753264712588412,
           1.0768115911478136
          ],
          [
           571,
           2.43637374543988,
           10.466166574734013
          ],
          [
           356,
           23.683510112529,
           16.50650760457414
          ],
          [
           952,
           0.1859517563868763,
           1.4550780247396802
          ],
          [
           20,
           9.975080310979374,
           11.10586780763558
          ],
          [
           701,
           7.2017132375298525,
           5.210494129224016
          ],
          [
           661,
           9.714504923205604,
           5.927743247371372
          ],
          [
           467,
           3.7533405565694578,
           3.6274797268184784
          ],
          [
           8,
           16.799273779652797,
           4.618971556822739
          ],
          [
           1119,
           48.00333884580295,
           17.225185589727467
          ],
          [
           958,
           5.375471886405149,
           6.032739394718934
          ],
          [
           625,
           5.411614108119363,
           8.668575234667857
          ],
          [
           232,
           2.5797967989649737,
           6.855100636291798
          ],
          [
           471,
           6.003637279501196,
           2.9906599255065136
          ],
          [
           368,
           0.4305149406933418,
           2.173765885677711
          ],
          [
           425,
           20.78726514978511,
           13.35678672583554
          ],
          [
           555,
           2.3442024026757258,
           0.9075729560152934
          ],
          [
           837,
           12.748720726889584,
           7.333003351515166
          ],
          [
           841,
           5.448588047445433,
           2.9381284727847645
          ],
          [
           1238,
           10.249019635796728,
           10.64120383195686
          ],
          [
           1518,
           7.00987349832721,
           4.659967643717759
          ],
          [
           81,
           17.481877281020147,
           6.77469932220271
          ],
          [
           693,
           2.172513686132136,
           3.226228794251717
          ],
          [
           934,
           3.795195882755413,
           5.841422522516527
          ],
          [
           1360,
           2.7149623631384565,
           4.685952437768361
          ],
          [
           658,
           6.109719054136272,
           5.061208172570334
          ],
          [
           9,
           8.248158264901704,
           8.673382392590984
          ],
          [
           1315,
           10.74326955976271,
           6.973893154306688
          ],
          [
           1621,
           0.8920953086982977,
           4.888769891430346
          ],
          [
           152,
           20.72222143020069,
           8.502614772735372
          ],
          [
           583,
           39.965474832724894,
           24.95694511703205
          ],
          [
           452,
           80.65907504561791,
           30.467575119921246
          ],
          [
           955,
           7.30708827554741,
           1.5936881249795063
          ],
          [
           663,
           1.696014864659433,
           1.6641621920023348
          ],
          [
           1674,
           14.964734451033912,
           8.356883182614911
          ],
          [
           941,
           0.7767562918187118,
           0.7172655497694377
          ],
          [
           643,
           1.33737492396592,
           1.001135488745011
          ],
          [
           1553,
           1.1618893514294382,
           5.686141791526601
          ],
          [
           280,
           232.01380968673965,
           160.0879242221965
          ],
          [
           1143,
           0.7706424878347538,
           0.9358478080231656
          ],
          [
           1254,
           17.610874866940776,
           8.278875106568876
          ],
          [
           366,
           11.8466564020686,
           8.157805260165032
          ],
          [
           1607,
           10.300550296532354,
           5.519195809969177
          ],
          [
           485,
           2.040738575881829,
           7.277469603074272
          ],
          [
           827,
           21.101642430808937,
           15.66325938911201
          ],
          [
           1382,
           6.452051589112145,
           4.29342735139999
          ],
          [
           896,
           0.902473673205958,
           1.1871437709519364
          ],
          [
           449,
           10.30423091545004,
           7.837702406093235
          ],
          [
           514,
           74.56812271897631,
           20.266631014708476
          ],
          [
           771,
           27.475924289080798,
           16.140219404830937
          ],
          [
           391,
           5.23572793111311,
           4.822793118942268
          ],
          [
           966,
           4.785747795012646,
           5.826022874849145
          ],
          [
           509,
           73.44181654881356,
           31.769662913711556
          ],
          [
           1257,
           7.154082078771312,
           5.291613018599178
          ],
          [
           401,
           6.817335766423868,
           2.9539539492738176
          ],
          [
           461,
           25.634760872871045,
           16.091514417405506
          ],
          [
           1705,
           4.16375741332114,
           3.48315642939483
          ],
          [
           883,
           67.29425942822449,
           26.18701056445518
          ],
          [
           993,
           13.9276215594587,
           16.248108163817815
          ],
          [
           1366,
           2.253703334093742,
           7.515585323718195
          ],
          [
           23,
           9.561299802312115,
           7.843346217178327
          ],
          [
           1486,
           1.028436739659761,
           1.819166132129852
          ],
          [
           1550,
           5.016553946167808,
           4.568001361120833
          ],
          [
           1033,
           7.280313830596223,
           4.930081191659699
          ],
          [
           1658,
           41.74484717153265,
           20.59977727185648
          ],
          [
           967,
           1.9683517715939784,
           8.87905894664816
          ],
          [
           532,
           0.5467248327250546,
           1.6411635001286808
          ],
          [
           1089,
           1.7456052311434638,
           1.5763968320188029
          ],
          [
           1123,
           18.933299118004864,
           18.681521823610364
          ],
          [
           1323,
           5.521100593066945,
           5.625278677293914
          ],
          [
           323,
           11.07189685979324,
           9.646349508973264
          ],
          [
           977,
           37.32186169403893,
           14.3324444054692
          ],
          [
           1233,
           80.29955520072993,
           25.573469068425887
          ],
          [
           1041,
           111.74008135644928,
           41.30236111855987
          ],
          [
           1626,
           9.250871350364926,
           6.9801266950224745
          ],
          [
           243,
           77.08760074513383,
           19.179151878702807
          ],
          [
           140,
           26.66370437956373,
           15.801380505156656
          ],
          [
           1062,
           5.606748498327217,
           2.942796353805823
          ],
          [
           1095,
           8.707597703771293,
           6.398695073207915
          ],
          [
           647,
           42.60545449361314,
           31.093409217248677
          ],
          [
           1501,
           10.399549498175205,
           6.440542669255974
          ],
          [
           1164,
           6.767704056417247,
           5.150097355688876
          ],
          [
           86,
           2.226629505020194,
           3.350179498740821
          ],
          [
           108,
           13.2440929136255,
           10.659037611977354
          ],
          [
           1017,
           65.60453543187197,
           9.95114169719525
          ],
          [
           847,
           27.96864754409913,
           11.403439271883316
          ],
          [
           769,
           8.38074389826643,
           1.9964997138733187
          ],
          [
           1244,
           14.84665545164234,
           10.118429229164564
          ],
          [
           964,
           6.486227379866274,
           5.651260858889089
          ],
          [
           860,
           5.707601980687375,
           5.401363536424253
          ],
          [
           1544,
           13.306562119829731,
           8.142373393250294
          ],
          [
           763,
           5.902628402524356,
           3.2940295269338877
          ],
          [
           862,
           3.75695825730008,
           2.3110882396819514
          ],
          [
           695,
           13.408421342760546,
           14.200637261148009
          ],
          [
           1309,
           7.535931797445558,
           12.635366507429284
          ],
          [
           1732,
           73.4049060979325,
           23.256415373668908
          ],
          [
           1447,
           5.985765472931825,
           3.1160500726719165
          ],
          [
           1681,
           34.78233538625151,
           19.93281965794185
          ],
          [
           1665,
           40.04606618765223,
           12.2548070005781
          ],
          [
           778,
           22.05509428223801,
           21.576259169375
          ],
          [
           1105,
           11.830583276307804,
           7.962486133791686
          ],
          [
           984,
           118.60191415754258,
           31.2412599077623
          ],
          [
           1155,
           11.826940484336902,
           11.757786782730488
          ],
          [
           69,
           1.9441871958636032,
           6.852980995412556
          ],
          [
           1353,
           0.5757704151459839,
           3.235282889000783
          ],
          [
           39,
           33.96771498631351,
           11.692282362012328
          ],
          [
           1012,
           9.614811150395408,
           9.443055845662332
          ],
          [
           379,
           9.78154767335775,
           3.4038533868778083
          ],
          [
           464,
           7.350651992098778,
           9.842589087810795
          ],
          [
           1150,
           10.333727760036512,
           6.283940181048648
          ],
          [
           744,
           5.04725279425189,
           6.118043816287076
          ],
          [
           227,
           2.372721259123945,
           3.347629595355512
          ],
          [
           217,
           9.83498688412485,
           9.386852257428052
          ],
          [
           133,
           2.34101334397806,
           3.9012215989290646
          ],
          [
           1057,
           8.55479328238965,
           6.567096274542044
          ],
          [
           1695,
           3.3268647354015526,
           13.056863312174654
          ],
          [
           906,
           4.223370019768734,
           5.80869977414543
          ],
          [
           288,
           4.069171418795605,
           13.549756627260251
          ],
          [
           1137,
           3.9066862454379607,
           3.251896994945608
          ],
          [
           245,
           0.7862409709549231,
           1.5727542569423445
          ],
          [
           103,
           3.323476657542615,
           7.446973755283205
          ],
          [
           1712,
           20.851210842457508,
           12.426826821875522
          ],
          [
           1068,
           12.120675562652067,
           11.521004037169536
          ],
          [
           1200,
           4.316409956660546,
           6.096372724160456
          ],
          [
           1583,
           7.324576775394711,
           7.015859371024277
          ],
          [
           187,
           5.593461545773391,
           6.153032805929574
          ],
          [
           1664,
           4.712298509732566,
           3.253750008204359
          ],
          [
           1115,
           21.07288767867993,
           7.160616804662074
          ],
          [
           380,
           40.12522838731486,
           62.80189964330485
          ],
          [
           1151,
           35.41353368309029,
           6.640005279045382
          ],
          [
           304,
           2.2961354736916357,
           2.322042875358916
          ],
          [
           1488,
           19.905225440996382,
           14.669210398687005
          ],
          [
           1418,
           3.369985078314902,
           3.6328219246752105
          ],
          [
           1307,
           1.332284918645755,
           1.351799297916425
          ],
          [
           1470,
           3.276545867549119,
           1.996376234175564
          ],
          [
           1347,
           8.627309534671532,
           4.023235617361277
          ],
          [
           648,
           17.529889940691127,
           20.140283000155
          ],
          [
           1120,
           0.25121559458636,
           1.5810871024870128
          ],
          [
           392,
           22.11899045772489,
           9.915334252368124
          ],
          [
           1592,
           33.79468027676396,
           12.737694578451286
          ],
          [
           99,
           57.519164290603086,
           20.318745275181875
          ],
          [
           1154,
           6.029229869981744,
           6.929460681994995
          ],
          [
           1390,
           0.7363518856448359,
           1.9293166193153448
          ],
          [
           623,
           14.186516499391589,
           9.574868717325668
          ],
          [
           1599,
           82.94326718369771,
           50.04819529520808
          ],
          [
           864,
           8.254863328771298,
           7.591371895635454
          ],
          [
           1585,
           7.121016385344318,
           7.255686310082699
          ],
          [
           439,
           12.504191377737229,
           6.475263853847237
          ],
          [
           470,
           7.644886709246925,
           22.77698471141355
          ],
          [
           499,
           13.657338902828563,
           4.651506748905701
          ],
          [
           1569,
           11.511199342305607,
           9.623459017575431
          ],
          [
           559,
           7.869630474452371,
           3.5080626653805327
          ],
          [
           96,
           8.709226258363664,
           3.141685195572059
          ],
          [
           118,
           0.1043738594890511,
           0.9122302699880992
          ],
          [
           412,
           28.10502632679611,
           12.074070907939795
          ],
          [
           329,
           4.133780033455216,
           4.442413106206861
          ],
          [
           1412,
           2.6333882679442486,
           1.4433205558337063
          ],
          [
           474,
           5.798948353862638,
           4.422672360109302
          ],
          [
           561,
           6.557195673661795,
           2.884164738070806
          ],
          [
           1086,
           6.66784709549878,
           4.171465666457494
          ],
          [
           488,
           9.20851286876658,
           6.136002992853087
          ],
          [
           774,
           5.651472494677624,
           2.293417404819747
          ],
          [
           490,
           6.775788378193423,
           4.304883229858512
          ],
          [
           1654,
           4.896901611921694,
           4.661157210514637
          ],
          [
           1530,
           8.304035127737064,
           6.383819011959782
          ],
          [
           1131,
           212.50314495893608,
           68.13631012041556
          ],
          [
           942,
           79.24987834549833,
           28.154447619629902
          ],
          [
           1720,
           21.03036496350289,
           3.912061707107812
          ],
          [
           1605,
           60.756462895377126,
           39.1260630600696
          ],
          [
           316,
           33.34924355611321,
           22.25219402170389
          ],
          [
           1448,
           2.4129015548966275,
           3.228990410968973
          ],
          [
           320,
           70.52562347931874,
           35.880628773230306
          ],
          [
           1677,
           4.663079759732577,
           3.413790126034952
          ],
          [
           649,
           6.363939704987956,
           5.374562263651711
          ],
          [
           1214,
           6.446823201794799,
           7.515218019680456
          ],
          [
           1708,
           17.515612644464507,
           5.643742893330785
          ],
          [
           1491,
           5.491776916058407,
           3.5784982029170824
          ],
          [
           669,
           5.712730383212251,
           3.74763079171676
          ],
          [
           1727,
           56.33309192518295,
           20.47482893637204
          ],
          [
           1051,
           7.666618194951194,
           5.461348249092393
          ],
          [
           1425,
           5.767296323753384,
           5.559028357361889
          ],
          [
           1462,
           7.330450216697188,
           7.601249015446253
          ],
          [
           710,
           2.8092010720802323,
           1.7251139328964558
          ],
          [
           1500,
           3.973079664689811,
           2.365920022041037
          ],
          [
           431,
           6.5378951870438,
           6.538627758381242
          ],
          [
           777,
           8.048486446928402,
           5.968777338578087
          ],
          [
           1329,
           8.948571510036402,
           5.50754709188496
          ],
          [
           317,
           0.3915112720500444,
           1.6939640330496022
          ],
          [
           1718,
           19.170555809002284,
           12.498000053626736
          ],
          [
           1149,
           8.210450406782174,
           5.9051505115327
          ],
          [
           591,
           61.44756976125304,
           25.605534128816107
          ],
          [
           1692,
           2.4516532656630803,
           2.1021950698538614
          ],
          [
           739,
           7.901967476429608,
           3.945168668385274
          ],
          [
           1406,
           0.2983814248780297,
           0.1644664902322836
          ],
          [
           443,
           2.9254373859490745,
           4.380297347190913
          ],
          [
           188,
           10.025217647506048,
           9.280371114854264
          ],
          [
           146,
           29.388716545015583,
           11.186998364943207
          ],
          [
           447,
           50.30780413625384,
           16.35457889491156
          ],
          [
           714,
           13.07315997566733,
           8.037423211109642
          ],
          [
           903,
           3.461659348387853,
           11.32540894605564
          ],
          [
           333,
           8.109196319951264,
           4.773354182541153
          ],
          [
           77,
           2.99451433242054,
           8.04686406366972
          ],
          [
           913,
           4.280570920772561,
           3.257010817590168
          ],
          [
           1258,
           11.412220099604625,
           5.278535721871474
          ],
          [
           1683,
           5.974230915450055,
           6.625121830127823
          ],
          [
           473,
           4.522487454379383,
           3.555576514832799
          ],
          [
           1472,
           10.582683337134917,
           10.227730471770256
          ],
          [
           715,
           1.9402643134125628,
           6.652029077640306
          ],
          [
           21,
           2.476090613594588,
           2.630011891886424
          ],
          [
           1691,
           17.3141593483908,
           5.032646375316242
          ],
          [
           702,
           14.562842153284672,
           3.390537115991962
          ],
          [
           250,
           4.580010169555909,
           2.255958415247501
          ],
          [
           1363,
           4.121891442366685,
           3.111639855258319
          ],
          [
           819,
           45.511471639294406,
           16.060620368587127
          ],
          [
           1128,
           66.06686435523211,
           22.163174176065464
          ],
          [
           563,
           8.089554250304872,
           5.443920946655348
          ],
          [
           221,
           37.197583257318485,
           38.82304262993794
          ],
          [
           533,
           10.09524340404468,
           7.102149686090294
          ],
          [
           168,
           41.894758401764136,
           15.252698628964811
          ],
          [
           306,
           3.716431056112776,
           7.952940714892168
          ],
          [
           1688,
           3.192450767944014,
           2.4952728937123085
          ],
          [
           1613,
           2.564006900091242,
           1.5537436332818433
          ],
          [
           199,
           4.717769730839365,
           4.873895025649106
          ],
          [
           1678,
           1.3535645719284797,
           1.524075433493983
          ],
          [
           1387,
           17.816049840322606,
           9.349077193617706
          ],
          [
           1196,
           17.408959188717617,
           4.824993207435237
          ],
          [
           1710,
           8.940383876976837,
           7.234939762162591
          ],
          [
           94,
           49.22796760948789,
           39.38137560080298
          ],
          [
           716,
           3.8373868993317433,
           9.88803990135836
          ],
          [
           1088,
           43.47753193430657,
           30.20952555028445
          ],
          [
           1281,
           8.740515225821563,
           5.967115401003921
          ],
          [
           1350,
           5.842562918187442,
           2.868088313725888
          ],
          [
           475,
           5.232937956204394,
           3.0690761849747745
          ],
          [
           709,
           6.831652980535361,
           6.725960046273251
          ],
          [
           127,
           10.05346715328466,
           9.834896252176152
          ],
          [
           1638,
           69.87841678071776,
           48.78672110543919
          ],
          [
           41,
           1.7162451528284546,
           1.1342597052098382
          ],
          [
           840,
           4.623057994981388,
           5.025713254795881
          ],
          [
           859,
           3.9654759732360696,
           4.122598144073964
          ],
          [
           1376,
           1.608843236770556,
           6.654766381691827
          ],
          [
           1377,
           5.434921304744498,
           3.004489710714209
          ],
          [
           542,
           9.907664043491389,
           3.958174924178519
          ],
          [
           1288,
           12.11051893248226,
           4.67996951923877
          ],
          [
           192,
           2.631688621502712,
           4.344636077053412
          ],
          [
           1295,
           3.3389736351884207,
           3.5779769591898494
          ],
          [
           272,
           14.924314362836595,
           7.244048309387224
          ],
          [
           708,
           17.581928413930235,
           10.79666235382274
          ],
          [
           270,
           3.5556792693126518,
           3.139440177056356
          ],
          [
           1485,
           86.68328010948905,
           29.788595634020027
          ],
          [
           937,
           4.703461450729912,
           2.5405677939161824
          ],
          [
           387,
           6.096652600365175,
           5.336036583783775
          ],
          [
           787,
           8.119490761861009,
           6.910537906202854
          ],
          [
           182,
           3.288548794860212,
           4.430534455420232
          ],
          [
           287,
           3.593342267335743,
           9.000788275266913
          ],
          [
           1383,
           105.04633325729928,
           55.46416109222742
          ],
          [
           237,
           1.1207568240572046,
           2.902151683688603
          ],
          [
           1662,
           9.432206793643678,
           7.557822326234066
          ],
          [
           399,
           2.88836906934321,
           3.7245614447775353
          ],
          [
           981,
           79.04512621654533,
           36.130081373125606
          ],
          [
           311,
           37.76905651231766,
           32.21399583363534
          ],
          [
           402,
           28.1038485591553,
           20.21911079957378
          ],
          [
           755,
           19.76443468673963,
           12.434296041495903
          ],
          [
           1511,
           3.3024885948904954,
           2.493721091321485
          ],
          [
           1197,
           3.91410279805349,
           2.6173106313303927
          ],
          [
           956,
           7.791657162408759,
           8.91972463637833
          ],
          [
           689,
           14.81700977037726,
           5.046541387938204
          ],
          [
           855,
           5.094565845498729,
           3.6018641495194816
          ],
          [
           405,
           12.7992520149025,
           6.922457021636284
          ],
          [
           1097,
           10.487077060523166,
           6.167821417613975
          ],
          [
           1457,
           4.12075102646039,
           2.8263017572273887
          ],
          [
           655,
           1.171764370437922,
           2.5123718930974497
          ],
          [
           502,
           2.576988290754421,
           1.8394781942393137
          ],
          [
           184,
           10.876950748935538,
           6.364883371868756
          ],
          [
           889,
           15.919624391733509,
           11.774879978309986
          ],
          [
           1438,
           88.71019616788321,
           45.51021733809645
          ],
          [
           1132,
           51.87219206204567,
           19.858404623990943
          ],
          [
           531,
           1.081328695255089,
           1.7570879314493255
          ],
          [
           6,
           0.6387673927919155,
           0.9602262374356968
          ],
          [
           982,
           28.652799954379564,
           13.499220510103518
          ],
          [
           171,
           6.893352246806539,
           5.809300951763235
          ],
          [
           609,
           1.291140605991564,
           3.584748929067253
          ],
          [
           718,
           19.784617358576785,
           14.938500044142977
          ],
          [
           1572,
           24.73759646821754,
           10.92829336963156
          ],
          [
           1468,
           5.659720859945582,
           2.755858944864836
          ],
          [
           137,
           12.013014180352805,
           6.783220367231538
          ],
          [
           875,
           11.655066149634784,
           11.674148868702217
          ],
          [
           446,
           36.31428680048662,
           14.076957398264565
          ],
          [
           1312,
           18.19101562499974,
           6.113687488709075
          ],
          [
           340,
           8.424670392335724,
           6.823370879059538
          ],
          [
           1269,
           128.48689552919632,
           54.54621112978679
          ],
          [
           939,
           6.136583599451124,
           5.106184037051763
          ],
          [
           113,
           6.093436359489052,
           3.7092040159419306
          ],
          [
           1209,
           3.4381900091240376,
           2.0610563056700206
          ],
          [
           911,
           29.17930305276774,
           16.09823108210414
          ],
          [
           231,
           3.165694381082614,
           3.71149365909116
          ],
          [
           1636,
           12.088810732207817,
           15.479801981865672
          ],
          [
           409,
           14.899354185675014,
           7.508354566008499
          ],
          [
           630,
           0.1478729470802911,
           1.0903103838037986
          ],
          [
           535,
           12.017805942061052,
           15.587335063932812
          ],
          [
           1064,
           6.250018058090157,
           7.19414518453894
          ],
          [
           1069,
           2.0992653208636423,
           3.38231016918748
          ],
          [
           1340,
           24.879580196925808,
           5.422135212389578
          ],
          [
           326,
           13.80817746350395,
           12.372584268835729
          ],
          [
           219,
           2.130953467153379,
           0.8535311244437636
          ],
          [
           770,
           12.61822869145385,
           11.09796174057446
          ],
          [
           1374,
           0.2527120399939131,
           1.4806865062423105
          ],
          [
           1176,
           26.411562975212465,
           7.763135056392964
          ],
          [
           830,
           4.643848464112062,
           5.93919390911537
          ],
          [
           570,
           7.293095631843086,
           2.9800664353263917
          ],
          [
           1426,
           3.658793529501671,
           3.2330226638299906
          ],
          [
           704,
           9.7177492016423,
           7.866551635712803
          ],
          [
           1411,
           8.667512545620438,
           4.6327192903725605
          ],
          [
           871,
           7.565836469739509,
           8.425993719323994
          ],
          [
           640,
           20.766143742397517,
           14.858499748784276
          ],
          [
           52,
           5.439352855079119,
           4.327040048222919
          ],
          [
           1215,
           4.655351372414814,
           2.782412618939506
          ],
          [
           1574,
           11.528843521901562,
           13.661096202460998
          ],
          [
           1682,
           20.9787489545318,
           19.464281946514628
          ],
          [
           1346,
           41.26591012773489,
           14.238849040471695
          ],
          [
           810,
           63.146289537712896,
           42.78089740561015
          ],
          [
           1689,
           6.268872604927005,
           3.298144531526301
          ],
          [
           1106,
           1.4764688830596984,
           1.5740113690801576
          ],
          [
           1639,
           5.474560903284769,
           4.686600825092778
          ],
          [
           1702,
           113.00125484717168,
           62.0907668440685
          ],
          [
           25,
           39.24957772582101,
           13.760590136273864
          ],
          [
           1582,
           10.815560371046198,
           5.665203774582421
          ],
          [
           1459,
           6.157200901003675,
           3.424945439559051
          ],
          [
           782,
           5.4350916210461975,
           4.335428547464633
          ],
          [
           1284,
           7.109052805656801,
           7.6355224093412914
          ],
          [
           1428,
           70.31710956508516,
           32.52445913964233
          ],
          [
           820,
           8.384763819192303,
           5.112710544340224
          ],
          [
           917,
           0.4679207534971965,
           2.0389256978751216
          ],
          [
           1313,
           9.92940104166735,
           7.263321307202637
          ],
          [
           836,
           5.393790393096085,
           3.473680109665335
          ],
          [
           314,
           25.675839225973423,
           17.991311747551737
          ],
          [
           1568,
           6.238157694647202,
           6.571662899314805
          ],
          [
           141,
           5.502421684914829,
           2.079432533460704
          ],
          [
           684,
           9.705101885636422,
           12.55240557513147
          ],
          [
           228,
           3.3522662902942515,
           6.274553910414744
          ],
          [
           1594,
           8.782961146593474,
           7.795091722730569
          ],
          [
           1092,
           4.9458133743915536,
           4.572164890017284
          ],
          [
           159,
           2.160570160431224,
           6.338698563661684
          ],
          [
           986,
           8.273615704835672,
           3.98594948098943
          ],
          [
           848,
           9.22893447764604,
           6.188332129110276
          ],
          [
           17,
           19.17836925942793,
           11.437523818807607
          ],
          [
           1378,
           1.5748868993313638,
           5.803900820210949
          ],
          [
           1049,
           0.7446158378953921,
           2.0556875500094134
          ],
          [
           946,
           11.797185504105704,
           8.95724840878175
          ],
          [
           960,
           1.273572460461011,
           2.1811645483767754
          ],
          [
           312,
           8.498919365875889,
           5.139822602283964
          ],
          [
           315,
           34.62403056569343,
           11.041863201721762
          ],
          [
           1191,
           8.173536819495151,
           7.54056057861002
          ],
          [
           1564,
           14.959894407694884,
           12.1162258418271
          ],
          [
           1617,
           4.84629191377832,
           7.870946478522061
          ],
          [
           1081,
           0.5074099946773726,
           0.8810202312058253
          ],
          [
           801,
           103.51022658150852,
           15.471527409964256
          ],
          [
           1130,
           1.3708188868613476,
           6.847240335392638
          ],
          [
           1436,
           6.636619240418985,
           5.082151642278947
          ],
          [
           496,
           8.235002281021897,
           7.009616095239328
          ],
          [
           1496,
           35.73665801779153,
           10.102354158858786
          ],
          [
           544,
           3.3085633363745486,
           2.992752233486121
          ],
          [
           1627,
           25.51506995133761,
           14.963532570595405
          ],
          [
           944,
           22.370092666512114,
           18.574790073017727
          ],
          [
           156,
           8.069303623023144,
           3.772537106496738
          ],
          [
           831,
           11.022740077554811,
           7.495446140395063
          ],
          [
           788,
           5.973463921837113,
           3.4814783691192037
          ],
          [
           46,
           12.264209340784516,
           13.315964793960667
          ],
          [
           135,
           29.064037503802588,
           11.47534009481154
          ],
          [
           201,
           4.55619069343047,
           3.7785817093404814
          ],
          [
           480,
           156.78958143247948,
           47.72396684522519
          ],
          [
           83,
           50.299806113137954,
           12.5553280511706
          ],
          [
           415,
           27.902930923052786,
           13.827717979716311
          ],
          [
           1666,
           8.69999040069952,
           6.593416974528155
          ],
          [
           98,
           22.128155413625304,
           11.04760275834902
          ],
          [
           1730,
           4.749501596715551,
           4.578761593906195
          ],
          [
           262,
           40.675088674726425,
           21.815561382407918
          ],
          [
           857,
           37.42793282390332,
           15.30426771179431
          ],
          [
           54,
           4.435176969281993,
           6.354602999820383
          ],
          [
           1616,
           11.51862454379567,
           10.194006562140196
          ],
          [
           463,
           23.106952364660216,
           11.714856660396055
          ],
          [
           244,
           4.402428813108326,
           2.737430874693631
          ],
          [
           269,
           4.614318164537682,
           2.77210825578214
          ],
          [
           268,
           3.235134390206795,
           3.403579617799441
          ],
          [
           1042,
           3.8395771555650207,
           12.633118314451036
          ],
          [
           1251,
           29.53712505702543,
           8.921943968376821
          ],
          [
           1446,
           6.987671551855085,
           7.756363901275918
          ],
          [
           1237,
           38.36883069114917,
           23.14568644741281
          ],
          [
           1576,
           3.878115210613797,
           2.5597016053422106
          ],
          [
           1728,
           11.34312794631994,
           7.765168616375377
          ],
          [
           1455,
           3.068025775547589,
           3.8988944660555696
          ],
          [
           1557,
           18.102122110705874,
           4.342649888898911
          ],
          [
           945,
           0.8111803337895593,
           0.5902198092426609
          ],
          [
           1,
           10.120175828771004,
           7.542017312769009
          ],
          [
           1141,
           5.943023399483171,
           5.1971933911352455
          ],
          [
           1482,
           54.13783074817518,
           17.02852047900263
          ],
          [
           1671,
           1.1805290069952488,
           0.9845653343213934
          ],
          [
           802,
           10.1692152334247,
           7.036992456597915
          ],
          [
           1375,
           6.53011547673353,
           3.075270201418992
          ],
          [
           289,
           20.97374287180636,
           7.839191865638825
          ],
          [
           1203,
           23.74481000988323,
           20.779770240624053
          ],
          [
           1308,
           3.86880512469629,
           7.109702030888762
          ],
          [
           84,
           6.480841316910063,
           5.935996809162509
          ],
          [
           897,
           5.7296903512773465,
           6.200873779174812
          ],
          [
           846,
           15.436405964872389,
           16.32043560776345
          ],
          [
           983,
           4.003168909671512,
           3.155759483215359
          ],
          [
           18,
           4.519666685675196,
           1.6047171003065888
          ],
          [
           1029,
           3.3714900775548613,
           2.402828498042742
          ],
          [
           1596,
           49.48652296228792,
           23.039313256374907
          ],
          [
           1697,
           6.2654062119828975,
           6.888547753410754
          ],
          [
           936,
           3.316628649635112,
           3.866609701803512
          ],
          [
           1147,
           16.7888222323617,
           13.932156876696787
          ],
          [
           539,
           44.08595080596198,
           20.79537736662176
          ],
          [
           1512,
           2.441181569342946,
           9.885022702105305
          ],
          [
           1085,
           8.378616370133726,
           6.634509577271595
          ],
          [
           375,
           4.841438564476923,
           5.114800083773432
          ],
          [
           963,
           25.96152334246446,
           14.009153781337746
          ],
          [
           1229,
           3.816731295620461,
           3.731065169062701
          ],
          [
           758,
           2.6378255208332586,
           3.281930410667389
          ],
          [
           844,
           10.690518647353995,
           9.587790738116697
          ],
          [
           721,
           79.19069343065945,
           38.51573007442101
          ],
          [
           518,
           5.798195141423336,
           2.9946495909656154
          ],
          [
           815,
           2.875153683849913,
           2.3273989270173896
          ],
          [
           949,
           10.610507337287345,
           7.811093952128231
          ],
          [
           40,
           44.97466564018317,
           46.918371438540525
          ],
          [
           185,
           11.769068867851082,
           7.560071009139513
          ],
          [
           1736,
           1.163833922597337,
           6.919522946669593
          ],
          [
           462,
           10.85420506386788,
           7.545429045911278
          ],
          [
           31,
           6.364992396593221,
           2.432032254061556
          ],
          [
           33,
           6.532482892335656,
           6.541241567820408
          ],
          [
           1319,
           12.208915184002464,
           7.831494288890541
          ],
          [
           599,
           84.65569827782778,
           45.59681026994925
          ],
          [
           907,
           118.28088883819952,
           39.93329021336584
          ],
          [
           854,
           12.95800591164757,
           12.221059316642211
          ],
          [
           1514,
           4.702045791514551,
           4.898229972742882
          ],
          [
           789,
           8.259269502737249,
           4.31173773030594
          ],
          [
           595,
           6.188441871958699,
           5.985351992583369
          ],
          [
           1299,
           72.72619183394161,
           55.68730615433186
          ],
          [
           1385,
           12.249452554744517,
           10.27358483648504
          ],
          [
           1335,
           4.4358135644767245,
           4.0464508063612445
          ],
          [
           1741,
           4.106202953923365,
           2.499870507775115
          ],
          [
           1449,
           10.61049555200748,
           10.395643267934812
          ],
          [
           1255,
           49.22632147202106,
           19.52418546097124
          ],
          [
           1065,
           1.6435371046227991,
           1.2891129309541804
          ],
          [
           248,
           10.864263800182394,
           9.719832311917886
          ],
          [
           1379,
           42.80274197840615,
           24.82658961970125
          ],
          [
           765,
           3.458276307785892,
           4.521116908883884
          ],
          [
           1480,
           75.67923129562044,
           31.78175619984622
          ],
          [
           971,
           0.1298025015206814,
           1.1165713931724774
          ],
          [
           1431,
           12.91120171836983,
           10.139966792679797
          ],
          [
           1163,
           21.880432728861745,
           10.678145981863755
          ],
          [
           653,
           21.86160802539546,
           7.645613997056397
          ],
          [
           785,
           8.64501881843086,
           5.326038494454691
          ],
          [
           167,
           3.059686264446812,
           3.493673967151287
          ],
          [
           1157,
           1.5481732816301614,
           7.061237758750101
          ],
          [
           1144,
           12.651267868007308,
           6.518976944916664
          ],
          [
           450,
           3.162159367397426,
           2.798749858718381
          ],
          [
           672,
           22.210431873480285,
           8.646523298807988
          ],
          [
           1709,
           23.227285774022267,
           17.16904562004907
          ],
          [
           1578,
           6.6094392487840805,
           8.927950625132961
          ],
          [
           781,
           21.74464691681817,
           10.324167032157872
          ],
          [
           424,
           4.516808280109561,
           2.9485600572525947
          ],
          [
           348,
           1.3789148038319214,
           5.189533616785381
          ],
          [
           404,
           1.4912351733579208,
           2.1679885336334483
          ],
          [
           1526,
           4.512260017487936,
           2.534209402352394
          ],
          [
           1311,
           7.903271365573347,
           4.279079101901174
          ],
          [
           1061,
           0.5804160013686066,
           2.0972442474295057
          ],
          [
           870,
           0.9696913967474317,
           3.348842329771147
          ],
          [
           1101,
           3.732640472931789,
           4.937176491926243
          ],
          [
           717,
           18.07770120514125,
           13.476014495198928
          ],
          [
           459,
           4.574128079378927,
           2.8109583009183425
          ],
          [
           1094,
           0.000034690541362530394,
           0.0022808829904103
          ],
          [
           1129,
           2.563354907998832,
           4.147989537289032
          ],
          [
           260,
           55.61929174270148,
           23.221550764045304
          ],
          [
           1445,
           8.08365514750564,
           7.482748758102947
          ],
          [
           1043,
           3.053834492852572,
           2.6977592481567423
          ],
          [
           1239,
           0.2330515320863751,
           1.4278330803940915
          ],
          [
           1317,
           10.255362112226324,
           6.457525276814486
          ],
          [
           1324,
           5.520870970194452,
           5.13529485436951
          ],
          [
           1161,
           0.2593474376520609,
           0.5527457720887498
          ],
          [
           1245,
           7.43187385948906,
           8.076994068644172
          ],
          [
           444,
           0.8966373935521149,
           1.0610820526531508
          ],
          [
           627,
           3.707404767335776,
           1.6165564387980724
          ],
          [
           1628,
           19.38585386253041,
           25.66617253750516
          ],
          [
           1077,
           43.14366721791489,
           18.44620212183919
          ],
          [
           764,
           102.42505892639905,
           61.97655079810789
          ],
          [
           1415,
           0.9402771441607216,
           3.733326242780143
          ],
          [
           1633,
           2.111996274331032,
           3.59540825787846
          ],
          [
           1414,
           0.3939229774939172,
           0.4886204400526479
          ],
          [
           161,
           3.307232740267591,
           3.819130911467252
          ],
          [
           212,
           3.224504828163097,
           3.2660295324048274
          ],
          [
           685,
           17.155824304288597,
           10.043162422050768
          ],
          [
           1122,
           60.50622785507807,
           17.40803800665486
          ],
          [
           1326,
           4.284681987530441,
           6.918559557424608
          ],
          [
           696,
           0.5338252737226872,
           0.5703098584427989
          ],
          [
           154,
           15.44900015206793,
           9.08316431642142
          ],
          [
           51,
           32.762245571015235,
           8.821423060990673
          ],
          [
           732,
           2.3305205482054183,
           3.736572708518508
          ],
          [
           302,
           2.138338275547569,
           1.6992349544275709
          ],
          [
           1265,
           14.985319057938543,
           15.749135776916916
          ],
          [
           1005,
           4.301462515206254,
           3.7441561456562464
          ],
          [
           987,
           7.029272163929405,
           7.258404469200064
          ],
          [
           516,
           0.2046984298965363,
           0.4653703325994351
          ],
          [
           1463,
           16.691219776460535,
           8.542468862485242
          ],
          [
           1055,
           0.6421770453163155,
           2.851124340081057
          ],
          [
           1397,
           18.89709027144096,
           13.69617381669052
          ],
          [
           1167,
           2.399095289690885,
           5.412376424975289
          ],
          [
           362,
           11.912053489961936,
           6.8723909163082455
          ],
          [
           10,
           1.8144094054138584,
           1.8440231851568207
          ],
          [
           576,
           0.4305989583333329,
           2.3681532375955805
          ],
          [
           1322,
           3.68807424726274,
           7.63504473642319
          ],
          [
           660,
           41.17857103482376,
           14.52127599938282
          ],
          [
           798,
           2.56634162104624,
           1.9744761876324823
          ],
          [
           417,
           11.678125950425764,
           5.4945868536274185
          ],
          [
           487,
           0.8347124011551488,
           0.9144900328179892
          ],
          [
           296,
           11.558488822992356,
           12.223964712211972
          ],
          [
           265,
           14.455210234185309,
           10.878253972164678
          ],
          [
           1656,
           3.4368601733577195,
           1.810562671897836
          ],
          [
           639,
           61.37748251216541,
           41.45326718803514
          ],
          [
           1046,
           43.33288900927634,
           10.553324835481355
          ],
          [
           1586,
           4.851320616635768,
           6.829354856745434
          ],
          [
           1672,
           39.83444048433639,
           26.23105995117689
          ],
          [
           751,
           1.1706640625001803,
           1.1515859928508332
          ],
          [
           607,
           22.882859260948603,
           10.963745801153806
          ],
          [
           991,
           1.5063740305656814,
           4.001843255811324
          ],
          [
           1351,
           7.3843155983883,
           8.465650425511399
          ],
          [
           664,
           6.602747205748015,
           8.856295374773723
          ],
          [
           1717,
           14.32175629182074,
           5.7861814333029145
          ],
          [
           264,
           32.872854318733545,
           16.395274875220903
          ],
          [
           1356,
           9.201409671532623,
           10.37814502027388
          ],
          [
           1473,
           7.664070103406315,
           4.015706020149713
          ],
          [
           372,
           13.822457991182011,
           10.009347225496876
          ],
          [
           867,
           60.03805314780993,
           21.67662078012578
          ],
          [
           726,
           140.54563944647202,
           46.485235623919046
          ],
          [
           611,
           19.03378031858418,
           16.492873957483024
          ],
          [
           155,
           17.46969557861935,
           9.305780358318176
          ],
          [
           1060,
           5.910677653587827,
           6.861272480879312
          ],
          [
           1623,
           7.373545848540146,
           5.131719844979224
          ],
          [
           637,
           12.839187956203546,
           11.051027953975996
          ],
          [
           1653,
           3.9478087933393815,
           2.585590266506789
          ],
          [
           1384,
           9.25071947232366,
           5.321477358833175
          ],
          [
           337,
           2.039301056873562,
           4.853788583621281
          ],
          [
           278,
           12.337872566910027,
           8.721194996931189
          ],
          [
           1279,
           10.737459131691004,
           7.948375705231681
          ],
          [
           1201,
           7.831935827251251,
           8.228844820153663
          ],
          [
           545,
           8.172940427311431,
           3.126017201653526
          ],
          [
           768,
           6.727774102797908,
           4.922236524210953
          ],
          [
           524,
           0.4365191605839433,
           1.877556851046672
          ],
          [
           257,
           0.0292279691301703,
           0.5138465673770771
          ],
          [
           30,
           1.398242662712925,
           0.7684517438799995
          ],
          [
           1134,
           1.7666671418795423,
           3.460648748522529
          ],
          [
           493,
           82.17828229546748,
           28.24066623033822
          ],
          [
           560,
           64.90300524634914,
           22.197873726183328
          ],
          [
           292,
           13.215131729014455,
           9.5622905377641
          ],
          [
           324,
           10.862484032846565,
           5.471141904417683
          ],
          [
           27,
           19.806740419708028,
           15.227861804079756
          ],
          [
           1327,
           0.1422564058698297,
           0.940881869959421
          ],
          [
           1646,
           2.2471634542272403,
           2.462529680094668
          ],
          [
           1602,
           2.4813678527981406,
           2.3928204055698896
          ],
          [
           957,
           21.44132071167883,
           13.073346040552977
          ],
          [
           749,
           4.702611770073032,
           6.01071843738344
          ],
          [
           92,
           3.599127699208363,
           3.643663686915618
          ],
          [
           116,
           0.4114569076946446,
           1.8464882376217469
          ],
          [
           1218,
           4.892718312803824,
           3.55325982154017
          ],
          [
           1381,
           4.938995970194556,
           4.449609826232366
          ],
          [
           979,
           34.27110021289452,
           8.612733204246247
          ],
          [
           1483,
           7.734373099148378,
           5.896012932903225
          ],
          [
           47,
           0.093245799118005,
           0.9896651365105038
          ],
          [
           334,
           6.8018214910281705,
           7.006541646378525
          ],
          [
           1502,
           9.191967001216543,
           6.449849411798188
          ],
          [
           687,
           3.4144662408758446,
           2.928922427411028
          ],
          [
           1451,
           30.69634656325592,
           11.621877042901891
          ],
          [
           1253,
           36.37867425106415,
           5.534506056812529
          ],
          [
           179,
           2.792685998327236,
           8.940554868211482
          ],
          [
           1034,
           16.096001558696777,
           13.87435064913042
          ],
          [
           70,
           15.681984869221283,
           10.496508350357653
          ],
          [
           1649,
           6.063754086830936,
           10.861619956715725
          ],
          [
           1113,
           3.614490191605841,
           4.989563401572046
          ],
          [
           442,
           41.28866332116788,
           23.47624632872475
          ],
          [
           1047,
           0.7437205368004683,
           2.540217930516948
          ],
          [
           328,
           3.0187186359489067,
           13.085071703803411
          ],
          [
           12,
           12.135724129409835,
           9.02512111778506
          ],
          [
           1052,
           23.63693031478112,
           16.857984279450726
          ],
          [
           1606,
           20.060122509884284,
           12.70439660960299
          ],
          [
           169,
           3.493873935523132,
           3.480163670018448
          ],
          [
           1644,
           10.737452478710525,
           8.16828828257939
          ],
          [
           773,
           23.04431132147174,
           15.74402803244608
          ],
          [
           1050,
           4.254576585309171,
           3.4612632441252704
          ],
          [
           434,
           11.642318183546235,
           3.2157483475092468
          ],
          [
           666,
           5.563986465933226,
           17.81051702049485
          ],
          [
           153,
           51.279430885040576,
           36.10422706207464
          ],
          [
           1117,
           4.50266071700121,
           4.210048470917938
          ],
          [
           724,
           9.95142563868614,
           5.2595515868362455
          ],
          [
           1614,
           6.19973920316269,
           4.766301572545809
          ],
          [
           1542,
           3.4828467153284373,
           2.660522022897024
          ],
          [
           1429,
           11.699641689476811,
           7.472292240229837
          ],
          [
           277,
           20.82105383211679,
           10.78498972814991
          ],
          [
           923,
           7.412709093675074,
           12.054205885754277
          ],
          [
           386,
           47.4846221107056,
           22.966103616041096
          ],
          [
           460,
           17.410458010197527,
           20.131294988002736
          ],
          [
           530,
           26.01511177007299,
           12.98278535615952
          ],
          [
           44,
           4.0095512089411525,
           13.789849768835785
          ],
          [
           1142,
           6.086088142487847,
           3.112630488034266
          ],
          [
           1341,
           3.056327364658685,
           6.552902565624937
          ],
          [
           667,
           11.197752813259454,
           10.22290773820857
          ],
          [
           1271,
           5.631737853558303,
           3.65507005061191
          ],
          [
           678,
           7.489073619981799,
           4.463837538441838
          ],
          [
           151,
           7.152396023418665,
           8.268121581770185
          ],
          [
           1235,
           1.8065189704987712,
           1.3426956179577278
          ],
          [
           254,
           4.704260283607138,
           4.776810512220513
          ],
          [
           713,
           7.665266119220078,
           5.765117053947189
          ],
          [
           381,
           3.0487440123177985,
           4.861357477738849
          ],
          [
           71,
           22.47820673661801,
           12.34342185114276
          ],
          [
           196,
           2.675666343521718,
           1.937677695420426
          ],
          [
           246,
           4.957352969130187,
           2.477734396794724
          ],
          [
           251,
           0.3491731295620587,
           1.6838660054330152
          ],
          [
           1566,
           75.1525604470805,
           33.04765207110179
          ],
          [
           1178,
           4.003368118916705,
           3.772648511508988
          ],
          [
           881,
           5.4912879219890325,
           3.7020492142175656
          ],
          [
           195,
           38.52243955291971,
           27.238288053320087
          ],
          [
           858,
           5.684605003041737,
           12.114249588189145
          ],
          [
           804,
           3.290670145225013,
           5.410446051197845
          ],
          [
           82,
           53.91414290602332,
           23.415408964238303
          ],
          [
           1573,
           32.09738062652068,
           21.01897822429089
          ],
          [
           741,
           6.323820996806545,
           12.147173997810052
          ],
          [
           204,
           23.36128250456201,
           12.930569797393064
          ],
          [
           1598,
           7.010363442822328,
           6.409361937492691
          ],
          [
           134,
           11.110678223843763,
           9.721145853636411
          ],
          [
           1359,
           14.85767373783366,
           12.820033479517912
          ],
          [
           322,
           73.9258216431843,
           78.03206561714985
          ],
          [
           180,
           4.770656554136221,
           3.638985277280761
          ],
          [
           852,
           19.31349091392888,
           18.65066772734434
          ],
          [
           995,
           2.9136846107056487,
           2.899354202593017
          ],
          [
           1275,
           11.970556759428224,
           5.074332524637394
          ],
          [
           746,
           2.3886305314778866,
           1.2778726209328295
          ],
          [
           791,
           4.998870609032827,
           2.7780293552705824
          ],
          [
           1025,
           2.86620238366778,
           2.7114865580576413
          ],
          [
           1231,
           4.2204084930048005,
           7.857842151960082
          ],
          [
           76,
           0.4020762051398338,
           1.1304839681780636
          ],
          [
           1481,
           12.91095603330261,
           11.721292547228192
          ],
          [
           394,
           0.0007584397810218,
           0.0061112284449432
          ],
          [
           676,
           8.14427083333327,
           7.414236452028628
          ],
          [
           1634,
           52.25468911572481,
           16.92881180943864
          ],
          [
           799,
           3.1434596449209264,
           2.40655180321723
          ],
          [
           486,
           3.4946212553221083,
           2.2823841908223303
          ],
          [
           229,
           3.436580938260375,
           1.7338343541177876
          ],
          [
           565,
           5.98596601277363,
           4.757101198034365
          ],
          [
           959,
           3.241675410584165,
           4.024675390730988
          ],
          [
           115,
           6.248484070863724,
           6.2200040051258565
          ],
          [
           1567,
           7.516544061739629,
           7.87251360633233
          ],
          [
           1393,
           4.6444594928528105,
           2.898331150552393
          ],
          [
           165,
           31.38987691985914,
           13.001858855731424
          ],
          [
           505,
           2.6450849680643853,
           6.8494838097638
          ],
          [
           579,
           17.700068145528125,
           13.122045683861993
          ],
          [
           537,
           26.471297141119223,
           24.46489674054513
          ],
          [
           1673,
           6.246708675486561,
           5.86061339265457
          ],
          [
           933,
           1.0079892791970808,
           8.572314473546266
          ],
          [
           921,
           48.04139104318735,
           28.342356921331778
          ],
          [
           223,
           16.949512621653962,
           9.59690764440281
          ],
          [
           36,
           8.184334321776602,
           5.52902516314014
          ],
          [
           398,
           3.908162256691056,
           4.653342829534506
          ],
          [
           369,
           7.185993194951184,
           5.471917102637227
          ],
          [
           1478,
           3.138207116787613,
           6.182714030756088
          ],
          [
           953,
           7.162685333029214,
           4.511658208760407
          ],
          [
           568,
           3.238160070711636,
           6.135312546855778
          ],
          [
           34,
           8.356470023570594,
           5.108335674318183
          ],
          [
           757,
           1.3697146821776107,
           4.683768839977512
          ],
          [
           1650,
           6.931314628953636,
           6.915922616995284
          ],
          [
           683,
           8.863432367700636,
           6.963826706166319
          ],
          [
           1615,
           36.68442062043796,
           16.25677959161958
          ],
          [
           734,
           36.649739583333336,
           33.86012342701208
          ],
          [
           1078,
           5.208948734032842,
           1.970310684029789
          ],
          [
           230,
           1.114613271746124,
           1.2034378034713828
          ],
          [
           300,
           4.932196148874461,
           4.468996368419304
          ],
          [
           240,
           3.000804060218968,
           5.386016841546712
          ],
          [
           1532,
           15.263802083333356,
           2.7872771320603564
          ],
          [
           1437,
           13.260929421380805,
           7.777925175290561
          ],
          [
           345,
           2.1393325159673227,
           1.9520973179678316
          ],
          [
           686,
           4.067757280262416,
           2.4225979655679337
          ],
          [
           674,
           1.426625703315081,
           8.347769859387725
          ],
          [
           1247,
           3.9573025965631743,
           3.313830756346375
          ],
          [
           1102,
           15.919443905871823,
           7.83897902963059
          ],
          [
           1104,
           3.890466754105836,
           1.5601396229164906
          ],
          [
           759,
           12.655589929288189,
           11.451850545150792
          ],
          [
           1388,
           67.09451034063261,
           36.67745752116562
          ],
          [
           719,
           16.98743270985337,
           13.019832984581448
          ],
          [
           349,
           8.508640796076568,
           2.3040058417846256
          ],
          [
           1734,
           1.9919668111311977,
           1.073762182877546
          ],
          [
           762,
           18.789390491940598,
           16.87149644551752
          ],
          [
           350,
           3.440838370590135,
           2.579871992312995
          ],
          [
           1545,
           0.202082382907354,
           1.3620853037036382
          ],
          [
           1194,
           10.68756729014358,
           5.697126733567612
          ],
          [
           965,
           3.946500627281111,
           3.651834719893665
          ],
          [
           927,
           14.729758972018962,
           13.643108053956476
          ],
          [
           1013,
           2.4548842381385523,
           10.435249114599754
          ],
          [
           645,
           36.133027296228406,
           10.936867380563424
          ],
          [
           1294,
           15.335329227493917,
           51.656365227957785
          ],
          [
           970,
           37.44433166058192,
           18.965441129190204
          ],
          [
           355,
           4.4933997680962,
           5.451325779440081
          ],
          [
           569,
           6.352177425486587,
           5.0951427971251215
          ],
          [
           794,
           12.652436701642028,
           17.18522887299844
          ],
          [
           635,
           7.665702839872268,
           3.731773068973989
          ],
          [
           370,
           1.9052549041970028,
           2.5208532358264253
          ],
          [
           1171,
           20.579344206204546,
           17.292986138644128
          ],
          [
           969,
           1.9149278626827184,
           2.2345729921572244
          ],
          [
           1667,
           14.922084568886875,
           14.822916717283409
          ],
          [
           1074,
           0.4712059002433084,
           2.108542524852862
          ],
          [
           360,
           4.312703010949581,
           4.657524378583861
          ],
          [
           209,
           2.6250703315088155,
           3.8240790297272462
          ],
          [
           1400,
           11.680151592913289,
           8.725238525764606
          ],
          [
           1073,
           4.871579892792025,
           5.863041660555893
          ],
          [
           274,
           8.504650528437177,
           8.173369115998147
          ],
          [
           1622,
           11.105408397962483,
           11.885683664242707
          ],
          [
           567,
           23.746492928832115,
           11.004226120003818
          ],
          [
           503,
           12.558890282846605,
           8.128318076919122
          ],
          [
           513,
           35.55194922825455,
           14.668612360439893
          ],
          [
           575,
           19.2118907770635,
           31.596016331168908
          ],
          [
           378,
           5.779943164537679,
           4.710762745485657
          ],
          [
           1466,
           13.398988746958638,
           6.862198836299397
          ],
          [
           1080,
           0.7519954189479422,
           2.8916171811255382
          ],
          [
           1183,
           0.3623427045316257,
           4.621860407754949
          ],
          [
           421,
           9.7314762013382,
           11.143816009035744
          ],
          [
           1716,
           2.7599929668496626,
           2.3244152398481046
          ],
          [
           1723,
           46.943010093523306,
           22.056948712103136
          ],
          [
           1282,
           15.142418738593776,
           9.768091502565024
          ],
          [
           1182,
           1.1690702934914374,
           5.205868484449155
          ],
          [
           1187,
           29.51238708941628,
           16.631769734400013
          ],
          [
           1386,
           9.167751102493767,
           5.543943391944751
          ],
          [
           436,
           29.680967248324848,
           16.515143397890334
          ],
          [
           1076,
           0.0302377965328467,
           0.5390700123055698
          ],
          [
           45,
           61.98098293036045,
           19.803687785002552
          ],
          [
           1620,
           61.83746768552312,
           44.80425765394976
          ],
          [
           258,
           2.5940959549877785,
           2.9149838344646013
          ],
          [
           1731,
           2.8220270681265047,
           4.336449068628429
          ],
          [
           335,
           42.40031554136225,
           10.92671023800124
          ],
          [
           1637,
           19.083451281174437,
           13.918815328662689
          ],
          [
           1166,
           22.507099680657856,
           16.192324540063527
          ],
          [
           1124,
           8.048605250152168,
           6.742588400591008
          ],
          [
           1679,
           28.558797141118912,
           13.776291346837144
          ],
          [
           1291,
           3.9771715328467376,
           4.747245595168751
          ],
          [
           429,
           3.314892221714602,
           4.781378656806532
          ],
          [
           416,
           19.003769388686543,
           14.825535774529138
          ],
          [
           895,
           3.759976619525213,
           3.1438278790719623
          ],
          [
           909,
           18.847523190389296,
           8.510750482651995
          ],
          [
           147,
           26.911393609336827,
           12.773184585199449
          ],
          [
           1494,
           20.93320407542579,
           14.194813145051349
          ],
          [
           1618,
           5.63437404957461,
           5.639076562121043
          ],
          [
           1738,
           34.74564676475024,
           14.223295347962637
          ],
          [
           1006,
           3.2358690693430465,
           1.36389214330562
          ],
          [
           1735,
           3.255051608120233,
           2.679477303356915
          ],
          [
           1121,
           7.164355706356296,
           17.154161938555813
          ],
          [
           1165,
           49.870097133518136,
           26.705761515003992
          ],
          [
           1138,
           39.92456470498784,
           16.53640829265001
          ],
          [
           753,
           17.360479299725853,
           10.05056519863223
          ],
          [
           1331,
           33.51171494829987,
           24.42668966889998
          ],
          [
           1339,
           26.21292769160605,
           21.661890203768184
          ],
          [
           1133,
           9.209799555201483,
           5.394430890744739
          ],
          [
           1391,
           6.888819190997565,
           6.428698229550868
          ],
          [
           419,
           2.386496825577961,
           2.423760920964836
          ],
          [
           1010,
           6.5849460158154764,
           7.100587831179618
          ],
          [
           1362,
           6.050794555960943,
           6.355143781140753
          ],
          [
           943,
           14.825596297142376,
           7.763636271032386
          ],
          [
           938,
           4.226999695864224,
           1.857666272781344
          ],
          [
           1651,
           3.6345693620742017,
           3.257786595636751
          ],
          [
           1401,
           2.83441634352231,
           3.671397264588343
          ],
          [
           1278,
           11.912152049117632,
           9.58483233302336
          ],
          [
           1422,
           0.6688906630170316,
           0.4706549333886932
          ],
          [
           88,
           31.96414043491484,
           18.75548416098006
          ],
          [
           1032,
           60.8949998099168,
           14.802117211464402
          ],
          [
           35,
           81.34777600364637,
           37.92496280774383
          ],
          [
           688,
           2.842974927767758,
           2.2509956398664293
          ],
          [
           876,
           4.653358804744429,
           3.1137481564193594
          ],
          [
           100,
           3.5054393818456027,
           5.582300869747535
          ],
          [
           1372,
           5.21295002661168,
           16.459242794198545
          ],
          [
           1003,
           4.0026307785884665,
           16.327306642046405
          ],
          [
           318,
           112.06837933394183,
           43.06838780380812
          ],
          [
           1380,
           25.49278436739728,
           12.437607645420265
          ],
          [
           856,
           16.312116503193472,
           15.246375139988343
          ],
          [
           1474,
           4.817409899634785,
           4.386996255464569
          ],
          [
           519,
           7.945371046228701,
           2.7090332655397558
          ],
          [
           1589,
           5.513557823905085,
           4.274380383185911
          ],
          [
           56,
           4.722173908911221,
           3.758549644469733
          ],
          [
           13,
           10.530915450121562,
           5.580255783079977
          ],
          [
           1660,
           7.875419612986626,
           4.729057551964679
          ],
          [
           235,
           5.620526821015906,
           4.201983524375092
          ],
          [
           427,
           5.796312728102493,
           3.568535690336644
          ]
         ],
         "hovertemplate": "<b>%{hovertext}</b><br><br>PC 1 (95.9%)=%{x}<br>PC 2 (4.1%)=%{y}<br>ID=%{customdata[0]}<br>mean=%{customdata[1]}<br>std=%{customdata[2]}<br>cluster=%{marker.color}<extra></extra>",
         "hovertext": [
          "Stadhuis/Gemeentehuis",
          "Academie",
          "Cultureel centrum",
          "Lagere school",
          "Andere gebouwen",
          "Ontmoetingscentrum",
          "Werkplaats",
          "Academie",
          "RVT/WZC/revalidatiecentrum",
          "Kerk",
          "Cultureel centrum",
          "Kerk",
          "Bibliotheek",
          "Museum",
          "Administratief centrum",
          "Ontmoetingscentrum",
          "Jeugdhuis",
          "Lagere school",
          "Administratief centrum",
          "Academie",
          "Fontein",
          "Sporthal",
          "Kast",
          "Administratief centrum",
          "Ontmoetingscentrum",
          "Stadion",
          "OCMW Administratief centrum",
          "Bibliotheek",
          "Administratief centrum",
          "Containerpark",
          "Zwembad",
          "Administratief centrum",
          "Lagere school",
          "Andere gebouwen",
          "Museum",
          "Werkplaats",
          "Ontmoetingscentrum",
          "Sporthal",
          "Kast",
          "Lagere school",
          "Werkplaats",
          "Cultureel centrum",
          "Sporthal",
          "Andere gebouwen",
          "Brandweerkazerne",
          "Museum",
          "Sporthal",
          "Ontmoetingscentrum",
          "Andere gebouwen",
          "Sporthal",
          "Cultureel centrum",
          "Lagere school",
          "Sporthal",
          "Stadhuis/Gemeentehuis",
          "Stadhuis/Gemeentehuis",
          "Ontmoetingscentrum",
          "Administratief centrum",
          "Andere gebouwen",
          "Stadhuis/Gemeentehuis",
          "RVT/WZC/revalidatiecentrum",
          "Bibliotheek",
          "Cultureel centrum",
          "Administratief centrum",
          "Buitengewoon middelbaar onderwijs (BUSO)",
          "Administratief centrum",
          "Algemene middelbare school",
          "Stadhuis/Gemeentehuis",
          "Administratief centrum",
          "RVT/WZC/revalidatiecentrum",
          "Kinderdagverblijf/BKO/IBO",
          "Sporthal",
          "Administratief centrum",
          "Dienstencentrum/CAW/dagverblijf",
          "RVT/WZC/revalidatiecentrum",
          "Andere gebouwen",
          "Sporthal",
          "Dienstencentrum/CAW/dagverblijf",
          "Museum",
          "Stadhuis/Gemeentehuis",
          "RVT/WZC/revalidatiecentrum",
          "Cultureel centrum",
          "Andere gebouwen",
          "Ontmoetingscentrum",
          "Stadion",
          "Bibliotheek",
          "Ontmoetingscentrum",
          "Sporthal",
          "Stadhuis/Gemeentehuis",
          "Lagere school",
          "Ontmoetingscentrum",
          "Andere gebouwen",
          "Lagere school",
          "Andere gebouwen",
          "Ontmoetingscentrum",
          "Sporthal",
          "OCMW Administratief centrum",
          "Sportcomplex",
          "School",
          "Lagere school",
          "Cultureel centrum",
          "Administratief centrum",
          "Sporthal",
          "RVT/WZC/revalidatiecentrum",
          "Cultureel centrum",
          "Sportcomplex",
          "Voetbalveld",
          "Kast",
          "Administratief centrum",
          "Ontmoetingscentrum",
          "Politiegebouw",
          "Sportcomplex",
          "Andere gebouwen",
          "Administratief centrum",
          "Cultureel centrum",
          "RVT/WZC/revalidatiecentrum",
          "Kast",
          "RVT/WZC/revalidatiecentrum",
          "Zwembad",
          "Werkplaats",
          "Stadhuis/Gemeentehuis",
          "Sportcomplex",
          "Werkplaats",
          "Lagere school",
          "Jeugdhuis",
          "Andere gebouwen",
          "Ontmoetingscentrum",
          "Ontmoetingscentrum",
          "Sporthal",
          "Jeugdhuis",
          "Ontmoetingscentrum",
          "Werkplaats",
          "Looppiste",
          "OCMW Administratief centrum",
          "Lagere school",
          "Sportcomplex",
          "Werkplaats",
          "Sporthal",
          "Sporthal",
          "Algemene middelbare school",
          "Stadhuis/Gemeentehuis",
          "Sporthal",
          "Bibliotheek",
          "Werkplaats",
          "Administratief centrum",
          "Brandweerkazerne",
          "Dienstencentrum/CAW/dagverblijf",
          "Zwembad",
          "Kast",
          "Academie",
          "Academie",
          "Administratief centrum",
          "Zwembad",
          "OCMW Administratief centrum",
          "Ontmoetingscentrum",
          "Lagere school",
          "Sporthal",
          "RVT/WZC/revalidatiecentrum",
          "Stadion",
          "Sporthal",
          "Andere gebouwen",
          "Sporthal",
          "Kast",
          "Stadhuis/Gemeentehuis",
          "Bibliotheek",
          "Sporthal",
          "Straatverlichting",
          "Andere gebouwen",
          "Kast",
          "Sporthal",
          "Pomp",
          "Sportcomplex",
          "Cultureel centrum",
          "Jeugdhuis",
          "Cultureel centrum",
          "Brandweerkazerne",
          "RVT/WZC/revalidatiecentrum",
          "Andere gebouwen",
          "Stadion",
          "Kast",
          "Administratief centrum",
          "Kast",
          "Administratief centrum",
          "Andere gebouwen",
          "Academie",
          "Jeugdhuis",
          "Lagere school",
          "Ontmoetingscentrum",
          "Stadhuis/Gemeentehuis",
          "Kleuterschool",
          "School",
          "Stadion",
          "Ontmoetingscentrum",
          "Sporthal",
          "Dienstencentrum/CAW/dagverblijf",
          "Andere gebouwen",
          "Sporthal",
          "Administratief centrum",
          "Zwembad",
          "Brandweerkazerne",
          "Ontmoetingscentrum",
          "Sporthal",
          "Ontmoetingscentrum",
          "Administratief centrum",
          "Cultureel centrum",
          "Stadion",
          "Bibliotheek",
          "Administratief centrum",
          "Stadhuis/Gemeentehuis",
          "Jeugdhuis",
          "Administratief centrum",
          "Sportcomplex",
          "Administratief centrum",
          "Werkplaats",
          "Ontmoetingscentrum",
          "Administratief centrum",
          "Cultureel centrum",
          "Sporthal",
          "Cultureel centrum",
          "Bibliotheek",
          "Sporthal",
          "Administratief centrum",
          "Sporthal",
          "Lagere school",
          "RVT/WZC/revalidatiecentrum",
          "Buitengewoon lager onderwijs (MPI)",
          "Kast",
          "Academie",
          "Andere gebouwen",
          "Lagere school",
          "Lagere school",
          "Sporthal",
          "Kast",
          "Andere gebouwen",
          "Ontmoetingscentrum",
          "Sportcomplex",
          "Sporthal",
          "Algemene middelbare school",
          "Museum",
          "Sporthal",
          "RVT/WZC/revalidatiecentrum",
          "Cultureel centrum",
          "Museum",
          "Kerk",
          "Stadhuis/Gemeentehuis",
          "Werkplaats",
          "Administratief centrum",
          "Administratief centrum",
          "Ontmoetingscentrum",
          "Sporthal",
          "Lagere school",
          "Brandweerkazerne",
          "RVT/WZC/revalidatiecentrum",
          "Politiegebouw",
          "Kinderdagverblijf/BKO/IBO",
          "Academie",
          "Bibliotheek",
          "Stadhuis/Gemeentehuis",
          "Werkplaats",
          "Administratief centrum",
          "Academie",
          "Stadion",
          "RVT/WZC/revalidatiecentrum",
          "Andere gebouwen",
          "Museum",
          "RVT/WZC/revalidatiecentrum",
          "Stadion",
          "Administratief centrum",
          "RVT/WZC/revalidatiecentrum",
          "Academie",
          "Kast",
          "Kast",
          "RVT/WZC/revalidatiecentrum",
          "Cultureel centrum",
          "Dienstencentrum/CAW/dagverblijf",
          "RVT/WZC/revalidatiecentrum",
          "Dienstencentrum/CAW/dagverblijf",
          "School",
          "OCMW Administratief centrum",
          "Sporthal",
          "Ontmoetingscentrum",
          "Cultureel centrum",
          "Kast",
          "Andere gebouwen",
          "Administratief centrum",
          "Sportcomplex",
          "Andere gebouwen",
          "Andere gebouwen",
          "Cultureel centrum",
          "Sporthal",
          "Stadion",
          "Sporthal",
          "Museum",
          "Cultureel centrum",
          "Museum",
          "OCMW Woningen",
          "Zwembad",
          "Cultureel centrum",
          "Cultureel centrum",
          "School",
          "Kinderdagverblijf/BKO/IBO",
          "Dienstencentrum/CAW/dagverblijf",
          "Andere gebouwen",
          "Administratief centrum",
          "Andere gebouwen",
          "Stadhuis/Gemeentehuis",
          "Cultureel centrum",
          "Sportcomplex",
          "Lagere school",
          "Cultureel centrum",
          "Lagere school",
          "RVT/WZC/revalidatiecentrum",
          "Lagere school",
          "Andere terreinen",
          "Cultureel centrum",
          "Andere gebouwen",
          "Museum",
          "Brandweerkazerne",
          "Stadhuis/Gemeentehuis",
          "OCMW Woningen",
          "Andere gebouwen",
          "Sportcomplex",
          "Sporthal",
          "Museum",
          "Werkplaats",
          "Academie",
          "Administratief centrum",
          "Stadhuis/Gemeentehuis",
          "Andere gebouwen",
          "Dienstencentrum/CAW/dagverblijf",
          "Sportcomplex",
          "Lagere school",
          "Ziekenhuis",
          "RVT/WZC/revalidatiecentrum",
          "Zwembad",
          "Zwembad",
          "Sporthal",
          "Ontmoetingscentrum",
          "RVT/WZC/revalidatiecentrum",
          "OCMW Administratief centrum",
          "Algemene middelbare school",
          "Administratief centrum",
          "Administratief centrum",
          "Administratief centrum",
          "Cultureel centrum",
          "RVT/WZC/revalidatiecentrum",
          "Lagere school",
          "Bibliotheek",
          "Sporthal",
          "Cultureel centrum",
          "Cultureel centrum",
          "Lagere school",
          "Sporthal",
          "Sporthal",
          "Andere gebouwen",
          "Sporthal",
          "Lagere school",
          "Stadhuis/Gemeentehuis",
          "Andere gebouwen",
          "Stadhuis/Gemeentehuis",
          "Zwembad",
          "Cultureel centrum",
          "Sporthal",
          "Cultureel centrum",
          "Sporthal",
          "Cultureel centrum",
          "Sporthal",
          "Cultureel centrum",
          "Andere gebouwen",
          "Lagere school",
          "Ontmoetingscentrum",
          "Algemene middelbare school",
          "Werkplaats",
          "Andere gebouwen",
          "Andere gebouwen",
          "Cultureel centrum",
          "Politiegebouw",
          "Andere gebouwen",
          "Kinderdagverblijf/BKO/IBO",
          "Administratief centrum",
          "Museum",
          "Administratief centrum",
          "Cultureel centrum",
          "Straatverlichting",
          "Stadhuis/Gemeentehuis",
          "Administratief centrum",
          "Stadion",
          "Cultureel centrum",
          "RVT/WZC/revalidatiecentrum",
          "Lagere school",
          "Ontmoetingscentrum",
          "OCMW Woningen",
          "Politiegebouw",
          "Cultureel centrum",
          "Algemene middelbare school",
          "Straatverlichting",
          "Sporthal",
          "Parking",
          "Cultureel centrum",
          "Dienstencentrum/CAW/dagverblijf",
          "Andere gebouwen",
          "Lagere school",
          "Bibliotheek",
          "Werkplaats",
          "School",
          "Ontmoetingscentrum",
          "Andere gebouwen",
          "Administratief centrum",
          "Tennisveld",
          "Administratief centrum",
          "Cultureel centrum",
          "Andere gebouwen",
          "Sporthal",
          "Cultureel centrum",
          "Sporthal",
          "School",
          "Sporthal",
          "Sporthal",
          "Ontmoetingscentrum",
          "Sporthal",
          "Andere gebouwen",
          "Zwembad",
          "Andere gebouwen",
          "Sporthal",
          "School",
          "RVT/WZC/revalidatiecentrum",
          "Sporthal",
          "Algemene middelbare school",
          "Stadhuis/Gemeentehuis",
          "Administratief centrum",
          "Bibliotheek",
          "Academie",
          "Zwembad",
          "OCMW Administratief centrum",
          "Cultureel centrum",
          "Lagere school",
          "Cultureel centrum",
          "Stadion",
          "Werkplaats",
          "Administratief centrum",
          "Andere gebouwen",
          "Sporthal",
          "Sporthal",
          "Andere gebouwen",
          "Kerk",
          "Stadhuis/Gemeentehuis",
          "Bibliotheek",
          "Andere gebouwen",
          "Andere gebouwen",
          "Stadhuis/Gemeentehuis",
          "Sporthal",
          "Bibliotheek",
          "Lagere school",
          "Cultureel centrum",
          "Museum",
          "Sporthal",
          "Sportcomplex",
          "School",
          "Cultureel centrum",
          "Andere gebouwen",
          "Administratief centrum",
          "Lagere school",
          "RVT/WZC/revalidatiecentrum",
          "Administratief centrum",
          "Ontmoetingscentrum",
          "Technische middelbare school",
          "Lagere school",
          "Sporthal",
          "Administratief centrum",
          "Werkplaats",
          "Jeugdhuis",
          "Sporthal",
          "Kast",
          "Brandweerkazerne",
          "School",
          "Ontmoetingscentrum",
          "Bibliotheek",
          "Administratief centrum",
          "Administratief centrum",
          "Sporthal",
          "Algemene middelbare school",
          "Lagere school",
          "Cultureel centrum",
          "Academie",
          "Administratief centrum",
          "Administratief centrum",
          "Museum",
          "Museum",
          "Cultureel centrum",
          "Ontmoetingscentrum",
          "Sportcomplex",
          "RVT/WZC/revalidatiecentrum",
          "Werkplaats",
          "Administratief centrum",
          "Ontmoetingscentrum",
          "Sportcomplex",
          "Cultureel centrum",
          "Administratief centrum",
          "Andere gebouwen",
          "Sporthal",
          "Cultureel centrum",
          "Administratief centrum",
          "Sporthal",
          "OCMW Administratief centrum",
          "Voetbalveld",
          "Kast",
          "Sporthal",
          "Lagere school",
          "Andere gebouwen",
          "Administratief centrum",
          "Administratief centrum",
          "Sporthal",
          "Andere gebouwen",
          "Andere gebouwen",
          "Kinderdagverblijf/BKO/IBO",
          "Ontmoetingscentrum",
          "Kinderdagverblijf/BKO/IBO",
          "Museum",
          "Sporthal",
          "Administratief centrum",
          "Academie",
          "Ontmoetingscentrum",
          "Politiegebouw",
          "Stadhuis/Gemeentehuis",
          "Ontmoetingscentrum",
          "Werkplaats",
          "Zwembad",
          "Ontmoetingscentrum",
          "Administratief centrum",
          "Bibliotheek",
          "Stadhuis/Gemeentehuis",
          "Museum",
          "Cultureel centrum",
          "OCMW Administratief centrum",
          "OCMW Woningen",
          "OCMW Administratief centrum",
          "Museum",
          "Administratief centrum",
          "Andere gebouwen",
          "Sporthal",
          "Cultureel centrum",
          "Ontmoetingscentrum",
          "RVT/WZC/revalidatiecentrum",
          "Stadhuis/Gemeentehuis",
          "Sporthal",
          "Sporthal",
          "Zwembad",
          "Ontmoetingscentrum",
          "Stadhuis/Gemeentehuis",
          "Andere gebouwen",
          "Sportcomplex",
          "OCMW Administratief centrum",
          "Lagere school",
          "RVT/WZC/revalidatiecentrum",
          "Stadhuis/Gemeentehuis",
          "Sporthal",
          "Ontmoetingscentrum",
          "Stadhuis/Gemeentehuis",
          "Andere gebouwen",
          "Sporthal",
          "Bibliotheek",
          "Administratief centrum",
          "Cultureel centrum",
          "Administratief centrum",
          "Sporthal",
          "Stadhuis/Gemeentehuis",
          "Sporthal",
          "Kast",
          "Sporthal",
          "Werkplaats",
          "Sportcomplex",
          "Ontmoetingscentrum",
          "Bibliotheek",
          "Ontmoetingscentrum",
          "RVT/WZC/revalidatiecentrum",
          "Lagere school",
          "Cultureel centrum",
          "Werkplaats",
          "Zwembad",
          "Sporthal",
          "Museum",
          "Lagere school",
          "Sportcomplex",
          "Dienstencentrum/CAW/dagverblijf",
          "Lagere school",
          "School",
          "RVT/WZC/revalidatiecentrum",
          "Sporthal",
          "Museum",
          "Sporthal",
          "Straatverlichting",
          "Sporthal",
          "Kast",
          "Werkplaats",
          "Academie",
          "Lagere school",
          "Sporthal",
          "Museum",
          "Cultureel centrum",
          "Sporthal",
          "Lagere school",
          "Administratief centrum",
          "Sporthal",
          "Museum",
          "Lagere school",
          "Buitengewoon lager onderwijs (MPI)",
          "OCMW Woningen",
          "Sporthal",
          "RVT/WZC/revalidatiecentrum",
          "Stadhuis/Gemeentehuis",
          "Algemene middelbare school",
          "Sportcomplex",
          "Stadion",
          "Administratief centrum",
          "Academie",
          "Sporthal",
          "RVT/WZC/revalidatiecentrum",
          "Andere gebouwen",
          "Cultureel centrum",
          "Kleuterschool",
          "Stadion",
          "Werkplaats",
          "Sportcomplex",
          "Cultureel centrum",
          "Stadhuis/Gemeentehuis",
          "Sporthal",
          "Bibliotheek",
          "Brandweerkazerne",
          "Andere gebouwen",
          "Ontmoetingscentrum",
          "Cultureel centrum",
          "Administratief centrum",
          "Andere gebouwen",
          "Stadhuis/Gemeentehuis",
          "Lagere school",
          "Sportcomplex",
          "Sporthal",
          "Andere gebouwen",
          "Sportcomplex",
          "RVT/WZC/revalidatiecentrum",
          "Cultureel centrum",
          "Werkplaats",
          "Pomp",
          "Cultureel centrum",
          "Kleuterschool",
          "Kinderdagverblijf/BKO/IBO",
          "Lagere school",
          "Werkplaats",
          "Administratief centrum",
          "RVT/WZC/revalidatiecentrum",
          "Administratief centrum",
          "Administratief centrum",
          "Administratief centrum",
          "Cultureel centrum",
          "Andere gebouwen",
          "Sporthal",
          "Bibliotheek",
          "Stadhuis/Gemeentehuis",
          "RVT/WZC/revalidatiecentrum",
          "Lagere school",
          "RVT/WZC/revalidatiecentrum",
          "Lagere school",
          "Zwembad",
          "Sporthal",
          "Andere gebouwen",
          "Lagere school",
          "Sporthal",
          "Bibliotheek",
          "Andere gebouwen",
          "Ontmoetingscentrum",
          "Andere gebouwen",
          "Werkplaats",
          "Ontmoetingscentrum",
          "Cultureel centrum",
          "Ontmoetingscentrum",
          "Kast",
          "Lagere school",
          "RVT/WZC/revalidatiecentrum",
          "Jeugdhuis",
          "Cultureel centrum",
          "Ontmoetingscentrum",
          "Lagere school",
          "Andere gebouwen",
          "Administratief centrum",
          "Museum",
          "Zwembad",
          "Sporthal",
          "RVT/WZC/revalidatiecentrum",
          "Kleuterschool",
          "Andere gebouwen",
          "Laadeiland",
          "Sporthal",
          "Stadion",
          "OCMW Administratief centrum",
          "Administratief centrum",
          "Kleuterschool",
          "Ontmoetingscentrum",
          "Administratief centrum",
          "RVT/WZC/revalidatiecentrum",
          "Administratief centrum",
          "Lagere school",
          "Administratief centrum",
          "Lagere school",
          "Park",
          "Algemene middelbare school",
          "Stadhuis/Gemeentehuis",
          "Stadhuis/Gemeentehuis",
          "Ontmoetingscentrum",
          "Cultureel centrum",
          "Academie",
          "Lagere school",
          "Administratief centrum",
          "OCMW Administratief centrum",
          "Andere gebouwen",
          "Andere gebouwen",
          "Administratief centrum",
          "Ontmoetingscentrum",
          "Zwembad",
          "RVT/WZC/revalidatiecentrum",
          "Sporthal",
          "Administratief centrum",
          "Sporthal",
          "Andere gebouwen",
          "School",
          "Ontmoetingscentrum",
          "Cultureel centrum",
          "Kinderdagverblijf/BKO/IBO",
          "Lagere school",
          "Andere gebouwen",
          "Ontmoetingscentrum",
          "Sporthal",
          "Zwembad",
          "Sporthal",
          "Kast",
          "Academie",
          "Ontmoetingscentrum",
          "Buitengewoon middelbaar onderwijs (BUSO)",
          "Sporthal",
          "Brandweerkazerne",
          "Andere gebouwen",
          "Academie",
          "Andere gebouwen",
          "Stadion",
          "Stadion",
          "Sporthal",
          "Andere gebouwen",
          "Andere gebouwen",
          "Sporthal",
          "Sportcomplex",
          "Sporthal",
          "Academie",
          "Sporthal",
          "Administratief centrum",
          "Cultureel centrum",
          "Brandweerkazerne",
          "Andere gebouwen",
          "Bibliotheek",
          "Werkplaats",
          "Andere gebouwen",
          "Ontmoetingscentrum",
          "Cultureel centrum",
          "Stadhuis/Gemeentehuis",
          "Museum",
          "Academie",
          "Stadhuis/Gemeentehuis",
          "Sporthal",
          "Ontmoetingscentrum",
          "Sporthal",
          "Ontmoetingscentrum",
          "Museum",
          "Technische middelbare school",
          "RVT/WZC/revalidatiecentrum",
          "Andere gebouwen",
          "Cultureel centrum",
          "Ontmoetingscentrum",
          "Sporthal",
          "Werkplaats",
          "Sporthal",
          "Stadhuis/Gemeentehuis",
          "Sporthal",
          "Museum",
          "Andere gebouwen",
          "RVT/WZC/revalidatiecentrum",
          "Werkplaats",
          "Ontmoetingscentrum",
          "Administratief centrum",
          "Andere gebouwen",
          "Sporthal",
          "Sportcomplex",
          "Andere gebouwen",
          "Stadion",
          "Andere gebouwen",
          "Sporthal",
          "Lagere school",
          "Lagere school",
          "Straatverlichting",
          "Dienstencentrum/CAW/dagverblijf",
          "Sporthal",
          "Cultureel centrum",
          "Werkplaats",
          "Andere gebouwen",
          "Werkplaats",
          "Ontmoetingscentrum",
          "Sportcomplex",
          "Museum",
          "Sporthal",
          "Pomp",
          "Lagere school",
          "RVT/WZC/revalidatiecentrum",
          "Academie",
          "Cultureel centrum",
          "Andere gebouwen",
          "Kinderdagverblijf/BKO/IBO",
          "Cultureel centrum",
          "Lagere school",
          "Sporthal",
          "Ontmoetingscentrum",
          "Brandweerkazerne",
          "Sportcomplex",
          "Administratief centrum",
          "Algemene middelbare school",
          "Lagere school",
          "Andere gebouwen",
          "Cultureel centrum",
          "Administratief centrum",
          "Administratief centrum",
          "Andere gebouwen",
          "Administratief centrum",
          "Academie",
          "Administratief centrum",
          "Andere gebouwen",
          "Cultureel centrum",
          "Stadion",
          "Sporthal",
          "Bibliotheek",
          "Cultureel centrum",
          "Andere gebouwen",
          "Brandweerkazerne",
          "Ontmoetingscentrum",
          "Sporthal",
          "Andere gebouwen",
          "Zwembad",
          "Ontmoetingscentrum",
          "Andere gebouwen",
          "Politiegebouw",
          "Kast",
          "Bibliotheek",
          "Tennisveld",
          "Werkplaats",
          "Sporthal",
          "RVT/WZC/revalidatiecentrum",
          "Technische middelbare school",
          "Ontmoetingscentrum",
          "Andere gebouwen",
          "Administratief centrum",
          "Ontmoetingscentrum",
          "Andere gebouwen",
          "Cultureel centrum",
          "Administratief centrum",
          "Buitengewoon middelbaar onderwijs (BUSO)",
          "Andere gebouwen",
          "Administratief centrum",
          "Andere",
          "Cultureel centrum",
          "Bibliotheek",
          "Academie",
          "Ontmoetingscentrum",
          "Administratief centrum",
          "Ontmoetingscentrum",
          "Sportcomplex",
          "Ontmoetingscentrum",
          "Lagere school",
          "Laadeiland",
          "Cultureel centrum",
          "Ontmoetingscentrum",
          "Cultureel centrum",
          "Sporthal",
          "Werkplaats",
          "School",
          "Sportcomplex",
          "Brandweerkazerne",
          "Jeugdhuis",
          "Administratief centrum",
          "Cultureel centrum",
          "Administratief centrum",
          "Andere gebouwen",
          "Cultureel centrum",
          "Andere gebouwen",
          "Ontmoetingscentrum",
          "RVT/WZC/revalidatiecentrum",
          "Bibliotheek",
          "Andere gebouwen",
          "Administratief centrum",
          "OCMW Administratief centrum",
          "Academie",
          "Andere gebouwen",
          "Zwembad",
          "Cultureel centrum",
          "Ontmoetingscentrum",
          "Sportcomplex",
          "Zwembad",
          "Sporthal",
          "Lagere school",
          "Sporthal",
          "Andere gebouwen",
          "Cultureel centrum",
          "Sporthal",
          "Sportcomplex",
          "Sporthal",
          "RVT/WZC/revalidatiecentrum",
          "Stadhuis/Gemeentehuis",
          "Cultureel centrum",
          "Sporthal",
          "RVT/WZC/revalidatiecentrum",
          "OCMW Administratief centrum",
          "Andere gebouwen",
          "Sportcomplex",
          "Administratief centrum",
          "OCMW Administratief centrum",
          "Andere gebouwen",
          "Cultureel centrum",
          "Cultureel centrum",
          "Stadhuis/Gemeentehuis",
          "Ontmoetingscentrum",
          "Ontmoetingscentrum",
          "Bibliotheek",
          "Kinderdagverblijf/BKO/IBO",
          "Cultureel centrum",
          "Administratief centrum",
          "Andere gebouwen",
          "Andere gebouwen",
          "Lagere school",
          "Andere gebouwen",
          "Stadhuis/Gemeentehuis",
          "Zwembad",
          "Ontmoetingscentrum",
          "School",
          "Cultureel centrum",
          "Bibliotheek",
          "Kast",
          "Andere gebouwen",
          "Bibliotheek",
          "Lagere school",
          "Sporthal",
          "Lagere school",
          "Sporthal",
          "Lagere school",
          "Ontmoetingscentrum",
          "Administratief centrum",
          "Cultureel centrum",
          "Werkplaats",
          "Administratief centrum"
         ],
         "legendgroup": "",
         "marker": {
          "color": [
           6,
           0,
           0,
           0,
           0,
           0,
           0,
           0,
           2,
           0,
           0,
           0,
           0,
           6,
           3,
           3,
           0,
           0,
           0,
           6,
           0,
           3,
           0,
           1,
           0,
           0,
           3,
           6,
           6,
           0,
           1,
           6,
           0,
           0,
           6,
           6,
           0,
           0,
           0,
           0,
           0,
           0,
           0,
           0,
           6,
           3,
           0,
           6,
           3,
           6,
           3,
           6,
           0,
           6,
           2,
           1,
           0,
           0,
           3,
           5,
           6,
           6,
           0,
           0,
           2,
           0,
           0,
           6,
           5,
           0,
           0,
           0,
           6,
           2,
           0,
           6,
           6,
           0,
           6,
           0,
           6,
           0,
           0,
           6,
           6,
           0,
           0,
           6,
           6,
           0,
           3,
           0,
           0,
           0,
           0,
           6,
           6,
           0,
           0,
           6,
           6,
           0,
           6,
           6,
           0,
           0,
           0,
           6,
           6,
           6,
           3,
           0,
           0,
           0,
           2,
           6,
           1,
           6,
           0,
           2,
           6,
           6,
           0,
           0,
           0,
           0,
           0,
           6,
           0,
           0,
           6,
           6,
           1,
           0,
           6,
           0,
           6,
           0,
           6,
           0,
           6,
           2,
           6,
           0,
           2,
           0,
           2,
           0,
           6,
           3,
           6,
           2,
           0,
           0,
           0,
           3,
           2,
           0,
           0,
           6,
           6,
           0,
           6,
           0,
           6,
           1,
           0,
           0,
           3,
           0,
           6,
           0,
           6,
           0,
           6,
           2,
           0,
           0,
           0,
           0,
           0,
           3,
           0,
           6,
           0,
           6,
           0,
           6,
           0,
           0,
           0,
           0,
           6,
           6,
           0,
           3,
           2,
           1,
           0,
           0,
           6,
           0,
           0,
           0,
           4,
           0,
           6,
           6,
           6,
           0,
           3,
           0,
           0,
           6,
           1,
           3,
           0,
           0,
           1,
           0,
           0,
           3,
           0,
           1,
           6,
           0,
           6,
           0,
           0,
           0,
           2,
           0,
           0,
           0,
           3,
           0,
           6,
           2,
           1,
           5,
           6,
           1,
           3,
           0,
           6,
           2,
           6,
           0,
           0,
           6,
           2,
           3,
           0,
           6,
           0,
           0,
           6,
           0,
           0,
           6,
           6,
           1,
           0,
           2,
           2,
           3,
           6,
           5,
           6,
           0,
           0,
           3,
           6,
           6,
           6,
           6,
           0,
           0,
           6,
           0,
           6,
           6,
           0,
           6,
           0,
           0,
           0,
           3,
           6,
           0,
           6,
           0,
           0,
           3,
           2,
           3,
           0,
           3,
           0,
           0,
           0,
           0,
           3,
           0,
           3,
           3,
           2,
           0,
           0,
           6,
           1,
           6,
           6,
           6,
           6,
           6,
           6,
           0,
           0,
           0,
           3,
           0,
           0,
           0,
           0,
           0,
           6,
           0,
           0,
           0,
           6,
           4,
           1,
           6,
           1,
           3,
           0,
           1,
           0,
           0,
           6,
           6,
           0,
           0,
           2,
           0,
           0,
           6,
           0,
           0,
           0,
           6,
           6,
           0,
           3,
           6,
           1,
           0,
           0,
           0,
           0,
           6,
           3,
           2,
           6,
           0,
           0,
           0,
           0,
           6,
           0,
           0,
           6,
           0,
           0,
           6,
           6,
           0,
           0,
           2,
           1,
           6,
           2,
           6,
           2,
           0,
           0,
           0,
           0,
           0,
           6,
           6,
           6,
           2,
           0,
           2,
           6,
           0,
           0,
           0,
           6,
           1,
           0,
           0,
           0,
           0,
           0,
           6,
           6,
           0,
           0,
           6,
           6,
           0,
           1,
           0,
           0,
           6,
           0,
           0,
           5,
           0,
           6,
           0,
           1,
           2,
           3,
           3,
           0,
           0,
           6,
           6,
           0,
           6,
           6,
           0,
           0,
           0,
           6,
           6,
           1,
           2,
           0,
           0,
           3,
           0,
           0,
           3,
           3,
           0,
           6,
           6,
           3,
           6,
           6,
           5,
           0,
           0,
           0,
           3,
           0,
           6,
           6,
           0,
           6,
           0,
           0,
           3,
           6,
           0,
           6,
           0,
           3,
           0,
           0,
           0,
           6,
           6,
           6,
           3,
           0,
           0,
           6,
           3,
           2,
           1,
           0,
           0,
           0,
           5,
           2,
           6,
           0,
           0,
           6,
           1,
           6,
           0,
           6,
           0,
           3,
           0,
           0,
           6,
           0,
           6,
           0,
           0,
           0,
           6,
           3,
           0,
           0,
           6,
           0,
           6,
           3,
           6,
           6,
           0,
           0,
           1,
           0,
           0,
           6,
           3,
           0,
           3,
           3,
           0,
           6,
           0,
           6,
           3,
           0,
           5,
           2,
           3,
           6,
           3,
           0,
           2,
           2,
           0,
           6,
           3,
           0,
           0,
           0,
           6,
           3,
           6,
           2,
           0,
           6,
           0,
           6,
           0,
           6,
           0,
           2,
           0,
           6,
           0,
           3,
           3,
           0,
           0,
           0,
           6,
           0,
           0,
           0,
           2,
           0,
           0,
           3,
           2,
           0,
           6,
           0,
           3,
           0,
           0,
           6,
           1,
           0,
           0,
           6,
           2,
           6,
           0,
           6,
           0,
           0,
           6,
           1,
           5,
           6,
           0,
           0,
           0,
           1,
           6,
           0,
           0,
           6,
           2,
           0,
           6,
           2,
           0,
           1,
           0,
           6,
           3,
           3,
           6,
           0,
           0,
           6,
           0,
           3,
           3,
           6,
           3,
           0,
           0,
           0,
           0,
           0,
           0,
           0,
           0,
           3,
           0,
           0,
           0,
           2,
           6,
           0,
           0,
           6,
           0,
           0,
           6,
           0,
           0,
           3,
           2,
           5,
           0,
           0,
           0,
           0,
           0,
           6,
           2,
           0,
           0,
           6,
           3,
           0,
           0,
           6,
           0,
           6,
           0,
           6,
           0,
           3,
           0,
           6,
           0,
           0,
           0,
           2,
           0,
           6,
           0,
           6,
           6,
           0,
           1,
           2,
           0,
           2,
           0,
           3,
           0,
           6,
           6,
           6,
           3,
           6,
           0,
           6,
           2,
           5,
           3,
           6,
           0,
           0,
           6,
           0,
           6,
           0,
           6,
           6,
           6,
           0,
           0,
           0,
           0,
           0,
           0,
           1,
           1,
           6,
           6,
           3,
           0,
           0,
           0,
           3,
           0,
           0,
           0,
           0,
           0,
           3,
           6,
           0,
           6,
           6,
           0,
           3,
           3,
           0,
           6,
           6,
           6,
           0,
           2,
           0,
           6,
           6,
           3,
           3,
           0,
           6,
           3,
           0,
           6,
           6,
           2,
           0,
           6,
           0,
           0,
           6,
           3,
           6,
           2,
           3,
           3,
           6,
           0,
           0,
           6,
           0,
           0,
           6,
           0,
           0,
           6,
           0,
           3,
           0,
           0,
           0,
           1,
           0,
           0,
           2,
           6,
           0,
           2,
           3,
           6,
           3,
           0,
           6,
           6,
           1,
           0,
           3,
           0,
           6,
           0,
           0,
           0,
           0,
           0,
           6,
           0,
           6,
           2,
           0,
           0,
           0,
           0,
           0,
           0,
           6,
           0,
           3,
           0,
           3,
           3,
           0,
           0,
           2,
           6,
           6,
           0,
           0,
           0,
           0,
           0,
           6,
           0,
           6,
           6,
           2,
           2,
           0,
           0,
           0,
           0,
           6,
           6,
           0,
           0,
           0,
           0,
           6,
           0,
           6,
           1,
           6,
           0,
           0,
           3,
           0,
           0,
           6,
           0,
           6,
           0,
           3,
           3,
           2,
           0,
           0,
           6,
           0,
           0,
           3,
           0,
           6,
           0,
           0,
           0,
           6,
           0,
           6,
           6,
           3,
           6,
           3,
           3,
           0,
           6,
           0,
           0,
           6,
           0,
           2,
           6,
           0,
           3,
           6,
           3,
           0,
           2,
           1,
           0,
           0,
           2,
           3,
           3,
           6,
           3,
           0,
           0,
           3,
           0,
           6,
           3,
           3,
           0,
           3,
           0,
           0,
           6,
           2,
           2,
           6,
           2,
           3,
           6,
           0,
           0,
           0,
           0,
           6,
           0,
           0,
           0,
           6,
           0,
           3,
           2,
           1,
           0,
           0,
           0,
           6,
           6,
           5,
           3,
           3,
           0,
           0,
           0,
           0,
           6,
           0,
           0,
           0
          ],
          "coloraxis": "coloraxis",
          "symbol": "circle"
         },
         "mode": "markers",
         "name": "",
         "orientation": "v",
         "showlegend": false,
         "type": "scatter",
         "x": [
          -8.380177549402802,
          -12.168315033284957,
          -17.06931442418302,
          -12.035372425926267,
          -16.00294985311712,
          -17.643720303962528,
          -9.978136310764746,
          -9.88554945667575,
          45.56472071995281,
          -16.403690295719226,
          -14.903742660025756,
          -13.42078923645742,
          -9.738743693037932,
          -8.223372684516393,
          11.493582913698642,
          5.86771132932409,
          -16.39883698220206,
          -11.594370340067883,
          -15.259987083162786,
          -8.65642372475396,
          -14.12832654137416,
          3.1416192649729306,
          -18.296799030519285,
          51.33105167404935,
          -13.93773737319149,
          -9.57193935230364,
          9.633225548819448,
          0.6802923567069314,
          -0.34080541124100217,
          -13.64311362096418,
          50.97670381643491,
          -7.9003715046399385,
          -13.73346209505621,
          -10.222795078284806,
          -7.958682775490271,
          -2.6091222313733176,
          -14.58574136637134,
          -16.186749943877974,
          -17.403360227526818,
          -10.270388804961726,
          -12.934834408455865,
          -16.47319041806864,
          -15.28769584681273,
          -9.969401154058529,
          -6.685156586208647,
          10.2931713759552,
          -11.129349332917629,
          -7.7786772166341525,
          14.324753170517422,
          -8.593507537469778,
          15.547202119322552,
          -9.379881466309858,
          -14.670696334557835,
          -7.233424746720963,
          31.346128576453427,
          65.74697379195169,
          -11.309565109185264,
          -16.074698252640083,
          3.881301381293744,
          98.37110201649777,
          -6.2496622542043525,
          -0.604695422825921,
          -16.079464646561068,
          -11.33862344243371,
          34.193801147531815,
          -15.216360282381636,
          -13.80494524045961,
          -2.618869642183582,
          118.20950758711683,
          -12.03616141000055,
          -13.308444841881297,
          -10.77389234403558,
          -4.12623654072036,
          31.821085142703012,
          -16.497588777481443,
          -7.590125274725134,
          -6.572733966327037,
          -14.34533989526171,
          -6.451781289369817,
          -16.79937505602748,
          -2.3367977490063527,
          -10.084889551402997,
          -10.489700574213957,
          -9.077501445279278,
          -2.508056814059488,
          -10.41385960778829,
          -13.677187025314566,
          -6.553194335757,
          -5.576353402101891,
          -12.213502384458238,
          3.0923616932164584,
          -16.615707136275866,
          -17.297410630906192,
          -16.273740069627472,
          -9.426255168833436,
          -6.783813488536318,
          -3.9617646672769844,
          -12.126370500514442,
          -13.54486288199439,
          -8.415761105028604,
          -7.490813601980394,
          -13.421549709043415,
          -1.2274310038248488,
          -6.4894689005107695,
          -9.913803046544345,
          -10.652767173166,
          -17.343978032454867,
          -2.5971746211678517,
          -0.4961302735841007,
          -1.6843335108978144,
          4.356346969265128,
          -16.063150558131387,
          -13.304405797587682,
          -15.911409041431313,
          24.428401300028927,
          -7.9366539944890855,
          78.15843890347998,
          -4.556062764280837,
          -10.705469647750116,
          23.396405057755356,
          -7.2047305409780975,
          -3.554708472160287,
          -12.347971267064164,
          -12.055701470359505,
          -9.611887977748829,
          -10.6528640494024,
          -9.968372273182844,
          -7.757646245408457,
          -13.795698146649022,
          -14.502404130449934,
          -8.370097508735569,
          -6.457231535908669,
          50.371282565475596,
          -9.447186740992073,
          -6.459211388285461,
          -12.675212575381668,
          -7.769544603983045,
          -11.670018028159848,
          -5.040691636896278,
          -10.307415273439258,
          -6.2125360123039295,
          31.773611933654472,
          -7.045766780052283,
          -14.571369869493015,
          20.955421881427426,
          -14.886169717885844,
          31.976906020889967,
          -16.858594075307934,
          -7.681326724623625,
          20.39625897599175,
          -0.06608014684773085,
          24.764999460996886,
          -15.089592893300528,
          -16.17133527172228,
          -13.254801279073325,
          10.529723050430775,
          24.779773012511466,
          -13.704650290640966,
          -9.454735303971074,
          -5.7694116520676895,
          -5.699980407232936,
          -17.62300874004844,
          -1.936860877831735,
          -13.83084011462332,
          -8.579686461187018,
          51.88672626493818,
          -17.713525337086665,
          -11.792583939026706,
          10.059422990151992,
          -17.548194349996468,
          -4.657368901341342,
          -9.608757338037154,
          -7.023251514558391,
          -13.40305937012064,
          -1.1027987133010968,
          32.525288096274714,
          -10.935699741855105,
          -9.819397570709869,
          -13.146148371186383,
          -11.613423171621022,
          -17.029622216529976,
          6.124486820185451,
          -15.80588186111715,
          -3.6795226564870553,
          -12.141001812121898,
          -4.598541372432654,
          -10.00989688327898,
          0.4056214333437083,
          -15.009222482558394,
          -12.454859420998078,
          -13.91472595279983,
          -10.665638843187905,
          -7.231457991848037,
          -5.655455523120977,
          -15.492881474168811,
          4.070037469008897,
          28.375811520882884,
          67.73803922279512,
          -10.999588039637207,
          -16.085681824242975,
          -1.2385178455860668,
          -17.312905688255068,
          -16.685224505761262,
          -14.91922819040987,
          258.9939207741483,
          -17.228415781456068,
          1.141681575275093,
          -4.162897361796527,
          -6.657009301834435,
          -13.463946248219903,
          7.359281378810429,
          -10.669127327917499,
          -17.005271090627936,
          -5.700633365520083,
          57.992560384701804,
          13.366133142852027,
          -11.560358124497709,
          -11.558158888790228,
          61.69363876220912,
          -9.61886200211917,
          -10.886779554409424,
          11.667594225141407,
          -13.088246656532235,
          53.79480934742764,
          1.0594731760649319,
          -13.171943011920119,
          -6.375497193692754,
          -16.630409194986647,
          -11.864859060553593,
          -9.652507801251593,
          28.206999546785326,
          -12.871596889738262,
          -17.14296172559565,
          -16.07651402994108,
          6.622990234343773,
          -10.97039906886824,
          -4.257278513805562,
          21.598783401111024,
          65.39867225281564,
          100.52545112536349,
          -7.013309105347382,
          59.84237094777024,
          12.48643254103041,
          -11.994881045594706,
          -7.74753162601283,
          33.30473596148731,
          -6.18791844749144,
          -10.029267095295955,
          -14.908907952590575,
          -1.8608545400670173,
          45.581103715504995,
          11.868245642200792,
          -9.855156596732431,
          -0.6221043489443625,
          -10.079819569626094,
          -10.892359726747358,
          -2.8382802659833235,
          -11.58063660286691,
          -13.940786513205676,
          -0.2553120456442196,
          -6.252395185971628,
          58.16087861557487,
          -11.578127807995436,
          21.58568440118324,
          23.228131859905837,
          10.658680029546206,
          -4.257769571859545,
          102.6454847949057,
          -2.7011914967584993,
          -13.726447511932452,
          -16.460966390102033,
          17.45577517656227,
          -5.669230531532025,
          -7.999626767220416,
          -7.568916254536362,
          -6.312459159621738,
          -11.199772002585377,
          -14.776909732559979,
          -5.491707023868136,
          -14.578109765077805,
          -7.817596810353683,
          -9.915974750238394,
          -12.078216058261358,
          -9.036905694938648,
          -13.417843857477973,
          -16.952562336847883,
          -12.225170911057358,
          5.800591849631629,
          -2.5307634474894223,
          -11.875061986730516,
          -8.75473106465125,
          -10.687460113864088,
          -12.682520750206189,
          3.838002928826129,
          44.07663559228632,
          16.697326521617303,
          -15.268074527919097,
          5.859824053542757,
          -13.750262737571921,
          -16.545802394886472,
          -14.5081106467772,
          -8.797215837492223,
          5.943144716493414,
          -17.43704812777086,
          5.924030075897569,
          17.727935944288426,
          42.47174815374212,
          -9.971027520811308,
          -16.85162588879556,
          -1.4473108668152026,
          77.8683669871623,
          -7.670030454522712,
          -8.84160649753521,
          -4.255013154427184,
          -1.9843071882131058,
          -3.9533972213379176,
          -3.866184636437769,
          -9.699638547344113,
          -9.085034391858123,
          -17.845759510735384,
          12.268353492549041,
          -12.72140995751416,
          -15.321926250623964,
          -11.211408994760996,
          -11.152460494059731,
          -10.522501461235171,
          -7.398941581600306,
          -12.220901327581435,
          -10.369413787343785,
          -11.935730348462872,
          -8.12156291840306,
          203.41293078525618,
          65.50247002171257,
          2.464052250418692,
          53.15332510997339,
          21.23254195427846,
          -14.789001583133949,
          60.724983687442915,
          -12.661689199475832,
          -10.305039435038191,
          -9.349742528470715,
          -0.028271878992835474,
          -11.8383334009609,
          -11.567458367836602,
          41.454590567007756,
          -9.081807045669597,
          -10.773163853652141,
          -8.50878670606884,
          -15.045772987445167,
          -13.721229200272782,
          -9.668023309672396,
          -8.52525829009383,
          -7.894180819312152,
          -17.262415411928597,
          4.297706194535758,
          -8.403641989336627,
          48.22586334271358,
          -15.21661533699792,
          -9.490471949919803,
          -17.976226025500825,
          -13.848324915267128,
          -5.361996598987563,
          13.073949277484884,
          34.26829349408331,
          -3.0942773047147902,
          -10.505013639680959,
          -8.961173182358456,
          -12.27846317624349,
          -13.074674353213853,
          -5.742451833024185,
          -10.146276026622267,
          -12.731459056062912,
          -4.464382496717804,
          -13.812634751419013,
          -14.977320219828773,
          -0.46312446864307955,
          -3.6463747112703047,
          -13.213321788258488,
          -13.279017692955632,
          29.774860148095218,
          51.02209328878864,
          -8.703499285762007,
          31.55178958406532,
          -6.193473089431819,
          26.145713853015923,
          -11.658956209474885,
          -14.379823005313204,
          -15.339690090131155,
          -12.011544919300974,
          -16.455261029200717,
          1.7686588987519474,
          -0.46203555725702844,
          -7.191662602936862,
          42.748587664856785,
          -10.75307790547759,
          33.736352987456904,
          -7.8950647461794485,
          -11.810681918057568,
          -12.283710545704865,
          -9.323092745633362,
          -5.108240266657891,
          65.4398186341918,
          -16.28510192992482,
          -12.03548192278088,
          -13.00614724939085,
          -14.113587323364854,
          -12.126345290350145,
          -7.656820176749633,
          -5.351779241952124,
          -14.131035225457264,
          -13.801136779010125,
          -1.7328106272680417,
          2.1501902715518124,
          -13.783884248848826,
          72.95071361866957,
          -12.983612416809782,
          -10.564603635546751,
          -8.073365890749564,
          -13.496878532174485,
          -11.340496107212765,
          100.24441054276222,
          -16.101307938738316,
          -6.6105288312785575,
          -14.1516761827164,
          68.59394014548221,
          29.356326252742104,
          15.615115676124704,
          4.812961679022256,
          -14.280088249688445,
          -13.671652578820696,
          -7.54636852592638,
          -2.734042236664337,
          -12.191088668862687,
          -3.8022883174736064,
          -6.22021805295156,
          -13.397497201717961,
          -16.21495562339997,
          -15.210169527537431,
          -5.783787487706437,
          1.0368614588610072,
          81.26053401264076,
          37.13453856452856,
          -16.607703681784457,
          -17.33891437262144,
          13.353446267621859,
          -9.643835525155854,
          -15.665131770167696,
          5.860653816147484,
          8.727624013397334,
          -12.023420433982052,
          -4.5762255803439285,
          -2.892336026515755,
          20.57534161183974,
          0.7806203559158538,
          -7.830878806682786,
          121.23596044022963,
          -10.622599264294667,
          -11.236177947155921,
          -14.334370861684485,
          14.90176866017196,
          -13.90418445153655,
          -0.9328103587220999,
          -1.6468830063782842,
          -17.732661525714736,
          -0.9531857436501754,
          -9.66095472379317,
          -15.011894364510606,
          6.593715756232182,
          -0.6422894840240102,
          -16.0222965343755,
          -2.2510704005557884,
          -17.476635872399328,
          8.952445512226507,
          -11.641039757044469,
          -10.442197620426741,
          -13.65136590431761,
          -6.223353501615493,
          -8.5099799337641,
          -7.955222172671704,
          6.722557231410337,
          -11.578467316641026,
          -12.928069291661526,
          -2.19057817323642,
          8.8094979237637,
          25.155933213794384,
          56.83411191010805,
          -11.245148175642692,
          -16.32274573896039,
          -11.39864700823989,
          110.21986944220262,
          23.12100143574514,
          -6.127320102040027,
          -11.294849479056122,
          -11.579005797033789,
          -8.696579625603304,
          59.15553265899341,
          -8.570401649147481,
          -17.05099277552584,
          -6.278429855200282,
          -11.970855373455343,
          12.486025292247959,
          -9.927713198855706,
          -12.444806195355724,
          -4.309018145539424,
          -12.680593273959248,
          -7.1049434319992395,
          -11.927711896902464,
          -13.740554351816641,
          -9.134875654925299,
          -7.358772956370863,
          3.868920384817644,
          -14.494280127289048,
          -16.79217966081322,
          -3.8794069113935334,
          -16.258222180182056,
          -8.455231229226463,
          17.78686573150837,
          -7.765226027313559,
          0.30219706831383614,
          -10.662493810967423,
          -17.490976750295165,
          82.40585774489605,
          -14.251429585527728,
          -10.176641595435203,
          -7.927374308018303,
          18.415076476555004,
          -14.069451967889798,
          11.094894758313574,
          9.712221114173301,
          -9.408862099606761,
          -5.186198360396682,
          -11.43911475992842,
          -1.6624223690171553,
          12.896295156802086,
          -12.609234071062888,
          144.23314017980513,
          32.6993379437287,
          12.804947388434242,
          -7.674466254747633,
          6.397767834852082,
          -12.104176799782243,
          27.731344404201078,
          22.095030332493476,
          -11.660705992004809,
          -3.625023802464006,
          7.564311138462196,
          -13.177130925701203,
          -12.969701045389284,
          -13.967587394629506,
          -9.62298325546945,
          12.278302612875484,
          -8.757414341733547,
          26.175543260674417,
          -13.728180794186272,
          -4.783318611299088,
          -13.916270804504705,
          -0.028382824353002066,
          -17.333711100903567,
          -5.990019577638955,
          -10.761641055407237,
          38.03690941834913,
          -16.83498181145891,
          -6.152908907399349,
          -11.098623480024882,
          4.026404922110325,
          11.871670017271015,
          -11.866444700973867,
          -9.96775479665586,
          -10.543593847294606,
          2.464708406462136,
          -13.369337264072144,
          -13.53590514746294,
          -14.25455188374888,
          36.2673038015828,
          -9.772562809576714,
          -13.7029812398324,
          2.7159479580435577,
          30.42168329758666,
          -12.027393855980568,
          -7.950547070708068,
          -11.79973747664338,
          11.109792430650886,
          -13.302833630358766,
          -14.562018258612301,
          -4.629031860042602,
          69.70731648096233,
          -11.798994367148673,
          -14.737999204482973,
          -5.432367244245602,
          41.96895052006681,
          -4.479333510180463,
          -14.410437785819578,
          -5.319317539005847,
          -11.513523967976386,
          -9.67185636774065,
          -3.9668199563280937,
          77.59995199643933,
          105.9256029995167,
          -1.4796807288658034,
          -12.015868833011222,
          -9.014115342087614,
          -10.213932521428996,
          70.87226268137071,
          -2.9259992329035085,
          -12.608669870559092,
          -13.545133000343865,
          -4.3700691355431465,
          34.58513969997491,
          -16.287533611580592,
          -4.4163920217594885,
          30.90872984423672,
          -13.304842149480498,
          63.73851687289513,
          -17.738608014635325,
          -2.3777499440928085,
          6.019873164382558,
          4.75634309572175,
          -8.245632944837944,
          -14.09039643403455,
          -14.002114422169806,
          -4.102977816231987,
          -14.282751368540687,
          5.485830197125594,
          9.915858769318014,
          -8.620818305377956,
          5.750801323269412,
          -12.986372234057304,
          -14.925486019730835,
          -16.06515151144335,
          -13.16062805935421,
          -9.351971438058733,
          -16.924762390808045,
          -16.055082076663233,
          -12.883563190948001,
          3.703394077126954,
          -12.990524060534128,
          -18.31531953908282,
          -14.274106849694153,
          41.9328058675157,
          -7.8708069305290795,
          -14.422874251829727,
          -17.517000595268197,
          -6.312424652496313,
          -11.171923084304675,
          -17.85278629493117,
          -8.220705378207311,
          -17.062406252117935,
          -14.271491395711683,
          9.906512735386952,
          28.597050536129874,
          100.53129296741126,
          -15.923895989212628,
          -14.912514738929072,
          -17.75618441730621,
          -13.731062845462253,
          -14.033787489503876,
          1.451986717737597,
          43.998319620516,
          -11.5657891020237,
          -17.59466600087522,
          -0.4984880985482033,
          15.177003580251961,
          -14.655477071805302,
          -15.66796617166411,
          1.8186299334641831,
          -12.855438241374959,
          -8.924172494689188,
          -17.93759239123607,
          0.41159989567102007,
          -16.55858314406074,
          4.540940173468274,
          -13.90400132801674,
          -4.631667932321721,
          -15.903676112555383,
          -16.949730978324745,
          -11.815391721596148,
          25.1920969109051,
          -15.164688054431112,
          -5.4111940696952905,
          -17.1788776827842,
          -2.75425106784017,
          -0.6666839598862974,
          -14.438381951010221,
          54.675849482576595,
          25.525359100523985,
          -11.086117929102269,
          28.779741026121386,
          -16.775298269409237,
          7.051206547471251,
          -15.297711829160614,
          -8.104332384844831,
          -8.65637632804702,
          -2.881299853316828,
          18.390698615579463,
          -5.661690601620771,
          -9.678382724081429,
          -1.600587627823088,
          45.32602581294331,
          128.91563037617397,
          5.814823621257346,
          1.4350143189491855,
          -10.107150117653015,
          -9.484450595065892,
          -2.068883955231861,
          -13.654241474205152,
          -7.695285169106592,
          -14.46181737103153,
          -3.4835048849472896,
          -5.2600851191526505,
          -7.793607708110388,
          -9.580190978651387,
          -10.159390457584827,
          -17.146248059434182,
          -18.07812228472377,
          -16.72520670004242,
          -15.28289054207439,
          68.20763218271405,
          49.975291316967905,
          -2.3380885801563527,
          -6.164352207319993,
          5.999715881971176,
          -17.79918466116773,
          -15.254934973550457,
          -15.07013794731563,
          6.604243338470169,
          -11.558351219502972,
          -13.537090435178524,
          -17.181859456453104,
          -12.394796074061688,
          -11.984281470432443,
          16.466801005310028,
          -8.84140843840164,
          -17.823842240630363,
          -9.235027789607306,
          -7.285045548210038,
          -13.999244136250654,
          14.444708616075596,
          17.122454406110183,
          -12.095167286489085,
          2.060616526389081,
          0.29472681936741624,
          -8.323483036732538,
          -12.96992630916999,
          28.973417020158596,
          -16.59379626091861,
          -10.185302692695295,
          -3.5428785947598977,
          10.161329029289973,
          5.193459029350051,
          -13.700098918894362,
          -5.169805558245642,
          9.163392260488326,
          -13.014463059464639,
          -6.380655310434292,
          -5.922595876734481,
          43.271677362069006,
          -12.480532893373123,
          -7.081884253300051,
          -10.704664275614567,
          -14.04716295974276,
          -4.578601250255943,
          5.098241763347585,
          -6.603314539765813,
          34.412102087023776,
          5.830526888028872,
          10.736624678677293,
          -8.992613213186422,
          -11.488042988941755,
          -12.83606226480965,
          -3.90561521677721,
          -11.679412600467643,
          -9.65368930521103,
          -8.396852467913686,
          -16.116777231251444,
          -12.063779786950851,
          -8.958365957514152,
          -13.538314789303811,
          7.249288415642992,
          -15.08023473767123,
          -12.778027284397224,
          -17.305475934423658,
          63.778539603143464,
          -13.11551274645624,
          -11.788136350567823,
          27.997976854189773,
          -8.154284179525689,
          -13.092078071265597,
          40.458081189980156,
          19.584465666090292,
          -7.558030334442592,
          8.295682865286233,
          -9.290498539584707,
          -4.191187702412478,
          0.4983620057027265,
          81.15003500757369,
          -12.471042259203506,
          6.956945758148393,
          -14.46787296371844,
          -5.317366971889277,
          -15.613146886907659,
          -12.616789161613482,
          -14.588259824111331,
          -11.23859093322189,
          -17.48478230359311,
          -1.7280149328599943,
          -18.31320012721799,
          -7.843658229705706,
          36.27902751165854,
          -14.460942641920218,
          -14.191889820476165,
          -14.470135344026925,
          -10.903589878787972,
          -13.706269916518368,
          -10.062776801491301,
          -8.22771341495695,
          -12.890398575865733,
          15.644183923458328,
          -13.0891805128787,
          3.2137066568718615,
          15.87196254150746,
          -10.212116903544395,
          -13.873332703839717,
          37.12950602946485,
          1.0805557679514983,
          -8.58204676544711,
          -12.840317514743681,
          -9.515632716561369,
          -12.913491847887892,
          -9.931554059045682,
          -12.842079697410387,
          -8.598074771099329,
          -15.14199711347723,
          -9.154280844882905,
          -7.373263905693819,
          21.808745158517056,
          29.01244360263771,
          -12.757486878782432,
          -16.805019623545636,
          -11.982558586658369,
          -13.366413440184584,
          -3.2552349659136706,
          -3.029757559804477,
          -15.5631299521257,
          -13.611504221759466,
          -13.58384538944723,
          -13.346039414965123,
          -0.5811682633983837,
          -14.128059436075393,
          -2.0715532751533545,
          57.924464880048596,
          2.52200384595694,
          -9.61194524846066,
          -16.05852587851707,
          5.747870887303583,
          -14.118576963155803,
          -17.571478788016663,
          -6.230912493961347,
          -13.216930643073646,
          0.7200396067394242,
          -11.7884534367381,
          19.11943520606989,
          16.896710886553475,
          23.614823177446826,
          -11.978784833146102,
          -10.430570253596063,
          0.28210002141095186,
          -9.793500446809416,
          -15.542721351121017,
          7.5528266813184235,
          -15.651641417148433,
          1.3803463275654115,
          -17.01974047237918,
          -12.4697567320086,
          -14.350841563620468,
          -4.081495156083587,
          -11.464684378294063,
          -7.203165572072463,
          -3.3063615389200414,
          7.855190960868503,
          -3.525838171772438,
          20.123472244114566,
          12.184910488801863,
          -11.110307325922003,
          -3.2802589057987586,
          -16.441843349289325,
          -16.08543727234385,
          -4.863865152597256,
          -14.84422578761143,
          33.54453230244663,
          -0.49662933966144773,
          -15.110004963293688,
          15.424699301157155,
          -7.679644725927655,
          15.53041788227328,
          -18.06684438557646,
          46.327663326677104,
          56.47262856833434,
          -14.7527784187805,
          -13.960817486462648,
          24.828681513859934,
          4.802243647879854,
          8.857874810041855,
          -8.206996668977272,
          13.381460126250978,
          -12.738792288055096,
          -13.328584632798504,
          5.102409762717205,
          -13.595785159435144,
          2.364104373479826,
          11.467555347706194,
          6.6020177193916405,
          -10.861455625479026,
          19.20533444964561,
          -14.805236160172347,
          -14.24708586523201,
          -4.733723363624574,
          38.12395544751681,
          24.87741271621997,
          1.6416218933294586,
          22.274387474825723,
          14.484332193827365,
          -7.702486009938891,
          -9.393346389010272,
          -15.143937266546201,
          -9.39415558036502,
          -10.187669617511729,
          -1.6092257608356821,
          -13.69882031229796,
          -13.663298708958655,
          -14.222615995602622,
          -3.516618656459358,
          -17.51306857627976,
          18.532595117776918,
          43.28176212571602,
          71.43109210074897,
          -14.798825379801242,
          -12.793766125236887,
          -12.825539724967882,
          -6.798120787315852,
          -7.955715063256591,
          101.55075572806341,
          10.036356062981644,
          2.8214904419097593,
          -12.12078729875926,
          -9.959025783363447,
          -11.532440995302418,
          -12.465938181373827,
          -6.421758980265199,
          -9.192510930140037,
          -11.464819251436712,
          -11.56479572304538
         ],
         "xaxis": "x",
         "y": [
          -3.0346231020780277,
          -0.7699893615354944,
          -1.2898337082065354,
          -0.09731394172632665,
          -0.07238963946946823,
          -1.8226379063564868,
          1.1733979899332874,
          2.2452508677203284,
          -3.9412221970864234,
          -1.633073374704665,
          -2.271054673253717,
          3.833501619462715,
          0.3416523652063015,
          -2.239334945690716,
          -2.4543678560532562,
          -2.915131309280882,
          -1.6268538944060755,
          0.3265589180337771,
          0.5553653471549775,
          1.710269419148568,
          0.23256949502058502,
          2.8940646389548395,
          -2.373716375648408,
          -10.428158156507678,
          -1.1562474259521216,
          1.2386026464382118,
          1.675609240703116,
          4.975337799397828,
          -1.923331413690346,
          -1.5923997103840906,
          -2.1634631344706463,
          -1.2638521463797543,
          -0.2186740941050112,
          -2.446778041646394,
          3.245599897069984,
          2.2001699903901186,
          -1.1093159285026923,
          -1.3129269853429393,
          -1.007373845060052,
          0.24986077853357813,
          -1.2524220484613477,
          -1.8215924107485613,
          -1.3645500817136582,
          -2.565624654171648,
          -1.6883573903107445,
          4.7986568091222574,
          -0.31457221886311865,
          -1.420035769991028,
          15.32108108327658,
          3.977682645660902,
          7.042784277449771,
          1.6551053681792371,
          -0.5653213072306166,
          0.5443100801441889,
          5.374505016717177,
          -1.5856356956469697,
          -0.9182505468994425,
          1.0044220318731254,
          0.867838180276774,
          6.034385395299364,
          1.7404292900210911,
          -2.4799970768793353,
          -2.2766751333586424,
          -0.24811975242832324,
          1.622017482458193,
          -1.772628783880919,
          -1.7522104761812165,
          0.4925565005236711,
          19.830442510614294,
          0.2966329171412092,
          -0.5124544523546907,
          0.44965546458077055,
          2.308690856737861,
          -5.132348124874611,
          -0.2563536979133392,
          1.084981621335204,
          1.1289831138211515,
          -0.39398592233716906,
          -3.101769334852237,
          -2.321734791761151,
          0.44065690029951626,
          3.9255485072533816,
          -0.6868310272982119,
          0.9520763216411368,
          3.4508874858933942,
          -2.2914050011595744,
          3.9901771555288077,
          -0.5024994212409388,
          0.6176578725239917,
          1.6918678997472405,
          -4.048189971407289,
          -1.20770687801378,
          -1.0006706117650974,
          -1.6605414941397831,
          0.5502633553103011,
          -1.2787791571313962,
          3.3493325532950933,
          -2.7791671561350015,
          -0.7249341321527977,
          -0.8230344838773666,
          -1.1682187137219069,
          -0.7657450007479872,
          -4.939450138651379,
          -2.5762495008649244,
          2.9815155578818118,
          0.5194162680729436,
          -1.0864859272408653,
          -0.6098914347202807,
          1.76695723319059,
          -2.854205711152388,
          4.151152925902417,
          0.048859034008472566,
          -0.8779109148557152,
          -0.8521841121313944,
          -6.295494005461933,
          11.18741716162127,
          3.3599826081155015,
          1.5058739468661113,
          0.46375670056784957,
          -3.300460919230044,
          9.662829575569226,
          -0.008454960054853349,
          0.08837052655653875,
          -3.316339667663508,
          -0.715223147762556,
          -1.3086101824287484,
          3.3857628111741738,
          -1.2745427194148404,
          1.2732550616906524,
          0.5014230951211989,
          0.5210149982737361,
          7.288339641884469,
          -2.4196246527631122,
          0.05443837797818598,
          0.5237340697924624,
          -0.8643732884523663,
          -1.766030178150328,
          -0.17852557868286767,
          2.5152695049538627,
          -2.500891743504571,
          0.29469777311164586,
          7.791338177457684,
          0.46785611299802393,
          -1.9799209935646755,
          -8.991777888784675,
          -1.4275503747380824,
          -4.927852062041167,
          -0.13003255491928206,
          1.2884200220272952,
          5.7754006536682585,
          0.034331921424972,
          -9.233798348559748,
          -1.5126638547193274,
          -2.0431400447038466,
          -0.6604940316692463,
          3.6133821008643676,
          -0.27478833124229113,
          2.1732185573618015,
          0.524036175948207,
          0.996362726645417,
          -0.0945368603363948,
          -1.2431170898480517,
          -2.3993165610319926,
          -1.3663660931274413,
          2.0161677092104755,
          29.76056684727839,
          -1.5030282689186854,
          6.128500860738471,
          2.9014959511954213,
          -1.162046941844316,
          3.6125058044663367,
          -0.6218020716241246,
          -1.0008353391299563,
          -0.6476106965148702,
          -5.106723935390293,
          -6.439596207291769,
          0.8782124700759696,
          3.266098823454659,
          2.7774238269556375,
          -2.153192261204242,
          -0.6067145421783355,
          1.220482121609357,
          -2.5487523393274514,
          -0.9667075214763086,
          -1.972913464860407,
          3.076581190356042,
          -1.0447382851385947,
          -3.4218387817204263,
          -0.3640051279522976,
          1.3536253100476703,
          0.7437538339233818,
          -0.3091591265780341,
          2.104906296137963,
          -0.4701333490155565,
          1.6786581201386925,
          -3.1778174533840113,
          3.9128092936217964,
          -7.789801953936017,
          -3.963153695442829,
          -1.5922260505559145,
          -0.9441797284730074,
          -2.077616148222343,
          -2.0494786975773387,
          2.294547520516659,
          48.16372561945084,
          -1.8751626030525361,
          -2.102989532302871,
          0.15582438243957078,
          -1.6144210221362716,
          3.3840775647707746,
          3.1944405535046276,
          -1.1497551193719646,
          -1.7012611119606509,
          0.49782336223568935,
          -14.5855310056985,
          1.0088330543057065,
          -0.1671886636604298,
          0.932505234152654,
          -3.6368395698305975,
          -0.5283517224704866,
          -2.521276921557456,
          1.7209767816395385,
          -0.9479080244838447,
          -6.1991453684875015,
          6.67572123745666,
          3.5135765440752285,
          0.8086083065642158,
          -1.1760940296129194,
          -0.30928523087520576,
          -0.9101917830825763,
          -0.7906910041679505,
          4.874002346004576,
          -1.1411332225618265,
          -1.6925132449829852,
          6.836685827972209,
          0.4469656456534264,
          1.8314913294994473,
          -4.686391658782211,
          -12.103629625609948,
          -10.6881528082297,
          0.1492384195015837,
          -16.612535600999074,
          1.0338148335087143,
          -2.033606658564765,
          -0.15743769056408632,
          8.421850019643266,
          -0.8147559651919181,
          -0.49857066551863893,
          -0.27314706052266585,
          1.861717571289186,
          -20.30537021777648,
          -3.5122066394534266,
          -4.03694960199594,
          0.7102585476890856,
          0.0741681439213886,
          0.16635357494541397,
          -0.4580699375099367,
          -1.8345777090660433,
          -1.8490017027146008,
          5.022903579662562,
          6.009053788567982,
          -11.382325988600112,
          -2.031387744861868,
          1.4631042820367353,
          -7.700542254345166,
          8.192365929487423,
          -0.015435978970084615,
          -22.680417915376584,
          3.4457135212896026,
          3.0367702515502333,
          0.3010530595441596,
          -5.714919194696411,
          2.2448207911681597,
          -3.3295473866286813,
          3.5401504717048766,
          -0.9309804515011635,
          1.0911225119721861,
          -0.33593196442912915,
          2.102801812550121,
          0.18227171747951906,
          0.05894053564201973,
          8.124127330745816,
          1.1470656208493095,
          8.267652444696921,
          -1.053653534013303,
          -1.3014248204965673,
          3.0105342429839883,
          0.34657967523000605,
          3.109052191107711,
          1.3713652820576168,
          0.973404769272587,
          0.8984941118077578,
          -1.3826418009074926,
          -4.545689513309412,
          38.34704661061106,
          -10.914543518490486,
          -1.2387955027396158,
          2.7794056065129182,
          -0.4849359910435276,
          -1.7279293954029582,
          -1.938480110548238,
          -2.2903038994142335,
          8.74319073906875,
          -1.0744388671117568,
          -2.464063593745607,
          -4.690131110311602,
          -7.530467059186996,
          1.427322201416462,
          -0.9563005068941339,
          0.48610156301096225,
          9.120942032843955,
          1.1159228079112322,
          1.27607212802001,
          -1.6481869657116985,
          15.210447630194839,
          -3.784756175106008,
          1.6301330888334613,
          -2.4483812980657866,
          -3.128088656029371,
          -1.6236079191338573,
          -2.9564884385999943,
          -0.06146375561281601,
          -2.1788471863866086,
          -0.7635538029681469,
          -2.477500336998493,
          -1.3495396504597232,
          -0.6030555259178269,
          -2.643606098293062,
          -1.2727482494127516,
          -0.17543722914691912,
          -0.005184961109480556,
          -27.641905484012582,
          -9.319755074446187,
          -7.489483074749197,
          8.284252899364763,
          4.166445763162023,
          -0.4604696347154998,
          1.3097297031752047,
          -1.2167624844229679,
          -0.12784009692918924,
          1.7891620573901437,
          -4.466073830286237,
          -1.4066231826707853,
          -1.3434692477622958,
          -6.900858429056361,
          -0.5841318690820724,
          0.28546398153634545,
          1.5045794244005062,
          -1.9940577875277572,
          -1.8878516307232205,
          0.8617592439865445,
          -0.27893195754622746,
          -1.0689979114608679,
          -1.0281570991716564,
          1.1022084969599806,
          -0.40314273701619685,
          -4.325980265181947,
          -1.5029848159944994,
          -2.063120860732355,
          -2.3849569375195805,
          0.3790920123318963,
          1.9277205666039565,
          -4.292901039539521,
          -8.180319751866792,
          -0.45807095823837896,
          6.489537129156321,
          -1.3933755730043869,
          3.692699640468528,
          -1.201974902797141,
          -2.290579997947153,
          1.1724292547014332,
          -1.0293533097234029,
          2.5622968651981237,
          2.8551465774470337,
          -1.0316439737877114,
          -4.940438915020478,
          -5.306967757798398,
          -2.238135068902483,
          -1.2690800795522998,
          -6.4773711396328615,
          -9.36252340315841,
          -0.7741256910884361,
          17.690833748265952,
          -0.08679088760648096,
          -5.727289791713629,
          3.310337807625063,
          -1.4494462544470348,
          -2.0493615919990615,
          0.09226584171866534,
          -1.5786047174801792,
          -1.2115405977979632,
          -5.168649018758389,
          0.5090239758190276,
          13.255414875763135,
          5.025417207085975,
          7.257363219901042,
          -0.5648672749182438,
          -2.1988462039157057,
          -1.7647170311294986,
          0.9122093170700893,
          2.4218673227287497,
          13.341487083722049,
          -2.0837902586420327,
          0.2696047748523485,
          -0.2833900912596982,
          2.9940291219374564,
          -1.9072939491313248,
          -2.8760694911372067,
          -3.1229141889793355,
          0.46650868838221077,
          -0.5223732406825109,
          -1.9421710764837332,
          0.20423122683066847,
          -1.0113805193484042,
          -10.885041339987254,
          -2.02884902412766,
          -0.05329537140415773,
          0.5506395818399596,
          0.2749548886253204,
          4.316099377620841,
          4.974121038534847,
          -0.22737102120653513,
          0.6014120286572462,
          -0.20355796085176953,
          -1.96507252134726,
          11.431200570633383,
          4.469194795947584,
          0.8001752889300309,
          -1.4959064004738494,
          -1.6343978788410365,
          2.5170899801538167,
          -3.9018978273320566,
          -1.2228337577284905,
          -1.3620024690586472,
          -1.0993379992994705,
          -1.529217537986083,
          -0.6034751532454011,
          -1.793472823111371,
          -1.0798950218395205,
          1.7792218082006366,
          2.614073419542012,
          -5.629332186877671,
          -1.2544141262604918,
          -1.7996513983783116,
          -1.8825817257118387,
          0.050535388904218624,
          0.3257403920998126,
          3.074756213397259,
          -2.616766642792478,
          -2.2257769351925987,
          -1.1656292422168346,
          3.439859047041492,
          -4.5048548079265505,
          -4.315212039345515,
          0.3460658683726223,
          -5.497728595566411,
          -0.279006852763777,
          -1.5349357332829798,
          -1.9465833626470803,
          0.27058833074749433,
          -0.3293152412980358,
          6.730545222147797,
          -1.6908268525893762,
          -1.4783853236403186,
          6.858236406467066,
          1.5778785890237987,
          -0.19176669817014966,
          -7.695156943994109,
          3.1920250327653066,
          -2.5097504444062553,
          2.518871780087767,
          -1.1656120158604866,
          -6.190971014621165,
          1.0938803803040573,
          -2.6926065842506666,
          -0.9682915386584585,
          0.7654049291851074,
          -1.750990421351108,
          2.15964861165337,
          2.5984035123547105,
          -0.7027319328601971,
          -1.788614143734085,
          5.30350067093197,
          6.709816248634297,
          -6.392412310677605,
          10.63357664970509,
          -1.981607277575409,
          -1.5837592752068803,
          -0.38962121723260074,
          7.744937252540215,
          -6.0003097329517185,
          -1.6924443224858008,
          -1.8201663464548432,
          -0.693645938057487,
          1.626672825619321,
          -1.6637761068611834,
          -1.1970520822928086,
          -0.7451586861286433,
          0.1282501330164838,
          -1.462246936155781,
          3.436340267178334,
          1.015011630840369,
          -2.7776399486223964,
          5.041870362958451,
          1.9306012609152392,
          1.0843497227282113,
          -0.276645132747019,
          2.4790541459295374,
          -2.1786058900561893,
          -0.5636125302551758,
          0.13217023797233884,
          2.232292879670537,
          -0.8445847496669094,
          0.9049363811079053,
          -0.9470782089691988,
          -1.2193807030569321,
          -6.577255578113398,
          1.1025022097171293,
          2.484706371156714,
          2.771669316115344,
          -1.817122610018233,
          -30.85306315060477,
          3.26743194899961,
          -0.5064692250610063,
          0.5933747942911701,
          -7.890813146419893,
          -1.0435280987475273,
          0.7420184693873322,
          5.3268955854307345,
          -2.2892178785685635,
          -0.10919759007031977,
          -1.693118041042743,
          4.685503326661409,
          -3.897160790243986,
          -0.8404042992766642,
          -23.35042534875436,
          -11.640721353698414,
          -1.2746615310901257,
          0.02309221865491088,
          -1.4356626806980906,
          -0.1905994893611055,
          0.7568546562518643,
          -3.8437348720301774,
          1.5577897795879676,
          2.146839547961826,
          -1.2297229138429537,
          -1.725671275834282,
          -1.781109986848935,
          -0.6390034657555664,
          7.526361718236386,
          -6.418588937073573,
          1.7871866441468387,
          2.917110963035593,
          -1.6722533507789092,
          0.004825440984744859,
          -0.11856650033223753,
          -5.893254700860841,
          -2.2074843296752085,
          0.30372945025782694,
          -0.11646748584433707,
          -9.13997897488692,
          -2.0000002371869905,
          -0.17686702026678633,
          -2.292232524945518,
          -3.8867286533653753,
          6.771704192978049,
          2.4796016365833613,
          0.33577077937557703,
          0.886153187870691,
          6.1217019981723375,
          -1.1807490008995254,
          -2.806694811330135,
          -1.6071509830573032,
          -1.748494213141694,
          1.2928803091749421,
          -0.2504036504070641,
          3.3885962235913167,
          -1.5743805329377427,
          5.5957372460661245,
          0.19264954299105258,
          0.26120099078568115,
          -0.3109766645369863,
          -0.5796629041024298,
          -0.5041123258472844,
          1.9348311081175609,
          0.1502330955863814,
          -2.0648832906081696,
          -1.4718204959568721,
          0.3476610375036801,
          21.87409341868597,
          -0.3572552671143308,
          3.4183226678783853,
          0.005569328258403551,
          -2.810697022503073,
          0.8664482812435388,
          -0.2906789964745783,
          4.35952074998348,
          -14.624287345719772,
          3.4031066579570872,
          0.1209378436499645,
          -1.8759263722591795,
          0.5012370052660565,
          18.461750200792224,
          1.9192284302375666,
          -0.5461124526054882,
          -1.8214380802379286,
          2.703761087209283,
          -4.8464554211051665,
          -1.9121178652195778,
          1.9837185850772487,
          2.627718937796062,
          0.28800580906230144,
          -4.544750750394411,
          -1.447838325321742,
          1.525128059645924,
          -1.6712861964327845,
          -4.427810455094861,
          -1.1100700053450516,
          -0.4844433301135163,
          3.3886236582516833,
          -1.6688211040717893,
          -1.1604973292916287,
          -3.6584590300968065,
          3.693059305513614,
          3.0102243696184,
          -1.9375282348162246,
          -1.581112053752575,
          1.7526755766805295,
          -1.0483705800195795,
          -1.9563592726319643,
          -1.7590554771315328,
          -0.7391343364279531,
          0.24297392273092777,
          0.5549857003954481,
          2.4428840316328144,
          -1.7296450845320264,
          -2.4115661197955527,
          0.31548231979548863,
          -4.103637119589127,
          1.0871108154170026,
          -1.2076126115158183,
          -1.2079181169148983,
          -0.7401383144861373,
          0.0006323756189901453,
          -2.0166986970529446,
          1.8968275041984817,
          -1.8137823934885395,
          -2.4619659775888896,
          13.018279638995516,
          -3.328789027711664,
          11.987529411975883,
          0.6054676121756472,
          -0.002167280208682224,
          -2.1296198600418776,
          -0.2898274283433734,
          -0.7599453773455694,
          -0.30768315969271265,
          -11.412076274569657,
          2.1347148155776763,
          -2.1114133057101347,
          -0.4810078758646705,
          -7.836072538516597,
          0.0360979565181703,
          -1.7418522396448155,
          5.786186787876916,
          -0.7665901832103389,
          1.316114734175417,
          -2.071041776191627,
          -1.4848334981041875,
          -0.07723229287961528,
          2.307042683326271,
          1.536103116718899,
          -1.043013306436494,
          -1.4764733968778014,
          -0.4297990875263769,
          3.032435599781909,
          -6.099972491469934,
          -1.666953453388445,
          -2.2027672689992075,
          -1.9212465281718958,
          3.9812021035059075,
          1.5637093550692203,
          -2.1738976019099034,
          10.150047218776049,
          -10.60188733729354,
          1.819801513958946,
          5.127217968448889,
          -1.843604130946352,
          -1.8226170374712436,
          0.6168022086562607,
          2.2706207054241156,
          2.947636733891037,
          -3.023404092930732,
          -0.9776596829058798,
          3.267368790625262,
          -1.901129947296969,
          1.0318956929705445,
          -7.328309337130273,
          -17.80299621024963,
          4.799633786662361,
          -1.1089690974818833,
          1.413825708279762,
          -0.7641237828107748,
          2.3854068966361344,
          -1.6780234929624245,
          -1.3630280869506266,
          1.174077923343589,
          0.4675806353655113,
          0.421008546886949,
          1.8707514012210982,
          -2.9214095663924082,
          -0.6900817478899754,
          -0.880286609193558,
          -1.9562385432914573,
          -2.286097975548069,
          0.01638199799148161,
          -10.444430436212963,
          -8.852708499494243,
          0.8736823357666951,
          -1.888777585153339,
          3.3293241711135106,
          -1.6122491298551807,
          -1.0904740249637797,
          -1.2504610205647007,
          0.6932761915749736,
          1.134070075754878,
          -0.5697759518401402,
          -0.8982897870052323,
          -1.183319925648211,
          -0.3855090284925688,
          -8.646289901323831,
          -0.21581546095894152,
          -1.5477236320747305,
          1.1800502094146892,
          -0.31020651059508814,
          -1.1455526492771992,
          -4.434091556512242,
          -12.320041299988857,
          4.590228808498402,
          3.6207277290015116,
          0.711349420660779,
          4.997301013490772,
          0.6507309562762128,
          2.0189956775734554,
          -0.4023721809975373,
          8.27647059713012,
          0.8276963635843375,
          3.2407563439903866,
          0.9246318600707981,
          -0.6751145612622762,
          0.6211673625449353,
          2.4693695263476987,
          -1.005227896465543,
          -4.265958037750418,
          11.53840546554841,
          9.424461825200439,
          -0.4245892217346061,
          -1.7072621422371412,
          -0.6146195801573238,
          -1.4181422280359812,
          -0.40842288701454316,
          -1.1378153203695203,
          5.530782545377234,
          -0.9928025769765793,
          8.783943617240212,
          -1.2691378893451952,
          8.51090542813185,
          -2.0756362703410125,
          2.305702571686292,
          2.3052070439330103,
          -1.3947886495266673,
          -1.4205833193980002,
          2.1861598428826197,
          -1.929786258820897,
          0.009268307223160396,
          -0.30721812768164647,
          0.7665614167895429,
          -0.3988960823718956,
          -1.7456946084887008,
          -2.190614591983055,
          -1.0209239288470038,
          -3.1747785799680557,
          -0.6182014425536374,
          -1.2942206503312303,
          6.585581098557369,
          6.294988486121083,
          1.1676868387863995,
          -3.225904179630258,
          3.556880560948771,
          6.062258722254401,
          -0.2265202693070081,
          0.5495472087506771,
          1.8837170731480224,
          3.168535351995151,
          38.338188254117505,
          -1.0556372714273596,
          6.652430164204251,
          -0.9665235436616235,
          -2.7061494992488666,
          -2.229348235621262,
          -1.934046265769699,
          -1.1179093819330088,
          3.01654450907047,
          -1.5473858888417478,
          2.9667715645933335,
          -2.40872436705812,
          0.9998939282896815,
          -8.45741748230302,
          -1.5101632248188888,
          -1.7678105177615482,
          -2.2436114082686855,
          -0.5359497012376674,
          -0.07528127710685081,
          0.6903842126064066,
          1.6751613408089527,
          -1.67860382176653,
          -3.4610478598511225,
          2.7447256244835185,
          2.2756077154233623,
          9.010719130498883,
          0.3634788383578326,
          4.988589750572333,
          3.679622785616859,
          -0.629482463101126,
          -0.735289053924494,
          0.2237834101794497,
          -0.3770114978377915,
          1.9348357540972716,
          -1.2427647056903735,
          1.8498520161322827,
          -1.189661688588339,
          1.2946508161550045,
          1.0440455053216116,
          0.29345253067067645,
          -2.669772429146329,
          13.391635915911245,
          -2.757389397281719,
          -1.7731019296405666,
          -0.3651842415094959,
          1.2644190607960666,
          -6.144765299119809,
          -0.7717961410384641,
          -1.511756873690036,
          -1.8747337583676231,
          4.6122575376798505,
          -1.0173683607660757,
          -1.8090703220137332,
          -2.5894474236335174,
          2.826127292238795,
          3.4459388986730084,
          2.4752311609993,
          -3.8085007102174755,
          -2.2519998731155138,
          5.24590402851971,
          -1.4743022834274033,
          -1.2527351117670877,
          -1.6108328550413205,
          -0.704713114863304,
          3.971387427018215,
          6.092596392554264,
          -7.292935767417175,
          38.376589054818076,
          -0.51286793934011,
          0.7107667141576217,
          -0.3776043428405495,
          8.053948812299726,
          -2.160339183046634,
          -0.8969779454229344,
          4.894266779246152,
          -1.1621455020430196,
          4.968012584443306,
          -0.6841415027902868,
          0.06148220179432084,
          -0.004737522611622017,
          0.7414276538877868,
          0.9310107066106169,
          1.5436191047809356,
          3.8589565653653084,
          -2.1405757897531155,
          -0.16414092390535778,
          -3.6524283474205226,
          18.49450736622752,
          -0.4930690891250443,
          -1.6632485270562751,
          -0.08550818754093353,
          1.6533445470393153,
          3.7471700804379,
          -1.4272586810843058,
          -1.5994092428084314,
          0.2688517181796496,
          1.8540215853795294,
          0.6200197186424253,
          -1.1266227834672724,
          0.4443286207876357,
          -1.933690740990961,
          -9.833560519327925,
          13.016114861001999,
          -0.8208704022771958,
          0.38101349328222944,
          -9.878168945594318,
          2.4331030451023095,
          3.0987163559024316,
          0.4267364359016143,
          -1.5918970775621615,
          0.2810783597098138,
          0.5841855843384866,
          3.2928062003558485,
          -1.091188103193757,
          -2.4006447487567115,
          -1.8285763608098606,
          1.92457646327555,
          0.4130146475911636,
          -3.7271501244755987,
          -2.4985784892131497,
          -1.307388239630888,
          10.281399257812486,
          1.436155441359003,
          -3.7468205645231882,
          -0.38497895102343005,
          6.081846511966921,
          6.5616887140341005,
          -1.2793439881528745,
          0.6171539143386037,
          -1.1833529125103555,
          1.3546970176483482,
          0.8941583314889295,
          -1.42788569832127,
          -2.456059468089197,
          -0.9358459068618108,
          -0.22955051505767493,
          1.4298869159699088,
          -2.259529055039639,
          1.5480491895523196,
          -13.94707467112595,
          -1.2744786646030957,
          -1.5285137094173484,
          -1.4859524850979382,
          1.2364238024196101,
          10.450528864992688,
          10.827696327527699,
          -9.212728351720314,
          -1.5515042842848004,
          4.7824167234887955,
          -0.3923964242170788,
          -3.20795940696707,
          -0.781164359754176,
          -0.9262274257731008,
          -1.652992625874605,
          -1.3377129846101345,
          -0.891549685770522,
          -1.540844880672711
         ],
         "yaxis": "y"
        }
       ],
       "layout": {
        "coloraxis": {
         "colorbar": {
          "title": {
           "text": "cluster"
          }
         },
         "colorscale": [
          [
           0,
           "#0d0887"
          ],
          [
           0.1111111111111111,
           "#46039f"
          ],
          [
           0.2222222222222222,
           "#7201a8"
          ],
          [
           0.3333333333333333,
           "#9c179e"
          ],
          [
           0.4444444444444444,
           "#bd3786"
          ],
          [
           0.5555555555555556,
           "#d8576b"
          ],
          [
           0.6666666666666666,
           "#ed7953"
          ],
          [
           0.7777777777777778,
           "#fb9f3a"
          ],
          [
           0.8888888888888888,
           "#fdca26"
          ],
          [
           1,
           "#f0f921"
          ]
         ]
        },
        "legend": {
         "tracegroupgap": 0
        },
        "margin": {
         "t": 60
        },
        "template": {
         "data": {
          "bar": [
           {
            "error_x": {
             "color": "#2a3f5f"
            },
            "error_y": {
             "color": "#2a3f5f"
            },
            "marker": {
             "line": {
              "color": "#E5ECF6",
              "width": 0.5
             },
             "pattern": {
              "fillmode": "overlay",
              "size": 10,
              "solidity": 0.2
             }
            },
            "type": "bar"
           }
          ],
          "barpolar": [
           {
            "marker": {
             "line": {
              "color": "#E5ECF6",
              "width": 0.5
             },
             "pattern": {
              "fillmode": "overlay",
              "size": 10,
              "solidity": 0.2
             }
            },
            "type": "barpolar"
           }
          ],
          "carpet": [
           {
            "aaxis": {
             "endlinecolor": "#2a3f5f",
             "gridcolor": "white",
             "linecolor": "white",
             "minorgridcolor": "white",
             "startlinecolor": "#2a3f5f"
            },
            "baxis": {
             "endlinecolor": "#2a3f5f",
             "gridcolor": "white",
             "linecolor": "white",
             "minorgridcolor": "white",
             "startlinecolor": "#2a3f5f"
            },
            "type": "carpet"
           }
          ],
          "choropleth": [
           {
            "colorbar": {
             "outlinewidth": 0,
             "ticks": ""
            },
            "type": "choropleth"
           }
          ],
          "contour": [
           {
            "colorbar": {
             "outlinewidth": 0,
             "ticks": ""
            },
            "colorscale": [
             [
              0,
              "#0d0887"
             ],
             [
              0.1111111111111111,
              "#46039f"
             ],
             [
              0.2222222222222222,
              "#7201a8"
             ],
             [
              0.3333333333333333,
              "#9c179e"
             ],
             [
              0.4444444444444444,
              "#bd3786"
             ],
             [
              0.5555555555555556,
              "#d8576b"
             ],
             [
              0.6666666666666666,
              "#ed7953"
             ],
             [
              0.7777777777777778,
              "#fb9f3a"
             ],
             [
              0.8888888888888888,
              "#fdca26"
             ],
             [
              1,
              "#f0f921"
             ]
            ],
            "type": "contour"
           }
          ],
          "contourcarpet": [
           {
            "colorbar": {
             "outlinewidth": 0,
             "ticks": ""
            },
            "type": "contourcarpet"
           }
          ],
          "heatmap": [
           {
            "colorbar": {
             "outlinewidth": 0,
             "ticks": ""
            },
            "colorscale": [
             [
              0,
              "#0d0887"
             ],
             [
              0.1111111111111111,
              "#46039f"
             ],
             [
              0.2222222222222222,
              "#7201a8"
             ],
             [
              0.3333333333333333,
              "#9c179e"
             ],
             [
              0.4444444444444444,
              "#bd3786"
             ],
             [
              0.5555555555555556,
              "#d8576b"
             ],
             [
              0.6666666666666666,
              "#ed7953"
             ],
             [
              0.7777777777777778,
              "#fb9f3a"
             ],
             [
              0.8888888888888888,
              "#fdca26"
             ],
             [
              1,
              "#f0f921"
             ]
            ],
            "type": "heatmap"
           }
          ],
          "heatmapgl": [
           {
            "colorbar": {
             "outlinewidth": 0,
             "ticks": ""
            },
            "colorscale": [
             [
              0,
              "#0d0887"
             ],
             [
              0.1111111111111111,
              "#46039f"
             ],
             [
              0.2222222222222222,
              "#7201a8"
             ],
             [
              0.3333333333333333,
              "#9c179e"
             ],
             [
              0.4444444444444444,
              "#bd3786"
             ],
             [
              0.5555555555555556,
              "#d8576b"
             ],
             [
              0.6666666666666666,
              "#ed7953"
             ],
             [
              0.7777777777777778,
              "#fb9f3a"
             ],
             [
              0.8888888888888888,
              "#fdca26"
             ],
             [
              1,
              "#f0f921"
             ]
            ],
            "type": "heatmapgl"
           }
          ],
          "histogram": [
           {
            "marker": {
             "pattern": {
              "fillmode": "overlay",
              "size": 10,
              "solidity": 0.2
             }
            },
            "type": "histogram"
           }
          ],
          "histogram2d": [
           {
            "colorbar": {
             "outlinewidth": 0,
             "ticks": ""
            },
            "colorscale": [
             [
              0,
              "#0d0887"
             ],
             [
              0.1111111111111111,
              "#46039f"
             ],
             [
              0.2222222222222222,
              "#7201a8"
             ],
             [
              0.3333333333333333,
              "#9c179e"
             ],
             [
              0.4444444444444444,
              "#bd3786"
             ],
             [
              0.5555555555555556,
              "#d8576b"
             ],
             [
              0.6666666666666666,
              "#ed7953"
             ],
             [
              0.7777777777777778,
              "#fb9f3a"
             ],
             [
              0.8888888888888888,
              "#fdca26"
             ],
             [
              1,
              "#f0f921"
             ]
            ],
            "type": "histogram2d"
           }
          ],
          "histogram2dcontour": [
           {
            "colorbar": {
             "outlinewidth": 0,
             "ticks": ""
            },
            "colorscale": [
             [
              0,
              "#0d0887"
             ],
             [
              0.1111111111111111,
              "#46039f"
             ],
             [
              0.2222222222222222,
              "#7201a8"
             ],
             [
              0.3333333333333333,
              "#9c179e"
             ],
             [
              0.4444444444444444,
              "#bd3786"
             ],
             [
              0.5555555555555556,
              "#d8576b"
             ],
             [
              0.6666666666666666,
              "#ed7953"
             ],
             [
              0.7777777777777778,
              "#fb9f3a"
             ],
             [
              0.8888888888888888,
              "#fdca26"
             ],
             [
              1,
              "#f0f921"
             ]
            ],
            "type": "histogram2dcontour"
           }
          ],
          "mesh3d": [
           {
            "colorbar": {
             "outlinewidth": 0,
             "ticks": ""
            },
            "type": "mesh3d"
           }
          ],
          "parcoords": [
           {
            "line": {
             "colorbar": {
              "outlinewidth": 0,
              "ticks": ""
             }
            },
            "type": "parcoords"
           }
          ],
          "pie": [
           {
            "automargin": true,
            "type": "pie"
           }
          ],
          "scatter": [
           {
            "marker": {
             "colorbar": {
              "outlinewidth": 0,
              "ticks": ""
             }
            },
            "type": "scatter"
           }
          ],
          "scatter3d": [
           {
            "line": {
             "colorbar": {
              "outlinewidth": 0,
              "ticks": ""
             }
            },
            "marker": {
             "colorbar": {
              "outlinewidth": 0,
              "ticks": ""
             }
            },
            "type": "scatter3d"
           }
          ],
          "scattercarpet": [
           {
            "marker": {
             "colorbar": {
              "outlinewidth": 0,
              "ticks": ""
             }
            },
            "type": "scattercarpet"
           }
          ],
          "scattergeo": [
           {
            "marker": {
             "colorbar": {
              "outlinewidth": 0,
              "ticks": ""
             }
            },
            "type": "scattergeo"
           }
          ],
          "scattergl": [
           {
            "marker": {
             "colorbar": {
              "outlinewidth": 0,
              "ticks": ""
             }
            },
            "type": "scattergl"
           }
          ],
          "scattermapbox": [
           {
            "marker": {
             "colorbar": {
              "outlinewidth": 0,
              "ticks": ""
             }
            },
            "type": "scattermapbox"
           }
          ],
          "scatterpolar": [
           {
            "marker": {
             "colorbar": {
              "outlinewidth": 0,
              "ticks": ""
             }
            },
            "type": "scatterpolar"
           }
          ],
          "scatterpolargl": [
           {
            "marker": {
             "colorbar": {
              "outlinewidth": 0,
              "ticks": ""
             }
            },
            "type": "scatterpolargl"
           }
          ],
          "scatterternary": [
           {
            "marker": {
             "colorbar": {
              "outlinewidth": 0,
              "ticks": ""
             }
            },
            "type": "scatterternary"
           }
          ],
          "surface": [
           {
            "colorbar": {
             "outlinewidth": 0,
             "ticks": ""
            },
            "colorscale": [
             [
              0,
              "#0d0887"
             ],
             [
              0.1111111111111111,
              "#46039f"
             ],
             [
              0.2222222222222222,
              "#7201a8"
             ],
             [
              0.3333333333333333,
              "#9c179e"
             ],
             [
              0.4444444444444444,
              "#bd3786"
             ],
             [
              0.5555555555555556,
              "#d8576b"
             ],
             [
              0.6666666666666666,
              "#ed7953"
             ],
             [
              0.7777777777777778,
              "#fb9f3a"
             ],
             [
              0.8888888888888888,
              "#fdca26"
             ],
             [
              1,
              "#f0f921"
             ]
            ],
            "type": "surface"
           }
          ],
          "table": [
           {
            "cells": {
             "fill": {
              "color": "#EBF0F8"
             },
             "line": {
              "color": "white"
             }
            },
            "header": {
             "fill": {
              "color": "#C8D4E3"
             },
             "line": {
              "color": "white"
             }
            },
            "type": "table"
           }
          ]
         },
         "layout": {
          "annotationdefaults": {
           "arrowcolor": "#2a3f5f",
           "arrowhead": 0,
           "arrowwidth": 1
          },
          "autotypenumbers": "strict",
          "coloraxis": {
           "colorbar": {
            "outlinewidth": 0,
            "ticks": ""
           }
          },
          "colorscale": {
           "diverging": [
            [
             0,
             "#8e0152"
            ],
            [
             0.1,
             "#c51b7d"
            ],
            [
             0.2,
             "#de77ae"
            ],
            [
             0.3,
             "#f1b6da"
            ],
            [
             0.4,
             "#fde0ef"
            ],
            [
             0.5,
             "#f7f7f7"
            ],
            [
             0.6,
             "#e6f5d0"
            ],
            [
             0.7,
             "#b8e186"
            ],
            [
             0.8,
             "#7fbc41"
            ],
            [
             0.9,
             "#4d9221"
            ],
            [
             1,
             "#276419"
            ]
           ],
           "sequential": [
            [
             0,
             "#0d0887"
            ],
            [
             0.1111111111111111,
             "#46039f"
            ],
            [
             0.2222222222222222,
             "#7201a8"
            ],
            [
             0.3333333333333333,
             "#9c179e"
            ],
            [
             0.4444444444444444,
             "#bd3786"
            ],
            [
             0.5555555555555556,
             "#d8576b"
            ],
            [
             0.6666666666666666,
             "#ed7953"
            ],
            [
             0.7777777777777778,
             "#fb9f3a"
            ],
            [
             0.8888888888888888,
             "#fdca26"
            ],
            [
             1,
             "#f0f921"
            ]
           ],
           "sequentialminus": [
            [
             0,
             "#0d0887"
            ],
            [
             0.1111111111111111,
             "#46039f"
            ],
            [
             0.2222222222222222,
             "#7201a8"
            ],
            [
             0.3333333333333333,
             "#9c179e"
            ],
            [
             0.4444444444444444,
             "#bd3786"
            ],
            [
             0.5555555555555556,
             "#d8576b"
            ],
            [
             0.6666666666666666,
             "#ed7953"
            ],
            [
             0.7777777777777778,
             "#fb9f3a"
            ],
            [
             0.8888888888888888,
             "#fdca26"
            ],
            [
             1,
             "#f0f921"
            ]
           ]
          },
          "colorway": [
           "#636efa",
           "#EF553B",
           "#00cc96",
           "#ab63fa",
           "#FFA15A",
           "#19d3f3",
           "#FF6692",
           "#B6E880",
           "#FF97FF",
           "#FECB52"
          ],
          "font": {
           "color": "#2a3f5f"
          },
          "geo": {
           "bgcolor": "white",
           "lakecolor": "white",
           "landcolor": "#E5ECF6",
           "showlakes": true,
           "showland": true,
           "subunitcolor": "white"
          },
          "hoverlabel": {
           "align": "left"
          },
          "hovermode": "closest",
          "mapbox": {
           "style": "light"
          },
          "paper_bgcolor": "white",
          "plot_bgcolor": "#E5ECF6",
          "polar": {
           "angularaxis": {
            "gridcolor": "white",
            "linecolor": "white",
            "ticks": ""
           },
           "bgcolor": "#E5ECF6",
           "radialaxis": {
            "gridcolor": "white",
            "linecolor": "white",
            "ticks": ""
           }
          },
          "scene": {
           "xaxis": {
            "backgroundcolor": "#E5ECF6",
            "gridcolor": "white",
            "gridwidth": 2,
            "linecolor": "white",
            "showbackground": true,
            "ticks": "",
            "zerolinecolor": "white"
           },
           "yaxis": {
            "backgroundcolor": "#E5ECF6",
            "gridcolor": "white",
            "gridwidth": 2,
            "linecolor": "white",
            "showbackground": true,
            "ticks": "",
            "zerolinecolor": "white"
           },
           "zaxis": {
            "backgroundcolor": "#E5ECF6",
            "gridcolor": "white",
            "gridwidth": 2,
            "linecolor": "white",
            "showbackground": true,
            "ticks": "",
            "zerolinecolor": "white"
           }
          },
          "shapedefaults": {
           "line": {
            "color": "#2a3f5f"
           }
          },
          "ternary": {
           "aaxis": {
            "gridcolor": "white",
            "linecolor": "white",
            "ticks": ""
           },
           "baxis": {
            "gridcolor": "white",
            "linecolor": "white",
            "ticks": ""
           },
           "bgcolor": "#E5ECF6",
           "caxis": {
            "gridcolor": "white",
            "linecolor": "white",
            "ticks": ""
           }
          },
          "title": {
           "x": 0.05
          },
          "xaxis": {
           "automargin": true,
           "gridcolor": "white",
           "linecolor": "white",
           "ticks": "",
           "title": {
            "standoff": 15
           },
           "zerolinecolor": "white",
           "zerolinewidth": 2
          },
          "yaxis": {
           "automargin": true,
           "gridcolor": "white",
           "linecolor": "white",
           "ticks": "",
           "title": {
            "standoff": 15
           },
           "zerolinecolor": "white",
           "zerolinewidth": 2
          }
         }
        },
        "xaxis": {
         "anchor": "y",
         "domain": [
          0,
          1
         ],
         "title": {
          "text": "PC 1 (95.9%)"
         }
        },
        "yaxis": {
         "anchor": "x",
         "domain": [
          0,
          1
         ],
         "title": {
          "text": "PC 2 (4.1%)"
         }
        }
       }
      },
      "text/html": [
       "<div>                            <div id=\"98729fcf-0a14-48df-8bd2-72519aead7e4\" class=\"plotly-graph-div\" style=\"height:525px; width:100%;\"></div>            <script type=\"text/javascript\">                require([\"plotly\"], function(Plotly) {                    window.PLOTLYENV=window.PLOTLYENV || {};                                    if (document.getElementById(\"98729fcf-0a14-48df-8bd2-72519aead7e4\")) {                    Plotly.newPlot(                        \"98729fcf-0a14-48df-8bd2-72519aead7e4\",                        [{\"customdata\":[[1208.0,9.313439020681283,3.516001793803219],[588.0,4.929264560523115,4.023413803847915],[1116.0,0.6750746084245072,1.5350421220716215],[144.0,4.773989127129739,4.691106486056395],[510.0,1.146713902828489,3.0839258338979803],[220.0,0.3704509770378918,0.8130408966981927],[621.0,6.127101581508115,6.695217075456673],[786.0,5.770963541666815,7.710225018763846],[428.0,58.86342381386861,24.862862835831343],[59.0,1.422938526460005,1.4958665596907812],[999.0,3.052542864203181,1.530881549702734],[1185.0,1.895341487986318,7.705043758593471],[828.0,6.687216773114365,6.035294673417861],[1477.0,9.12949560903222,4.305499602737867],[1000.0,27.192340708637087,12.213377655696425],[1248.0,22.2529691301734,9.481724710096431],[1011.0,1.424811340480727,1.5034873249680074],[336.0,5.001796304744498,5.258754201476314],[697.0,1.5661158949210556,3.9604379817260247],[556.0,7.111313868613139,7.728103150889152],[526.0,2.7304093483887195,4.131608082436519],[989.0,17.38011081964747,13.656561245866095],[143.0,0.0015548965936739,0.0426262789493258],[1419.0,66.78646783759125,21.319215153946608],[1408.0,3.474969966544914,2.944116381840994],[520.0,6.470578144008545,6.921808739630463],[178.0,23.798870894160583,15.213612043388936],[1696.0,14.280849870741928,14.542206323723622],[149.0,16.18556863975033,7.833246190081482],[1126.0,3.92283255398426,2.6675523043474456],[775.0,63.066491788321166,28.70717032933774],[469.0,9.023040697232387,5.327165489912125],[396.0,3.275853007147155,3.8825208554688455],[1439.0,7.392036857512173,3.2946130467615435],[816.0,7.116329740727937,9.41451121859902],[973.0,12.422872947080714,10.659733759002908],[1398.0,2.8649497224757043,2.720505616362175],[1193.0,1.4890986161800486,1.8770581755799007],[1423.0,0.2544727037713262,1.6550474342598598],[1216.0,6.240284272353042,5.733108839142026],[500.0,4.428749429744462,3.2688471581844456],[962.0,1.4370420848540475,1.2956713242060962],[445.0,2.3299252965336383,2.1994429012421044],[1552.0,7.6719201452251955,3.2901076883864047],[1713.0,10.305312404957348,5.439932616663432],[183.0,23.1168073296837,18.332147121806088],[74.0,5.689191757907551,4.865887340456196],[1030.0,9.19813925638704,5.235138720186978],[727.0,22.467101961677983,29.58152778303244],[85.0,6.236701642335768,9.820973279748932],[1053.0,26.98408987226148,22.537617367658054],[659.0,6.474463009428282,7.38049175228466],[1642.0,2.5638624353709702,3.181902448683545],[410.0,8.887796057633762,7.250060171797096],[145.0,42.072469966545015,27.51049091455068],[325.0,76.29388591088808,35.305086749305744],[633.0,5.773080805200605,4.241035883796933],[458.0,0.6388096867396593,4.035141857438247],[935.0,18.88731466697299,12.112911907541587],[1461.0,102.90268780413604,55.66162323106383],[1546.0,9.292984907238656,8.744762087432605],[722.0,16.17377898798662,7.217553565505397],[950.0,1.983047730383231,1.0424147354008753],[617.0,5.471148114355306,4.839999441234704],[692.0,46.210866123023074,25.25996129141813],[1273.0,2.5626701262166383,1.8569142897847115],[1002.0,3.841011823296532,2.455146677146717],[694.0,13.115848825273744,9.099162403187629],[1409.0,115.31725421989,76.39269113740848],[868.0,4.611310732208278,5.050242671080365],[407.0,3.784044251824753,3.789544780071148],[988.0,5.699179307329725,5.708095571245512],[521.0,10.995104356751895,10.13625317182838],[284.0,46.824064781022365,18.127376467072978],[1221.0,0.7715057595807338,2.711980247182638],[818.0,8.340402600365236,7.596207774714437],[893.0,9.249823220814935,8.054228583635393],[861.0,2.7900542693124097,3.4717066602509017],[1139.0,11.099006329836527,4.247429747649574],[38.0,1.3451431341242737,0.7067014043547117],[1668.0,13.394303052767274,9.16798207096119],[605.0,4.898534633515257,9.16060903212087],[423.0,6.425330368004369,4.789336013363501],[207.0,7.039049954379746,6.864192248916215],[408.0,12.00089625152062,11.84173703162975],[1441.0,7.153997490875823,3.357703058627736],[476.0,1.5971050030413625,7.743404205126755],[377.0,9.938219472323675,6.574973625316104],[534.0,10.368306626367986,7.997712724390214],[780.0,3.876197061284101,6.248961177161441],[339.0,20.18866902372263,7.307568556083335],[1655.0,1.0548091545014937,1.7966102150098742],[528.0,0.3481960918491453,1.7056890437556491],[972.0,1.552684952858831,1.5243244094354438],[822.0,6.8863252737224725,6.3540776407046105],[242.0,10.04704379562065,5.772604582495718],[501.0,10.717359051855093,11.15206201403914],[1706.0,5.793300448600997,2.209312120002283],[119.0,3.6558741066001743,3.4984963769832147],[163.0,8.371960538321156,5.517651204818419],[1555.0,9.357091126824868,5.582722500501883],[947.0,3.7850032314476816,3.512529428119133],[574.0,16.616987910584317,4.719449037634197],[797.0,10.84865134580282,4.710967928627524],[1079.0,5.442499239659418,8.370561581913883],[1054.0,5.780865077554707,5.822035305396224],[5.0,0.3411376596715323,1.6072110899723788],[557.0,13.588712458181366,8.10352699149063],[1067.0,14.527132185219044,11.133807725872243],[807.0,15.34337363138687,6.432589100710054],[629.0,17.97081812652064,15.301545931478929],[1039.0,1.0419978900547195,3.169706545845481],[1648.0,3.937993461078806,3.4575493742711307],[711.0,1.5507327782848346,2.4102068921093625],[1334.0,40.56280413625304,14.02848779118327],[266.0,3.8721529995440336,16.663062163408586],[1739.0,85.57564391347279,44.91536055293926],[1647.0,10.933397392032196,9.226323136839753],[129.0,5.755699038169139,5.749622427523075],[440.0,38.39101201338088,16.334274700963743],[670.0,5.165975231898862,15.574636782049456],[1405.0,12.468635283607584,8.257874877311416],[1503.0,4.4126872338807095,4.731968693645243],[1498.0,6.078530356599885,1.7485360742020606],[707.0,7.2372449057177555,5.124161652347606],[397.0,6.532154805352926,4.155447890844106],[150.0,5.226683204073863,8.71585439985533],[1508.0,9.15752404577226,5.376288362650658],[136.0,2.605803775090696,5.217831608177676],[1724.0,2.278901022658149,4.2228019154356105],[1580.0,7.861171779957534,6.761458567926661],[87.0,6.823384276155648,13.717326348631923],[310.0,62.61976315389295,28.225738005117297],[1109.0,7.071074266271285,5.893168385631045],[364.0,9.602077440693373,7.549219494309719],[273.0,4.5059510910888365,3.729100141465681],[737.0,9.348668928680054,4.923559587955136],[1464.0,5.140392145681204,4.767632644442933],[1300.0,10.076651364811315,9.94784265426856],[114.0,7.33718008667866,3.210110140525583],[976.0,9.92105820407583,7.442129876717391],[1179.0,41.468796475821264,29.88936142396868],[1680.0,9.090295677463477,7.257480715090459],[374.0,3.235877623173326,1.9328986224421785],[1249.0,38.50501824817493,10.142875921169914],[1522.0,2.721853140206767,2.3071165345790887],[376.0,46.88204512621815,18.37799241526002],[1516.0,0.3904989735401903,2.678613659566576],[1343.0,8.173650395377345,7.74410785477191],[527.0,31.925562652068077,23.37504588863946],[1493.0,15.631365571775978,9.73076990726422],[874.0,42.07734032846739,11.488570608248692],[1093.0,2.571429250304109,2.1455713879977862],[224.0,1.803272220955407,1.2178669453062496],[536.0,3.893823182786496,3.676382818170121],[915.0,23.819647201946477,17.348732694814895],[1075.0,38.40837258592035,19.66218992096632],[123.0,2.318903018552396,6.075609627911659],[850.0,6.87112264294446,6.318641313389604],[383.0,10.036621806568895,8.263873467805126],[880.0,10.54831109337005,7.297884631707718],[1524.0,0.1511405109488997,1.3497893448174498],[1399.0,14.92620894160584,6.743324399218283],[679.0,3.658780793795399,2.7965395246168363],[733.0,7.055520548204954,8.038655097240538],[1519.0,50.774339739125374,58.18468112394031],[1199.0,0.1753264712588412,1.0768115911478136],[571.0,2.43637374543988,10.466166574734013],[356.0,23.683510112529,16.50650760457414],[952.0,0.1859517563868763,1.4550780247396802],[20.0,9.975080310979374,11.10586780763558],[701.0,7.2017132375298525,5.210494129224016],[661.0,9.714504923205604,5.927743247371372],[467.0,3.7533405565694578,3.6274797268184784],[8.0,16.799273779652797,4.618971556822739],[1119.0,48.00333884580295,17.225185589727467],[958.0,5.375471886405149,6.032739394718934],[625.0,5.411614108119363,8.668575234667857],[232.0,2.5797967989649737,6.855100636291798],[471.0,6.003637279501196,2.9906599255065136],[368.0,0.4305149406933418,2.173765885677711],[425.0,20.78726514978511,13.35678672583554],[555.0,2.3442024026757258,0.9075729560152934],[837.0,12.748720726889584,7.333003351515166],[841.0,5.448588047445433,2.9381284727847645],[1238.0,10.249019635796728,10.64120383195686],[1518.0,7.00987349832721,4.659967643717759],[81.0,17.481877281020147,6.77469932220271],[693.0,2.172513686132136,3.226228794251717],[934.0,3.795195882755413,5.841422522516527],[1360.0,2.7149623631384565,4.685952437768361],[658.0,6.109719054136272,5.061208172570334],[9.0,8.248158264901704,8.673382392590984],[1315.0,10.74326955976271,6.973893154306688],[1621.0,0.8920953086982977,4.888769891430346],[152.0,20.72222143020069,8.502614772735372],[583.0,39.965474832724894,24.95694511703205],[452.0,80.65907504561791,30.467575119921246],[955.0,7.30708827554741,1.5936881249795063],[663.0,1.696014864659433,1.6641621920023348],[1674.0,14.964734451033912,8.356883182614911],[941.0,0.7767562918187118,0.7172655497694377],[643.0,1.33737492396592,1.001135488745011],[1553.0,1.1618893514294382,5.686141791526601],[280.0,232.01380968673965,160.0879242221965],[1143.0,0.7706424878347538,0.9358478080231656],[1254.0,17.610874866940776,8.278875106568876],[366.0,11.8466564020686,8.157805260165032],[1607.0,10.300550296532354,5.519195809969177],[485.0,2.040738575881829,7.277469603074272],[827.0,21.101642430808937,15.66325938911201],[1382.0,6.452051589112145,4.29342735139999],[896.0,0.902473673205958,1.1871437709519364],[449.0,10.30423091545004,7.837702406093235],[514.0,74.56812271897631,20.266631014708476],[771.0,27.475924289080798,16.140219404830937],[391.0,5.23572793111311,4.822793118942268],[966.0,4.785747795012646,5.826022874849145],[509.0,73.44181654881356,31.769662913711556],[1257.0,7.154082078771312,5.291613018599178],[401.0,6.817335766423868,2.9539539492738176],[461.0,25.634760872871045,16.091514417405506],[1705.0,4.16375741332114,3.48315642939483],[883.0,67.29425942822449,26.18701056445518],[993.0,13.9276215594587,16.248108163817815],[1366.0,2.253703334093742,7.515585323718195],[23.0,9.561299802312115,7.843346217178327],[1486.0,1.028436739659761,1.819166132129852],[1550.0,5.016553946167808,4.568001361120833],[1033.0,7.280313830596223,4.930081191659699],[1658.0,41.74484717153265,20.59977727185648],[967.0,1.9683517715939784,8.87905894664816],[532.0,0.5467248327250546,1.6411635001286808],[1089.0,1.7456052311434638,1.5763968320188029],[1123.0,18.933299118004864,18.681521823610364],[1323.0,5.521100593066945,5.625278677293914],[323.0,11.07189685979324,9.646349508973264],[977.0,37.32186169403893,14.3324444054692],[1233.0,80.29955520072993,25.573469068425887],[1041.0,111.74008135644928,41.30236111855987],[1626.0,9.250871350364926,6.9801266950224745],[243.0,77.08760074513383,19.179151878702807],[140.0,26.66370437956373,15.801380505156656],[1062.0,5.606748498327217,2.942796353805823],[1095.0,8.707597703771293,6.398695073207915],[647.0,42.60545449361314,31.093409217248677],[1501.0,10.399549498175205,6.440542669255974],[1164.0,6.767704056417247,5.150097355688876],[86.0,2.226629505020194,3.350179498740821],[108.0,13.2440929136255,10.659037611977354],[1017.0,65.60453543187197,9.95114169719525],[847.0,27.96864754409913,11.403439271883316],[769.0,8.38074389826643,1.9964997138733187],[1244.0,14.84665545164234,10.118429229164564],[964.0,6.486227379866274,5.651260858889089],[860.0,5.707601980687375,5.401363536424253],[1544.0,13.306562119829731,8.142373393250294],[763.0,5.902628402524356,3.2940295269338877],[862.0,3.75695825730008,2.3110882396819514],[695.0,13.408421342760546,14.200637261148009],[1309.0,7.535931797445558,12.635366507429284],[1732.0,73.4049060979325,23.256415373668908],[1447.0,5.985765472931825,3.1160500726719165],[1681.0,34.78233538625151,19.93281965794185],[1665.0,40.04606618765223,12.2548070005781],[778.0,22.05509428223801,21.576259169375],[1105.0,11.830583276307804,7.962486133791686],[984.0,118.60191415754258,31.2412599077623],[1155.0,11.826940484336902,11.757786782730488],[69.0,1.9441871958636032,6.852980995412556],[1353.0,0.5757704151459839,3.235282889000783],[39.0,33.96771498631351,11.692282362012328],[1012.0,9.614811150395408,9.443055845662332],[379.0,9.78154767335775,3.4038533868778083],[464.0,7.350651992098778,9.842589087810795],[1150.0,10.333727760036512,6.283940181048648],[744.0,5.04725279425189,6.118043816287076],[227.0,2.372721259123945,3.347629595355512],[217.0,9.83498688412485,9.386852257428052],[133.0,2.34101334397806,3.9012215989290646],[1057.0,8.55479328238965,6.567096274542044],[1695.0,3.3268647354015526,13.056863312174654],[906.0,4.223370019768734,5.80869977414543],[288.0,4.069171418795605,13.549756627260251],[1137.0,3.9066862454379607,3.251896994945608],[245.0,0.7862409709549231,1.5727542569423445],[103.0,3.323476657542615,7.446973755283205],[1712.0,20.851210842457508,12.426826821875522],[1068.0,12.120675562652067,11.521004037169536],[1200.0,4.316409956660546,6.096372724160456],[1583.0,7.324576775394711,7.015859371024277],[187.0,5.593461545773391,6.153032805929574],[1664.0,4.712298509732566,3.253750008204359],[1115.0,21.07288767867993,7.160616804662074],[380.0,40.12522838731486,62.80189964330485],[1151.0,35.41353368309029,6.640005279045382],[304.0,2.2961354736916357,2.322042875358916],[1488.0,19.905225440996382,14.669210398687005],[1418.0,3.369985078314902,3.6328219246752105],[1307.0,1.332284918645755,1.351799297916425],[1470.0,3.276545867549119,1.996376234175564],[1347.0,8.627309534671532,4.023235617361277],[648.0,17.529889940691127,20.140283000155],[1120.0,0.25121559458636,1.5810871024870128],[392.0,22.11899045772489,9.915334252368124],[1592.0,33.79468027676396,12.737694578451286],[99.0,57.519164290603086,20.318745275181875],[1154.0,6.029229869981744,6.929460681994995],[1390.0,0.7363518856448359,1.9293166193153448],[623.0,14.186516499391589,9.574868717325668],[1599.0,82.94326718369771,50.04819529520808],[864.0,8.254863328771298,7.591371895635454],[1585.0,7.121016385344318,7.255686310082699],[439.0,12.504191377737229,6.475263853847237],[470.0,7.644886709246925,22.77698471141355],[499.0,13.657338902828563,4.651506748905701],[1569.0,11.511199342305607,9.623459017575431],[559.0,7.869630474452371,3.5080626653805327],[96.0,8.709226258363664,3.141685195572059],[118.0,0.1043738594890511,0.9122302699880992],[412.0,28.10502632679611,12.074070907939795],[329.0,4.133780033455216,4.442413106206861],[1412.0,2.6333882679442486,1.4433205558337063],[474.0,5.798948353862638,4.422672360109302],[561.0,6.557195673661795,2.884164738070806],[1086.0,6.66784709549878,4.171465666457494],[488.0,9.20851286876658,6.136002992853087],[774.0,5.651472494677624,2.293417404819747],[490.0,6.775788378193423,4.304883229858512],[1654.0,4.896901611921694,4.661157210514637],[1530.0,8.304035127737064,6.383819011959782],[1131.0,212.50314495893608,68.13631012041556],[942.0,79.24987834549833,28.154447619629902],[1720.0,21.03036496350289,3.912061707107812],[1605.0,60.756462895377126,39.1260630600696],[316.0,33.34924355611321,22.25219402170389],[1448.0,2.4129015548966275,3.228990410968973],[320.0,70.52562347931874,35.880628773230306],[1677.0,4.663079759732577,3.413790126034952],[649.0,6.363939704987956,5.374562263651711],[1214.0,6.446823201794799,7.515218019680456],[1708.0,17.515612644464507,5.643742893330785],[1491.0,5.491776916058407,3.5784982029170824],[669.0,5.712730383212251,3.74763079171676],[1727.0,56.33309192518295,20.47482893637204],[1051.0,7.666618194951194,5.461348249092393],[1425.0,5.767296323753384,5.559028357361889],[1462.0,7.330450216697188,7.601249015446253],[710.0,2.8092010720802323,1.7251139328964558],[1500.0,3.973079664689811,2.365920022041037],[431.0,6.5378951870438,6.538627758381242],[777.0,8.048486446928402,5.968777338578087],[1329.0,8.948571510036402,5.50754709188496],[317.0,0.3915112720500444,1.6939640330496022],[1718.0,19.170555809002284,12.498000053626736],[1149.0,8.210450406782174,5.9051505115327],[591.0,61.44756976125304,25.605534128816107],[1692.0,2.4516532656630803,2.1021950698538614],[739.0,7.901967476429608,3.945168668385274],[1406.0,0.2983814248780297,0.1644664902322836],[443.0,2.9254373859490745,4.380297347190913],[188.0,10.025217647506048,9.280371114854264],[146.0,29.388716545015583,11.186998364943207],[447.0,50.30780413625384,16.35457889491156],[714.0,13.07315997566733,8.037423211109642],[903.0,3.461659348387853,11.32540894605564],[333.0,8.109196319951264,4.773354182541153],[77.0,2.99451433242054,8.04686406366972],[913.0,4.280570920772561,3.257010817590168],[1258.0,11.412220099604625,5.278535721871474],[1683.0,5.974230915450055,6.625121830127823],[473.0,4.522487454379383,3.555576514832799],[1472.0,10.582683337134917,10.227730471770256],[715.0,1.9402643134125628,6.652029077640306],[21.0,2.476090613594588,2.630011891886424],[1691.0,17.3141593483908,5.032646375316242],[702.0,14.562842153284672,3.390537115991962],[250.0,4.580010169555909,2.255958415247501],[1363.0,4.121891442366685,3.111639855258319],[819.0,45.511471639294406,16.060620368587127],[1128.0,66.06686435523211,22.163174176065464],[563.0,8.089554250304872,5.443920946655348],[221.0,37.197583257318485,38.82304262993794],[533.0,10.09524340404468,7.102149686090294],[168.0,41.894758401764136,15.252698628964811],[306.0,3.716431056112776,7.952940714892168],[1688.0,3.192450767944014,2.4952728937123085],[1613.0,2.564006900091242,1.5537436332818433],[199.0,4.717769730839365,4.873895025649106],[1678.0,1.3535645719284797,1.524075433493983],[1387.0,17.816049840322606,9.349077193617706],[1196.0,17.408959188717617,4.824993207435237],[1710.0,8.940383876976837,7.234939762162591],[94.0,49.22796760948789,39.38137560080298],[716.0,3.8373868993317433,9.88803990135836],[1088.0,43.47753193430657,30.20952555028445],[1281.0,8.740515225821563,5.967115401003921],[1350.0,5.842562918187442,2.868088313725888],[475.0,5.232937956204394,3.0690761849747745],[709.0,6.831652980535361,6.725960046273251],[127.0,10.05346715328466,9.834896252176152],[1638.0,69.87841678071776,48.78672110543919],[41.0,1.7162451528284546,1.1342597052098382],[840.0,4.623057994981388,5.025713254795881],[859.0,3.9654759732360696,4.122598144073964],[1376.0,1.608843236770556,6.654766381691827],[1377.0,5.434921304744498,3.004489710714209],[542.0,9.907664043491389,3.958174924178519],[1288.0,12.11051893248226,4.67996951923877],[192.0,2.631688621502712,4.344636077053412],[1295.0,3.3389736351884207,3.5779769591898494],[272.0,14.924314362836595,7.244048309387224],[708.0,17.581928413930235,10.79666235382274],[270.0,3.5556792693126518,3.139440177056356],[1485.0,86.68328010948905,29.788595634020027],[937.0,4.703461450729912,2.5405677939161824],[387.0,6.096652600365175,5.336036583783775],[787.0,8.119490761861009,6.910537906202854],[182.0,3.288548794860212,4.430534455420232],[287.0,3.593342267335743,9.000788275266913],[1383.0,105.04633325729928,55.46416109222742],[237.0,1.1207568240572046,2.902151683688603],[1662.0,9.432206793643678,7.557822326234066],[399.0,2.88836906934321,3.7245614447775353],[981.0,79.04512621654533,36.130081373125606],[311.0,37.76905651231766,32.21399583363534],[402.0,28.1038485591553,20.21911079957378],[755.0,19.76443468673963,12.434296041495903],[1511.0,3.3024885948904954,2.493721091321485],[1197.0,3.91410279805349,2.6173106313303927],[956.0,7.791657162408759,8.91972463637833],[689.0,14.81700977037726,5.046541387938204],[855.0,5.094565845498729,3.6018641495194816],[405.0,12.7992520149025,6.922457021636284],[1097.0,10.487077060523166,6.167821417613975],[1457.0,4.12075102646039,2.8263017572273887],[655.0,1.171764370437922,2.5123718930974497],[502.0,2.576988290754421,1.8394781942393137],[184.0,10.876950748935538,6.364883371868756],[889.0,15.919624391733509,11.774879978309986],[1438.0,88.71019616788321,45.51021733809645],[1132.0,51.87219206204567,19.858404623990943],[531.0,1.081328695255089,1.7570879314493255],[6.0,0.6387673927919155,0.9602262374356968],[982.0,28.652799954379564,13.499220510103518],[171.0,6.893352246806539,5.809300951763235],[609.0,1.291140605991564,3.584748929067253],[718.0,19.784617358576785,14.938500044142977],[1572.0,24.73759646821754,10.92829336963156],[1468.0,5.659720859945582,2.755858944864836],[137.0,12.013014180352805,6.783220367231538],[875.0,11.655066149634784,11.674148868702217],[446.0,36.31428680048662,14.076957398264565],[1312.0,18.19101562499974,6.113687488709075],[340.0,8.424670392335724,6.823370879059538],[1269.0,128.48689552919632,54.54621112978679],[939.0,6.136583599451124,5.106184037051763],[113.0,6.093436359489052,3.7092040159419306],[1209.0,3.4381900091240376,2.0610563056700206],[911.0,29.17930305276774,16.09823108210414],[231.0,3.165694381082614,3.71149365909116],[1636.0,12.088810732207817,15.479801981865672],[409.0,14.899354185675014,7.508354566008499],[630.0,0.1478729470802911,1.0903103838037986],[535.0,12.017805942061052,15.587335063932812],[1064.0,6.250018058090157,7.19414518453894],[1069.0,2.0992653208636423,3.38231016918748],[1340.0,24.879580196925808,5.422135212389578],[326.0,13.80817746350395,12.372584268835729],[219.0,2.130953467153379,0.8535311244437636],[770.0,12.61822869145385,11.09796174057446],[1374.0,0.2527120399939131,1.4806865062423105],[1176.0,26.411562975212465,7.763135056392964],[830.0,4.643848464112062,5.93919390911537],[570.0,7.293095631843086,2.9800664353263917],[1426.0,3.658793529501671,3.2330226638299906],[704.0,9.7177492016423,7.866551635712803],[1411.0,8.667512545620438,4.6327192903725605],[871.0,7.565836469739509,8.425993719323994],[640.0,20.766143742397517,14.858499748784276],[52.0,5.439352855079119,4.327040048222919],[1215.0,4.655351372414814,2.782412618939506],[1574.0,11.528843521901562,13.661096202460998],[1682.0,20.9787489545318,19.464281946514628],[1346.0,41.26591012773489,14.238849040471695],[810.0,63.146289537712896,42.78089740561015],[1689.0,6.268872604927005,3.298144531526301],[1106.0,1.4764688830596984,1.5740113690801576],[1639.0,5.474560903284769,4.686600825092778],[1702.0,113.00125484717168,62.0907668440685],[25.0,39.24957772582101,13.760590136273864],[1582.0,10.815560371046198,5.665203774582421],[1459.0,6.157200901003675,3.424945439559051],[782.0,5.4350916210461975,4.335428547464633],[1284.0,7.109052805656801,7.6355224093412914],[1428.0,70.31710956508516,32.52445913964233],[820.0,8.384763819192303,5.112710544340224],[917.0,0.4679207534971965,2.0389256978751216],[1313.0,9.92940104166735,7.263321307202637],[836.0,5.393790393096085,3.473680109665335],[314.0,25.675839225973423,17.991311747551737],[1568.0,6.238157694647202,6.571662899314805],[141.0,5.502421684914829,2.079432533460704],[684.0,9.705101885636422,12.55240557513147],[228.0,3.3522662902942515,6.274553910414744],[1594.0,8.782961146593474,7.795091722730569],[1092.0,4.9458133743915536,4.572164890017284],[159.0,2.160570160431224,6.338698563661684],[986.0,8.273615704835672,3.98594948098943],[848.0,9.22893447764604,6.188332129110276],[17.0,19.17836925942793,11.437523818807607],[1378.0,1.5748868993313638,5.803900820210949],[1049.0,0.7446158378953921,2.0556875500094134],[946.0,11.797185504105704,8.95724840878175],[960.0,1.273572460461011,2.1811645483767754],[312.0,8.498919365875889,5.139822602283964],[315.0,34.62403056569343,11.041863201721762],[1191.0,8.173536819495151,7.54056057861002],[1564.0,14.959894407694884,12.1162258418271],[1617.0,4.84629191377832,7.870946478522061],[1081.0,0.5074099946773726,0.8810202312058253],[801.0,103.51022658150852,15.471527409964256],[1130.0,1.3708188868613476,6.847240335392638],[1436.0,6.636619240418985,5.082151642278947],[496.0,8.235002281021897,7.009616095239328],[1496.0,35.73665801779153,10.102354158858786],[544.0,3.3085633363745486,2.992752233486121],[1627.0,25.51506995133761,14.963532570595405],[944.0,22.370092666512114,18.574790073017727],[156.0,8.069303623023144,3.772537106496738],[831.0,11.022740077554811,7.495446140395063],[788.0,5.973463921837113,3.4814783691192037],[46.0,12.264209340784516,13.315964793960667],[135.0,29.064037503802588,11.47534009481154],[201.0,4.55619069343047,3.7785817093404814],[480.0,156.78958143247948,47.72396684522519],[83.0,50.299806113137954,12.5553280511706],[415.0,27.902930923052786,13.827717979716311],[1666.0,8.69999040069952,6.593416974528155],[98.0,22.128155413625304,11.04760275834902],[1730.0,4.749501596715551,4.578761593906195],[262.0,40.675088674726425,21.815561382407918],[857.0,37.42793282390332,15.30426771179431],[54.0,4.435176969281993,6.354602999820383],[1616.0,11.51862454379567,10.194006562140196],[463.0,23.106952364660216,11.714856660396055],[244.0,4.402428813108326,2.737430874693631],[269.0,4.614318164537682,2.77210825578214],[268.0,3.235134390206795,3.403579617799441],[1042.0,3.8395771555650207,12.633118314451036],[1251.0,29.53712505702543,8.921943968376821],[1446.0,6.987671551855085,7.756363901275918],[1237.0,38.36883069114917,23.14568644741281],[1576.0,3.878115210613797,2.5597016053422106],[1728.0,11.34312794631994,7.765168616375377],[1455.0,3.068025775547589,3.8988944660555696],[1557.0,18.102122110705874,4.342649888898911],[945.0,0.8111803337895593,0.5902198092426609],[1.0,10.120175828771004,7.542017312769009],[1141.0,5.943023399483171,5.1971933911352455],[1482.0,54.13783074817518,17.02852047900263],[1671.0,1.1805290069952488,0.9845653343213934],[802.0,10.1692152334247,7.036992456597915],[1375.0,6.53011547673353,3.075270201418992],[289.0,20.97374287180636,7.839191865638825],[1203.0,23.74481000988323,20.779770240624053],[1308.0,3.86880512469629,7.109702030888762],[84.0,6.480841316910063,5.935996809162509],[897.0,5.7296903512773465,6.200873779174812],[846.0,15.436405964872389,16.32043560776345],[983.0,4.003168909671512,3.155759483215359],[18.0,4.519666685675196,1.6047171003065888],[1029.0,3.3714900775548613,2.402828498042742],[1596.0,49.48652296228792,23.039313256374907],[1697.0,6.2654062119828975,6.888547753410754],[936.0,3.316628649635112,3.866609701803512],[1147.0,16.7888222323617,13.932156876696787],[539.0,44.08595080596198,20.79537736662176],[1512.0,2.441181569342946,9.885022702105305],[1085.0,8.378616370133726,6.634509577271595],[375.0,4.841438564476923,5.114800083773432],[963.0,25.96152334246446,14.009153781337746],[1229.0,3.816731295620461,3.731065169062701],[758.0,2.6378255208332586,3.281930410667389],[844.0,10.690518647353995,9.587790738116697],[721.0,79.19069343065945,38.51573007442101],[518.0,5.798195141423336,2.9946495909656154],[815.0,2.875153683849913,2.3273989270173896],[949.0,10.610507337287345,7.811093952128231],[40.0,44.97466564018317,46.918371438540525],[185.0,11.769068867851082,7.560071009139513],[1736.0,1.163833922597337,6.919522946669593],[462.0,10.85420506386788,7.545429045911278],[31.0,6.364992396593221,2.432032254061556],[33.0,6.532482892335656,6.541241567820408],[1319.0,12.208915184002464,7.831494288890541],[599.0,84.65569827782778,45.59681026994925],[907.0,118.28088883819952,39.93329021336584],[854.0,12.95800591164757,12.221059316642211],[1514.0,4.702045791514551,4.898229972742882],[789.0,8.259269502737249,4.31173773030594],[595.0,6.188441871958699,5.985351992583369],[1299.0,72.72619183394161,55.68730615433186],[1385.0,12.249452554744517,10.27358483648504],[1335.0,4.4358135644767245,4.0464508063612445],[1741.0,4.106202953923365,2.499870507775115],[1449.0,10.61049555200748,10.395643267934812],[1255.0,49.22632147202106,19.52418546097124],[1065.0,1.6435371046227991,1.2891129309541804],[248.0,10.864263800182394,9.719832311917886],[1379.0,42.80274197840615,24.82658961970125],[765.0,3.458276307785892,4.521116908883884],[1480.0,75.67923129562044,31.78175619984622],[971.0,0.1298025015206814,1.1165713931724774],[1431.0,12.91120171836983,10.139966792679797],[1163.0,21.880432728861745,10.678145981863755],[653.0,21.86160802539546,7.645613997056397],[785.0,8.64501881843086,5.326038494454691],[167.0,3.059686264446812,3.493673967151287],[1157.0,1.5481732816301614,7.061237758750101],[1144.0,12.651267868007308,6.518976944916664],[450.0,3.162159367397426,2.798749858718381],[672.0,22.210431873480285,8.646523298807988],[1709.0,23.227285774022267,17.16904562004907],[1578.0,6.6094392487840805,8.927950625132961],[781.0,21.74464691681817,10.324167032157872],[424.0,4.516808280109561,2.9485600572525947],[348.0,1.3789148038319214,5.189533616785381],[404.0,1.4912351733579208,2.1679885336334483],[1526.0,4.512260017487936,2.534209402352394],[1311.0,7.903271365573347,4.279079101901174],[1061.0,0.5804160013686066,2.0972442474295057],[870.0,0.9696913967474317,3.348842329771147],[1101.0,3.732640472931789,4.937176491926243],[717.0,18.07770120514125,13.476014495198928],[459.0,4.574128079378927,2.8109583009183425],[1094.0,3.4690541362530394e-05,0.0022808829904103],[1129.0,2.563354907998832,4.147989537289032],[260.0,55.61929174270148,23.221550764045304],[1445.0,8.08365514750564,7.482748758102947],[1043.0,3.053834492852572,2.6977592481567423],[1239.0,0.2330515320863751,1.4278330803940915],[1317.0,10.255362112226324,6.457525276814486],[1324.0,5.520870970194452,5.13529485436951],[1161.0,0.2593474376520609,0.5527457720887498],[1245.0,7.43187385948906,8.076994068644172],[444.0,0.8966373935521149,1.0610820526531508],[627.0,3.707404767335776,1.6165564387980724],[1628.0,19.38585386253041,25.66617253750516],[1077.0,43.14366721791489,18.44620212183919],[764.0,102.42505892639905,61.97655079810789],[1415.0,0.9402771441607216,3.733326242780143],[1633.0,2.111996274331032,3.59540825787846],[1414.0,0.3939229774939172,0.4886204400526479],[161.0,3.307232740267591,3.819130911467252],[212.0,3.224504828163097,3.2660295324048274],[685.0,17.155824304288597,10.043162422050768],[1122.0,60.50622785507807,17.40803800665486],[1326.0,4.284681987530441,6.918559557424608],[696.0,0.5338252737226872,0.5703098584427989],[154.0,15.44900015206793,9.08316431642142],[51.0,32.762245571015235,8.821423060990673],[732.0,2.3305205482054183,3.736572708518508],[302.0,2.138338275547569,1.6992349544275709],[1265.0,14.985319057938543,15.749135776916916],[1005.0,4.301462515206254,3.7441561456562464],[987.0,7.029272163929405,7.258404469200064],[516.0,0.2046984298965363,0.4653703325994351],[1463.0,16.691219776460535,8.542468862485242],[1055.0,0.6421770453163155,2.851124340081057],[1397.0,18.89709027144096,13.69617381669052],[1167.0,2.399095289690885,5.412376424975289],[362.0,11.912053489961936,6.8723909163082455],[10.0,1.8144094054138584,1.8440231851568207],[576.0,0.4305989583333329,2.3681532375955805],[1322.0,3.68807424726274,7.63504473642319],[660.0,41.17857103482376,14.52127599938282],[798.0,2.56634162104624,1.9744761876324823],[417.0,11.678125950425764,5.4945868536274185],[487.0,0.8347124011551488,0.9144900328179892],[296.0,11.558488822992356,12.223964712211972],[265.0,14.455210234185309,10.878253972164678],[1656.0,3.4368601733577195,1.810562671897836],[639.0,61.37748251216541,41.45326718803514],[1046.0,43.33288900927634,10.553324835481355],[1586.0,4.851320616635768,6.829354856745434],[1672.0,39.83444048433639,26.23105995117689],[751.0,1.1706640625001803,1.1515859928508332],[607.0,22.882859260948603,10.963745801153806],[991.0,1.5063740305656814,4.001843255811324],[1351.0,7.3843155983883,8.465650425511399],[664.0,6.602747205748015,8.856295374773723],[1717.0,14.32175629182074,5.7861814333029145],[264.0,32.872854318733545,16.395274875220903],[1356.0,9.201409671532623,10.37814502027388],[1473.0,7.664070103406315,4.015706020149713],[372.0,13.822457991182011,10.009347225496876],[867.0,60.03805314780993,21.67662078012578],[726.0,140.54563944647202,46.485235623919046],[611.0,19.03378031858418,16.492873957483024],[155.0,17.46969557861935,9.305780358318176],[1060.0,5.910677653587827,6.861272480879312],[1623.0,7.373545848540146,5.131719844979224],[637.0,12.839187956203546,11.051027953975996],[1653.0,3.9478087933393815,2.585590266506789],[1384.0,9.25071947232366,5.321477358833175],[337.0,2.039301056873562,4.853788583621281],[278.0,12.337872566910027,8.721194996931189],[1279.0,10.737459131691004,7.948375705231681],[1201.0,7.831935827251251,8.228844820153663],[545.0,8.172940427311431,3.126017201653526],[768.0,6.727774102797908,4.922236524210953],[524.0,0.4365191605839433,1.877556851046672],[257.0,0.0292279691301703,0.5138465673770771],[30.0,1.398242662712925,0.7684517438799995],[1134.0,1.7666671418795423,3.460648748522529],[493.0,82.17828229546748,28.24066623033822],[560.0,64.90300524634914,22.197873726183328],[292.0,13.215131729014455,9.5622905377641],[324.0,10.862484032846565,5.471141904417683],[27.0,19.806740419708028,15.227861804079756],[1327.0,0.1422564058698297,0.940881869959421],[1646.0,2.2471634542272403,2.462529680094668],[1602.0,2.4813678527981406,2.3928204055698896],[957.0,21.44132071167883,13.073346040552977],[749.0,4.702611770073032,6.01071843738344],[92.0,3.599127699208363,3.643663686915618],[116.0,0.4114569076946446,1.8464882376217469],[1218.0,4.892718312803824,3.55325982154017],[1381.0,4.938995970194556,4.449609826232366],[979.0,34.27110021289452,8.612733204246247],[1483.0,7.734373099148378,5.896012932903225],[47.0,0.093245799118005,0.9896651365105038],[334.0,6.8018214910281705,7.006541646378525],[1502.0,9.191967001216543,6.449849411798188],[687.0,3.4144662408758446,2.928922427411028],[1451.0,30.69634656325592,11.621877042901891],[1253.0,36.37867425106415,5.534506056812529],[179.0,2.792685998327236,8.940554868211482],[1034.0,16.096001558696777,13.87435064913042],[70.0,15.681984869221283,10.496508350357653],[1649.0,6.063754086830936,10.861619956715725],[1113.0,3.614490191605841,4.989563401572046],[442.0,41.28866332116788,23.47624632872475],[1047.0,0.7437205368004683,2.540217930516948],[328.0,3.0187186359489067,13.085071703803411],[12.0,12.135724129409835,9.02512111778506],[1052.0,23.63693031478112,16.857984279450726],[1606.0,20.060122509884284,12.70439660960299],[169.0,3.493873935523132,3.480163670018448],[1644.0,10.737452478710525,8.16828828257939],[773.0,23.04431132147174,15.74402803244608],[1050.0,4.254576585309171,3.4612632441252704],[434.0,11.642318183546235,3.2157483475092468],[666.0,5.563986465933226,17.81051702049485],[153.0,51.279430885040576,36.10422706207464],[1117.0,4.50266071700121,4.210048470917938],[724.0,9.95142563868614,5.2595515868362455],[1614.0,6.19973920316269,4.766301572545809],[1542.0,3.4828467153284373,2.660522022897024],[1429.0,11.699641689476811,7.472292240229837],[277.0,20.82105383211679,10.78498972814991],[923.0,7.412709093675074,12.054205885754277],[386.0,47.4846221107056,22.966103616041096],[460.0,17.410458010197527,20.131294988002736],[530.0,26.01511177007299,12.98278535615952],[44.0,4.0095512089411525,13.789849768835785],[1142.0,6.086088142487847,3.112630488034266],[1341.0,3.056327364658685,6.552902565624937],[667.0,11.197752813259454,10.22290773820857],[1271.0,5.631737853558303,3.65507005061191],[678.0,7.489073619981799,4.463837538441838],[151.0,7.152396023418665,8.268121581770185],[1235.0,1.8065189704987712,1.3426956179577278],[254.0,4.704260283607138,4.776810512220513],[713.0,7.665266119220078,5.765117053947189],[381.0,3.0487440123177985,4.861357477738849],[71.0,22.47820673661801,12.34342185114276],[196.0,2.675666343521718,1.937677695420426],[246.0,4.957352969130187,2.477734396794724],[251.0,0.3491731295620587,1.6838660054330152],[1566.0,75.1525604470805,33.04765207110179],[1178.0,4.003368118916705,3.772648511508988],[881.0,5.4912879219890325,3.7020492142175656],[195.0,38.52243955291971,27.238288053320087],[858.0,5.684605003041737,12.114249588189145],[804.0,3.290670145225013,5.410446051197845],[82.0,53.91414290602332,23.415408964238303],[1573.0,32.09738062652068,21.01897822429089],[741.0,6.323820996806545,12.147173997810052],[204.0,23.36128250456201,12.930569797393064],[1598.0,7.010363442822328,6.409361937492691],[134.0,11.110678223843763,9.721145853636411],[1359.0,14.85767373783366,12.820033479517912],[322.0,73.9258216431843,78.03206561714985],[180.0,4.770656554136221,3.638985277280761],[852.0,19.31349091392888,18.65066772734434],[995.0,2.9136846107056487,2.899354202593017],[1275.0,11.970556759428224,5.074332524637394],[746.0,2.3886305314778866,1.2778726209328295],[791.0,4.998870609032827,2.7780293552705824],[1025.0,2.86620238366778,2.7114865580576413],[1231.0,4.2204084930048005,7.857842151960082],[76.0,0.4020762051398338,1.1304839681780636],[1481.0,12.91095603330261,11.721292547228192],[394.0,0.0007584397810218,0.0061112284449432],[676.0,8.14427083333327,7.414236452028628],[1634.0,52.25468911572481,16.92881180943864],[799.0,3.1434596449209264,2.40655180321723],[486.0,3.4946212553221083,2.2823841908223303],[229.0,3.436580938260375,1.7338343541177876],[565.0,5.98596601277363,4.757101198034365],[959.0,3.241675410584165,4.024675390730988],[115.0,6.248484070863724,6.2200040051258565],[1567.0,7.516544061739629,7.87251360633233],[1393.0,4.6444594928528105,2.898331150552393],[165.0,31.38987691985914,13.001858855731424],[505.0,2.6450849680643853,6.8494838097638],[579.0,17.700068145528125,13.122045683861993],[537.0,26.471297141119223,24.46489674054513],[1673.0,6.246708675486561,5.86061339265457],[933.0,1.0079892791970808,8.572314473546266],[921.0,48.04139104318735,28.342356921331778],[223.0,16.949512621653962,9.59690764440281],[36.0,8.184334321776602,5.52902516314014],[398.0,3.908162256691056,4.653342829534506],[369.0,7.185993194951184,5.471917102637227],[1478.0,3.138207116787613,6.182714030756088],[953.0,7.162685333029214,4.511658208760407],[568.0,3.238160070711636,6.135312546855778],[34.0,8.356470023570594,5.108335674318183],[757.0,1.3697146821776107,4.683768839977512],[1650.0,6.931314628953636,6.915922616995284],[683.0,8.863432367700636,6.963826706166319],[1615.0,36.68442062043796,16.25677959161958],[734.0,36.649739583333336,33.86012342701208],[1078.0,5.208948734032842,1.970310684029789],[230.0,1.114613271746124,1.2034378034713828],[300.0,4.932196148874461,4.468996368419304],[240.0,3.000804060218968,5.386016841546712],[1532.0,15.263802083333356,2.7872771320603564],[1437.0,13.260929421380805,7.777925175290561],[345.0,2.1393325159673227,1.9520973179678316],[686.0,4.067757280262416,2.4225979655679337],[674.0,1.426625703315081,8.347769859387725],[1247.0,3.9573025965631743,3.313830756346375],[1102.0,15.919443905871823,7.83897902963059],[1104.0,3.890466754105836,1.5601396229164906],[759.0,12.655589929288189,11.451850545150792],[1388.0,67.09451034063261,36.67745752116562],[719.0,16.98743270985337,13.019832984581448],[349.0,8.508640796076568,2.3040058417846256],[1734.0,1.9919668111311977,1.073762182877546],[762.0,18.789390491940598,16.87149644551752],[350.0,3.440838370590135,2.579871992312995],[1545.0,0.202082382907354,1.3620853037036382],[1194.0,10.68756729014358,5.697126733567612],[965.0,3.946500627281111,3.651834719893665],[927.0,14.729758972018962,13.643108053956476],[1013.0,2.4548842381385523,10.435249114599754],[645.0,36.133027296228406,10.936867380563424],[1294.0,15.335329227493917,51.656365227957785],[970.0,37.44433166058192,18.965441129190204],[355.0,4.4933997680962,5.451325779440081],[569.0,6.352177425486587,5.0951427971251215],[794.0,12.652436701642028,17.18522887299844],[635.0,7.665702839872268,3.731773068973989],[370.0,1.9052549041970028,2.5208532358264253],[1171.0,20.579344206204546,17.292986138644128],[969.0,1.9149278626827184,2.2345729921572244],[1667.0,14.922084568886875,14.822916717283409],[1074.0,0.4712059002433084,2.108542524852862],[360.0,4.312703010949581,4.657524378583861],[209.0,2.6250703315088155,3.8240790297272462],[1400.0,11.680151592913289,8.725238525764606],[1073.0,4.871579892792025,5.863041660555893],[274.0,8.504650528437177,8.173369115998147],[1622.0,11.105408397962483,11.885683664242707],[567.0,23.746492928832115,11.004226120003818],[503.0,12.558890282846605,8.128318076919122],[513.0,35.55194922825455,14.668612360439893],[575.0,19.2118907770635,31.596016331168908],[378.0,5.779943164537679,4.710762745485657],[1466.0,13.398988746958638,6.862198836299397],[1080.0,0.7519954189479422,2.8916171811255382],[1183.0,0.3623427045316257,4.621860407754949],[421.0,9.7314762013382,11.143816009035744],[1716.0,2.7599929668496626,2.3244152398481046],[1723.0,46.943010093523306,22.056948712103136],[1282.0,15.142418738593776,9.768091502565024],[1182.0,1.1690702934914374,5.205868484449155],[1187.0,29.51238708941628,16.631769734400013],[1386.0,9.167751102493767,5.543943391944751],[436.0,29.680967248324848,16.515143397890334],[1076.0,0.0302377965328467,0.5390700123055698],[45.0,61.98098293036045,19.803687785002552],[1620.0,61.83746768552312,44.80425765394976],[258.0,2.5940959549877785,2.9149838344646013],[1731.0,2.8220270681265047,4.336449068628429],[335.0,42.40031554136225,10.92671023800124],[1637.0,19.083451281174437,13.918815328662689],[1166.0,22.507099680657856,16.192324540063527],[1124.0,8.048605250152168,6.742588400591008],[1679.0,28.558797141118912,13.776291346837144],[1291.0,3.9771715328467376,4.747245595168751],[429.0,3.314892221714602,4.781378656806532],[416.0,19.003769388686543,14.825535774529138],[895.0,3.759976619525213,3.1438278790719623],[909.0,18.847523190389296,8.510750482651995],[147.0,26.911393609336827,12.773184585199449],[1494.0,20.93320407542579,14.194813145051349],[1618.0,5.63437404957461,5.639076562121043],[1738.0,34.74564676475024,14.223295347962637],[1006.0,3.2358690693430465,1.36389214330562],[1735.0,3.255051608120233,2.679477303356915],[1121.0,7.164355706356296,17.154161938555813],[1165.0,49.870097133518136,26.705761515003992],[1138.0,39.92456470498784,16.53640829265001],[753.0,17.360479299725853,10.05056519863223],[1331.0,33.51171494829987,24.42668966889998],[1339.0,26.21292769160605,21.661890203768184],[1133.0,9.209799555201483,5.394430890744739],[1391.0,6.888819190997565,6.428698229550868],[419.0,2.386496825577961,2.423760920964836],[1010.0,6.5849460158154764,7.100587831179618],[1362.0,6.050794555960943,6.355143781140753],[943.0,14.825596297142376,7.763636271032386],[938.0,4.226999695864224,1.857666272781344],[1651.0,3.6345693620742017,3.257786595636751],[1401.0,2.83441634352231,3.671397264588343],[1278.0,11.912152049117632,9.58483233302336],[1422.0,0.6688906630170316,0.4706549333886932],[88.0,31.96414043491484,18.75548416098006],[1032.0,60.8949998099168,14.802117211464402],[35.0,81.34777600364637,37.92496280774383],[688.0,2.842974927767758,2.2509956398664293],[876.0,4.653358804744429,3.1137481564193594],[100.0,3.5054393818456027,5.582300869747535],[1372.0,5.21295002661168,16.459242794198545],[1003.0,4.0026307785884665,16.327306642046405],[318.0,112.06837933394183,43.06838780380812],[1380.0,25.49278436739728,12.437607645420265],[856.0,16.312116503193472,15.246375139988343],[1474.0,4.817409899634785,4.386996255464569],[519.0,7.945371046228701,2.7090332655397558],[1589.0,5.513557823905085,4.274380383185911],[56.0,4.722173908911221,3.758549644469733],[13.0,10.530915450121562,5.580255783079977],[1660.0,7.875419612986626,4.729057551964679],[235.0,5.620526821015906,4.201983524375092],[427.0,5.796312728102493,3.568535690336644]],\"hovertemplate\":\"<b>%{hovertext}</b><br><br>PC 1 (95.9%)=%{x}<br>PC 2 (4.1%)=%{y}<br>ID=%{customdata[0]}<br>mean=%{customdata[1]}<br>std=%{customdata[2]}<br>cluster=%{marker.color}<extra></extra>\",\"hovertext\":[\"Stadhuis/Gemeentehuis\",\"Academie\",\"Cultureel centrum\",\"Lagere school\",\"Andere gebouwen\",\"Ontmoetingscentrum\",\"Werkplaats\",\"Academie\",\"RVT/WZC/revalidatiecentrum\",\"Kerk\",\"Cultureel centrum\",\"Kerk\",\"Bibliotheek\",\"Museum\",\"Administratief centrum\",\"Ontmoetingscentrum\",\"Jeugdhuis\",\"Lagere school\",\"Administratief centrum\",\"Academie\",\"Fontein\",\"Sporthal\",\"Kast\",\"Administratief centrum\",\"Ontmoetingscentrum\",\"Stadion\",\"OCMW Administratief centrum\",\"Bibliotheek\",\"Administratief centrum\",\"Containerpark\",\"Zwembad\",\"Administratief centrum\",\"Lagere school\",\"Andere gebouwen\",\"Museum\",\"Werkplaats\",\"Ontmoetingscentrum\",\"Sporthal\",\"Kast\",\"Lagere school\",\"Werkplaats\",\"Cultureel centrum\",\"Sporthal\",\"Andere gebouwen\",\"Brandweerkazerne\",\"Museum\",\"Sporthal\",\"Ontmoetingscentrum\",\"Andere gebouwen\",\"Sporthal\",\"Cultureel centrum\",\"Lagere school\",\"Sporthal\",\"Stadhuis/Gemeentehuis\",\"Stadhuis/Gemeentehuis\",\"Ontmoetingscentrum\",\"Administratief centrum\",\"Andere gebouwen\",\"Stadhuis/Gemeentehuis\",\"RVT/WZC/revalidatiecentrum\",\"Bibliotheek\",\"Cultureel centrum\",\"Administratief centrum\",\"Buitengewoon middelbaar onderwijs (BUSO)\",\"Administratief centrum\",\"Algemene middelbare school\",\"Stadhuis/Gemeentehuis\",\"Administratief centrum\",\"RVT/WZC/revalidatiecentrum\",\"Kinderdagverblijf/BKO/IBO\",\"Sporthal\",\"Administratief centrum\",\"Dienstencentrum/CAW/dagverblijf\",\"RVT/WZC/revalidatiecentrum\",\"Andere gebouwen\",\"Sporthal\",\"Dienstencentrum/CAW/dagverblijf\",\"Museum\",\"Stadhuis/Gemeentehuis\",\"RVT/WZC/revalidatiecentrum\",\"Cultureel centrum\",\"Andere gebouwen\",\"Ontmoetingscentrum\",\"Stadion\",\"Bibliotheek\",\"Ontmoetingscentrum\",\"Sporthal\",\"Stadhuis/Gemeentehuis\",\"Lagere school\",\"Ontmoetingscentrum\",\"Andere gebouwen\",\"Lagere school\",\"Andere gebouwen\",\"Ontmoetingscentrum\",\"Sporthal\",\"OCMW Administratief centrum\",\"Sportcomplex\",\"School\",\"Lagere school\",\"Cultureel centrum\",\"Administratief centrum\",\"Sporthal\",\"RVT/WZC/revalidatiecentrum\",\"Cultureel centrum\",\"Sportcomplex\",\"Voetbalveld\",\"Kast\",\"Administratief centrum\",\"Ontmoetingscentrum\",\"Politiegebouw\",\"Sportcomplex\",\"Andere gebouwen\",\"Administratief centrum\",\"Cultureel centrum\",\"RVT/WZC/revalidatiecentrum\",\"Kast\",\"RVT/WZC/revalidatiecentrum\",\"Zwembad\",\"Werkplaats\",\"Stadhuis/Gemeentehuis\",\"Sportcomplex\",\"Werkplaats\",\"Lagere school\",\"Jeugdhuis\",\"Andere gebouwen\",\"Ontmoetingscentrum\",\"Ontmoetingscentrum\",\"Sporthal\",\"Jeugdhuis\",\"Ontmoetingscentrum\",\"Werkplaats\",\"Looppiste\",\"OCMW Administratief centrum\",\"Lagere school\",\"Sportcomplex\",\"Werkplaats\",\"Sporthal\",\"Sporthal\",\"Algemene middelbare school\",\"Stadhuis/Gemeentehuis\",\"Sporthal\",\"Bibliotheek\",\"Werkplaats\",\"Administratief centrum\",\"Brandweerkazerne\",\"Dienstencentrum/CAW/dagverblijf\",\"Zwembad\",\"Kast\",\"Academie\",\"Academie\",\"Administratief centrum\",\"Zwembad\",\"OCMW Administratief centrum\",\"Ontmoetingscentrum\",\"Lagere school\",\"Sporthal\",\"RVT/WZC/revalidatiecentrum\",\"Stadion\",\"Sporthal\",\"Andere gebouwen\",\"Sporthal\",\"Kast\",\"Stadhuis/Gemeentehuis\",\"Bibliotheek\",\"Sporthal\",\"Straatverlichting\",\"Andere gebouwen\",\"Kast\",\"Sporthal\",\"Pomp\",\"Sportcomplex\",\"Cultureel centrum\",\"Jeugdhuis\",\"Cultureel centrum\",\"Brandweerkazerne\",\"RVT/WZC/revalidatiecentrum\",\"Andere gebouwen\",\"Stadion\",\"Kast\",\"Administratief centrum\",\"Kast\",\"Administratief centrum\",\"Andere gebouwen\",\"Academie\",\"Jeugdhuis\",\"Lagere school\",\"Ontmoetingscentrum\",\"Stadhuis/Gemeentehuis\",\"Kleuterschool\",\"School\",\"Stadion\",\"Ontmoetingscentrum\",\"Sporthal\",\"Dienstencentrum/CAW/dagverblijf\",\"Andere gebouwen\",\"Sporthal\",\"Administratief centrum\",\"Zwembad\",\"Brandweerkazerne\",\"Ontmoetingscentrum\",\"Sporthal\",\"Ontmoetingscentrum\",\"Administratief centrum\",\"Cultureel centrum\",\"Stadion\",\"Bibliotheek\",\"Administratief centrum\",\"Stadhuis/Gemeentehuis\",\"Jeugdhuis\",\"Administratief centrum\",\"Sportcomplex\",\"Administratief centrum\",\"Werkplaats\",\"Ontmoetingscentrum\",\"Administratief centrum\",\"Cultureel centrum\",\"Sporthal\",\"Cultureel centrum\",\"Bibliotheek\",\"Sporthal\",\"Administratief centrum\",\"Sporthal\",\"Lagere school\",\"RVT/WZC/revalidatiecentrum\",\"Buitengewoon lager onderwijs (MPI)\",\"Kast\",\"Academie\",\"Andere gebouwen\",\"Lagere school\",\"Lagere school\",\"Sporthal\",\"Kast\",\"Andere gebouwen\",\"Ontmoetingscentrum\",\"Sportcomplex\",\"Sporthal\",\"Algemene middelbare school\",\"Museum\",\"Sporthal\",\"RVT/WZC/revalidatiecentrum\",\"Cultureel centrum\",\"Museum\",\"Kerk\",\"Stadhuis/Gemeentehuis\",\"Werkplaats\",\"Administratief centrum\",\"Administratief centrum\",\"Ontmoetingscentrum\",\"Sporthal\",\"Lagere school\",\"Brandweerkazerne\",\"RVT/WZC/revalidatiecentrum\",\"Politiegebouw\",\"Kinderdagverblijf/BKO/IBO\",\"Academie\",\"Bibliotheek\",\"Stadhuis/Gemeentehuis\",\"Werkplaats\",\"Administratief centrum\",\"Academie\",\"Stadion\",\"RVT/WZC/revalidatiecentrum\",\"Andere gebouwen\",\"Museum\",\"RVT/WZC/revalidatiecentrum\",\"Stadion\",\"Administratief centrum\",\"RVT/WZC/revalidatiecentrum\",\"Academie\",\"Kast\",\"Kast\",\"RVT/WZC/revalidatiecentrum\",\"Cultureel centrum\",\"Dienstencentrum/CAW/dagverblijf\",\"RVT/WZC/revalidatiecentrum\",\"Dienstencentrum/CAW/dagverblijf\",\"School\",\"OCMW Administratief centrum\",\"Sporthal\",\"Ontmoetingscentrum\",\"Cultureel centrum\",\"Kast\",\"Andere gebouwen\",\"Administratief centrum\",\"Sportcomplex\",\"Andere gebouwen\",\"Andere gebouwen\",\"Cultureel centrum\",\"Sporthal\",\"Stadion\",\"Sporthal\",\"Museum\",\"Cultureel centrum\",\"Museum\",\"OCMW Woningen\",\"Zwembad\",\"Cultureel centrum\",\"Cultureel centrum\",\"School\",\"Kinderdagverblijf/BKO/IBO\",\"Dienstencentrum/CAW/dagverblijf\",\"Andere gebouwen\",\"Administratief centrum\",\"Andere gebouwen\",\"Stadhuis/Gemeentehuis\",\"Cultureel centrum\",\"Sportcomplex\",\"Lagere school\",\"Cultureel centrum\",\"Lagere school\",\"RVT/WZC/revalidatiecentrum\",\"Lagere school\",\"Andere terreinen\",\"Cultureel centrum\",\"Andere gebouwen\",\"Museum\",\"Brandweerkazerne\",\"Stadhuis/Gemeentehuis\",\"OCMW Woningen\",\"Andere gebouwen\",\"Sportcomplex\",\"Sporthal\",\"Museum\",\"Werkplaats\",\"Academie\",\"Administratief centrum\",\"Stadhuis/Gemeentehuis\",\"Andere gebouwen\",\"Dienstencentrum/CAW/dagverblijf\",\"Sportcomplex\",\"Lagere school\",\"Ziekenhuis\",\"RVT/WZC/revalidatiecentrum\",\"Zwembad\",\"Zwembad\",\"Sporthal\",\"Ontmoetingscentrum\",\"RVT/WZC/revalidatiecentrum\",\"OCMW Administratief centrum\",\"Algemene middelbare school\",\"Administratief centrum\",\"Administratief centrum\",\"Administratief centrum\",\"Cultureel centrum\",\"RVT/WZC/revalidatiecentrum\",\"Lagere school\",\"Bibliotheek\",\"Sporthal\",\"Cultureel centrum\",\"Cultureel centrum\",\"Lagere school\",\"Sporthal\",\"Sporthal\",\"Andere gebouwen\",\"Sporthal\",\"Lagere school\",\"Stadhuis/Gemeentehuis\",\"Andere gebouwen\",\"Stadhuis/Gemeentehuis\",\"Zwembad\",\"Cultureel centrum\",\"Sporthal\",\"Cultureel centrum\",\"Sporthal\",\"Cultureel centrum\",\"Sporthal\",\"Cultureel centrum\",\"Andere gebouwen\",\"Lagere school\",\"Ontmoetingscentrum\",\"Algemene middelbare school\",\"Werkplaats\",\"Andere gebouwen\",\"Andere gebouwen\",\"Cultureel centrum\",\"Politiegebouw\",\"Andere gebouwen\",\"Kinderdagverblijf/BKO/IBO\",\"Administratief centrum\",\"Museum\",\"Administratief centrum\",\"Cultureel centrum\",\"Straatverlichting\",\"Stadhuis/Gemeentehuis\",\"Administratief centrum\",\"Stadion\",\"Cultureel centrum\",\"RVT/WZC/revalidatiecentrum\",\"Lagere school\",\"Ontmoetingscentrum\",\"OCMW Woningen\",\"Politiegebouw\",\"Cultureel centrum\",\"Algemene middelbare school\",\"Straatverlichting\",\"Sporthal\",\"Parking\",\"Cultureel centrum\",\"Dienstencentrum/CAW/dagverblijf\",\"Andere gebouwen\",\"Lagere school\",\"Bibliotheek\",\"Werkplaats\",\"School\",\"Ontmoetingscentrum\",\"Andere gebouwen\",\"Administratief centrum\",\"Tennisveld\",\"Administratief centrum\",\"Cultureel centrum\",\"Andere gebouwen\",\"Sporthal\",\"Cultureel centrum\",\"Sporthal\",\"School\",\"Sporthal\",\"Sporthal\",\"Ontmoetingscentrum\",\"Sporthal\",\"Andere gebouwen\",\"Zwembad\",\"Andere gebouwen\",\"Sporthal\",\"School\",\"RVT/WZC/revalidatiecentrum\",\"Sporthal\",\"Algemene middelbare school\",\"Stadhuis/Gemeentehuis\",\"Administratief centrum\",\"Bibliotheek\",\"Academie\",\"Zwembad\",\"OCMW Administratief centrum\",\"Cultureel centrum\",\"Lagere school\",\"Cultureel centrum\",\"Stadion\",\"Werkplaats\",\"Administratief centrum\",\"Andere gebouwen\",\"Sporthal\",\"Sporthal\",\"Andere gebouwen\",\"Kerk\",\"Stadhuis/Gemeentehuis\",\"Bibliotheek\",\"Andere gebouwen\",\"Andere gebouwen\",\"Stadhuis/Gemeentehuis\",\"Sporthal\",\"Bibliotheek\",\"Lagere school\",\"Cultureel centrum\",\"Museum\",\"Sporthal\",\"Sportcomplex\",\"School\",\"Cultureel centrum\",\"Andere gebouwen\",\"Administratief centrum\",\"Lagere school\",\"RVT/WZC/revalidatiecentrum\",\"Administratief centrum\",\"Ontmoetingscentrum\",\"Technische middelbare school\",\"Lagere school\",\"Sporthal\",\"Administratief centrum\",\"Werkplaats\",\"Jeugdhuis\",\"Sporthal\",\"Kast\",\"Brandweerkazerne\",\"School\",\"Ontmoetingscentrum\",\"Bibliotheek\",\"Administratief centrum\",\"Administratief centrum\",\"Sporthal\",\"Algemene middelbare school\",\"Lagere school\",\"Cultureel centrum\",\"Academie\",\"Administratief centrum\",\"Administratief centrum\",\"Museum\",\"Museum\",\"Cultureel centrum\",\"Ontmoetingscentrum\",\"Sportcomplex\",\"RVT/WZC/revalidatiecentrum\",\"Werkplaats\",\"Administratief centrum\",\"Ontmoetingscentrum\",\"Sportcomplex\",\"Cultureel centrum\",\"Administratief centrum\",\"Andere gebouwen\",\"Sporthal\",\"Cultureel centrum\",\"Administratief centrum\",\"Sporthal\",\"OCMW Administratief centrum\",\"Voetbalveld\",\"Kast\",\"Sporthal\",\"Lagere school\",\"Andere gebouwen\",\"Administratief centrum\",\"Administratief centrum\",\"Sporthal\",\"Andere gebouwen\",\"Andere gebouwen\",\"Kinderdagverblijf/BKO/IBO\",\"Ontmoetingscentrum\",\"Kinderdagverblijf/BKO/IBO\",\"Museum\",\"Sporthal\",\"Administratief centrum\",\"Academie\",\"Ontmoetingscentrum\",\"Politiegebouw\",\"Stadhuis/Gemeentehuis\",\"Ontmoetingscentrum\",\"Werkplaats\",\"Zwembad\",\"Ontmoetingscentrum\",\"Administratief centrum\",\"Bibliotheek\",\"Stadhuis/Gemeentehuis\",\"Museum\",\"Cultureel centrum\",\"OCMW Administratief centrum\",\"OCMW Woningen\",\"OCMW Administratief centrum\",\"Museum\",\"Administratief centrum\",\"Andere gebouwen\",\"Sporthal\",\"Cultureel centrum\",\"Ontmoetingscentrum\",\"RVT/WZC/revalidatiecentrum\",\"Stadhuis/Gemeentehuis\",\"Sporthal\",\"Sporthal\",\"Zwembad\",\"Ontmoetingscentrum\",\"Stadhuis/Gemeentehuis\",\"Andere gebouwen\",\"Sportcomplex\",\"OCMW Administratief centrum\",\"Lagere school\",\"RVT/WZC/revalidatiecentrum\",\"Stadhuis/Gemeentehuis\",\"Sporthal\",\"Ontmoetingscentrum\",\"Stadhuis/Gemeentehuis\",\"Andere gebouwen\",\"Sporthal\",\"Bibliotheek\",\"Administratief centrum\",\"Cultureel centrum\",\"Administratief centrum\",\"Sporthal\",\"Stadhuis/Gemeentehuis\",\"Sporthal\",\"Kast\",\"Sporthal\",\"Werkplaats\",\"Sportcomplex\",\"Ontmoetingscentrum\",\"Bibliotheek\",\"Ontmoetingscentrum\",\"RVT/WZC/revalidatiecentrum\",\"Lagere school\",\"Cultureel centrum\",\"Werkplaats\",\"Zwembad\",\"Sporthal\",\"Museum\",\"Lagere school\",\"Sportcomplex\",\"Dienstencentrum/CAW/dagverblijf\",\"Lagere school\",\"School\",\"RVT/WZC/revalidatiecentrum\",\"Sporthal\",\"Museum\",\"Sporthal\",\"Straatverlichting\",\"Sporthal\",\"Kast\",\"Werkplaats\",\"Academie\",\"Lagere school\",\"Sporthal\",\"Museum\",\"Cultureel centrum\",\"Sporthal\",\"Lagere school\",\"Administratief centrum\",\"Sporthal\",\"Museum\",\"Lagere school\",\"Buitengewoon lager onderwijs (MPI)\",\"OCMW Woningen\",\"Sporthal\",\"RVT/WZC/revalidatiecentrum\",\"Stadhuis/Gemeentehuis\",\"Algemene middelbare school\",\"Sportcomplex\",\"Stadion\",\"Administratief centrum\",\"Academie\",\"Sporthal\",\"RVT/WZC/revalidatiecentrum\",\"Andere gebouwen\",\"Cultureel centrum\",\"Kleuterschool\",\"Stadion\",\"Werkplaats\",\"Sportcomplex\",\"Cultureel centrum\",\"Stadhuis/Gemeentehuis\",\"Sporthal\",\"Bibliotheek\",\"Brandweerkazerne\",\"Andere gebouwen\",\"Ontmoetingscentrum\",\"Cultureel centrum\",\"Administratief centrum\",\"Andere gebouwen\",\"Stadhuis/Gemeentehuis\",\"Lagere school\",\"Sportcomplex\",\"Sporthal\",\"Andere gebouwen\",\"Sportcomplex\",\"RVT/WZC/revalidatiecentrum\",\"Cultureel centrum\",\"Werkplaats\",\"Pomp\",\"Cultureel centrum\",\"Kleuterschool\",\"Kinderdagverblijf/BKO/IBO\",\"Lagere school\",\"Werkplaats\",\"Administratief centrum\",\"RVT/WZC/revalidatiecentrum\",\"Administratief centrum\",\"Administratief centrum\",\"Administratief centrum\",\"Cultureel centrum\",\"Andere gebouwen\",\"Sporthal\",\"Bibliotheek\",\"Stadhuis/Gemeentehuis\",\"RVT/WZC/revalidatiecentrum\",\"Lagere school\",\"RVT/WZC/revalidatiecentrum\",\"Lagere school\",\"Zwembad\",\"Sporthal\",\"Andere gebouwen\",\"Lagere school\",\"Sporthal\",\"Bibliotheek\",\"Andere gebouwen\",\"Ontmoetingscentrum\",\"Andere gebouwen\",\"Werkplaats\",\"Ontmoetingscentrum\",\"Cultureel centrum\",\"Ontmoetingscentrum\",\"Kast\",\"Lagere school\",\"RVT/WZC/revalidatiecentrum\",\"Jeugdhuis\",\"Cultureel centrum\",\"Ontmoetingscentrum\",\"Lagere school\",\"Andere gebouwen\",\"Administratief centrum\",\"Museum\",\"Zwembad\",\"Sporthal\",\"RVT/WZC/revalidatiecentrum\",\"Kleuterschool\",\"Andere gebouwen\",\"Laadeiland\",\"Sporthal\",\"Stadion\",\"OCMW Administratief centrum\",\"Administratief centrum\",\"Kleuterschool\",\"Ontmoetingscentrum\",\"Administratief centrum\",\"RVT/WZC/revalidatiecentrum\",\"Administratief centrum\",\"Lagere school\",\"Administratief centrum\",\"Lagere school\",\"Park\",\"Algemene middelbare school\",\"Stadhuis/Gemeentehuis\",\"Stadhuis/Gemeentehuis\",\"Ontmoetingscentrum\",\"Cultureel centrum\",\"Academie\",\"Lagere school\",\"Administratief centrum\",\"OCMW Administratief centrum\",\"Andere gebouwen\",\"Andere gebouwen\",\"Administratief centrum\",\"Ontmoetingscentrum\",\"Zwembad\",\"RVT/WZC/revalidatiecentrum\",\"Sporthal\",\"Administratief centrum\",\"Sporthal\",\"Andere gebouwen\",\"School\",\"Ontmoetingscentrum\",\"Cultureel centrum\",\"Kinderdagverblijf/BKO/IBO\",\"Lagere school\",\"Andere gebouwen\",\"Ontmoetingscentrum\",\"Sporthal\",\"Zwembad\",\"Sporthal\",\"Kast\",\"Academie\",\"Ontmoetingscentrum\",\"Buitengewoon middelbaar onderwijs (BUSO)\",\"Sporthal\",\"Brandweerkazerne\",\"Andere gebouwen\",\"Academie\",\"Andere gebouwen\",\"Stadion\",\"Stadion\",\"Sporthal\",\"Andere gebouwen\",\"Andere gebouwen\",\"Sporthal\",\"Sportcomplex\",\"Sporthal\",\"Academie\",\"Sporthal\",\"Administratief centrum\",\"Cultureel centrum\",\"Brandweerkazerne\",\"Andere gebouwen\",\"Bibliotheek\",\"Werkplaats\",\"Andere gebouwen\",\"Ontmoetingscentrum\",\"Cultureel centrum\",\"Stadhuis/Gemeentehuis\",\"Museum\",\"Academie\",\"Stadhuis/Gemeentehuis\",\"Sporthal\",\"Ontmoetingscentrum\",\"Sporthal\",\"Ontmoetingscentrum\",\"Museum\",\"Technische middelbare school\",\"RVT/WZC/revalidatiecentrum\",\"Andere gebouwen\",\"Cultureel centrum\",\"Ontmoetingscentrum\",\"Sporthal\",\"Werkplaats\",\"Sporthal\",\"Stadhuis/Gemeentehuis\",\"Sporthal\",\"Museum\",\"Andere gebouwen\",\"RVT/WZC/revalidatiecentrum\",\"Werkplaats\",\"Ontmoetingscentrum\",\"Administratief centrum\",\"Andere gebouwen\",\"Sporthal\",\"Sportcomplex\",\"Andere gebouwen\",\"Stadion\",\"Andere gebouwen\",\"Sporthal\",\"Lagere school\",\"Lagere school\",\"Straatverlichting\",\"Dienstencentrum/CAW/dagverblijf\",\"Sporthal\",\"Cultureel centrum\",\"Werkplaats\",\"Andere gebouwen\",\"Werkplaats\",\"Ontmoetingscentrum\",\"Sportcomplex\",\"Museum\",\"Sporthal\",\"Pomp\",\"Lagere school\",\"RVT/WZC/revalidatiecentrum\",\"Academie\",\"Cultureel centrum\",\"Andere gebouwen\",\"Kinderdagverblijf/BKO/IBO\",\"Cultureel centrum\",\"Lagere school\",\"Sporthal\",\"Ontmoetingscentrum\",\"Brandweerkazerne\",\"Sportcomplex\",\"Administratief centrum\",\"Algemene middelbare school\",\"Lagere school\",\"Andere gebouwen\",\"Cultureel centrum\",\"Administratief centrum\",\"Administratief centrum\",\"Andere gebouwen\",\"Administratief centrum\",\"Academie\",\"Administratief centrum\",\"Andere gebouwen\",\"Cultureel centrum\",\"Stadion\",\"Sporthal\",\"Bibliotheek\",\"Cultureel centrum\",\"Andere gebouwen\",\"Brandweerkazerne\",\"Ontmoetingscentrum\",\"Sporthal\",\"Andere gebouwen\",\"Zwembad\",\"Ontmoetingscentrum\",\"Andere gebouwen\",\"Politiegebouw\",\"Kast\",\"Bibliotheek\",\"Tennisveld\",\"Werkplaats\",\"Sporthal\",\"RVT/WZC/revalidatiecentrum\",\"Technische middelbare school\",\"Ontmoetingscentrum\",\"Andere gebouwen\",\"Administratief centrum\",\"Ontmoetingscentrum\",\"Andere gebouwen\",\"Cultureel centrum\",\"Administratief centrum\",\"Buitengewoon middelbaar onderwijs (BUSO)\",\"Andere gebouwen\",\"Administratief centrum\",\"Andere\",\"Cultureel centrum\",\"Bibliotheek\",\"Academie\",\"Ontmoetingscentrum\",\"Administratief centrum\",\"Ontmoetingscentrum\",\"Sportcomplex\",\"Ontmoetingscentrum\",\"Lagere school\",\"Laadeiland\",\"Cultureel centrum\",\"Ontmoetingscentrum\",\"Cultureel centrum\",\"Sporthal\",\"Werkplaats\",\"School\",\"Sportcomplex\",\"Brandweerkazerne\",\"Jeugdhuis\",\"Administratief centrum\",\"Cultureel centrum\",\"Administratief centrum\",\"Andere gebouwen\",\"Cultureel centrum\",\"Andere gebouwen\",\"Ontmoetingscentrum\",\"RVT/WZC/revalidatiecentrum\",\"Bibliotheek\",\"Andere gebouwen\",\"Administratief centrum\",\"OCMW Administratief centrum\",\"Academie\",\"Andere gebouwen\",\"Zwembad\",\"Cultureel centrum\",\"Ontmoetingscentrum\",\"Sportcomplex\",\"Zwembad\",\"Sporthal\",\"Lagere school\",\"Sporthal\",\"Andere gebouwen\",\"Cultureel centrum\",\"Sporthal\",\"Sportcomplex\",\"Sporthal\",\"RVT/WZC/revalidatiecentrum\",\"Stadhuis/Gemeentehuis\",\"Cultureel centrum\",\"Sporthal\",\"RVT/WZC/revalidatiecentrum\",\"OCMW Administratief centrum\",\"Andere gebouwen\",\"Sportcomplex\",\"Administratief centrum\",\"OCMW Administratief centrum\",\"Andere gebouwen\",\"Cultureel centrum\",\"Cultureel centrum\",\"Stadhuis/Gemeentehuis\",\"Ontmoetingscentrum\",\"Ontmoetingscentrum\",\"Bibliotheek\",\"Kinderdagverblijf/BKO/IBO\",\"Cultureel centrum\",\"Administratief centrum\",\"Andere gebouwen\",\"Andere gebouwen\",\"Lagere school\",\"Andere gebouwen\",\"Stadhuis/Gemeentehuis\",\"Zwembad\",\"Ontmoetingscentrum\",\"School\",\"Cultureel centrum\",\"Bibliotheek\",\"Kast\",\"Andere gebouwen\",\"Bibliotheek\",\"Lagere school\",\"Sporthal\",\"Lagere school\",\"Sporthal\",\"Lagere school\",\"Ontmoetingscentrum\",\"Administratief centrum\",\"Cultureel centrum\",\"Werkplaats\",\"Administratief centrum\"],\"legendgroup\":\"\",\"marker\":{\"color\":[6,0,0,0,0,0,0,0,2,0,0,0,0,6,3,3,0,0,0,6,0,3,0,1,0,0,3,6,6,0,1,6,0,0,6,6,0,0,0,0,0,0,0,0,6,3,0,6,3,6,3,6,0,6,2,1,0,0,3,5,6,6,0,0,2,0,0,6,5,0,0,0,6,2,0,6,6,0,6,0,6,0,0,6,6,0,0,6,6,0,3,0,0,0,0,6,6,0,0,6,6,0,6,6,0,0,0,6,6,6,3,0,0,0,2,6,1,6,0,2,6,6,0,0,0,0,0,6,0,0,6,6,1,0,6,0,6,0,6,0,6,2,6,0,2,0,2,0,6,3,6,2,0,0,0,3,2,0,0,6,6,0,6,0,6,1,0,0,3,0,6,0,6,0,6,2,0,0,0,0,0,3,0,6,0,6,0,6,0,0,0,0,6,6,0,3,2,1,0,0,6,0,0,0,4,0,6,6,6,0,3,0,0,6,1,3,0,0,1,0,0,3,0,1,6,0,6,0,0,0,2,0,0,0,3,0,6,2,1,5,6,1,3,0,6,2,6,0,0,6,2,3,0,6,0,0,6,0,0,6,6,1,0,2,2,3,6,5,6,0,0,3,6,6,6,6,0,0,6,0,6,6,0,6,0,0,0,3,6,0,6,0,0,3,2,3,0,3,0,0,0,0,3,0,3,3,2,0,0,6,1,6,6,6,6,6,6,0,0,0,3,0,0,0,0,0,6,0,0,0,6,4,1,6,1,3,0,1,0,0,6,6,0,0,2,0,0,6,0,0,0,6,6,0,3,6,1,0,0,0,0,6,3,2,6,0,0,0,0,6,0,0,6,0,0,6,6,0,0,2,1,6,2,6,2,0,0,0,0,0,6,6,6,2,0,2,6,0,0,0,6,1,0,0,0,0,0,6,6,0,0,6,6,0,1,0,0,6,0,0,5,0,6,0,1,2,3,3,0,0,6,6,0,6,6,0,0,0,6,6,1,2,0,0,3,0,0,3,3,0,6,6,3,6,6,5,0,0,0,3,0,6,6,0,6,0,0,3,6,0,6,0,3,0,0,0,6,6,6,3,0,0,6,3,2,1,0,0,0,5,2,6,0,0,6,1,6,0,6,0,3,0,0,6,0,6,0,0,0,6,3,0,0,6,0,6,3,6,6,0,0,1,0,0,6,3,0,3,3,0,6,0,6,3,0,5,2,3,6,3,0,2,2,0,6,3,0,0,0,6,3,6,2,0,6,0,6,0,6,0,2,0,6,0,3,3,0,0,0,6,0,0,0,2,0,0,3,2,0,6,0,3,0,0,6,1,0,0,6,2,6,0,6,0,0,6,1,5,6,0,0,0,1,6,0,0,6,2,0,6,2,0,1,0,6,3,3,6,0,0,6,0,3,3,6,3,0,0,0,0,0,0,0,0,3,0,0,0,2,6,0,0,6,0,0,6,0,0,3,2,5,0,0,0,0,0,6,2,0,0,6,3,0,0,6,0,6,0,6,0,3,0,6,0,0,0,2,0,6,0,6,6,0,1,2,0,2,0,3,0,6,6,6,3,6,0,6,2,5,3,6,0,0,6,0,6,0,6,6,6,0,0,0,0,0,0,1,1,6,6,3,0,0,0,3,0,0,0,0,0,3,6,0,6,6,0,3,3,0,6,6,6,0,2,0,6,6,3,3,0,6,3,0,6,6,2,0,6,0,0,6,3,6,2,3,3,6,0,0,6,0,0,6,0,0,6,0,3,0,0,0,1,0,0,2,6,0,2,3,6,3,0,6,6,1,0,3,0,6,0,0,0,0,0,6,0,6,2,0,0,0,0,0,0,6,0,3,0,3,3,0,0,2,6,6,0,0,0,0,0,6,0,6,6,2,2,0,0,0,0,6,6,0,0,0,0,6,0,6,1,6,0,0,3,0,0,6,0,6,0,3,3,2,0,0,6,0,0,3,0,6,0,0,0,6,0,6,6,3,6,3,3,0,6,0,0,6,0,2,6,0,3,6,3,0,2,1,0,0,2,3,3,6,3,0,0,3,0,6,3,3,0,3,0,0,6,2,2,6,2,3,6,0,0,0,0,6,0,0,0,6,0,3,2,1,0,0,0,6,6,5,3,3,0,0,0,0,6,0,0,0],\"coloraxis\":\"coloraxis\",\"symbol\":\"circle\"},\"mode\":\"markers\",\"name\":\"\",\"orientation\":\"v\",\"showlegend\":false,\"x\":[-8.380177549402802,-12.168315033284957,-17.06931442418302,-12.035372425926267,-16.00294985311712,-17.643720303962528,-9.978136310764746,-9.88554945667575,45.56472071995281,-16.403690295719226,-14.903742660025756,-13.42078923645742,-9.738743693037932,-8.223372684516393,11.493582913698642,5.86771132932409,-16.39883698220206,-11.594370340067883,-15.259987083162786,-8.65642372475396,-14.12832654137416,3.1416192649729306,-18.296799030519285,51.33105167404935,-13.93773737319149,-9.57193935230364,9.633225548819448,0.6802923567069314,-0.34080541124100217,-13.64311362096418,50.97670381643491,-7.9003715046399385,-13.73346209505621,-10.222795078284806,-7.958682775490271,-2.6091222313733176,-14.58574136637134,-16.186749943877974,-17.403360227526818,-10.270388804961726,-12.934834408455865,-16.47319041806864,-15.28769584681273,-9.969401154058529,-6.685156586208647,10.2931713759552,-11.129349332917629,-7.7786772166341525,14.324753170517422,-8.593507537469778,15.547202119322552,-9.379881466309858,-14.670696334557835,-7.233424746720963,31.346128576453427,65.74697379195169,-11.309565109185264,-16.074698252640083,3.881301381293744,98.37110201649777,-6.2496622542043525,-0.604695422825921,-16.079464646561068,-11.33862344243371,34.193801147531815,-15.216360282381636,-13.80494524045961,-2.618869642183582,118.20950758711683,-12.03616141000055,-13.308444841881297,-10.77389234403558,-4.12623654072036,31.821085142703012,-16.497588777481443,-7.590125274725134,-6.572733966327037,-14.34533989526171,-6.451781289369817,-16.79937505602748,-2.3367977490063527,-10.084889551402997,-10.489700574213957,-9.077501445279278,-2.508056814059488,-10.41385960778829,-13.677187025314566,-6.553194335757,-5.576353402101891,-12.213502384458238,3.0923616932164584,-16.615707136275866,-17.297410630906192,-16.273740069627472,-9.426255168833436,-6.783813488536318,-3.9617646672769844,-12.126370500514442,-13.54486288199439,-8.415761105028604,-7.490813601980394,-13.421549709043415,-1.2274310038248488,-6.4894689005107695,-9.913803046544345,-10.652767173166,-17.343978032454867,-2.5971746211678517,-0.4961302735841007,-1.6843335108978144,4.356346969265128,-16.063150558131387,-13.304405797587682,-15.911409041431313,24.428401300028927,-7.9366539944890855,78.15843890347998,-4.556062764280837,-10.705469647750116,23.396405057755356,-7.2047305409780975,-3.554708472160287,-12.347971267064164,-12.055701470359505,-9.611887977748829,-10.6528640494024,-9.968372273182844,-7.757646245408457,-13.795698146649022,-14.502404130449934,-8.370097508735569,-6.457231535908669,50.371282565475596,-9.447186740992073,-6.459211388285461,-12.675212575381668,-7.769544603983045,-11.670018028159848,-5.040691636896278,-10.307415273439258,-6.2125360123039295,31.773611933654472,-7.045766780052283,-14.571369869493015,20.955421881427426,-14.886169717885844,31.976906020889967,-16.858594075307934,-7.681326724623625,20.39625897599175,-0.06608014684773085,24.764999460996886,-15.089592893300528,-16.17133527172228,-13.254801279073325,10.529723050430775,24.779773012511466,-13.704650290640966,-9.454735303971074,-5.7694116520676895,-5.699980407232936,-17.62300874004844,-1.936860877831735,-13.83084011462332,-8.579686461187018,51.88672626493818,-17.713525337086665,-11.792583939026706,10.059422990151992,-17.548194349996468,-4.657368901341342,-9.608757338037154,-7.023251514558391,-13.40305937012064,-1.1027987133010968,32.525288096274714,-10.935699741855105,-9.819397570709869,-13.146148371186383,-11.613423171621022,-17.029622216529976,6.124486820185451,-15.80588186111715,-3.6795226564870553,-12.141001812121898,-4.598541372432654,-10.00989688327898,0.4056214333437083,-15.009222482558394,-12.454859420998078,-13.91472595279983,-10.665638843187905,-7.231457991848037,-5.655455523120977,-15.492881474168811,4.070037469008897,28.375811520882884,67.73803922279512,-10.999588039637207,-16.085681824242975,-1.2385178455860668,-17.312905688255068,-16.685224505761262,-14.91922819040987,258.9939207741483,-17.228415781456068,1.141681575275093,-4.162897361796527,-6.657009301834435,-13.463946248219903,7.359281378810429,-10.669127327917499,-17.005271090627936,-5.700633365520083,57.992560384701804,13.366133142852027,-11.560358124497709,-11.558158888790228,61.69363876220912,-9.61886200211917,-10.886779554409424,11.667594225141407,-13.088246656532235,53.79480934742764,1.0594731760649319,-13.171943011920119,-6.375497193692754,-16.630409194986647,-11.864859060553593,-9.652507801251593,28.206999546785326,-12.871596889738262,-17.14296172559565,-16.07651402994108,6.622990234343773,-10.97039906886824,-4.257278513805562,21.598783401111024,65.39867225281564,100.52545112536349,-7.013309105347382,59.84237094777024,12.48643254103041,-11.994881045594706,-7.74753162601283,33.30473596148731,-6.18791844749144,-10.029267095295955,-14.908907952590575,-1.8608545400670173,45.581103715504995,11.868245642200792,-9.855156596732431,-0.6221043489443625,-10.079819569626094,-10.892359726747358,-2.8382802659833235,-11.58063660286691,-13.940786513205676,-0.2553120456442196,-6.252395185971628,58.16087861557487,-11.578127807995436,21.58568440118324,23.228131859905837,10.658680029546206,-4.257769571859545,102.6454847949057,-2.7011914967584993,-13.726447511932452,-16.460966390102033,17.45577517656227,-5.669230531532025,-7.999626767220416,-7.568916254536362,-6.312459159621738,-11.199772002585377,-14.776909732559979,-5.491707023868136,-14.578109765077805,-7.817596810353683,-9.915974750238394,-12.078216058261358,-9.036905694938648,-13.417843857477973,-16.952562336847883,-12.225170911057358,5.800591849631629,-2.5307634474894223,-11.875061986730516,-8.75473106465125,-10.687460113864088,-12.682520750206189,3.838002928826129,44.07663559228632,16.697326521617303,-15.268074527919097,5.859824053542757,-13.750262737571921,-16.545802394886472,-14.5081106467772,-8.797215837492223,5.943144716493414,-17.43704812777086,5.924030075897569,17.727935944288426,42.47174815374212,-9.971027520811308,-16.85162588879556,-1.4473108668152026,77.8683669871623,-7.670030454522712,-8.84160649753521,-4.255013154427184,-1.9843071882131058,-3.9533972213379176,-3.866184636437769,-9.699638547344113,-9.085034391858123,-17.845759510735384,12.268353492549041,-12.72140995751416,-15.321926250623964,-11.211408994760996,-11.152460494059731,-10.522501461235171,-7.398941581600306,-12.220901327581435,-10.369413787343785,-11.935730348462872,-8.12156291840306,203.41293078525618,65.50247002171257,2.464052250418692,53.15332510997339,21.23254195427846,-14.789001583133949,60.724983687442915,-12.661689199475832,-10.305039435038191,-9.349742528470715,-0.028271878992835474,-11.8383334009609,-11.567458367836602,41.454590567007756,-9.081807045669597,-10.773163853652141,-8.50878670606884,-15.045772987445167,-13.721229200272782,-9.668023309672396,-8.52525829009383,-7.894180819312152,-17.262415411928597,4.297706194535758,-8.403641989336627,48.22586334271358,-15.21661533699792,-9.490471949919803,-17.976226025500825,-13.848324915267128,-5.361996598987563,13.073949277484884,34.26829349408331,-3.0942773047147902,-10.505013639680959,-8.961173182358456,-12.27846317624349,-13.074674353213853,-5.742451833024185,-10.146276026622267,-12.731459056062912,-4.464382496717804,-13.812634751419013,-14.977320219828773,-0.46312446864307955,-3.6463747112703047,-13.213321788258488,-13.279017692955632,29.774860148095218,51.02209328878864,-8.703499285762007,31.55178958406532,-6.193473089431819,26.145713853015923,-11.658956209474885,-14.379823005313204,-15.339690090131155,-12.011544919300974,-16.455261029200717,1.7686588987519474,-0.46203555725702844,-7.191662602936862,42.748587664856785,-10.75307790547759,33.736352987456904,-7.8950647461794485,-11.810681918057568,-12.283710545704865,-9.323092745633362,-5.108240266657891,65.4398186341918,-16.28510192992482,-12.03548192278088,-13.00614724939085,-14.113587323364854,-12.126345290350145,-7.656820176749633,-5.351779241952124,-14.131035225457264,-13.801136779010125,-1.7328106272680417,2.1501902715518124,-13.783884248848826,72.95071361866957,-12.983612416809782,-10.564603635546751,-8.073365890749564,-13.496878532174485,-11.340496107212765,100.24441054276222,-16.101307938738316,-6.6105288312785575,-14.1516761827164,68.59394014548221,29.356326252742104,15.615115676124704,4.812961679022256,-14.280088249688445,-13.671652578820696,-7.54636852592638,-2.734042236664337,-12.191088668862687,-3.8022883174736064,-6.22021805295156,-13.397497201717961,-16.21495562339997,-15.210169527537431,-5.783787487706437,1.0368614588610072,81.26053401264076,37.13453856452856,-16.607703681784457,-17.33891437262144,13.353446267621859,-9.643835525155854,-15.665131770167696,5.860653816147484,8.727624013397334,-12.023420433982052,-4.5762255803439285,-2.892336026515755,20.57534161183974,0.7806203559158538,-7.830878806682786,121.23596044022963,-10.622599264294667,-11.236177947155921,-14.334370861684485,14.90176866017196,-13.90418445153655,-0.9328103587220999,-1.6468830063782842,-17.732661525714736,-0.9531857436501754,-9.66095472379317,-15.011894364510606,6.593715756232182,-0.6422894840240102,-16.0222965343755,-2.2510704005557884,-17.476635872399328,8.952445512226507,-11.641039757044469,-10.442197620426741,-13.65136590431761,-6.223353501615493,-8.5099799337641,-7.955222172671704,6.722557231410337,-11.578467316641026,-12.928069291661526,-2.19057817323642,8.8094979237637,25.155933213794384,56.83411191010805,-11.245148175642692,-16.32274573896039,-11.39864700823989,110.21986944220262,23.12100143574514,-6.127320102040027,-11.294849479056122,-11.579005797033789,-8.696579625603304,59.15553265899341,-8.570401649147481,-17.05099277552584,-6.278429855200282,-11.970855373455343,12.486025292247959,-9.927713198855706,-12.444806195355724,-4.309018145539424,-12.680593273959248,-7.1049434319992395,-11.927711896902464,-13.740554351816641,-9.134875654925299,-7.358772956370863,3.868920384817644,-14.494280127289048,-16.79217966081322,-3.8794069113935334,-16.258222180182056,-8.455231229226463,17.78686573150837,-7.765226027313559,0.30219706831383614,-10.662493810967423,-17.490976750295165,82.40585774489605,-14.251429585527728,-10.176641595435203,-7.927374308018303,18.415076476555004,-14.069451967889798,11.094894758313574,9.712221114173301,-9.408862099606761,-5.186198360396682,-11.43911475992842,-1.6624223690171553,12.896295156802086,-12.609234071062888,144.23314017980513,32.6993379437287,12.804947388434242,-7.674466254747633,6.397767834852082,-12.104176799782243,27.731344404201078,22.095030332493476,-11.660705992004809,-3.625023802464006,7.564311138462196,-13.177130925701203,-12.969701045389284,-13.967587394629506,-9.62298325546945,12.278302612875484,-8.757414341733547,26.175543260674417,-13.728180794186272,-4.783318611299088,-13.916270804504705,-0.028382824353002066,-17.333711100903567,-5.990019577638955,-10.761641055407237,38.03690941834913,-16.83498181145891,-6.152908907399349,-11.098623480024882,4.026404922110325,11.871670017271015,-11.866444700973867,-9.96775479665586,-10.543593847294606,2.464708406462136,-13.369337264072144,-13.53590514746294,-14.25455188374888,36.2673038015828,-9.772562809576714,-13.7029812398324,2.7159479580435577,30.42168329758666,-12.027393855980568,-7.950547070708068,-11.79973747664338,11.109792430650886,-13.302833630358766,-14.562018258612301,-4.629031860042602,69.70731648096233,-11.798994367148673,-14.737999204482973,-5.432367244245602,41.96895052006681,-4.479333510180463,-14.410437785819578,-5.319317539005847,-11.513523967976386,-9.67185636774065,-3.9668199563280937,77.59995199643933,105.9256029995167,-1.4796807288658034,-12.015868833011222,-9.014115342087614,-10.213932521428996,70.87226268137071,-2.9259992329035085,-12.608669870559092,-13.545133000343865,-4.3700691355431465,34.58513969997491,-16.287533611580592,-4.4163920217594885,30.90872984423672,-13.304842149480498,63.73851687289513,-17.738608014635325,-2.3777499440928085,6.019873164382558,4.75634309572175,-8.245632944837944,-14.09039643403455,-14.002114422169806,-4.102977816231987,-14.282751368540687,5.485830197125594,9.915858769318014,-8.620818305377956,5.750801323269412,-12.986372234057304,-14.925486019730835,-16.06515151144335,-13.16062805935421,-9.351971438058733,-16.924762390808045,-16.055082076663233,-12.883563190948001,3.703394077126954,-12.990524060534128,-18.31531953908282,-14.274106849694153,41.9328058675157,-7.8708069305290795,-14.422874251829727,-17.517000595268197,-6.312424652496313,-11.171923084304675,-17.85278629493117,-8.220705378207311,-17.062406252117935,-14.271491395711683,9.906512735386952,28.597050536129874,100.53129296741126,-15.923895989212628,-14.912514738929072,-17.75618441730621,-13.731062845462253,-14.033787489503876,1.451986717737597,43.998319620516,-11.5657891020237,-17.59466600087522,-0.4984880985482033,15.177003580251961,-14.655477071805302,-15.66796617166411,1.8186299334641831,-12.855438241374959,-8.924172494689188,-17.93759239123607,0.41159989567102007,-16.55858314406074,4.540940173468274,-13.90400132801674,-4.631667932321721,-15.903676112555383,-16.949730978324745,-11.815391721596148,25.1920969109051,-15.164688054431112,-5.4111940696952905,-17.1788776827842,-2.75425106784017,-0.6666839598862974,-14.438381951010221,54.675849482576595,25.525359100523985,-11.086117929102269,28.779741026121386,-16.775298269409237,7.051206547471251,-15.297711829160614,-8.104332384844831,-8.65637632804702,-2.881299853316828,18.390698615579463,-5.661690601620771,-9.678382724081429,-1.600587627823088,45.32602581294331,128.91563037617397,5.814823621257346,1.4350143189491855,-10.107150117653015,-9.484450595065892,-2.068883955231861,-13.654241474205152,-7.695285169106592,-14.46181737103153,-3.4835048849472896,-5.2600851191526505,-7.793607708110388,-9.580190978651387,-10.159390457584827,-17.146248059434182,-18.07812228472377,-16.72520670004242,-15.28289054207439,68.20763218271405,49.975291316967905,-2.3380885801563527,-6.164352207319993,5.999715881971176,-17.79918466116773,-15.254934973550457,-15.07013794731563,6.604243338470169,-11.558351219502972,-13.537090435178524,-17.181859456453104,-12.394796074061688,-11.984281470432443,16.466801005310028,-8.84140843840164,-17.823842240630363,-9.235027789607306,-7.285045548210038,-13.999244136250654,14.444708616075596,17.122454406110183,-12.095167286489085,2.060616526389081,0.29472681936741624,-8.323483036732538,-12.96992630916999,28.973417020158596,-16.59379626091861,-10.185302692695295,-3.5428785947598977,10.161329029289973,5.193459029350051,-13.700098918894362,-5.169805558245642,9.163392260488326,-13.014463059464639,-6.380655310434292,-5.922595876734481,43.271677362069006,-12.480532893373123,-7.081884253300051,-10.704664275614567,-14.04716295974276,-4.578601250255943,5.098241763347585,-6.603314539765813,34.412102087023776,5.830526888028872,10.736624678677293,-8.992613213186422,-11.488042988941755,-12.83606226480965,-3.90561521677721,-11.679412600467643,-9.65368930521103,-8.396852467913686,-16.116777231251444,-12.063779786950851,-8.958365957514152,-13.538314789303811,7.249288415642992,-15.08023473767123,-12.778027284397224,-17.305475934423658,63.778539603143464,-13.11551274645624,-11.788136350567823,27.997976854189773,-8.154284179525689,-13.092078071265597,40.458081189980156,19.584465666090292,-7.558030334442592,8.295682865286233,-9.290498539584707,-4.191187702412478,0.4983620057027265,81.15003500757369,-12.471042259203506,6.956945758148393,-14.46787296371844,-5.317366971889277,-15.613146886907659,-12.616789161613482,-14.588259824111331,-11.23859093322189,-17.48478230359311,-1.7280149328599943,-18.31320012721799,-7.843658229705706,36.27902751165854,-14.460942641920218,-14.191889820476165,-14.470135344026925,-10.903589878787972,-13.706269916518368,-10.062776801491301,-8.22771341495695,-12.890398575865733,15.644183923458328,-13.0891805128787,3.2137066568718615,15.87196254150746,-10.212116903544395,-13.873332703839717,37.12950602946485,1.0805557679514983,-8.58204676544711,-12.840317514743681,-9.515632716561369,-12.913491847887892,-9.931554059045682,-12.842079697410387,-8.598074771099329,-15.14199711347723,-9.154280844882905,-7.373263905693819,21.808745158517056,29.01244360263771,-12.757486878782432,-16.805019623545636,-11.982558586658369,-13.366413440184584,-3.2552349659136706,-3.029757559804477,-15.5631299521257,-13.611504221759466,-13.58384538944723,-13.346039414965123,-0.5811682633983837,-14.128059436075393,-2.0715532751533545,57.924464880048596,2.52200384595694,-9.61194524846066,-16.05852587851707,5.747870887303583,-14.118576963155803,-17.571478788016663,-6.230912493961347,-13.216930643073646,0.7200396067394242,-11.7884534367381,19.11943520606989,16.896710886553475,23.614823177446826,-11.978784833146102,-10.430570253596063,0.28210002141095186,-9.793500446809416,-15.542721351121017,7.5528266813184235,-15.651641417148433,1.3803463275654115,-17.01974047237918,-12.4697567320086,-14.350841563620468,-4.081495156083587,-11.464684378294063,-7.203165572072463,-3.3063615389200414,7.855190960868503,-3.525838171772438,20.123472244114566,12.184910488801863,-11.110307325922003,-3.2802589057987586,-16.441843349289325,-16.08543727234385,-4.863865152597256,-14.84422578761143,33.54453230244663,-0.49662933966144773,-15.110004963293688,15.424699301157155,-7.679644725927655,15.53041788227328,-18.06684438557646,46.327663326677104,56.47262856833434,-14.7527784187805,-13.960817486462648,24.828681513859934,4.802243647879854,8.857874810041855,-8.206996668977272,13.381460126250978,-12.738792288055096,-13.328584632798504,5.102409762717205,-13.595785159435144,2.364104373479826,11.467555347706194,6.6020177193916405,-10.861455625479026,19.20533444964561,-14.805236160172347,-14.24708586523201,-4.733723363624574,38.12395544751681,24.87741271621997,1.6416218933294586,22.274387474825723,14.484332193827365,-7.702486009938891,-9.393346389010272,-15.143937266546201,-9.39415558036502,-10.187669617511729,-1.6092257608356821,-13.69882031229796,-13.663298708958655,-14.222615995602622,-3.516618656459358,-17.51306857627976,18.532595117776918,43.28176212571602,71.43109210074897,-14.798825379801242,-12.793766125236887,-12.825539724967882,-6.798120787315852,-7.955715063256591,101.55075572806341,10.036356062981644,2.8214904419097593,-12.12078729875926,-9.959025783363447,-11.532440995302418,-12.465938181373827,-6.421758980265199,-9.192510930140037,-11.464819251436712,-11.56479572304538],\"xaxis\":\"x\",\"y\":[-3.0346231020780277,-0.7699893615354944,-1.2898337082065354,-0.09731394172632665,-0.07238963946946823,-1.8226379063564868,1.1733979899332874,2.2452508677203284,-3.9412221970864234,-1.633073374704665,-2.271054673253717,3.833501619462715,0.3416523652063015,-2.239334945690716,-2.4543678560532562,-2.915131309280882,-1.6268538944060755,0.3265589180337771,0.5553653471549775,1.710269419148568,0.23256949502058502,2.8940646389548395,-2.373716375648408,-10.428158156507678,-1.1562474259521216,1.2386026464382118,1.675609240703116,4.975337799397828,-1.923331413690346,-1.5923997103840906,-2.1634631344706463,-1.2638521463797543,-0.2186740941050112,-2.446778041646394,3.245599897069984,2.2001699903901186,-1.1093159285026923,-1.3129269853429393,-1.007373845060052,0.24986077853357813,-1.2524220484613477,-1.8215924107485613,-1.3645500817136582,-2.565624654171648,-1.6883573903107445,4.7986568091222574,-0.31457221886311865,-1.420035769991028,15.32108108327658,3.977682645660902,7.042784277449771,1.6551053681792371,-0.5653213072306166,0.5443100801441889,5.374505016717177,-1.5856356956469697,-0.9182505468994425,1.0044220318731254,0.867838180276774,6.034385395299364,1.7404292900210911,-2.4799970768793353,-2.2766751333586424,-0.24811975242832324,1.622017482458193,-1.772628783880919,-1.7522104761812165,0.4925565005236711,19.830442510614294,0.2966329171412092,-0.5124544523546907,0.44965546458077055,2.308690856737861,-5.132348124874611,-0.2563536979133392,1.084981621335204,1.1289831138211515,-0.39398592233716906,-3.101769334852237,-2.321734791761151,0.44065690029951626,3.9255485072533816,-0.6868310272982119,0.9520763216411368,3.4508874858933942,-2.2914050011595744,3.9901771555288077,-0.5024994212409388,0.6176578725239917,1.6918678997472405,-4.048189971407289,-1.20770687801378,-1.0006706117650974,-1.6605414941397831,0.5502633553103011,-1.2787791571313962,3.3493325532950933,-2.7791671561350015,-0.7249341321527977,-0.8230344838773666,-1.1682187137219069,-0.7657450007479872,-4.939450138651379,-2.5762495008649244,2.9815155578818118,0.5194162680729436,-1.0864859272408653,-0.6098914347202807,1.76695723319059,-2.854205711152388,4.151152925902417,0.048859034008472566,-0.8779109148557152,-0.8521841121313944,-6.295494005461933,11.18741716162127,3.3599826081155015,1.5058739468661113,0.46375670056784957,-3.300460919230044,9.662829575569226,-0.008454960054853349,0.08837052655653875,-3.316339667663508,-0.715223147762556,-1.3086101824287484,3.3857628111741738,-1.2745427194148404,1.2732550616906524,0.5014230951211989,0.5210149982737361,7.288339641884469,-2.4196246527631122,0.05443837797818598,0.5237340697924624,-0.8643732884523663,-1.766030178150328,-0.17852557868286767,2.5152695049538627,-2.500891743504571,0.29469777311164586,7.791338177457684,0.46785611299802393,-1.9799209935646755,-8.991777888784675,-1.4275503747380824,-4.927852062041167,-0.13003255491928206,1.2884200220272952,5.7754006536682585,0.034331921424972,-9.233798348559748,-1.5126638547193274,-2.0431400447038466,-0.6604940316692463,3.6133821008643676,-0.27478833124229113,2.1732185573618015,0.524036175948207,0.996362726645417,-0.0945368603363948,-1.2431170898480517,-2.3993165610319926,-1.3663660931274413,2.0161677092104755,29.76056684727839,-1.5030282689186854,6.128500860738471,2.9014959511954213,-1.162046941844316,3.6125058044663367,-0.6218020716241246,-1.0008353391299563,-0.6476106965148702,-5.106723935390293,-6.439596207291769,0.8782124700759696,3.266098823454659,2.7774238269556375,-2.153192261204242,-0.6067145421783355,1.220482121609357,-2.5487523393274514,-0.9667075214763086,-1.972913464860407,3.076581190356042,-1.0447382851385947,-3.4218387817204263,-0.3640051279522976,1.3536253100476703,0.7437538339233818,-0.3091591265780341,2.104906296137963,-0.4701333490155565,1.6786581201386925,-3.1778174533840113,3.9128092936217964,-7.789801953936017,-3.963153695442829,-1.5922260505559145,-0.9441797284730074,-2.077616148222343,-2.0494786975773387,2.294547520516659,48.16372561945084,-1.8751626030525361,-2.102989532302871,0.15582438243957078,-1.6144210221362716,3.3840775647707746,3.1944405535046276,-1.1497551193719646,-1.7012611119606509,0.49782336223568935,-14.5855310056985,1.0088330543057065,-0.1671886636604298,0.932505234152654,-3.6368395698305975,-0.5283517224704866,-2.521276921557456,1.7209767816395385,-0.9479080244838447,-6.1991453684875015,6.67572123745666,3.5135765440752285,0.8086083065642158,-1.1760940296129194,-0.30928523087520576,-0.9101917830825763,-0.7906910041679505,4.874002346004576,-1.1411332225618265,-1.6925132449829852,6.836685827972209,0.4469656456534264,1.8314913294994473,-4.686391658782211,-12.103629625609948,-10.6881528082297,0.1492384195015837,-16.612535600999074,1.0338148335087143,-2.033606658564765,-0.15743769056408632,8.421850019643266,-0.8147559651919181,-0.49857066551863893,-0.27314706052266585,1.861717571289186,-20.30537021777648,-3.5122066394534266,-4.03694960199594,0.7102585476890856,0.0741681439213886,0.16635357494541397,-0.4580699375099367,-1.8345777090660433,-1.8490017027146008,5.022903579662562,6.009053788567982,-11.382325988600112,-2.031387744861868,1.4631042820367353,-7.700542254345166,8.192365929487423,-0.015435978970084615,-22.680417915376584,3.4457135212896026,3.0367702515502333,0.3010530595441596,-5.714919194696411,2.2448207911681597,-3.3295473866286813,3.5401504717048766,-0.9309804515011635,1.0911225119721861,-0.33593196442912915,2.102801812550121,0.18227171747951906,0.05894053564201973,8.124127330745816,1.1470656208493095,8.267652444696921,-1.053653534013303,-1.3014248204965673,3.0105342429839883,0.34657967523000605,3.109052191107711,1.3713652820576168,0.973404769272587,0.8984941118077578,-1.3826418009074926,-4.545689513309412,38.34704661061106,-10.914543518490486,-1.2387955027396158,2.7794056065129182,-0.4849359910435276,-1.7279293954029582,-1.938480110548238,-2.2903038994142335,8.74319073906875,-1.0744388671117568,-2.464063593745607,-4.690131110311602,-7.530467059186996,1.427322201416462,-0.9563005068941339,0.48610156301096225,9.120942032843955,1.1159228079112322,1.27607212802001,-1.6481869657116985,15.210447630194839,-3.784756175106008,1.6301330888334613,-2.4483812980657866,-3.128088656029371,-1.6236079191338573,-2.9564884385999943,-0.06146375561281601,-2.1788471863866086,-0.7635538029681469,-2.477500336998493,-1.3495396504597232,-0.6030555259178269,-2.643606098293062,-1.2727482494127516,-0.17543722914691912,-0.005184961109480556,-27.641905484012582,-9.319755074446187,-7.489483074749197,8.284252899364763,4.166445763162023,-0.4604696347154998,1.3097297031752047,-1.2167624844229679,-0.12784009692918924,1.7891620573901437,-4.466073830286237,-1.4066231826707853,-1.3434692477622958,-6.900858429056361,-0.5841318690820724,0.28546398153634545,1.5045794244005062,-1.9940577875277572,-1.8878516307232205,0.8617592439865445,-0.27893195754622746,-1.0689979114608679,-1.0281570991716564,1.1022084969599806,-0.40314273701619685,-4.325980265181947,-1.5029848159944994,-2.063120860732355,-2.3849569375195805,0.3790920123318963,1.9277205666039565,-4.292901039539521,-8.180319751866792,-0.45807095823837896,6.489537129156321,-1.3933755730043869,3.692699640468528,-1.201974902797141,-2.290579997947153,1.1724292547014332,-1.0293533097234029,2.5622968651981237,2.8551465774470337,-1.0316439737877114,-4.940438915020478,-5.306967757798398,-2.238135068902483,-1.2690800795522998,-6.4773711396328615,-9.36252340315841,-0.7741256910884361,17.690833748265952,-0.08679088760648096,-5.727289791713629,3.310337807625063,-1.4494462544470348,-2.0493615919990615,0.09226584171866534,-1.5786047174801792,-1.2115405977979632,-5.168649018758389,0.5090239758190276,13.255414875763135,5.025417207085975,7.257363219901042,-0.5648672749182438,-2.1988462039157057,-1.7647170311294986,0.9122093170700893,2.4218673227287497,13.341487083722049,-2.0837902586420327,0.2696047748523485,-0.2833900912596982,2.9940291219374564,-1.9072939491313248,-2.8760694911372067,-3.1229141889793355,0.46650868838221077,-0.5223732406825109,-1.9421710764837332,0.20423122683066847,-1.0113805193484042,-10.885041339987254,-2.02884902412766,-0.05329537140415773,0.5506395818399596,0.2749548886253204,4.316099377620841,4.974121038534847,-0.22737102120653513,0.6014120286572462,-0.20355796085176953,-1.96507252134726,11.431200570633383,4.469194795947584,0.8001752889300309,-1.4959064004738494,-1.6343978788410365,2.5170899801538167,-3.9018978273320566,-1.2228337577284905,-1.3620024690586472,-1.0993379992994705,-1.529217537986083,-0.6034751532454011,-1.793472823111371,-1.0798950218395205,1.7792218082006366,2.614073419542012,-5.629332186877671,-1.2544141262604918,-1.7996513983783116,-1.8825817257118387,0.050535388904218624,0.3257403920998126,3.074756213397259,-2.616766642792478,-2.2257769351925987,-1.1656292422168346,3.439859047041492,-4.5048548079265505,-4.315212039345515,0.3460658683726223,-5.497728595566411,-0.279006852763777,-1.5349357332829798,-1.9465833626470803,0.27058833074749433,-0.3293152412980358,6.730545222147797,-1.6908268525893762,-1.4783853236403186,6.858236406467066,1.5778785890237987,-0.19176669817014966,-7.695156943994109,3.1920250327653066,-2.5097504444062553,2.518871780087767,-1.1656120158604866,-6.190971014621165,1.0938803803040573,-2.6926065842506666,-0.9682915386584585,0.7654049291851074,-1.750990421351108,2.15964861165337,2.5984035123547105,-0.7027319328601971,-1.788614143734085,5.30350067093197,6.709816248634297,-6.392412310677605,10.63357664970509,-1.981607277575409,-1.5837592752068803,-0.38962121723260074,7.744937252540215,-6.0003097329517185,-1.6924443224858008,-1.8201663464548432,-0.693645938057487,1.626672825619321,-1.6637761068611834,-1.1970520822928086,-0.7451586861286433,0.1282501330164838,-1.462246936155781,3.436340267178334,1.015011630840369,-2.7776399486223964,5.041870362958451,1.9306012609152392,1.0843497227282113,-0.276645132747019,2.4790541459295374,-2.1786058900561893,-0.5636125302551758,0.13217023797233884,2.232292879670537,-0.8445847496669094,0.9049363811079053,-0.9470782089691988,-1.2193807030569321,-6.577255578113398,1.1025022097171293,2.484706371156714,2.771669316115344,-1.817122610018233,-30.85306315060477,3.26743194899961,-0.5064692250610063,0.5933747942911701,-7.890813146419893,-1.0435280987475273,0.7420184693873322,5.3268955854307345,-2.2892178785685635,-0.10919759007031977,-1.693118041042743,4.685503326661409,-3.897160790243986,-0.8404042992766642,-23.35042534875436,-11.640721353698414,-1.2746615310901257,0.02309221865491088,-1.4356626806980906,-0.1905994893611055,0.7568546562518643,-3.8437348720301774,1.5577897795879676,2.146839547961826,-1.2297229138429537,-1.725671275834282,-1.781109986848935,-0.6390034657555664,7.526361718236386,-6.418588937073573,1.7871866441468387,2.917110963035593,-1.6722533507789092,0.004825440984744859,-0.11856650033223753,-5.893254700860841,-2.2074843296752085,0.30372945025782694,-0.11646748584433707,-9.13997897488692,-2.0000002371869905,-0.17686702026678633,-2.292232524945518,-3.8867286533653753,6.771704192978049,2.4796016365833613,0.33577077937557703,0.886153187870691,6.1217019981723375,-1.1807490008995254,-2.806694811330135,-1.6071509830573032,-1.748494213141694,1.2928803091749421,-0.2504036504070641,3.3885962235913167,-1.5743805329377427,5.5957372460661245,0.19264954299105258,0.26120099078568115,-0.3109766645369863,-0.5796629041024298,-0.5041123258472844,1.9348311081175609,0.1502330955863814,-2.0648832906081696,-1.4718204959568721,0.3476610375036801,21.87409341868597,-0.3572552671143308,3.4183226678783853,0.005569328258403551,-2.810697022503073,0.8664482812435388,-0.2906789964745783,4.35952074998348,-14.624287345719772,3.4031066579570872,0.1209378436499645,-1.8759263722591795,0.5012370052660565,18.461750200792224,1.9192284302375666,-0.5461124526054882,-1.8214380802379286,2.703761087209283,-4.8464554211051665,-1.9121178652195778,1.9837185850772487,2.627718937796062,0.28800580906230144,-4.544750750394411,-1.447838325321742,1.525128059645924,-1.6712861964327845,-4.427810455094861,-1.1100700053450516,-0.4844433301135163,3.3886236582516833,-1.6688211040717893,-1.1604973292916287,-3.6584590300968065,3.693059305513614,3.0102243696184,-1.9375282348162246,-1.581112053752575,1.7526755766805295,-1.0483705800195795,-1.9563592726319643,-1.7590554771315328,-0.7391343364279531,0.24297392273092777,0.5549857003954481,2.4428840316328144,-1.7296450845320264,-2.4115661197955527,0.31548231979548863,-4.103637119589127,1.0871108154170026,-1.2076126115158183,-1.2079181169148983,-0.7401383144861373,0.0006323756189901453,-2.0166986970529446,1.8968275041984817,-1.8137823934885395,-2.4619659775888896,13.018279638995516,-3.328789027711664,11.987529411975883,0.6054676121756472,-0.002167280208682224,-2.1296198600418776,-0.2898274283433734,-0.7599453773455694,-0.30768315969271265,-11.412076274569657,2.1347148155776763,-2.1114133057101347,-0.4810078758646705,-7.836072538516597,0.0360979565181703,-1.7418522396448155,5.786186787876916,-0.7665901832103389,1.316114734175417,-2.071041776191627,-1.4848334981041875,-0.07723229287961528,2.307042683326271,1.536103116718899,-1.043013306436494,-1.4764733968778014,-0.4297990875263769,3.032435599781909,-6.099972491469934,-1.666953453388445,-2.2027672689992075,-1.9212465281718958,3.9812021035059075,1.5637093550692203,-2.1738976019099034,10.150047218776049,-10.60188733729354,1.819801513958946,5.127217968448889,-1.843604130946352,-1.8226170374712436,0.6168022086562607,2.2706207054241156,2.947636733891037,-3.023404092930732,-0.9776596829058798,3.267368790625262,-1.901129947296969,1.0318956929705445,-7.328309337130273,-17.80299621024963,4.799633786662361,-1.1089690974818833,1.413825708279762,-0.7641237828107748,2.3854068966361344,-1.6780234929624245,-1.3630280869506266,1.174077923343589,0.4675806353655113,0.421008546886949,1.8707514012210982,-2.9214095663924082,-0.6900817478899754,-0.880286609193558,-1.9562385432914573,-2.286097975548069,0.01638199799148161,-10.444430436212963,-8.852708499494243,0.8736823357666951,-1.888777585153339,3.3293241711135106,-1.6122491298551807,-1.0904740249637797,-1.2504610205647007,0.6932761915749736,1.134070075754878,-0.5697759518401402,-0.8982897870052323,-1.183319925648211,-0.3855090284925688,-8.646289901323831,-0.21581546095894152,-1.5477236320747305,1.1800502094146892,-0.31020651059508814,-1.1455526492771992,-4.434091556512242,-12.320041299988857,4.590228808498402,3.6207277290015116,0.711349420660779,4.997301013490772,0.6507309562762128,2.0189956775734554,-0.4023721809975373,8.27647059713012,0.8276963635843375,3.2407563439903866,0.9246318600707981,-0.6751145612622762,0.6211673625449353,2.4693695263476987,-1.005227896465543,-4.265958037750418,11.53840546554841,9.424461825200439,-0.4245892217346061,-1.7072621422371412,-0.6146195801573238,-1.4181422280359812,-0.40842288701454316,-1.1378153203695203,5.530782545377234,-0.9928025769765793,8.783943617240212,-1.2691378893451952,8.51090542813185,-2.0756362703410125,2.305702571686292,2.3052070439330103,-1.3947886495266673,-1.4205833193980002,2.1861598428826197,-1.929786258820897,0.009268307223160396,-0.30721812768164647,0.7665614167895429,-0.3988960823718956,-1.7456946084887008,-2.190614591983055,-1.0209239288470038,-3.1747785799680557,-0.6182014425536374,-1.2942206503312303,6.585581098557369,6.294988486121083,1.1676868387863995,-3.225904179630258,3.556880560948771,6.062258722254401,-0.2265202693070081,0.5495472087506771,1.8837170731480224,3.168535351995151,38.338188254117505,-1.0556372714273596,6.652430164204251,-0.9665235436616235,-2.7061494992488666,-2.229348235621262,-1.934046265769699,-1.1179093819330088,3.01654450907047,-1.5473858888417478,2.9667715645933335,-2.40872436705812,0.9998939282896815,-8.45741748230302,-1.5101632248188888,-1.7678105177615482,-2.2436114082686855,-0.5359497012376674,-0.07528127710685081,0.6903842126064066,1.6751613408089527,-1.67860382176653,-3.4610478598511225,2.7447256244835185,2.2756077154233623,9.010719130498883,0.3634788383578326,4.988589750572333,3.679622785616859,-0.629482463101126,-0.735289053924494,0.2237834101794497,-0.3770114978377915,1.9348357540972716,-1.2427647056903735,1.8498520161322827,-1.189661688588339,1.2946508161550045,1.0440455053216116,0.29345253067067645,-2.669772429146329,13.391635915911245,-2.757389397281719,-1.7731019296405666,-0.3651842415094959,1.2644190607960666,-6.144765299119809,-0.7717961410384641,-1.511756873690036,-1.8747337583676231,4.6122575376798505,-1.0173683607660757,-1.8090703220137332,-2.5894474236335174,2.826127292238795,3.4459388986730084,2.4752311609993,-3.8085007102174755,-2.2519998731155138,5.24590402851971,-1.4743022834274033,-1.2527351117670877,-1.6108328550413205,-0.704713114863304,3.971387427018215,6.092596392554264,-7.292935767417175,38.376589054818076,-0.51286793934011,0.7107667141576217,-0.3776043428405495,8.053948812299726,-2.160339183046634,-0.8969779454229344,4.894266779246152,-1.1621455020430196,4.968012584443306,-0.6841415027902868,0.06148220179432084,-0.004737522611622017,0.7414276538877868,0.9310107066106169,1.5436191047809356,3.8589565653653084,-2.1405757897531155,-0.16414092390535778,-3.6524283474205226,18.49450736622752,-0.4930690891250443,-1.6632485270562751,-0.08550818754093353,1.6533445470393153,3.7471700804379,-1.4272586810843058,-1.5994092428084314,0.2688517181796496,1.8540215853795294,0.6200197186424253,-1.1266227834672724,0.4443286207876357,-1.933690740990961,-9.833560519327925,13.016114861001999,-0.8208704022771958,0.38101349328222944,-9.878168945594318,2.4331030451023095,3.0987163559024316,0.4267364359016143,-1.5918970775621615,0.2810783597098138,0.5841855843384866,3.2928062003558485,-1.091188103193757,-2.4006447487567115,-1.8285763608098606,1.92457646327555,0.4130146475911636,-3.7271501244755987,-2.4985784892131497,-1.307388239630888,10.281399257812486,1.436155441359003,-3.7468205645231882,-0.38497895102343005,6.081846511966921,6.5616887140341005,-1.2793439881528745,0.6171539143386037,-1.1833529125103555,1.3546970176483482,0.8941583314889295,-1.42788569832127,-2.456059468089197,-0.9358459068618108,-0.22955051505767493,1.4298869159699088,-2.259529055039639,1.5480491895523196,-13.94707467112595,-1.2744786646030957,-1.5285137094173484,-1.4859524850979382,1.2364238024196101,10.450528864992688,10.827696327527699,-9.212728351720314,-1.5515042842848004,4.7824167234887955,-0.3923964242170788,-3.20795940696707,-0.781164359754176,-0.9262274257731008,-1.652992625874605,-1.3377129846101345,-0.891549685770522,-1.540844880672711],\"yaxis\":\"y\",\"type\":\"scatter\"}],                        {\"template\":{\"data\":{\"bar\":[{\"error_x\":{\"color\":\"#2a3f5f\"},\"error_y\":{\"color\":\"#2a3f5f\"},\"marker\":{\"line\":{\"color\":\"#E5ECF6\",\"width\":0.5},\"pattern\":{\"fillmode\":\"overlay\",\"size\":10,\"solidity\":0.2}},\"type\":\"bar\"}],\"barpolar\":[{\"marker\":{\"line\":{\"color\":\"#E5ECF6\",\"width\":0.5},\"pattern\":{\"fillmode\":\"overlay\",\"size\":10,\"solidity\":0.2}},\"type\":\"barpolar\"}],\"carpet\":[{\"aaxis\":{\"endlinecolor\":\"#2a3f5f\",\"gridcolor\":\"white\",\"linecolor\":\"white\",\"minorgridcolor\":\"white\",\"startlinecolor\":\"#2a3f5f\"},\"baxis\":{\"endlinecolor\":\"#2a3f5f\",\"gridcolor\":\"white\",\"linecolor\":\"white\",\"minorgridcolor\":\"white\",\"startlinecolor\":\"#2a3f5f\"},\"type\":\"carpet\"}],\"choropleth\":[{\"colorbar\":{\"outlinewidth\":0,\"ticks\":\"\"},\"type\":\"choropleth\"}],\"contour\":[{\"colorbar\":{\"outlinewidth\":0,\"ticks\":\"\"},\"colorscale\":[[0.0,\"#0d0887\"],[0.1111111111111111,\"#46039f\"],[0.2222222222222222,\"#7201a8\"],[0.3333333333333333,\"#9c179e\"],[0.4444444444444444,\"#bd3786\"],[0.5555555555555556,\"#d8576b\"],[0.6666666666666666,\"#ed7953\"],[0.7777777777777778,\"#fb9f3a\"],[0.8888888888888888,\"#fdca26\"],[1.0,\"#f0f921\"]],\"type\":\"contour\"}],\"contourcarpet\":[{\"colorbar\":{\"outlinewidth\":0,\"ticks\":\"\"},\"type\":\"contourcarpet\"}],\"heatmap\":[{\"colorbar\":{\"outlinewidth\":0,\"ticks\":\"\"},\"colorscale\":[[0.0,\"#0d0887\"],[0.1111111111111111,\"#46039f\"],[0.2222222222222222,\"#7201a8\"],[0.3333333333333333,\"#9c179e\"],[0.4444444444444444,\"#bd3786\"],[0.5555555555555556,\"#d8576b\"],[0.6666666666666666,\"#ed7953\"],[0.7777777777777778,\"#fb9f3a\"],[0.8888888888888888,\"#fdca26\"],[1.0,\"#f0f921\"]],\"type\":\"heatmap\"}],\"heatmapgl\":[{\"colorbar\":{\"outlinewidth\":0,\"ticks\":\"\"},\"colorscale\":[[0.0,\"#0d0887\"],[0.1111111111111111,\"#46039f\"],[0.2222222222222222,\"#7201a8\"],[0.3333333333333333,\"#9c179e\"],[0.4444444444444444,\"#bd3786\"],[0.5555555555555556,\"#d8576b\"],[0.6666666666666666,\"#ed7953\"],[0.7777777777777778,\"#fb9f3a\"],[0.8888888888888888,\"#fdca26\"],[1.0,\"#f0f921\"]],\"type\":\"heatmapgl\"}],\"histogram\":[{\"marker\":{\"pattern\":{\"fillmode\":\"overlay\",\"size\":10,\"solidity\":0.2}},\"type\":\"histogram\"}],\"histogram2d\":[{\"colorbar\":{\"outlinewidth\":0,\"ticks\":\"\"},\"colorscale\":[[0.0,\"#0d0887\"],[0.1111111111111111,\"#46039f\"],[0.2222222222222222,\"#7201a8\"],[0.3333333333333333,\"#9c179e\"],[0.4444444444444444,\"#bd3786\"],[0.5555555555555556,\"#d8576b\"],[0.6666666666666666,\"#ed7953\"],[0.7777777777777778,\"#fb9f3a\"],[0.8888888888888888,\"#fdca26\"],[1.0,\"#f0f921\"]],\"type\":\"histogram2d\"}],\"histogram2dcontour\":[{\"colorbar\":{\"outlinewidth\":0,\"ticks\":\"\"},\"colorscale\":[[0.0,\"#0d0887\"],[0.1111111111111111,\"#46039f\"],[0.2222222222222222,\"#7201a8\"],[0.3333333333333333,\"#9c179e\"],[0.4444444444444444,\"#bd3786\"],[0.5555555555555556,\"#d8576b\"],[0.6666666666666666,\"#ed7953\"],[0.7777777777777778,\"#fb9f3a\"],[0.8888888888888888,\"#fdca26\"],[1.0,\"#f0f921\"]],\"type\":\"histogram2dcontour\"}],\"mesh3d\":[{\"colorbar\":{\"outlinewidth\":0,\"ticks\":\"\"},\"type\":\"mesh3d\"}],\"parcoords\":[{\"line\":{\"colorbar\":{\"outlinewidth\":0,\"ticks\":\"\"}},\"type\":\"parcoords\"}],\"pie\":[{\"automargin\":true,\"type\":\"pie\"}],\"scatter\":[{\"marker\":{\"colorbar\":{\"outlinewidth\":0,\"ticks\":\"\"}},\"type\":\"scatter\"}],\"scatter3d\":[{\"line\":{\"colorbar\":{\"outlinewidth\":0,\"ticks\":\"\"}},\"marker\":{\"colorbar\":{\"outlinewidth\":0,\"ticks\":\"\"}},\"type\":\"scatter3d\"}],\"scattercarpet\":[{\"marker\":{\"colorbar\":{\"outlinewidth\":0,\"ticks\":\"\"}},\"type\":\"scattercarpet\"}],\"scattergeo\":[{\"marker\":{\"colorbar\":{\"outlinewidth\":0,\"ticks\":\"\"}},\"type\":\"scattergeo\"}],\"scattergl\":[{\"marker\":{\"colorbar\":{\"outlinewidth\":0,\"ticks\":\"\"}},\"type\":\"scattergl\"}],\"scattermapbox\":[{\"marker\":{\"colorbar\":{\"outlinewidth\":0,\"ticks\":\"\"}},\"type\":\"scattermapbox\"}],\"scatterpolar\":[{\"marker\":{\"colorbar\":{\"outlinewidth\":0,\"ticks\":\"\"}},\"type\":\"scatterpolar\"}],\"scatterpolargl\":[{\"marker\":{\"colorbar\":{\"outlinewidth\":0,\"ticks\":\"\"}},\"type\":\"scatterpolargl\"}],\"scatterternary\":[{\"marker\":{\"colorbar\":{\"outlinewidth\":0,\"ticks\":\"\"}},\"type\":\"scatterternary\"}],\"surface\":[{\"colorbar\":{\"outlinewidth\":0,\"ticks\":\"\"},\"colorscale\":[[0.0,\"#0d0887\"],[0.1111111111111111,\"#46039f\"],[0.2222222222222222,\"#7201a8\"],[0.3333333333333333,\"#9c179e\"],[0.4444444444444444,\"#bd3786\"],[0.5555555555555556,\"#d8576b\"],[0.6666666666666666,\"#ed7953\"],[0.7777777777777778,\"#fb9f3a\"],[0.8888888888888888,\"#fdca26\"],[1.0,\"#f0f921\"]],\"type\":\"surface\"}],\"table\":[{\"cells\":{\"fill\":{\"color\":\"#EBF0F8\"},\"line\":{\"color\":\"white\"}},\"header\":{\"fill\":{\"color\":\"#C8D4E3\"},\"line\":{\"color\":\"white\"}},\"type\":\"table\"}]},\"layout\":{\"annotationdefaults\":{\"arrowcolor\":\"#2a3f5f\",\"arrowhead\":0,\"arrowwidth\":1},\"autotypenumbers\":\"strict\",\"coloraxis\":{\"colorbar\":{\"outlinewidth\":0,\"ticks\":\"\"}},\"colorscale\":{\"diverging\":[[0,\"#8e0152\"],[0.1,\"#c51b7d\"],[0.2,\"#de77ae\"],[0.3,\"#f1b6da\"],[0.4,\"#fde0ef\"],[0.5,\"#f7f7f7\"],[0.6,\"#e6f5d0\"],[0.7,\"#b8e186\"],[0.8,\"#7fbc41\"],[0.9,\"#4d9221\"],[1,\"#276419\"]],\"sequential\":[[0.0,\"#0d0887\"],[0.1111111111111111,\"#46039f\"],[0.2222222222222222,\"#7201a8\"],[0.3333333333333333,\"#9c179e\"],[0.4444444444444444,\"#bd3786\"],[0.5555555555555556,\"#d8576b\"],[0.6666666666666666,\"#ed7953\"],[0.7777777777777778,\"#fb9f3a\"],[0.8888888888888888,\"#fdca26\"],[1.0,\"#f0f921\"]],\"sequentialminus\":[[0.0,\"#0d0887\"],[0.1111111111111111,\"#46039f\"],[0.2222222222222222,\"#7201a8\"],[0.3333333333333333,\"#9c179e\"],[0.4444444444444444,\"#bd3786\"],[0.5555555555555556,\"#d8576b\"],[0.6666666666666666,\"#ed7953\"],[0.7777777777777778,\"#fb9f3a\"],[0.8888888888888888,\"#fdca26\"],[1.0,\"#f0f921\"]]},\"colorway\":[\"#636efa\",\"#EF553B\",\"#00cc96\",\"#ab63fa\",\"#FFA15A\",\"#19d3f3\",\"#FF6692\",\"#B6E880\",\"#FF97FF\",\"#FECB52\"],\"font\":{\"color\":\"#2a3f5f\"},\"geo\":{\"bgcolor\":\"white\",\"lakecolor\":\"white\",\"landcolor\":\"#E5ECF6\",\"showlakes\":true,\"showland\":true,\"subunitcolor\":\"white\"},\"hoverlabel\":{\"align\":\"left\"},\"hovermode\":\"closest\",\"mapbox\":{\"style\":\"light\"},\"paper_bgcolor\":\"white\",\"plot_bgcolor\":\"#E5ECF6\",\"polar\":{\"angularaxis\":{\"gridcolor\":\"white\",\"linecolor\":\"white\",\"ticks\":\"\"},\"bgcolor\":\"#E5ECF6\",\"radialaxis\":{\"gridcolor\":\"white\",\"linecolor\":\"white\",\"ticks\":\"\"}},\"scene\":{\"xaxis\":{\"backgroundcolor\":\"#E5ECF6\",\"gridcolor\":\"white\",\"gridwidth\":2,\"linecolor\":\"white\",\"showbackground\":true,\"ticks\":\"\",\"zerolinecolor\":\"white\"},\"yaxis\":{\"backgroundcolor\":\"#E5ECF6\",\"gridcolor\":\"white\",\"gridwidth\":2,\"linecolor\":\"white\",\"showbackground\":true,\"ticks\":\"\",\"zerolinecolor\":\"white\"},\"zaxis\":{\"backgroundcolor\":\"#E5ECF6\",\"gridcolor\":\"white\",\"gridwidth\":2,\"linecolor\":\"white\",\"showbackground\":true,\"ticks\":\"\",\"zerolinecolor\":\"white\"}},\"shapedefaults\":{\"line\":{\"color\":\"#2a3f5f\"}},\"ternary\":{\"aaxis\":{\"gridcolor\":\"white\",\"linecolor\":\"white\",\"ticks\":\"\"},\"baxis\":{\"gridcolor\":\"white\",\"linecolor\":\"white\",\"ticks\":\"\"},\"bgcolor\":\"#E5ECF6\",\"caxis\":{\"gridcolor\":\"white\",\"linecolor\":\"white\",\"ticks\":\"\"}},\"title\":{\"x\":0.05},\"xaxis\":{\"automargin\":true,\"gridcolor\":\"white\",\"linecolor\":\"white\",\"ticks\":\"\",\"title\":{\"standoff\":15},\"zerolinecolor\":\"white\",\"zerolinewidth\":2},\"yaxis\":{\"automargin\":true,\"gridcolor\":\"white\",\"linecolor\":\"white\",\"ticks\":\"\",\"title\":{\"standoff\":15},\"zerolinecolor\":\"white\",\"zerolinewidth\":2}}},\"xaxis\":{\"anchor\":\"y\",\"domain\":[0.0,1.0],\"title\":{\"text\":\"PC 1 (95.9%)\"}},\"yaxis\":{\"anchor\":\"x\",\"domain\":[0.0,1.0],\"title\":{\"text\":\"PC 2 (4.1%)\"}},\"coloraxis\":{\"colorbar\":{\"title\":{\"text\":\"cluster\"}},\"colorscale\":[[0.0,\"#0d0887\"],[0.1111111111111111,\"#46039f\"],[0.2222222222222222,\"#7201a8\"],[0.3333333333333333,\"#9c179e\"],[0.4444444444444444,\"#bd3786\"],[0.5555555555555556,\"#d8576b\"],[0.6666666666666666,\"#ed7953\"],[0.7777777777777778,\"#fb9f3a\"],[0.8888888888888888,\"#fdca26\"],[1.0,\"#f0f921\"]]},\"legend\":{\"tracegroupgap\":0},\"margin\":{\"t\":60}},                        {\"responsive\": true}                    ).then(function(){\n",
       "                            \n",
       "var gd = document.getElementById('98729fcf-0a14-48df-8bd2-72519aead7e4');\n",
       "var x = new MutationObserver(function (mutations, observer) {{\n",
       "        var display = window.getComputedStyle(gd).display;\n",
       "        if (!display || display === 'none') {{\n",
       "            console.log([gd, 'removed!']);\n",
       "            Plotly.purge(gd);\n",
       "            observer.disconnect();\n",
       "        }}\n",
       "}});\n",
       "\n",
       "// Listen for the removal of the full notebook cells\n",
       "var notebookContainer = gd.closest('#notebook-container');\n",
       "if (notebookContainer) {{\n",
       "    x.observe(notebookContainer, {childList: true});\n",
       "}}\n",
       "\n",
       "// Listen for the clearing of the current output cell\n",
       "var outputEl = gd.closest('.output');\n",
       "if (outputEl) {{\n",
       "    x.observe(outputEl, {childList: true});\n",
       "}}\n",
       "\n",
       "                        })                };                });            </script>        </div>"
      ]
     },
     "metadata": {},
     "output_type": "display_data"
    }
   ],
   "source": [
    "fig = px.scatter(scat, x=list(labels.values())[0], y=list(labels.values())[1], color='cluster', hover_name='function', hover_data=['ID', 'mean', 'std'])\n",
    "fig.update_traces(mode=\"markers\")\n",
    "fig.show()"
   ]
  },
  {
   "cell_type": "code",
   "execution_count": 71,
   "metadata": {},
   "outputs": [
    {
     "data": {
      "text/html": [
       "<div>\n",
       "<style scoped>\n",
       "    .dataframe tbody tr th:only-of-type {\n",
       "        vertical-align: middle;\n",
       "    }\n",
       "\n",
       "    .dataframe tbody tr th {\n",
       "        vertical-align: top;\n",
       "    }\n",
       "\n",
       "    .dataframe thead th {\n",
       "        text-align: right;\n",
       "    }\n",
       "</style>\n",
       "<table border=\"1\" class=\"dataframe\">\n",
       "  <thead>\n",
       "    <tr style=\"text-align: right;\">\n",
       "      <th></th>\n",
       "      <th>kwh</th>\n",
       "      <th>ENERGY_TYPE</th>\n",
       "    </tr>\n",
       "    <tr>\n",
       "      <th>DATETIME</th>\n",
       "      <th></th>\n",
       "      <th></th>\n",
       "    </tr>\n",
       "  </thead>\n",
       "  <tbody>\n",
       "    <tr>\n",
       "      <th>2019-01-01 00:15:00</th>\n",
       "      <td>0.95</td>\n",
       "      <td>A+</td>\n",
       "    </tr>\n",
       "    <tr>\n",
       "      <th>2019-01-01 00:30:00</th>\n",
       "      <td>1.00</td>\n",
       "      <td>A+</td>\n",
       "    </tr>\n",
       "    <tr>\n",
       "      <th>2019-01-01 00:45:00</th>\n",
       "      <td>1.00</td>\n",
       "      <td>A+</td>\n",
       "    </tr>\n",
       "    <tr>\n",
       "      <th>2019-01-01 01:00:00</th>\n",
       "      <td>1.00</td>\n",
       "      <td>A+</td>\n",
       "    </tr>\n",
       "    <tr>\n",
       "      <th>2019-01-01 01:15:00</th>\n",
       "      <td>1.00</td>\n",
       "      <td>A+</td>\n",
       "    </tr>\n",
       "    <tr>\n",
       "      <th>...</th>\n",
       "      <td>...</td>\n",
       "      <td>...</td>\n",
       "    </tr>\n",
       "    <tr>\n",
       "      <th>2021-12-31 23:00:00</th>\n",
       "      <td>1.05</td>\n",
       "      <td>A+</td>\n",
       "    </tr>\n",
       "    <tr>\n",
       "      <th>2021-12-31 23:15:00</th>\n",
       "      <td>1.05</td>\n",
       "      <td>A+</td>\n",
       "    </tr>\n",
       "    <tr>\n",
       "      <th>2021-12-31 23:30:00</th>\n",
       "      <td>1.10</td>\n",
       "      <td>A+</td>\n",
       "    </tr>\n",
       "    <tr>\n",
       "      <th>2021-12-31 23:45:00</th>\n",
       "      <td>1.05</td>\n",
       "      <td>A+</td>\n",
       "    </tr>\n",
       "    <tr>\n",
       "      <th>2022-01-01 00:00:00</th>\n",
       "      <td>1.05</td>\n",
       "      <td>A+</td>\n",
       "    </tr>\n",
       "  </tbody>\n",
       "</table>\n",
       "<p>105216 rows × 2 columns</p>\n",
       "</div>"
      ],
      "text/plain": [
       "                      kwh ENERGY_TYPE\n",
       "DATETIME                             \n",
       "2019-01-01 00:15:00  0.95          A+\n",
       "2019-01-01 00:30:00  1.00          A+\n",
       "2019-01-01 00:45:00  1.00          A+\n",
       "2019-01-01 01:00:00  1.00          A+\n",
       "2019-01-01 01:15:00  1.00          A+\n",
       "...                   ...         ...\n",
       "2021-12-31 23:00:00  1.05          A+\n",
       "2021-12-31 23:15:00  1.05          A+\n",
       "2021-12-31 23:30:00  1.10          A+\n",
       "2021-12-31 23:45:00  1.05          A+\n",
       "2022-01-01 00:00:00  1.05          A+\n",
       "\n",
       "[105216 rows x 2 columns]"
      ]
     },
     "execution_count": 71,
     "metadata": {},
     "output_type": "execute_result"
    }
   ],
   "source": [
    "scaler = StandardScaler()\n",
    "df=scaler.fit_transform(df)\n",
    "\n",
    "kmeans_kwargs = {\"init\": \"random\",\"n_init\": 20,\"max_iter\": 1000,\"random_state\": 1984}\n",
    "cut_off=0.5\n",
    "maxvars=3\n",
    "kmin=2\n",
    "kmax=8\n",
    "\n",
    "cols=list(df.columns)\n",
    "results_for_each_k=[]\n",
    "vars_for_each_k={}\n",
    "\n",
    "for k in range(kmin,kmax+1):\n",
    "    selected_variables=[]\n",
    "    while(len(selected_variables)<maxvars):\n",
    "        results=[]\n",
    "        for col in cols:\n",
    "            scols=[]\n",
    "            scols.extend(selected_variables)\n",
    "            scols.append(col) \n",
    "            kmeans = KMeans(n_clusters=k, **kmeans_kwargs)\n",
    "            kmeans.fit(df[scols])\n",
    "            results.append(silhouette_score(df[scols], kmeans.predict(df[scols])))\n",
    "        selected_var=cols[np.argmax(results)]\n",
    "        selected_variables.append(selected_var)\n",
    "        cols.remove(selected_var)\n",
    "    results_for_each_k.append(max(results))\n",
    "    vars_for_each_k[k]=selected_variables\n",
    "\n",
    "\n",
    "best_k=np.argmax(results_for_each_k)+kmin\n",
    "#you can also force a value for k\n",
    "#best_k=3\n",
    "selected_variables=vars_for_each_k[best_k]\n",
    "kmeans = KMeans(n_clusters=best_k, **kmeans_kwargs)\n",
    "kmeans.fit(df[selected_variables])\n",
    "clusters=kmeans.predict(df[selected_variables])\n",
    "\n",
    "%matplotlib inline\n",
    "\n",
    "fig = plt.figure(figsize=(15,15))\n",
    "#plt.rcParams['font.size'] = 22\n",
    "ax = plt.axes(projection=\"3d\")\n",
    "z_points = df_[selected_variables[0]]\n",
    "x_points = df_[selected_variables[1]]\n",
    "y_points = df_[selected_variables[2]]\n",
    "f1=ax.scatter3D(x_points, y_points, z_points, c=clusters,cmap='Accent',s=300);\n",
    "\n",
    "ax.set_xlabel(selected_variables[0],fontsize = 20)\n",
    "ax.set_ylabel(selected_variables[1],fontsize = 20)\n",
    "ax.set_zlabel(selected_variables[2],fontsize = 20)\n",
    "ax.legend(clusters)\n",
    "\n",
    "plt.title('KMeans used on the Europe Datasets',fontsize = 24)\n",
    "plt.show()"
   ]
  },
  {
   "cell_type": "code",
   "execution_count": null,
   "metadata": {},
   "outputs": [],
   "source": []
  }
 ],
 "metadata": {
  "interpreter": {
   "hash": "82eac50b546914481e715615e61f48e15fd0ff69f139aea75285dc2c14d36e80"
  },
  "kernelspec": {
   "display_name": "Python 3.8.10 ('generate')",
   "language": "python",
   "name": "python3"
  },
  "language_info": {
   "codemirror_mode": {
    "name": "ipython",
    "version": 3
   },
   "file_extension": ".py",
   "mimetype": "text/x-python",
   "name": "python",
   "nbconvert_exporter": "python",
   "pygments_lexer": "ipython3",
   "version": "3.8.10"
  },
  "orig_nbformat": 4
 },
 "nbformat": 4,
 "nbformat_minor": 2
}
